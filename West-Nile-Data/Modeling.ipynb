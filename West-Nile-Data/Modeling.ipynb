{
 "cells": [
  {
   "cell_type": "markdown",
   "metadata": {},
   "source": [
    "# Modeling"
   ]
  },
  {
   "cell_type": "markdown",
   "metadata": {},
   "source": [
    "### Import Libraries"
   ]
  },
  {
   "cell_type": "code",
   "execution_count": 77,
   "metadata": {},
   "outputs": [],
   "source": [
    "import _pickle as pickle\n",
    "import numpy as np\n",
    "import pandas as pd\n",
    "import matplotlib.pyplot as plt\n",
    "from sklearn.model_selection import train_test_split\n",
    "from sklearn.metrics import confusion_matrix, classification_report\n",
    "from sklearn.preprocessing import MinMaxScaler\n",
    "from sklearn.pipeline import Pipeline"
   ]
  },
  {
   "cell_type": "markdown",
   "metadata": {},
   "source": [
    "### Loading the Data"
   ]
  },
  {
   "cell_type": "code",
   "execution_count": 86,
   "metadata": {},
   "outputs": [],
   "source": [
    "with open('var_df.pkl', 'rb') as fp:\n",
    "    df = pickle.load(fp)\n",
    "    \n",
    "with open('test_df.pkl', 'rb') as fp:\n",
    "    test = pickle.load(fp)"
   ]
  },
  {
   "cell_type": "markdown",
   "metadata": {},
   "source": [
    "## Splitting the Data\n",
    "Into train and testing sets"
   ]
  },
  {
   "cell_type": "code",
   "execution_count": 87,
   "metadata": {},
   "outputs": [],
   "source": [
    "X = df.drop('WnvPresent', axis=1)\n",
    "y = df.WnvPresent\n",
    "\n",
    "# Train, test, split\n",
    "X_train, X_test, y_train, y_test = train_test_split(X, y)"
   ]
  },
  {
   "cell_type": "markdown",
   "metadata": {},
   "source": [
    "## Modeling"
   ]
  },
  {
   "cell_type": "code",
   "execution_count": 88,
   "metadata": {},
   "outputs": [],
   "source": [
    "# Importing the 10 models\n",
    "from sklearn.ensemble import AdaBoostClassifier, GradientBoostingClassifier, RandomForestClassifier\n",
    "from sklearn.tree import DecisionTreeClassifier\n",
    "from sklearn.dummy import DummyClassifier\n",
    "from sklearn.neighbors import KNeighborsClassifier\n",
    "from sklearn.linear_model import LogisticRegression\n",
    "from sklearn.naive_bayes import GaussianNB\n",
    "from sklearn.svm import SVC\n",
    "\n",
    "## Preventing error from occuring: XGBoost causes kernel to die.\n",
    "import os\n",
    "os.environ['KMP_DUPLICATE_LIB_OK']='True'\n",
    "from xgboost import XGBClassifier"
   ]
  },
  {
   "cell_type": "markdown",
   "metadata": {},
   "source": [
    "### Pipeline Creation"
   ]
  },
  {
   "cell_type": "code",
   "execution_count": 89,
   "metadata": {},
   "outputs": [],
   "source": [
    "# Adaboost\n",
    "pipe_ada = Pipeline([('clf', AdaBoostClassifier())])\n",
    "\n",
    "# Gradient Boost\n",
    "pipe_gb  = Pipeline([('clf', GradientBoostingClassifier())])\n",
    "\n",
    "# Random Forest\n",
    "pipe_rf  = Pipeline([('clf', RandomForestClassifier())])\n",
    "\n",
    "# Decision Tree\n",
    "pipe_dt  = Pipeline([('clf', DecisionTreeClassifier())])\n",
    "\n",
    "# Dummy (Baseline)\n",
    "pipe_dum = Pipeline([('clf', DummyClassifier())])\n",
    "\n",
    "# K Nearest Neighbors\n",
    "pipe_knn = Pipeline([('clf', KNeighborsClassifier())])\n",
    "\n",
    "# Logistic Regression\n",
    "pipe_lr  = Pipeline([('clf', LogisticRegression())])\n",
    "\n",
    "# Naive Bayes\n",
    "pipe_nb  = Pipeline([('clf', GaussianNB())])\n",
    "\n",
    "# Support Vector Machine\n",
    "pipe_svm = Pipeline([('clf', SVC())])\n",
    "\n",
    "# XGBoost\n",
    "pipe_xgb = Pipeline([('clf', XGBClassifier())])"
   ]
  },
  {
   "cell_type": "code",
   "execution_count": 90,
   "metadata": {},
   "outputs": [],
   "source": [
    "pipelines = [pipe_ada, pipe_gb, pipe_rf, pipe_dt, pipe_dum, \n",
    "             pipe_knn, pipe_lr, pipe_nb, pipe_svm, pipe_xgb]\n",
    "\n",
    "models = ['Adaboost', \n",
    "          'GradientBoost', \n",
    "          'RandomForest', \n",
    "          'DecisionTree', \n",
    "          'Dummy(Baseline)', \n",
    "          'KNN', \n",
    "          'LogisticRegression',\n",
    "          'NaiveBayes',\n",
    "          'SupportVectorMachine',\n",
    "          'XGBoost']\n",
    "\n",
    "# Zipping the the strings and pipelines together and creating a dictionary\n",
    "model_pipelines = dict(zip(models, pipelines))"
   ]
  },
  {
   "cell_type": "code",
   "execution_count": 91,
   "metadata": {
    "scrolled": true
   },
   "outputs": [
    {
     "name": "stdout",
     "output_type": "stream",
     "text": [
      "Pipeline(memory=None,\n",
      "     steps=[('clf', AdaBoostClassifier(algorithm='SAMME.R', base_estimator=None,\n",
      "          learning_rate=1.0, n_estimators=50, random_state=None))])\n",
      "Pipeline(memory=None,\n",
      "     steps=[('clf', GradientBoostingClassifier(criterion='friedman_mse', init=None,\n",
      "              learning_rate=0.1, loss='deviance', max_depth=3,\n",
      "              max_features=None, max_leaf_nodes=None,\n",
      "              min_impurity_decrease=0.0, min_impurity_split=None,\n",
      "              min_samples_leaf=1, min_...    subsample=1.0, tol=0.0001, validation_fraction=0.1,\n",
      "              verbose=0, warm_start=False))])\n",
      "Pipeline(memory=None,\n",
      "     steps=[('clf', RandomForestClassifier(bootstrap=True, class_weight=None, criterion='gini',\n",
      "            max_depth=None, max_features='auto', max_leaf_nodes=None,\n",
      "            min_impurity_decrease=0.0, min_impurity_split=None,\n",
      "            min_samples_leaf=1, min_samples_split=2,\n",
      "            min_weight_fraction_leaf=0.0, n_estimators='warn', n_jobs=None,\n",
      "            oob_score=False, random_state=None, verbose=0,\n",
      "            warm_start=False))])\n",
      "Pipeline(memory=None,\n",
      "     steps=[('clf', DecisionTreeClassifier(class_weight=None, criterion='gini', max_depth=None,\n",
      "            max_features=None, max_leaf_nodes=None,\n",
      "            min_impurity_decrease=0.0, min_impurity_split=None,\n",
      "            min_samples_leaf=1, min_samples_split=2,\n",
      "            min_weight_fraction_leaf=0.0, presort=False, random_state=None,\n",
      "            splitter='best'))])\n",
      "Pipeline(memory=None,\n",
      "     steps=[('clf', DummyClassifier(constant=None, random_state=None, strategy='stratified'))])\n",
      "Pipeline(memory=None,\n",
      "     steps=[('clf', KNeighborsClassifier(algorithm='auto', leaf_size=30, metric='minkowski',\n",
      "           metric_params=None, n_jobs=None, n_neighbors=5, p=2,\n",
      "           weights='uniform'))])\n",
      "Pipeline(memory=None,\n",
      "     steps=[('clf', LogisticRegression(C=1.0, class_weight=None, dual=False, fit_intercept=True,\n",
      "          intercept_scaling=1, max_iter=100, multi_class='warn',\n",
      "          n_jobs=None, penalty='l2', random_state=None, solver='warn',\n",
      "          tol=0.0001, verbose=0, warm_start=False))])\n",
      "Pipeline(memory=None,\n",
      "     steps=[('clf', GaussianNB(priors=None, var_smoothing=1e-09))])\n",
      "Pipeline(memory=None,\n",
      "     steps=[('clf', SVC(C=1.0, cache_size=200, class_weight=None, coef0=0.0,\n",
      "  decision_function_shape='ovr', degree=3, gamma='auto_deprecated',\n",
      "  kernel='rbf', max_iter=-1, probability=False, random_state=None,\n",
      "  shrinking=True, tol=0.001, verbose=False))])\n"
     ]
    },
    {
     "name": "stderr",
     "output_type": "stream",
     "text": [
      "/anaconda3/lib/python3.7/site-packages/sklearn/ensemble/forest.py:246: FutureWarning: The default value of n_estimators will change from 10 in version 0.20 to 100 in 0.22.\n",
      "  \"10 in version 0.20 to 100 in 0.22.\", FutureWarning)\n",
      "/anaconda3/lib/python3.7/site-packages/sklearn/linear_model/logistic.py:433: FutureWarning: Default solver will be changed to 'lbfgs' in 0.22. Specify a solver to silence this warning.\n",
      "  FutureWarning)\n",
      "/anaconda3/lib/python3.7/site-packages/sklearn/svm/base.py:196: FutureWarning: The default value of gamma will change from 'auto' to 'scale' in version 0.22 to account better for unscaled features. Set gamma explicitly to 'auto' or 'scale' to avoid this warning.\n",
      "  \"avoid this warning.\", FutureWarning)\n"
     ]
    },
    {
     "name": "stdout",
     "output_type": "stream",
     "text": [
      "Pipeline(memory=None,\n",
      "     steps=[('clf', XGBClassifier(base_score=0.5, booster='gbtree', colsample_bylevel=1,\n",
      "       colsample_bynode=1, colsample_bytree=1, gamma=0, learning_rate=0.1,\n",
      "       max_delta_step=0, max_depth=3, min_child_weight=1, missing=None,\n",
      "       n_estimators=100, n_jobs=1, nthread=None,\n",
      "       objective='binary:logistic', random_state=0, reg_alpha=0,\n",
      "       reg_lambda=1, scale_pos_weight=1, seed=None, silent=None,\n",
      "       subsample=1, verbosity=1))])\n"
     ]
    }
   ],
   "source": [
    "# Looping through each Pipeline to fit and train each model\n",
    "for name, pipe in model_pipelines.items():\n",
    "    print(pipe)\n",
    "    pipe.fit(X_train, y_train)"
   ]
  },
  {
   "cell_type": "code",
   "execution_count": 92,
   "metadata": {},
   "outputs": [
    {
     "name": "stdout",
     "output_type": "stream",
     "text": [
      "\n",
      " Adaboost - - - - - - - - - - - - - - - - - - - - - - - - - - - - - -\n",
      "              precision    recall  f1-score   support\n",
      "\n",
      "    No Virus       0.95      1.00      0.97      2493\n",
      "       Virus       0.00      0.00      0.00       134\n",
      "\n",
      "   micro avg       0.95      0.95      0.95      2627\n",
      "   macro avg       0.47      0.50      0.49      2627\n",
      "weighted avg       0.90      0.95      0.92      2627\n",
      "\n",
      "\n",
      " GradientBoost - - - - - - - - - - - - - - - - - - - - - - - - - - - - - -\n",
      "              precision    recall  f1-score   support\n",
      "\n",
      "    No Virus       0.95      1.00      0.97      2493\n",
      "       Virus       0.43      0.02      0.04       134\n",
      "\n",
      "   micro avg       0.95      0.95      0.95      2627\n",
      "   macro avg       0.69      0.51      0.51      2627\n",
      "weighted avg       0.92      0.95      0.93      2627\n",
      "\n",
      "\n",
      " RandomForest - - - - - - - - - - - - - - - - - - - - - - - - - - - - - -\n",
      "              precision    recall  f1-score   support\n",
      "\n",
      "    No Virus       0.95      0.98      0.97      2493\n",
      "       Virus       0.28      0.11      0.16       134\n",
      "\n",
      "   micro avg       0.94      0.94      0.94      2627\n",
      "   macro avg       0.62      0.55      0.56      2627\n",
      "weighted avg       0.92      0.94      0.93      2627\n",
      "\n",
      "\n",
      " DecisionTree - - - - - - - - - - - - - - - - - - - - - - - - - - - - - -\n",
      "              precision    recall  f1-score   support\n",
      "\n",
      "    No Virus       0.95      0.99      0.97      2493\n",
      "       Virus       0.25      0.08      0.12       134\n",
      "\n",
      "   micro avg       0.94      0.94      0.94      2627\n",
      "   macro avg       0.60      0.53      0.55      2627\n",
      "weighted avg       0.92      0.94      0.93      2627\n",
      "\n",
      "\n",
      " Dummy(Baseline) - - - - - - - - - - - - - - - - - - - - - - - - - - - - - -\n",
      "              precision    recall  f1-score   support\n",
      "\n",
      "    No Virus       0.95      0.94      0.95      2493\n",
      "       Virus       0.05      0.06      0.06       134\n",
      "\n",
      "   micro avg       0.90      0.90      0.90      2627\n",
      "   macro avg       0.50      0.50      0.50      2627\n",
      "weighted avg       0.90      0.90      0.90      2627\n",
      "\n",
      "\n",
      " KNN - - - - - - - - - - - - - - - - - - - - - - - - - - - - - -\n"
     ]
    },
    {
     "name": "stderr",
     "output_type": "stream",
     "text": [
      "/anaconda3/lib/python3.7/site-packages/sklearn/metrics/classification.py:1143: UndefinedMetricWarning: Precision and F-score are ill-defined and being set to 0.0 in labels with no predicted samples.\n",
      "  'precision', 'predicted', average, warn_for)\n"
     ]
    },
    {
     "name": "stdout",
     "output_type": "stream",
     "text": [
      "              precision    recall  f1-score   support\n",
      "\n",
      "    No Virus       0.95      0.98      0.97      2493\n",
      "       Virus       0.22      0.10      0.14       134\n",
      "\n",
      "   micro avg       0.93      0.93      0.93      2627\n",
      "   macro avg       0.58      0.54      0.55      2627\n",
      "weighted avg       0.92      0.93      0.92      2627\n",
      "\n",
      "\n",
      " LogisticRegression - - - - - - - - - - - - - - - - - - - - - - - - - - - - - -\n",
      "              precision    recall  f1-score   support\n",
      "\n",
      "    No Virus       0.95      1.00      0.97      2493\n",
      "       Virus       0.00      0.00      0.00       134\n",
      "\n",
      "   micro avg       0.95      0.95      0.95      2627\n",
      "   macro avg       0.47      0.50      0.49      2627\n",
      "weighted avg       0.90      0.95      0.92      2627\n",
      "\n",
      "\n",
      " NaiveBayes - - - - - - - - - - - - - - - - - - - - - - - - - - - - - -\n",
      "              precision    recall  f1-score   support\n",
      "\n",
      "    No Virus       0.99      0.34      0.51      2493\n",
      "       Virus       0.07      0.95      0.13       134\n",
      "\n",
      "   micro avg       0.37      0.37      0.37      2627\n",
      "   macro avg       0.53      0.64      0.32      2627\n",
      "weighted avg       0.94      0.37      0.49      2627\n",
      "\n",
      "\n",
      " SupportVectorMachine - - - - - - - - - - - - - - - - - - - - - - - - - - - - - -\n",
      "              precision    recall  f1-score   support\n",
      "\n",
      "    No Virus       0.95      1.00      0.97      2493\n",
      "       Virus       0.00      0.00      0.00       134\n",
      "\n",
      "   micro avg       0.95      0.95      0.95      2627\n",
      "   macro avg       0.47      0.50      0.49      2627\n",
      "weighted avg       0.90      0.95      0.92      2627\n",
      "\n",
      "\n",
      " XGBoost - - - - - - - - - - - - - - - - - - - - - - - - - - - - - -\n",
      "              precision    recall  f1-score   support\n",
      "\n",
      "    No Virus       0.95      1.00      0.97      2493\n",
      "       Virus       0.00      0.00      0.00       134\n",
      "\n",
      "   micro avg       0.95      0.95      0.95      2627\n",
      "   macro avg       0.47      0.50      0.49      2627\n",
      "weighted avg       0.90      0.95      0.92      2627\n",
      "\n"
     ]
    },
    {
     "name": "stderr",
     "output_type": "stream",
     "text": [
      "/anaconda3/lib/python3.7/site-packages/sklearn/metrics/classification.py:1143: UndefinedMetricWarning: Precision and F-score are ill-defined and being set to 0.0 in labels with no predicted samples.\n",
      "  'precision', 'predicted', average, warn_for)\n",
      "/anaconda3/lib/python3.7/site-packages/sklearn/metrics/classification.py:1143: UndefinedMetricWarning: Precision and F-score are ill-defined and being set to 0.0 in labels with no predicted samples.\n",
      "  'precision', 'predicted', average, warn_for)\n"
     ]
    }
   ],
   "source": [
    "# Dictionary containing the model names and their scores\n",
    "models_met = {}\n",
    "\n",
    "# Looping through each model's predictions and getting their classification reports\n",
    "for name, pipe in model_pipelines.items():\n",
    "    print('\\n '+ name + ' -'*30)\n",
    "    \n",
    "    # Classification Report\n",
    "    report = classification_report(y_test, pipe.predict(X_test), target_names=['No Virus', 'Virus'], output_dict=False)\n",
    "    \n",
    "    print(report)"
   ]
  },
  {
   "cell_type": "markdown",
   "metadata": {},
   "source": [
    "## Grid Searching"
   ]
  },
  {
   "cell_type": "code",
   "execution_count": 107,
   "metadata": {},
   "outputs": [],
   "source": [
    "from sklearn.model_selection import GridSearchCV"
   ]
  },
  {
   "cell_type": "code",
   "execution_count": 108,
   "metadata": {},
   "outputs": [],
   "source": [
    "# Parameters to Tune\n",
    "nb_params = {'clf__var_smoothing': [3.5**i for i in range(-100,50, 2)]}\n",
    "\n",
    "rf_params = {'clf__n_estimators': [50,100],\n",
    "             'clf__criterion': ['gini', 'entropy'],\n",
    "             'clf__max_depth': [None, 2,4],\n",
    "             'clf__min_samples_split': [2,4],\n",
    "             'clf__min_samples_leaf': [2, 3]}\n",
    "\n",
    "knn_params = {\"clf__n_neighbors\": [5, 25, 50, 100, 200],\n",
    "              \"clf__weights\": ['uniform', 'distance'],\n",
    "              \"clf__p\": [1,2]}"
   ]
  },
  {
   "cell_type": "code",
   "execution_count": 109,
   "metadata": {},
   "outputs": [],
   "source": [
    "# Creating a dictionary for the Top Classifiers with their respective parameters\n",
    "top = {'RandomForest': [pipe_rf, rf_params],\n",
    "       'KNN': [pipe_knn, knn_params],\n",
    "       'NaiveBayes': [pipe_nb, nb_params]}"
   ]
  },
  {
   "cell_type": "code",
   "execution_count": 114,
   "metadata": {
    "scrolled": true
   },
   "outputs": [
    {
     "name": "stdout",
     "output_type": "stream",
     "text": [
      "RandomForest - - - - - - - - - - - - - - - - - - - - - - - - - - - - - -\n",
      "Fitting 3 folds for each of 48 candidates, totalling 144 fits\n",
      "[CV] clf__criterion=gini, clf__max_depth=None, clf__min_samples_leaf=2, clf__min_samples_split=2, clf__n_estimators=50 \n",
      "[CV]  clf__criterion=gini, clf__max_depth=None, clf__min_samples_leaf=2, clf__min_samples_split=2, clf__n_estimators=50, total=   0.2s\n",
      "[CV] clf__criterion=gini, clf__max_depth=None, clf__min_samples_leaf=2, clf__min_samples_split=2, clf__n_estimators=50 \n"
     ]
    },
    {
     "name": "stderr",
     "output_type": "stream",
     "text": [
      "[Parallel(n_jobs=1)]: Using backend SequentialBackend with 1 concurrent workers.\n",
      "[Parallel(n_jobs=1)]: Done   1 out of   1 | elapsed:    0.2s remaining:    0.0s\n"
     ]
    },
    {
     "name": "stdout",
     "output_type": "stream",
     "text": [
      "[CV]  clf__criterion=gini, clf__max_depth=None, clf__min_samples_leaf=2, clf__min_samples_split=2, clf__n_estimators=50, total=   0.2s\n",
      "[CV] clf__criterion=gini, clf__max_depth=None, clf__min_samples_leaf=2, clf__min_samples_split=2, clf__n_estimators=50 \n",
      "[CV]  clf__criterion=gini, clf__max_depth=None, clf__min_samples_leaf=2, clf__min_samples_split=2, clf__n_estimators=50, total=   0.2s\n",
      "[CV] clf__criterion=gini, clf__max_depth=None, clf__min_samples_leaf=2, clf__min_samples_split=2, clf__n_estimators=100 \n",
      "[CV]  clf__criterion=gini, clf__max_depth=None, clf__min_samples_leaf=2, clf__min_samples_split=2, clf__n_estimators=100, total=   0.3s\n",
      "[CV] clf__criterion=gini, clf__max_depth=None, clf__min_samples_leaf=2, clf__min_samples_split=2, clf__n_estimators=100 \n",
      "[CV]  clf__criterion=gini, clf__max_depth=None, clf__min_samples_leaf=2, clf__min_samples_split=2, clf__n_estimators=100, total=   0.3s\n",
      "[CV] clf__criterion=gini, clf__max_depth=None, clf__min_samples_leaf=2, clf__min_samples_split=2, clf__n_estimators=100 \n",
      "[CV]  clf__criterion=gini, clf__max_depth=None, clf__min_samples_leaf=2, clf__min_samples_split=2, clf__n_estimators=100, total=   0.3s\n",
      "[CV] clf__criterion=gini, clf__max_depth=None, clf__min_samples_leaf=2, clf__min_samples_split=4, clf__n_estimators=50 \n",
      "[CV]  clf__criterion=gini, clf__max_depth=None, clf__min_samples_leaf=2, clf__min_samples_split=4, clf__n_estimators=50, total=   0.2s\n",
      "[CV] clf__criterion=gini, clf__max_depth=None, clf__min_samples_leaf=2, clf__min_samples_split=4, clf__n_estimators=50 \n",
      "[CV]  clf__criterion=gini, clf__max_depth=None, clf__min_samples_leaf=2, clf__min_samples_split=4, clf__n_estimators=50, total=   0.2s\n",
      "[CV] clf__criterion=gini, clf__max_depth=None, clf__min_samples_leaf=2, clf__min_samples_split=4, clf__n_estimators=50 \n",
      "[CV]  clf__criterion=gini, clf__max_depth=None, clf__min_samples_leaf=2, clf__min_samples_split=4, clf__n_estimators=50, total=   0.2s\n",
      "[CV] clf__criterion=gini, clf__max_depth=None, clf__min_samples_leaf=2, clf__min_samples_split=4, clf__n_estimators=100 \n",
      "[CV]  clf__criterion=gini, clf__max_depth=None, clf__min_samples_leaf=2, clf__min_samples_split=4, clf__n_estimators=100, total=   0.3s\n",
      "[CV] clf__criterion=gini, clf__max_depth=None, clf__min_samples_leaf=2, clf__min_samples_split=4, clf__n_estimators=100 \n",
      "[CV]  clf__criterion=gini, clf__max_depth=None, clf__min_samples_leaf=2, clf__min_samples_split=4, clf__n_estimators=100, total=   0.3s\n",
      "[CV] clf__criterion=gini, clf__max_depth=None, clf__min_samples_leaf=2, clf__min_samples_split=4, clf__n_estimators=100 \n",
      "[CV]  clf__criterion=gini, clf__max_depth=None, clf__min_samples_leaf=2, clf__min_samples_split=4, clf__n_estimators=100, total=   0.3s\n",
      "[CV] clf__criterion=gini, clf__max_depth=None, clf__min_samples_leaf=3, clf__min_samples_split=2, clf__n_estimators=50 \n",
      "[CV]  clf__criterion=gini, clf__max_depth=None, clf__min_samples_leaf=3, clf__min_samples_split=2, clf__n_estimators=50, total=   0.1s\n",
      "[CV] clf__criterion=gini, clf__max_depth=None, clf__min_samples_leaf=3, clf__min_samples_split=2, clf__n_estimators=50 \n",
      "[CV]  clf__criterion=gini, clf__max_depth=None, clf__min_samples_leaf=3, clf__min_samples_split=2, clf__n_estimators=50, total=   0.2s\n",
      "[CV] clf__criterion=gini, clf__max_depth=None, clf__min_samples_leaf=3, clf__min_samples_split=2, clf__n_estimators=50 \n",
      "[CV]  clf__criterion=gini, clf__max_depth=None, clf__min_samples_leaf=3, clf__min_samples_split=2, clf__n_estimators=50, total=   0.1s\n",
      "[CV] clf__criterion=gini, clf__max_depth=None, clf__min_samples_leaf=3, clf__min_samples_split=2, clf__n_estimators=100 \n",
      "[CV]  clf__criterion=gini, clf__max_depth=None, clf__min_samples_leaf=3, clf__min_samples_split=2, clf__n_estimators=100, total=   0.3s\n",
      "[CV] clf__criterion=gini, clf__max_depth=None, clf__min_samples_leaf=3, clf__min_samples_split=2, clf__n_estimators=100 \n",
      "[CV]  clf__criterion=gini, clf__max_depth=None, clf__min_samples_leaf=3, clf__min_samples_split=2, clf__n_estimators=100, total=   0.3s\n",
      "[CV] clf__criterion=gini, clf__max_depth=None, clf__min_samples_leaf=3, clf__min_samples_split=2, clf__n_estimators=100 \n",
      "[CV]  clf__criterion=gini, clf__max_depth=None, clf__min_samples_leaf=3, clf__min_samples_split=2, clf__n_estimators=100, total=   0.3s\n",
      "[CV] clf__criterion=gini, clf__max_depth=None, clf__min_samples_leaf=3, clf__min_samples_split=4, clf__n_estimators=50 \n",
      "[CV]  clf__criterion=gini, clf__max_depth=None, clf__min_samples_leaf=3, clf__min_samples_split=4, clf__n_estimators=50, total=   0.1s\n",
      "[CV] clf__criterion=gini, clf__max_depth=None, clf__min_samples_leaf=3, clf__min_samples_split=4, clf__n_estimators=50 \n",
      "[CV]  clf__criterion=gini, clf__max_depth=None, clf__min_samples_leaf=3, clf__min_samples_split=4, clf__n_estimators=50, total=   0.1s\n",
      "[CV] clf__criterion=gini, clf__max_depth=None, clf__min_samples_leaf=3, clf__min_samples_split=4, clf__n_estimators=50 \n",
      "[CV]  clf__criterion=gini, clf__max_depth=None, clf__min_samples_leaf=3, clf__min_samples_split=4, clf__n_estimators=50, total=   0.1s\n",
      "[CV] clf__criterion=gini, clf__max_depth=None, clf__min_samples_leaf=3, clf__min_samples_split=4, clf__n_estimators=100 \n",
      "[CV]  clf__criterion=gini, clf__max_depth=None, clf__min_samples_leaf=3, clf__min_samples_split=4, clf__n_estimators=100, total=   0.3s\n",
      "[CV] clf__criterion=gini, clf__max_depth=None, clf__min_samples_leaf=3, clf__min_samples_split=4, clf__n_estimators=100 \n",
      "[CV]  clf__criterion=gini, clf__max_depth=None, clf__min_samples_leaf=3, clf__min_samples_split=4, clf__n_estimators=100, total=   0.3s\n",
      "[CV] clf__criterion=gini, clf__max_depth=None, clf__min_samples_leaf=3, clf__min_samples_split=4, clf__n_estimators=100 \n",
      "[CV]  clf__criterion=gini, clf__max_depth=None, clf__min_samples_leaf=3, clf__min_samples_split=4, clf__n_estimators=100, total=   0.3s\n",
      "[CV] clf__criterion=gini, clf__max_depth=2, clf__min_samples_leaf=2, clf__min_samples_split=2, clf__n_estimators=50 \n",
      "[CV]  clf__criterion=gini, clf__max_depth=2, clf__min_samples_leaf=2, clf__min_samples_split=2, clf__n_estimators=50, total=   0.1s\n",
      "[CV] clf__criterion=gini, clf__max_depth=2, clf__min_samples_leaf=2, clf__min_samples_split=2, clf__n_estimators=50 \n"
     ]
    },
    {
     "name": "stderr",
     "output_type": "stream",
     "text": [
      "/anaconda3/lib/python3.7/site-packages/sklearn/metrics/classification.py:1143: UndefinedMetricWarning: F-score is ill-defined and being set to 0.0 in labels with no predicted samples.\n",
      "  'precision', 'predicted', average, warn_for)\n",
      "/anaconda3/lib/python3.7/site-packages/sklearn/metrics/classification.py:1143: UndefinedMetricWarning: F-score is ill-defined and being set to 0.0 in labels with no predicted samples.\n",
      "  'precision', 'predicted', average, warn_for)\n",
      "/anaconda3/lib/python3.7/site-packages/sklearn/metrics/classification.py:1143: UndefinedMetricWarning: F-score is ill-defined and being set to 0.0 in labels with no predicted samples.\n",
      "  'precision', 'predicted', average, warn_for)\n",
      "/anaconda3/lib/python3.7/site-packages/sklearn/metrics/classification.py:1143: UndefinedMetricWarning: F-score is ill-defined and being set to 0.0 in labels with no predicted samples.\n",
      "  'precision', 'predicted', average, warn_for)\n"
     ]
    },
    {
     "name": "stdout",
     "output_type": "stream",
     "text": [
      "[CV]  clf__criterion=gini, clf__max_depth=2, clf__min_samples_leaf=2, clf__min_samples_split=2, clf__n_estimators=50, total=   0.1s\n",
      "[CV] clf__criterion=gini, clf__max_depth=2, clf__min_samples_leaf=2, clf__min_samples_split=2, clf__n_estimators=50 \n",
      "[CV]  clf__criterion=gini, clf__max_depth=2, clf__min_samples_leaf=2, clf__min_samples_split=2, clf__n_estimators=50, total=   0.1s\n",
      "[CV] clf__criterion=gini, clf__max_depth=2, clf__min_samples_leaf=2, clf__min_samples_split=2, clf__n_estimators=100 \n"
     ]
    },
    {
     "name": "stderr",
     "output_type": "stream",
     "text": [
      "/anaconda3/lib/python3.7/site-packages/sklearn/metrics/classification.py:1143: UndefinedMetricWarning: F-score is ill-defined and being set to 0.0 in labels with no predicted samples.\n",
      "  'precision', 'predicted', average, warn_for)\n",
      "/anaconda3/lib/python3.7/site-packages/sklearn/metrics/classification.py:1143: UndefinedMetricWarning: F-score is ill-defined and being set to 0.0 in labels with no predicted samples.\n",
      "  'precision', 'predicted', average, warn_for)\n",
      "/anaconda3/lib/python3.7/site-packages/sklearn/metrics/classification.py:1143: UndefinedMetricWarning: F-score is ill-defined and being set to 0.0 in labels with no predicted samples.\n",
      "  'precision', 'predicted', average, warn_for)\n",
      "/anaconda3/lib/python3.7/site-packages/sklearn/metrics/classification.py:1143: UndefinedMetricWarning: F-score is ill-defined and being set to 0.0 in labels with no predicted samples.\n",
      "  'precision', 'predicted', average, warn_for)\n",
      "/anaconda3/lib/python3.7/site-packages/sklearn/metrics/classification.py:1143: UndefinedMetricWarning: F-score is ill-defined and being set to 0.0 in labels with no predicted samples.\n",
      "  'precision', 'predicted', average, warn_for)\n",
      "/anaconda3/lib/python3.7/site-packages/sklearn/metrics/classification.py:1143: UndefinedMetricWarning: F-score is ill-defined and being set to 0.0 in labels with no predicted samples.\n",
      "  'precision', 'predicted', average, warn_for)\n"
     ]
    },
    {
     "name": "stdout",
     "output_type": "stream",
     "text": [
      "[CV]  clf__criterion=gini, clf__max_depth=2, clf__min_samples_leaf=2, clf__min_samples_split=2, clf__n_estimators=100, total=   0.2s\n",
      "[CV] clf__criterion=gini, clf__max_depth=2, clf__min_samples_leaf=2, clf__min_samples_split=2, clf__n_estimators=100 \n",
      "[CV]  clf__criterion=gini, clf__max_depth=2, clf__min_samples_leaf=2, clf__min_samples_split=2, clf__n_estimators=100, total=   0.2s\n",
      "[CV] clf__criterion=gini, clf__max_depth=2, clf__min_samples_leaf=2, clf__min_samples_split=2, clf__n_estimators=100 \n"
     ]
    },
    {
     "name": "stderr",
     "output_type": "stream",
     "text": [
      "/anaconda3/lib/python3.7/site-packages/sklearn/metrics/classification.py:1143: UndefinedMetricWarning: F-score is ill-defined and being set to 0.0 in labels with no predicted samples.\n",
      "  'precision', 'predicted', average, warn_for)\n",
      "/anaconda3/lib/python3.7/site-packages/sklearn/metrics/classification.py:1143: UndefinedMetricWarning: F-score is ill-defined and being set to 0.0 in labels with no predicted samples.\n",
      "  'precision', 'predicted', average, warn_for)\n",
      "/anaconda3/lib/python3.7/site-packages/sklearn/metrics/classification.py:1143: UndefinedMetricWarning: F-score is ill-defined and being set to 0.0 in labels with no predicted samples.\n",
      "  'precision', 'predicted', average, warn_for)\n",
      "/anaconda3/lib/python3.7/site-packages/sklearn/metrics/classification.py:1143: UndefinedMetricWarning: F-score is ill-defined and being set to 0.0 in labels with no predicted samples.\n",
      "  'precision', 'predicted', average, warn_for)\n"
     ]
    },
    {
     "name": "stdout",
     "output_type": "stream",
     "text": [
      "[CV]  clf__criterion=gini, clf__max_depth=2, clf__min_samples_leaf=2, clf__min_samples_split=2, clf__n_estimators=100, total=   0.2s\n",
      "[CV] clf__criterion=gini, clf__max_depth=2, clf__min_samples_leaf=2, clf__min_samples_split=4, clf__n_estimators=50 \n",
      "[CV]  clf__criterion=gini, clf__max_depth=2, clf__min_samples_leaf=2, clf__min_samples_split=4, clf__n_estimators=50, total=   0.1s\n",
      "[CV] clf__criterion=gini, clf__max_depth=2, clf__min_samples_leaf=2, clf__min_samples_split=4, clf__n_estimators=50 \n"
     ]
    },
    {
     "name": "stderr",
     "output_type": "stream",
     "text": [
      "/anaconda3/lib/python3.7/site-packages/sklearn/metrics/classification.py:1143: UndefinedMetricWarning: F-score is ill-defined and being set to 0.0 in labels with no predicted samples.\n",
      "  'precision', 'predicted', average, warn_for)\n",
      "/anaconda3/lib/python3.7/site-packages/sklearn/metrics/classification.py:1143: UndefinedMetricWarning: F-score is ill-defined and being set to 0.0 in labels with no predicted samples.\n",
      "  'precision', 'predicted', average, warn_for)\n",
      "/anaconda3/lib/python3.7/site-packages/sklearn/metrics/classification.py:1143: UndefinedMetricWarning: F-score is ill-defined and being set to 0.0 in labels with no predicted samples.\n",
      "  'precision', 'predicted', average, warn_for)\n",
      "/anaconda3/lib/python3.7/site-packages/sklearn/metrics/classification.py:1143: UndefinedMetricWarning: F-score is ill-defined and being set to 0.0 in labels with no predicted samples.\n",
      "  'precision', 'predicted', average, warn_for)\n"
     ]
    },
    {
     "name": "stdout",
     "output_type": "stream",
     "text": [
      "[CV]  clf__criterion=gini, clf__max_depth=2, clf__min_samples_leaf=2, clf__min_samples_split=4, clf__n_estimators=50, total=   0.1s\n",
      "[CV] clf__criterion=gini, clf__max_depth=2, clf__min_samples_leaf=2, clf__min_samples_split=4, clf__n_estimators=50 \n",
      "[CV]  clf__criterion=gini, clf__max_depth=2, clf__min_samples_leaf=2, clf__min_samples_split=4, clf__n_estimators=50, total=   0.1s\n",
      "[CV] clf__criterion=gini, clf__max_depth=2, clf__min_samples_leaf=2, clf__min_samples_split=4, clf__n_estimators=100 \n"
     ]
    },
    {
     "name": "stderr",
     "output_type": "stream",
     "text": [
      "/anaconda3/lib/python3.7/site-packages/sklearn/metrics/classification.py:1143: UndefinedMetricWarning: F-score is ill-defined and being set to 0.0 in labels with no predicted samples.\n",
      "  'precision', 'predicted', average, warn_for)\n",
      "/anaconda3/lib/python3.7/site-packages/sklearn/metrics/classification.py:1143: UndefinedMetricWarning: F-score is ill-defined and being set to 0.0 in labels with no predicted samples.\n",
      "  'precision', 'predicted', average, warn_for)\n",
      "/anaconda3/lib/python3.7/site-packages/sklearn/metrics/classification.py:1143: UndefinedMetricWarning: F-score is ill-defined and being set to 0.0 in labels with no predicted samples.\n",
      "  'precision', 'predicted', average, warn_for)\n"
     ]
    },
    {
     "name": "stdout",
     "output_type": "stream",
     "text": [
      "[CV]  clf__criterion=gini, clf__max_depth=2, clf__min_samples_leaf=2, clf__min_samples_split=4, clf__n_estimators=100, total=   0.2s\n",
      "[CV] clf__criterion=gini, clf__max_depth=2, clf__min_samples_leaf=2, clf__min_samples_split=4, clf__n_estimators=100 \n",
      "[CV]  clf__criterion=gini, clf__max_depth=2, clf__min_samples_leaf=2, clf__min_samples_split=4, clf__n_estimators=100, total=   0.2s\n",
      "[CV] clf__criterion=gini, clf__max_depth=2, clf__min_samples_leaf=2, clf__min_samples_split=4, clf__n_estimators=100 \n"
     ]
    },
    {
     "name": "stderr",
     "output_type": "stream",
     "text": [
      "/anaconda3/lib/python3.7/site-packages/sklearn/metrics/classification.py:1143: UndefinedMetricWarning: F-score is ill-defined and being set to 0.0 in labels with no predicted samples.\n",
      "  'precision', 'predicted', average, warn_for)\n",
      "/anaconda3/lib/python3.7/site-packages/sklearn/metrics/classification.py:1143: UndefinedMetricWarning: F-score is ill-defined and being set to 0.0 in labels with no predicted samples.\n",
      "  'precision', 'predicted', average, warn_for)\n",
      "/anaconda3/lib/python3.7/site-packages/sklearn/metrics/classification.py:1143: UndefinedMetricWarning: F-score is ill-defined and being set to 0.0 in labels with no predicted samples.\n",
      "  'precision', 'predicted', average, warn_for)\n"
     ]
    },
    {
     "name": "stdout",
     "output_type": "stream",
     "text": [
      "[CV]  clf__criterion=gini, clf__max_depth=2, clf__min_samples_leaf=2, clf__min_samples_split=4, clf__n_estimators=100, total=   0.2s\n",
      "[CV] clf__criterion=gini, clf__max_depth=2, clf__min_samples_leaf=3, clf__min_samples_split=2, clf__n_estimators=50 \n",
      "[CV]  clf__criterion=gini, clf__max_depth=2, clf__min_samples_leaf=3, clf__min_samples_split=2, clf__n_estimators=50, total=   0.1s\n",
      "[CV] clf__criterion=gini, clf__max_depth=2, clf__min_samples_leaf=3, clf__min_samples_split=2, clf__n_estimators=50 \n"
     ]
    },
    {
     "name": "stderr",
     "output_type": "stream",
     "text": [
      "/anaconda3/lib/python3.7/site-packages/sklearn/metrics/classification.py:1143: UndefinedMetricWarning: F-score is ill-defined and being set to 0.0 in labels with no predicted samples.\n",
      "  'precision', 'predicted', average, warn_for)\n",
      "/anaconda3/lib/python3.7/site-packages/sklearn/metrics/classification.py:1143: UndefinedMetricWarning: F-score is ill-defined and being set to 0.0 in labels with no predicted samples.\n",
      "  'precision', 'predicted', average, warn_for)\n",
      "/anaconda3/lib/python3.7/site-packages/sklearn/metrics/classification.py:1143: UndefinedMetricWarning: F-score is ill-defined and being set to 0.0 in labels with no predicted samples.\n",
      "  'precision', 'predicted', average, warn_for)\n",
      "/anaconda3/lib/python3.7/site-packages/sklearn/metrics/classification.py:1143: UndefinedMetricWarning: F-score is ill-defined and being set to 0.0 in labels with no predicted samples.\n",
      "  'precision', 'predicted', average, warn_for)\n"
     ]
    },
    {
     "name": "stdout",
     "output_type": "stream",
     "text": [
      "[CV]  clf__criterion=gini, clf__max_depth=2, clf__min_samples_leaf=3, clf__min_samples_split=2, clf__n_estimators=50, total=   0.1s\n",
      "[CV] clf__criterion=gini, clf__max_depth=2, clf__min_samples_leaf=3, clf__min_samples_split=2, clf__n_estimators=50 \n",
      "[CV]  clf__criterion=gini, clf__max_depth=2, clf__min_samples_leaf=3, clf__min_samples_split=2, clf__n_estimators=50, total=   0.1s\n",
      "[CV] clf__criterion=gini, clf__max_depth=2, clf__min_samples_leaf=3, clf__min_samples_split=2, clf__n_estimators=100 \n"
     ]
    },
    {
     "name": "stderr",
     "output_type": "stream",
     "text": [
      "/anaconda3/lib/python3.7/site-packages/sklearn/metrics/classification.py:1143: UndefinedMetricWarning: F-score is ill-defined and being set to 0.0 in labels with no predicted samples.\n",
      "  'precision', 'predicted', average, warn_for)\n",
      "/anaconda3/lib/python3.7/site-packages/sklearn/metrics/classification.py:1143: UndefinedMetricWarning: F-score is ill-defined and being set to 0.0 in labels with no predicted samples.\n",
      "  'precision', 'predicted', average, warn_for)\n",
      "/anaconda3/lib/python3.7/site-packages/sklearn/metrics/classification.py:1143: UndefinedMetricWarning: F-score is ill-defined and being set to 0.0 in labels with no predicted samples.\n",
      "  'precision', 'predicted', average, warn_for)\n",
      "/anaconda3/lib/python3.7/site-packages/sklearn/metrics/classification.py:1143: UndefinedMetricWarning: F-score is ill-defined and being set to 0.0 in labels with no predicted samples.\n",
      "  'precision', 'predicted', average, warn_for)\n",
      "/anaconda3/lib/python3.7/site-packages/sklearn/metrics/classification.py:1143: UndefinedMetricWarning: F-score is ill-defined and being set to 0.0 in labels with no predicted samples.\n",
      "  'precision', 'predicted', average, warn_for)\n",
      "/anaconda3/lib/python3.7/site-packages/sklearn/metrics/classification.py:1143: UndefinedMetricWarning: F-score is ill-defined and being set to 0.0 in labels with no predicted samples.\n",
      "  'precision', 'predicted', average, warn_for)\n"
     ]
    },
    {
     "name": "stdout",
     "output_type": "stream",
     "text": [
      "[CV]  clf__criterion=gini, clf__max_depth=2, clf__min_samples_leaf=3, clf__min_samples_split=2, clf__n_estimators=100, total=   0.2s\n",
      "[CV] clf__criterion=gini, clf__max_depth=2, clf__min_samples_leaf=3, clf__min_samples_split=2, clf__n_estimators=100 \n",
      "[CV]  clf__criterion=gini, clf__max_depth=2, clf__min_samples_leaf=3, clf__min_samples_split=2, clf__n_estimators=100, total=   0.2s\n",
      "[CV] clf__criterion=gini, clf__max_depth=2, clf__min_samples_leaf=3, clf__min_samples_split=2, clf__n_estimators=100 \n"
     ]
    },
    {
     "name": "stderr",
     "output_type": "stream",
     "text": [
      "/anaconda3/lib/python3.7/site-packages/sklearn/metrics/classification.py:1143: UndefinedMetricWarning: F-score is ill-defined and being set to 0.0 in labels with no predicted samples.\n",
      "  'precision', 'predicted', average, warn_for)\n",
      "/anaconda3/lib/python3.7/site-packages/sklearn/metrics/classification.py:1143: UndefinedMetricWarning: F-score is ill-defined and being set to 0.0 in labels with no predicted samples.\n",
      "  'precision', 'predicted', average, warn_for)\n",
      "/anaconda3/lib/python3.7/site-packages/sklearn/metrics/classification.py:1143: UndefinedMetricWarning: F-score is ill-defined and being set to 0.0 in labels with no predicted samples.\n",
      "  'precision', 'predicted', average, warn_for)\n",
      "/anaconda3/lib/python3.7/site-packages/sklearn/metrics/classification.py:1143: UndefinedMetricWarning: F-score is ill-defined and being set to 0.0 in labels with no predicted samples.\n",
      "  'precision', 'predicted', average, warn_for)\n"
     ]
    },
    {
     "name": "stdout",
     "output_type": "stream",
     "text": [
      "[CV]  clf__criterion=gini, clf__max_depth=2, clf__min_samples_leaf=3, clf__min_samples_split=2, clf__n_estimators=100, total=   0.2s\n",
      "[CV] clf__criterion=gini, clf__max_depth=2, clf__min_samples_leaf=3, clf__min_samples_split=4, clf__n_estimators=50 \n",
      "[CV]  clf__criterion=gini, clf__max_depth=2, clf__min_samples_leaf=3, clf__min_samples_split=4, clf__n_estimators=50, total=   0.1s\n",
      "[CV] clf__criterion=gini, clf__max_depth=2, clf__min_samples_leaf=3, clf__min_samples_split=4, clf__n_estimators=50 \n"
     ]
    },
    {
     "name": "stderr",
     "output_type": "stream",
     "text": [
      "/anaconda3/lib/python3.7/site-packages/sklearn/metrics/classification.py:1143: UndefinedMetricWarning: F-score is ill-defined and being set to 0.0 in labels with no predicted samples.\n",
      "  'precision', 'predicted', average, warn_for)\n",
      "/anaconda3/lib/python3.7/site-packages/sklearn/metrics/classification.py:1143: UndefinedMetricWarning: F-score is ill-defined and being set to 0.0 in labels with no predicted samples.\n",
      "  'precision', 'predicted', average, warn_for)\n",
      "/anaconda3/lib/python3.7/site-packages/sklearn/metrics/classification.py:1143: UndefinedMetricWarning: F-score is ill-defined and being set to 0.0 in labels with no predicted samples.\n",
      "  'precision', 'predicted', average, warn_for)\n",
      "/anaconda3/lib/python3.7/site-packages/sklearn/metrics/classification.py:1143: UndefinedMetricWarning: F-score is ill-defined and being set to 0.0 in labels with no predicted samples.\n",
      "  'precision', 'predicted', average, warn_for)\n"
     ]
    },
    {
     "name": "stdout",
     "output_type": "stream",
     "text": [
      "[CV]  clf__criterion=gini, clf__max_depth=2, clf__min_samples_leaf=3, clf__min_samples_split=4, clf__n_estimators=50, total=   0.1s\n",
      "[CV] clf__criterion=gini, clf__max_depth=2, clf__min_samples_leaf=3, clf__min_samples_split=4, clf__n_estimators=50 \n",
      "[CV]  clf__criterion=gini, clf__max_depth=2, clf__min_samples_leaf=3, clf__min_samples_split=4, clf__n_estimators=50, total=   0.1s\n",
      "[CV] clf__criterion=gini, clf__max_depth=2, clf__min_samples_leaf=3, clf__min_samples_split=4, clf__n_estimators=100 \n"
     ]
    },
    {
     "name": "stderr",
     "output_type": "stream",
     "text": [
      "/anaconda3/lib/python3.7/site-packages/sklearn/metrics/classification.py:1143: UndefinedMetricWarning: F-score is ill-defined and being set to 0.0 in labels with no predicted samples.\n",
      "  'precision', 'predicted', average, warn_for)\n",
      "/anaconda3/lib/python3.7/site-packages/sklearn/metrics/classification.py:1143: UndefinedMetricWarning: F-score is ill-defined and being set to 0.0 in labels with no predicted samples.\n",
      "  'precision', 'predicted', average, warn_for)\n",
      "/anaconda3/lib/python3.7/site-packages/sklearn/metrics/classification.py:1143: UndefinedMetricWarning: F-score is ill-defined and being set to 0.0 in labels with no predicted samples.\n",
      "  'precision', 'predicted', average, warn_for)\n"
     ]
    },
    {
     "name": "stdout",
     "output_type": "stream",
     "text": [
      "[CV]  clf__criterion=gini, clf__max_depth=2, clf__min_samples_leaf=3, clf__min_samples_split=4, clf__n_estimators=100, total=   0.2s\n",
      "[CV] clf__criterion=gini, clf__max_depth=2, clf__min_samples_leaf=3, clf__min_samples_split=4, clf__n_estimators=100 \n",
      "[CV]  clf__criterion=gini, clf__max_depth=2, clf__min_samples_leaf=3, clf__min_samples_split=4, clf__n_estimators=100, total=   0.2s\n",
      "[CV] clf__criterion=gini, clf__max_depth=2, clf__min_samples_leaf=3, clf__min_samples_split=4, clf__n_estimators=100 \n"
     ]
    },
    {
     "name": "stderr",
     "output_type": "stream",
     "text": [
      "/anaconda3/lib/python3.7/site-packages/sklearn/metrics/classification.py:1143: UndefinedMetricWarning: F-score is ill-defined and being set to 0.0 in labels with no predicted samples.\n",
      "  'precision', 'predicted', average, warn_for)\n",
      "/anaconda3/lib/python3.7/site-packages/sklearn/metrics/classification.py:1143: UndefinedMetricWarning: F-score is ill-defined and being set to 0.0 in labels with no predicted samples.\n",
      "  'precision', 'predicted', average, warn_for)\n",
      "/anaconda3/lib/python3.7/site-packages/sklearn/metrics/classification.py:1143: UndefinedMetricWarning: F-score is ill-defined and being set to 0.0 in labels with no predicted samples.\n",
      "  'precision', 'predicted', average, warn_for)\n"
     ]
    },
    {
     "name": "stdout",
     "output_type": "stream",
     "text": [
      "[CV]  clf__criterion=gini, clf__max_depth=2, clf__min_samples_leaf=3, clf__min_samples_split=4, clf__n_estimators=100, total=   0.2s\n",
      "[CV] clf__criterion=gini, clf__max_depth=4, clf__min_samples_leaf=2, clf__min_samples_split=2, clf__n_estimators=50 \n",
      "[CV]  clf__criterion=gini, clf__max_depth=4, clf__min_samples_leaf=2, clf__min_samples_split=2, clf__n_estimators=50, total=   0.1s\n",
      "[CV] clf__criterion=gini, clf__max_depth=4, clf__min_samples_leaf=2, clf__min_samples_split=2, clf__n_estimators=50 \n"
     ]
    },
    {
     "name": "stderr",
     "output_type": "stream",
     "text": [
      "/anaconda3/lib/python3.7/site-packages/sklearn/metrics/classification.py:1143: UndefinedMetricWarning: F-score is ill-defined and being set to 0.0 in labels with no predicted samples.\n",
      "  'precision', 'predicted', average, warn_for)\n",
      "/anaconda3/lib/python3.7/site-packages/sklearn/metrics/classification.py:1143: UndefinedMetricWarning: F-score is ill-defined and being set to 0.0 in labels with no predicted samples.\n",
      "  'precision', 'predicted', average, warn_for)\n",
      "/anaconda3/lib/python3.7/site-packages/sklearn/metrics/classification.py:1143: UndefinedMetricWarning: F-score is ill-defined and being set to 0.0 in labels with no predicted samples.\n",
      "  'precision', 'predicted', average, warn_for)\n",
      "/anaconda3/lib/python3.7/site-packages/sklearn/metrics/classification.py:1143: UndefinedMetricWarning: F-score is ill-defined and being set to 0.0 in labels with no predicted samples.\n",
      "  'precision', 'predicted', average, warn_for)\n"
     ]
    },
    {
     "name": "stdout",
     "output_type": "stream",
     "text": [
      "[CV]  clf__criterion=gini, clf__max_depth=4, clf__min_samples_leaf=2, clf__min_samples_split=2, clf__n_estimators=50, total=   0.1s\n",
      "[CV] clf__criterion=gini, clf__max_depth=4, clf__min_samples_leaf=2, clf__min_samples_split=2, clf__n_estimators=50 \n",
      "[CV]  clf__criterion=gini, clf__max_depth=4, clf__min_samples_leaf=2, clf__min_samples_split=2, clf__n_estimators=50, total=   0.1s\n",
      "[CV] clf__criterion=gini, clf__max_depth=4, clf__min_samples_leaf=2, clf__min_samples_split=2, clf__n_estimators=100 \n"
     ]
    },
    {
     "name": "stderr",
     "output_type": "stream",
     "text": [
      "/anaconda3/lib/python3.7/site-packages/sklearn/metrics/classification.py:1143: UndefinedMetricWarning: F-score is ill-defined and being set to 0.0 in labels with no predicted samples.\n",
      "  'precision', 'predicted', average, warn_for)\n",
      "/anaconda3/lib/python3.7/site-packages/sklearn/metrics/classification.py:1143: UndefinedMetricWarning: F-score is ill-defined and being set to 0.0 in labels with no predicted samples.\n",
      "  'precision', 'predicted', average, warn_for)\n",
      "/anaconda3/lib/python3.7/site-packages/sklearn/metrics/classification.py:1143: UndefinedMetricWarning: F-score is ill-defined and being set to 0.0 in labels with no predicted samples.\n",
      "  'precision', 'predicted', average, warn_for)\n",
      "/anaconda3/lib/python3.7/site-packages/sklearn/metrics/classification.py:1143: UndefinedMetricWarning: F-score is ill-defined and being set to 0.0 in labels with no predicted samples.\n",
      "  'precision', 'predicted', average, warn_for)\n"
     ]
    },
    {
     "name": "stdout",
     "output_type": "stream",
     "text": [
      "[CV]  clf__criterion=gini, clf__max_depth=4, clf__min_samples_leaf=2, clf__min_samples_split=2, clf__n_estimators=100, total=   0.2s\n",
      "[CV] clf__criterion=gini, clf__max_depth=4, clf__min_samples_leaf=2, clf__min_samples_split=2, clf__n_estimators=100 \n"
     ]
    },
    {
     "name": "stderr",
     "output_type": "stream",
     "text": [
      "/anaconda3/lib/python3.7/site-packages/sklearn/metrics/classification.py:1143: UndefinedMetricWarning: F-score is ill-defined and being set to 0.0 in labels with no predicted samples.\n",
      "  'precision', 'predicted', average, warn_for)\n",
      "/anaconda3/lib/python3.7/site-packages/sklearn/metrics/classification.py:1143: UndefinedMetricWarning: F-score is ill-defined and being set to 0.0 in labels with no predicted samples.\n",
      "  'precision', 'predicted', average, warn_for)\n"
     ]
    },
    {
     "name": "stdout",
     "output_type": "stream",
     "text": [
      "[CV]  clf__criterion=gini, clf__max_depth=4, clf__min_samples_leaf=2, clf__min_samples_split=2, clf__n_estimators=100, total=   0.2s\n",
      "[CV] clf__criterion=gini, clf__max_depth=4, clf__min_samples_leaf=2, clf__min_samples_split=2, clf__n_estimators=100 \n"
     ]
    },
    {
     "name": "stderr",
     "output_type": "stream",
     "text": [
      "/anaconda3/lib/python3.7/site-packages/sklearn/metrics/classification.py:1143: UndefinedMetricWarning: F-score is ill-defined and being set to 0.0 in labels with no predicted samples.\n",
      "  'precision', 'predicted', average, warn_for)\n",
      "/anaconda3/lib/python3.7/site-packages/sklearn/metrics/classification.py:1143: UndefinedMetricWarning: F-score is ill-defined and being set to 0.0 in labels with no predicted samples.\n",
      "  'precision', 'predicted', average, warn_for)\n",
      "/anaconda3/lib/python3.7/site-packages/sklearn/metrics/classification.py:1143: UndefinedMetricWarning: F-score is ill-defined and being set to 0.0 in labels with no predicted samples.\n",
      "  'precision', 'predicted', average, warn_for)\n",
      "/anaconda3/lib/python3.7/site-packages/sklearn/metrics/classification.py:1143: UndefinedMetricWarning: F-score is ill-defined and being set to 0.0 in labels with no predicted samples.\n",
      "  'precision', 'predicted', average, warn_for)\n"
     ]
    },
    {
     "name": "stdout",
     "output_type": "stream",
     "text": [
      "[CV]  clf__criterion=gini, clf__max_depth=4, clf__min_samples_leaf=2, clf__min_samples_split=2, clf__n_estimators=100, total=   0.2s\n",
      "[CV] clf__criterion=gini, clf__max_depth=4, clf__min_samples_leaf=2, clf__min_samples_split=4, clf__n_estimators=50 \n",
      "[CV]  clf__criterion=gini, clf__max_depth=4, clf__min_samples_leaf=2, clf__min_samples_split=4, clf__n_estimators=50, total=   0.1s\n",
      "[CV] clf__criterion=gini, clf__max_depth=4, clf__min_samples_leaf=2, clf__min_samples_split=4, clf__n_estimators=50 \n"
     ]
    },
    {
     "name": "stderr",
     "output_type": "stream",
     "text": [
      "/anaconda3/lib/python3.7/site-packages/sklearn/metrics/classification.py:1143: UndefinedMetricWarning: F-score is ill-defined and being set to 0.0 in labels with no predicted samples.\n",
      "  'precision', 'predicted', average, warn_for)\n",
      "/anaconda3/lib/python3.7/site-packages/sklearn/metrics/classification.py:1143: UndefinedMetricWarning: F-score is ill-defined and being set to 0.0 in labels with no predicted samples.\n",
      "  'precision', 'predicted', average, warn_for)\n",
      "/anaconda3/lib/python3.7/site-packages/sklearn/metrics/classification.py:1143: UndefinedMetricWarning: F-score is ill-defined and being set to 0.0 in labels with no predicted samples.\n",
      "  'precision', 'predicted', average, warn_for)\n",
      "/anaconda3/lib/python3.7/site-packages/sklearn/metrics/classification.py:1143: UndefinedMetricWarning: F-score is ill-defined and being set to 0.0 in labels with no predicted samples.\n",
      "  'precision', 'predicted', average, warn_for)\n"
     ]
    },
    {
     "name": "stdout",
     "output_type": "stream",
     "text": [
      "[CV]  clf__criterion=gini, clf__max_depth=4, clf__min_samples_leaf=2, clf__min_samples_split=4, clf__n_estimators=50, total=   0.1s\n",
      "[CV] clf__criterion=gini, clf__max_depth=4, clf__min_samples_leaf=2, clf__min_samples_split=4, clf__n_estimators=50 \n",
      "[CV]  clf__criterion=gini, clf__max_depth=4, clf__min_samples_leaf=2, clf__min_samples_split=4, clf__n_estimators=50, total=   0.1s\n",
      "[CV] clf__criterion=gini, clf__max_depth=4, clf__min_samples_leaf=2, clf__min_samples_split=4, clf__n_estimators=100 \n"
     ]
    },
    {
     "name": "stderr",
     "output_type": "stream",
     "text": [
      "/anaconda3/lib/python3.7/site-packages/sklearn/metrics/classification.py:1143: UndefinedMetricWarning: F-score is ill-defined and being set to 0.0 in labels with no predicted samples.\n",
      "  'precision', 'predicted', average, warn_for)\n",
      "/anaconda3/lib/python3.7/site-packages/sklearn/metrics/classification.py:1143: UndefinedMetricWarning: F-score is ill-defined and being set to 0.0 in labels with no predicted samples.\n",
      "  'precision', 'predicted', average, warn_for)\n"
     ]
    },
    {
     "name": "stdout",
     "output_type": "stream",
     "text": [
      "[CV]  clf__criterion=gini, clf__max_depth=4, clf__min_samples_leaf=2, clf__min_samples_split=4, clf__n_estimators=100, total=   0.2s\n",
      "[CV] clf__criterion=gini, clf__max_depth=4, clf__min_samples_leaf=2, clf__min_samples_split=4, clf__n_estimators=100 \n"
     ]
    },
    {
     "name": "stderr",
     "output_type": "stream",
     "text": [
      "/anaconda3/lib/python3.7/site-packages/sklearn/metrics/classification.py:1143: UndefinedMetricWarning: F-score is ill-defined and being set to 0.0 in labels with no predicted samples.\n",
      "  'precision', 'predicted', average, warn_for)\n",
      "/anaconda3/lib/python3.7/site-packages/sklearn/metrics/classification.py:1143: UndefinedMetricWarning: F-score is ill-defined and being set to 0.0 in labels with no predicted samples.\n",
      "  'precision', 'predicted', average, warn_for)\n"
     ]
    },
    {
     "name": "stdout",
     "output_type": "stream",
     "text": [
      "[CV]  clf__criterion=gini, clf__max_depth=4, clf__min_samples_leaf=2, clf__min_samples_split=4, clf__n_estimators=100, total=   0.2s\n",
      "[CV] clf__criterion=gini, clf__max_depth=4, clf__min_samples_leaf=2, clf__min_samples_split=4, clf__n_estimators=100 \n"
     ]
    },
    {
     "name": "stderr",
     "output_type": "stream",
     "text": [
      "/anaconda3/lib/python3.7/site-packages/sklearn/metrics/classification.py:1143: UndefinedMetricWarning: F-score is ill-defined and being set to 0.0 in labels with no predicted samples.\n",
      "  'precision', 'predicted', average, warn_for)\n",
      "/anaconda3/lib/python3.7/site-packages/sklearn/metrics/classification.py:1143: UndefinedMetricWarning: F-score is ill-defined and being set to 0.0 in labels with no predicted samples.\n",
      "  'precision', 'predicted', average, warn_for)\n",
      "/anaconda3/lib/python3.7/site-packages/sklearn/metrics/classification.py:1143: UndefinedMetricWarning: F-score is ill-defined and being set to 0.0 in labels with no predicted samples.\n",
      "  'precision', 'predicted', average, warn_for)\n",
      "/anaconda3/lib/python3.7/site-packages/sklearn/metrics/classification.py:1143: UndefinedMetricWarning: F-score is ill-defined and being set to 0.0 in labels with no predicted samples.\n",
      "  'precision', 'predicted', average, warn_for)\n"
     ]
    },
    {
     "name": "stdout",
     "output_type": "stream",
     "text": [
      "[CV]  clf__criterion=gini, clf__max_depth=4, clf__min_samples_leaf=2, clf__min_samples_split=4, clf__n_estimators=100, total=   0.2s\n",
      "[CV] clf__criterion=gini, clf__max_depth=4, clf__min_samples_leaf=3, clf__min_samples_split=2, clf__n_estimators=50 \n",
      "[CV]  clf__criterion=gini, clf__max_depth=4, clf__min_samples_leaf=3, clf__min_samples_split=2, clf__n_estimators=50, total=   0.1s\n",
      "[CV] clf__criterion=gini, clf__max_depth=4, clf__min_samples_leaf=3, clf__min_samples_split=2, clf__n_estimators=50 \n"
     ]
    },
    {
     "name": "stderr",
     "output_type": "stream",
     "text": [
      "/anaconda3/lib/python3.7/site-packages/sklearn/metrics/classification.py:1143: UndefinedMetricWarning: F-score is ill-defined and being set to 0.0 in labels with no predicted samples.\n",
      "  'precision', 'predicted', average, warn_for)\n",
      "/anaconda3/lib/python3.7/site-packages/sklearn/metrics/classification.py:1143: UndefinedMetricWarning: F-score is ill-defined and being set to 0.0 in labels with no predicted samples.\n",
      "  'precision', 'predicted', average, warn_for)\n",
      "/anaconda3/lib/python3.7/site-packages/sklearn/metrics/classification.py:1143: UndefinedMetricWarning: F-score is ill-defined and being set to 0.0 in labels with no predicted samples.\n",
      "  'precision', 'predicted', average, warn_for)\n",
      "/anaconda3/lib/python3.7/site-packages/sklearn/metrics/classification.py:1143: UndefinedMetricWarning: F-score is ill-defined and being set to 0.0 in labels with no predicted samples.\n",
      "  'precision', 'predicted', average, warn_for)\n"
     ]
    },
    {
     "name": "stdout",
     "output_type": "stream",
     "text": [
      "[CV]  clf__criterion=gini, clf__max_depth=4, clf__min_samples_leaf=3, clf__min_samples_split=2, clf__n_estimators=50, total=   0.1s\n",
      "[CV] clf__criterion=gini, clf__max_depth=4, clf__min_samples_leaf=3, clf__min_samples_split=2, clf__n_estimators=50 \n",
      "[CV]  clf__criterion=gini, clf__max_depth=4, clf__min_samples_leaf=3, clf__min_samples_split=2, clf__n_estimators=50, total=   0.1s\n",
      "[CV] clf__criterion=gini, clf__max_depth=4, clf__min_samples_leaf=3, clf__min_samples_split=2, clf__n_estimators=100 \n"
     ]
    },
    {
     "name": "stderr",
     "output_type": "stream",
     "text": [
      "/anaconda3/lib/python3.7/site-packages/sklearn/metrics/classification.py:1143: UndefinedMetricWarning: F-score is ill-defined and being set to 0.0 in labels with no predicted samples.\n",
      "  'precision', 'predicted', average, warn_for)\n",
      "/anaconda3/lib/python3.7/site-packages/sklearn/metrics/classification.py:1143: UndefinedMetricWarning: F-score is ill-defined and being set to 0.0 in labels with no predicted samples.\n",
      "  'precision', 'predicted', average, warn_for)\n"
     ]
    },
    {
     "name": "stdout",
     "output_type": "stream",
     "text": [
      "[CV]  clf__criterion=gini, clf__max_depth=4, clf__min_samples_leaf=3, clf__min_samples_split=2, clf__n_estimators=100, total=   0.2s\n",
      "[CV] clf__criterion=gini, clf__max_depth=4, clf__min_samples_leaf=3, clf__min_samples_split=2, clf__n_estimators=100 \n"
     ]
    },
    {
     "name": "stderr",
     "output_type": "stream",
     "text": [
      "/anaconda3/lib/python3.7/site-packages/sklearn/metrics/classification.py:1143: UndefinedMetricWarning: F-score is ill-defined and being set to 0.0 in labels with no predicted samples.\n",
      "  'precision', 'predicted', average, warn_for)\n",
      "/anaconda3/lib/python3.7/site-packages/sklearn/metrics/classification.py:1143: UndefinedMetricWarning: F-score is ill-defined and being set to 0.0 in labels with no predicted samples.\n",
      "  'precision', 'predicted', average, warn_for)\n"
     ]
    },
    {
     "name": "stdout",
     "output_type": "stream",
     "text": [
      "[CV]  clf__criterion=gini, clf__max_depth=4, clf__min_samples_leaf=3, clf__min_samples_split=2, clf__n_estimators=100, total=   0.2s\n",
      "[CV] clf__criterion=gini, clf__max_depth=4, clf__min_samples_leaf=3, clf__min_samples_split=2, clf__n_estimators=100 \n"
     ]
    },
    {
     "name": "stderr",
     "output_type": "stream",
     "text": [
      "/anaconda3/lib/python3.7/site-packages/sklearn/metrics/classification.py:1143: UndefinedMetricWarning: F-score is ill-defined and being set to 0.0 in labels with no predicted samples.\n",
      "  'precision', 'predicted', average, warn_for)\n",
      "/anaconda3/lib/python3.7/site-packages/sklearn/metrics/classification.py:1143: UndefinedMetricWarning: F-score is ill-defined and being set to 0.0 in labels with no predicted samples.\n",
      "  'precision', 'predicted', average, warn_for)\n",
      "/anaconda3/lib/python3.7/site-packages/sklearn/metrics/classification.py:1143: UndefinedMetricWarning: F-score is ill-defined and being set to 0.0 in labels with no predicted samples.\n",
      "  'precision', 'predicted', average, warn_for)\n",
      "/anaconda3/lib/python3.7/site-packages/sklearn/metrics/classification.py:1143: UndefinedMetricWarning: F-score is ill-defined and being set to 0.0 in labels with no predicted samples.\n",
      "  'precision', 'predicted', average, warn_for)\n"
     ]
    },
    {
     "name": "stdout",
     "output_type": "stream",
     "text": [
      "[CV]  clf__criterion=gini, clf__max_depth=4, clf__min_samples_leaf=3, clf__min_samples_split=2, clf__n_estimators=100, total=   0.2s\n",
      "[CV] clf__criterion=gini, clf__max_depth=4, clf__min_samples_leaf=3, clf__min_samples_split=4, clf__n_estimators=50 \n",
      "[CV]  clf__criterion=gini, clf__max_depth=4, clf__min_samples_leaf=3, clf__min_samples_split=4, clf__n_estimators=50, total=   0.1s\n",
      "[CV] clf__criterion=gini, clf__max_depth=4, clf__min_samples_leaf=3, clf__min_samples_split=4, clf__n_estimators=50 \n"
     ]
    },
    {
     "name": "stderr",
     "output_type": "stream",
     "text": [
      "/anaconda3/lib/python3.7/site-packages/sklearn/metrics/classification.py:1143: UndefinedMetricWarning: F-score is ill-defined and being set to 0.0 in labels with no predicted samples.\n",
      "  'precision', 'predicted', average, warn_for)\n",
      "/anaconda3/lib/python3.7/site-packages/sklearn/metrics/classification.py:1143: UndefinedMetricWarning: F-score is ill-defined and being set to 0.0 in labels with no predicted samples.\n",
      "  'precision', 'predicted', average, warn_for)\n",
      "/anaconda3/lib/python3.7/site-packages/sklearn/metrics/classification.py:1143: UndefinedMetricWarning: F-score is ill-defined and being set to 0.0 in labels with no predicted samples.\n",
      "  'precision', 'predicted', average, warn_for)\n",
      "/anaconda3/lib/python3.7/site-packages/sklearn/metrics/classification.py:1143: UndefinedMetricWarning: F-score is ill-defined and being set to 0.0 in labels with no predicted samples.\n",
      "  'precision', 'predicted', average, warn_for)\n"
     ]
    },
    {
     "name": "stdout",
     "output_type": "stream",
     "text": [
      "[CV]  clf__criterion=gini, clf__max_depth=4, clf__min_samples_leaf=3, clf__min_samples_split=4, clf__n_estimators=50, total=   0.1s\n",
      "[CV] clf__criterion=gini, clf__max_depth=4, clf__min_samples_leaf=3, clf__min_samples_split=4, clf__n_estimators=50 \n",
      "[CV]  clf__criterion=gini, clf__max_depth=4, clf__min_samples_leaf=3, clf__min_samples_split=4, clf__n_estimators=50, total=   0.1s\n",
      "[CV] clf__criterion=gini, clf__max_depth=4, clf__min_samples_leaf=3, clf__min_samples_split=4, clf__n_estimators=100 \n"
     ]
    },
    {
     "name": "stderr",
     "output_type": "stream",
     "text": [
      "/anaconda3/lib/python3.7/site-packages/sklearn/metrics/classification.py:1143: UndefinedMetricWarning: F-score is ill-defined and being set to 0.0 in labels with no predicted samples.\n",
      "  'precision', 'predicted', average, warn_for)\n",
      "/anaconda3/lib/python3.7/site-packages/sklearn/metrics/classification.py:1143: UndefinedMetricWarning: F-score is ill-defined and being set to 0.0 in labels with no predicted samples.\n",
      "  'precision', 'predicted', average, warn_for)\n"
     ]
    },
    {
     "name": "stdout",
     "output_type": "stream",
     "text": [
      "[CV]  clf__criterion=gini, clf__max_depth=4, clf__min_samples_leaf=3, clf__min_samples_split=4, clf__n_estimators=100, total=   0.2s\n",
      "[CV] clf__criterion=gini, clf__max_depth=4, clf__min_samples_leaf=3, clf__min_samples_split=4, clf__n_estimators=100 \n"
     ]
    },
    {
     "name": "stderr",
     "output_type": "stream",
     "text": [
      "/anaconda3/lib/python3.7/site-packages/sklearn/metrics/classification.py:1143: UndefinedMetricWarning: F-score is ill-defined and being set to 0.0 in labels with no predicted samples.\n",
      "  'precision', 'predicted', average, warn_for)\n",
      "/anaconda3/lib/python3.7/site-packages/sklearn/metrics/classification.py:1143: UndefinedMetricWarning: F-score is ill-defined and being set to 0.0 in labels with no predicted samples.\n",
      "  'precision', 'predicted', average, warn_for)\n"
     ]
    },
    {
     "name": "stdout",
     "output_type": "stream",
     "text": [
      "[CV]  clf__criterion=gini, clf__max_depth=4, clf__min_samples_leaf=3, clf__min_samples_split=4, clf__n_estimators=100, total=   0.2s\n",
      "[CV] clf__criterion=gini, clf__max_depth=4, clf__min_samples_leaf=3, clf__min_samples_split=4, clf__n_estimators=100 \n"
     ]
    },
    {
     "name": "stderr",
     "output_type": "stream",
     "text": [
      "/anaconda3/lib/python3.7/site-packages/sklearn/metrics/classification.py:1143: UndefinedMetricWarning: F-score is ill-defined and being set to 0.0 in labels with no predicted samples.\n",
      "  'precision', 'predicted', average, warn_for)\n",
      "/anaconda3/lib/python3.7/site-packages/sklearn/metrics/classification.py:1143: UndefinedMetricWarning: F-score is ill-defined and being set to 0.0 in labels with no predicted samples.\n",
      "  'precision', 'predicted', average, warn_for)\n"
     ]
    },
    {
     "name": "stdout",
     "output_type": "stream",
     "text": [
      "[CV]  clf__criterion=gini, clf__max_depth=4, clf__min_samples_leaf=3, clf__min_samples_split=4, clf__n_estimators=100, total=   0.2s\n",
      "[CV] clf__criterion=entropy, clf__max_depth=None, clf__min_samples_leaf=2, clf__min_samples_split=2, clf__n_estimators=50 \n",
      "[CV]  clf__criterion=entropy, clf__max_depth=None, clf__min_samples_leaf=2, clf__min_samples_split=2, clf__n_estimators=50, total=   0.2s\n",
      "[CV] clf__criterion=entropy, clf__max_depth=None, clf__min_samples_leaf=2, clf__min_samples_split=2, clf__n_estimators=50 \n",
      "[CV]  clf__criterion=entropy, clf__max_depth=None, clf__min_samples_leaf=2, clf__min_samples_split=2, clf__n_estimators=50, total=   0.2s\n",
      "[CV] clf__criterion=entropy, clf__max_depth=None, clf__min_samples_leaf=2, clf__min_samples_split=2, clf__n_estimators=50 \n",
      "[CV]  clf__criterion=entropy, clf__max_depth=None, clf__min_samples_leaf=2, clf__min_samples_split=2, clf__n_estimators=50, total=   0.2s\n",
      "[CV] clf__criterion=entropy, clf__max_depth=None, clf__min_samples_leaf=2, clf__min_samples_split=2, clf__n_estimators=100 \n",
      "[CV]  clf__criterion=entropy, clf__max_depth=None, clf__min_samples_leaf=2, clf__min_samples_split=2, clf__n_estimators=100, total=   0.3s\n",
      "[CV] clf__criterion=entropy, clf__max_depth=None, clf__min_samples_leaf=2, clf__min_samples_split=2, clf__n_estimators=100 \n",
      "[CV]  clf__criterion=entropy, clf__max_depth=None, clf__min_samples_leaf=2, clf__min_samples_split=2, clf__n_estimators=100, total=   0.3s\n",
      "[CV] clf__criterion=entropy, clf__max_depth=None, clf__min_samples_leaf=2, clf__min_samples_split=2, clf__n_estimators=100 \n",
      "[CV]  clf__criterion=entropy, clf__max_depth=None, clf__min_samples_leaf=2, clf__min_samples_split=2, clf__n_estimators=100, total=   0.3s\n",
      "[CV] clf__criterion=entropy, clf__max_depth=None, clf__min_samples_leaf=2, clf__min_samples_split=4, clf__n_estimators=50 \n",
      "[CV]  clf__criterion=entropy, clf__max_depth=None, clf__min_samples_leaf=2, clf__min_samples_split=4, clf__n_estimators=50, total=   0.2s\n",
      "[CV] clf__criterion=entropy, clf__max_depth=None, clf__min_samples_leaf=2, clf__min_samples_split=4, clf__n_estimators=50 \n",
      "[CV]  clf__criterion=entropy, clf__max_depth=None, clf__min_samples_leaf=2, clf__min_samples_split=4, clf__n_estimators=50, total=   0.2s\n",
      "[CV] clf__criterion=entropy, clf__max_depth=None, clf__min_samples_leaf=2, clf__min_samples_split=4, clf__n_estimators=50 \n",
      "[CV]  clf__criterion=entropy, clf__max_depth=None, clf__min_samples_leaf=2, clf__min_samples_split=4, clf__n_estimators=50, total=   0.2s\n",
      "[CV] clf__criterion=entropy, clf__max_depth=None, clf__min_samples_leaf=2, clf__min_samples_split=4, clf__n_estimators=100 \n",
      "[CV]  clf__criterion=entropy, clf__max_depth=None, clf__min_samples_leaf=2, clf__min_samples_split=4, clf__n_estimators=100, total=   0.3s\n",
      "[CV] clf__criterion=entropy, clf__max_depth=None, clf__min_samples_leaf=2, clf__min_samples_split=4, clf__n_estimators=100 \n",
      "[CV]  clf__criterion=entropy, clf__max_depth=None, clf__min_samples_leaf=2, clf__min_samples_split=4, clf__n_estimators=100, total=   0.3s\n",
      "[CV] clf__criterion=entropy, clf__max_depth=None, clf__min_samples_leaf=2, clf__min_samples_split=4, clf__n_estimators=100 \n",
      "[CV]  clf__criterion=entropy, clf__max_depth=None, clf__min_samples_leaf=2, clf__min_samples_split=4, clf__n_estimators=100, total=   0.3s\n",
      "[CV] clf__criterion=entropy, clf__max_depth=None, clf__min_samples_leaf=3, clf__min_samples_split=2, clf__n_estimators=50 \n",
      "[CV]  clf__criterion=entropy, clf__max_depth=None, clf__min_samples_leaf=3, clf__min_samples_split=2, clf__n_estimators=50, total=   0.2s\n",
      "[CV] clf__criterion=entropy, clf__max_depth=None, clf__min_samples_leaf=3, clf__min_samples_split=2, clf__n_estimators=50 \n",
      "[CV]  clf__criterion=entropy, clf__max_depth=None, clf__min_samples_leaf=3, clf__min_samples_split=2, clf__n_estimators=50, total=   0.2s\n",
      "[CV] clf__criterion=entropy, clf__max_depth=None, clf__min_samples_leaf=3, clf__min_samples_split=2, clf__n_estimators=50 \n",
      "[CV]  clf__criterion=entropy, clf__max_depth=None, clf__min_samples_leaf=3, clf__min_samples_split=2, clf__n_estimators=50, total=   0.2s\n",
      "[CV] clf__criterion=entropy, clf__max_depth=None, clf__min_samples_leaf=3, clf__min_samples_split=2, clf__n_estimators=100 \n",
      "[CV]  clf__criterion=entropy, clf__max_depth=None, clf__min_samples_leaf=3, clf__min_samples_split=2, clf__n_estimators=100, total=   0.3s\n",
      "[CV] clf__criterion=entropy, clf__max_depth=None, clf__min_samples_leaf=3, clf__min_samples_split=2, clf__n_estimators=100 \n",
      "[CV]  clf__criterion=entropy, clf__max_depth=None, clf__min_samples_leaf=3, clf__min_samples_split=2, clf__n_estimators=100, total=   0.3s\n",
      "[CV] clf__criterion=entropy, clf__max_depth=None, clf__min_samples_leaf=3, clf__min_samples_split=2, clf__n_estimators=100 \n",
      "[CV]  clf__criterion=entropy, clf__max_depth=None, clf__min_samples_leaf=3, clf__min_samples_split=2, clf__n_estimators=100, total=   0.3s\n",
      "[CV] clf__criterion=entropy, clf__max_depth=None, clf__min_samples_leaf=3, clf__min_samples_split=4, clf__n_estimators=50 \n",
      "[CV]  clf__criterion=entropy, clf__max_depth=None, clf__min_samples_leaf=3, clf__min_samples_split=4, clf__n_estimators=50, total=   0.2s\n",
      "[CV] clf__criterion=entropy, clf__max_depth=None, clf__min_samples_leaf=3, clf__min_samples_split=4, clf__n_estimators=50 \n",
      "[CV]  clf__criterion=entropy, clf__max_depth=None, clf__min_samples_leaf=3, clf__min_samples_split=4, clf__n_estimators=50, total=   0.2s\n",
      "[CV] clf__criterion=entropy, clf__max_depth=None, clf__min_samples_leaf=3, clf__min_samples_split=4, clf__n_estimators=50 \n",
      "[CV]  clf__criterion=entropy, clf__max_depth=None, clf__min_samples_leaf=3, clf__min_samples_split=4, clf__n_estimators=50, total=   0.2s\n",
      "[CV] clf__criterion=entropy, clf__max_depth=None, clf__min_samples_leaf=3, clf__min_samples_split=4, clf__n_estimators=100 \n",
      "[CV]  clf__criterion=entropy, clf__max_depth=None, clf__min_samples_leaf=3, clf__min_samples_split=4, clf__n_estimators=100, total=   0.3s\n",
      "[CV] clf__criterion=entropy, clf__max_depth=None, clf__min_samples_leaf=3, clf__min_samples_split=4, clf__n_estimators=100 \n",
      "[CV]  clf__criterion=entropy, clf__max_depth=None, clf__min_samples_leaf=3, clf__min_samples_split=4, clf__n_estimators=100, total=   0.3s\n",
      "[CV] clf__criterion=entropy, clf__max_depth=None, clf__min_samples_leaf=3, clf__min_samples_split=4, clf__n_estimators=100 \n",
      "[CV]  clf__criterion=entropy, clf__max_depth=None, clf__min_samples_leaf=3, clf__min_samples_split=4, clf__n_estimators=100, total=   0.3s\n",
      "[CV] clf__criterion=entropy, clf__max_depth=2, clf__min_samples_leaf=2, clf__min_samples_split=2, clf__n_estimators=50 \n",
      "[CV]  clf__criterion=entropy, clf__max_depth=2, clf__min_samples_leaf=2, clf__min_samples_split=2, clf__n_estimators=50, total=   0.1s\n",
      "[CV] clf__criterion=entropy, clf__max_depth=2, clf__min_samples_leaf=2, clf__min_samples_split=2, clf__n_estimators=50 \n"
     ]
    },
    {
     "name": "stderr",
     "output_type": "stream",
     "text": [
      "/anaconda3/lib/python3.7/site-packages/sklearn/metrics/classification.py:1143: UndefinedMetricWarning: F-score is ill-defined and being set to 0.0 in labels with no predicted samples.\n",
      "  'precision', 'predicted', average, warn_for)\n",
      "/anaconda3/lib/python3.7/site-packages/sklearn/metrics/classification.py:1143: UndefinedMetricWarning: F-score is ill-defined and being set to 0.0 in labels with no predicted samples.\n",
      "  'precision', 'predicted', average, warn_for)\n",
      "/anaconda3/lib/python3.7/site-packages/sklearn/metrics/classification.py:1143: UndefinedMetricWarning: F-score is ill-defined and being set to 0.0 in labels with no predicted samples.\n",
      "  'precision', 'predicted', average, warn_for)\n",
      "/anaconda3/lib/python3.7/site-packages/sklearn/metrics/classification.py:1143: UndefinedMetricWarning: F-score is ill-defined and being set to 0.0 in labels with no predicted samples.\n",
      "  'precision', 'predicted', average, warn_for)\n"
     ]
    },
    {
     "name": "stdout",
     "output_type": "stream",
     "text": [
      "[CV]  clf__criterion=entropy, clf__max_depth=2, clf__min_samples_leaf=2, clf__min_samples_split=2, clf__n_estimators=50, total=   0.1s\n",
      "[CV] clf__criterion=entropy, clf__max_depth=2, clf__min_samples_leaf=2, clf__min_samples_split=2, clf__n_estimators=50 \n",
      "[CV]  clf__criterion=entropy, clf__max_depth=2, clf__min_samples_leaf=2, clf__min_samples_split=2, clf__n_estimators=50, total=   0.1s\n",
      "[CV] clf__criterion=entropy, clf__max_depth=2, clf__min_samples_leaf=2, clf__min_samples_split=2, clf__n_estimators=100 \n"
     ]
    },
    {
     "name": "stderr",
     "output_type": "stream",
     "text": [
      "/anaconda3/lib/python3.7/site-packages/sklearn/metrics/classification.py:1143: UndefinedMetricWarning: F-score is ill-defined and being set to 0.0 in labels with no predicted samples.\n",
      "  'precision', 'predicted', average, warn_for)\n",
      "/anaconda3/lib/python3.7/site-packages/sklearn/metrics/classification.py:1143: UndefinedMetricWarning: F-score is ill-defined and being set to 0.0 in labels with no predicted samples.\n",
      "  'precision', 'predicted', average, warn_for)\n",
      "/anaconda3/lib/python3.7/site-packages/sklearn/metrics/classification.py:1143: UndefinedMetricWarning: F-score is ill-defined and being set to 0.0 in labels with no predicted samples.\n",
      "  'precision', 'predicted', average, warn_for)\n",
      "/anaconda3/lib/python3.7/site-packages/sklearn/metrics/classification.py:1143: UndefinedMetricWarning: F-score is ill-defined and being set to 0.0 in labels with no predicted samples.\n",
      "  'precision', 'predicted', average, warn_for)\n",
      "/anaconda3/lib/python3.7/site-packages/sklearn/metrics/classification.py:1143: UndefinedMetricWarning: F-score is ill-defined and being set to 0.0 in labels with no predicted samples.\n",
      "  'precision', 'predicted', average, warn_for)\n",
      "/anaconda3/lib/python3.7/site-packages/sklearn/metrics/classification.py:1143: UndefinedMetricWarning: F-score is ill-defined and being set to 0.0 in labels with no predicted samples.\n",
      "  'precision', 'predicted', average, warn_for)\n"
     ]
    },
    {
     "name": "stdout",
     "output_type": "stream",
     "text": [
      "[CV]  clf__criterion=entropy, clf__max_depth=2, clf__min_samples_leaf=2, clf__min_samples_split=2, clf__n_estimators=100, total=   0.2s\n",
      "[CV] clf__criterion=entropy, clf__max_depth=2, clf__min_samples_leaf=2, clf__min_samples_split=2, clf__n_estimators=100 \n",
      "[CV]  clf__criterion=entropy, clf__max_depth=2, clf__min_samples_leaf=2, clf__min_samples_split=2, clf__n_estimators=100, total=   0.2s\n",
      "[CV] clf__criterion=entropy, clf__max_depth=2, clf__min_samples_leaf=2, clf__min_samples_split=2, clf__n_estimators=100 \n"
     ]
    },
    {
     "name": "stderr",
     "output_type": "stream",
     "text": [
      "/anaconda3/lib/python3.7/site-packages/sklearn/metrics/classification.py:1143: UndefinedMetricWarning: F-score is ill-defined and being set to 0.0 in labels with no predicted samples.\n",
      "  'precision', 'predicted', average, warn_for)\n",
      "/anaconda3/lib/python3.7/site-packages/sklearn/metrics/classification.py:1143: UndefinedMetricWarning: F-score is ill-defined and being set to 0.0 in labels with no predicted samples.\n",
      "  'precision', 'predicted', average, warn_for)\n",
      "/anaconda3/lib/python3.7/site-packages/sklearn/metrics/classification.py:1143: UndefinedMetricWarning: F-score is ill-defined and being set to 0.0 in labels with no predicted samples.\n",
      "  'precision', 'predicted', average, warn_for)\n",
      "/anaconda3/lib/python3.7/site-packages/sklearn/metrics/classification.py:1143: UndefinedMetricWarning: F-score is ill-defined and being set to 0.0 in labels with no predicted samples.\n",
      "  'precision', 'predicted', average, warn_for)\n"
     ]
    },
    {
     "name": "stdout",
     "output_type": "stream",
     "text": [
      "[CV]  clf__criterion=entropy, clf__max_depth=2, clf__min_samples_leaf=2, clf__min_samples_split=2, clf__n_estimators=100, total=   0.2s\n",
      "[CV] clf__criterion=entropy, clf__max_depth=2, clf__min_samples_leaf=2, clf__min_samples_split=4, clf__n_estimators=50 \n",
      "[CV]  clf__criterion=entropy, clf__max_depth=2, clf__min_samples_leaf=2, clf__min_samples_split=4, clf__n_estimators=50, total=   0.1s\n",
      "[CV] clf__criterion=entropy, clf__max_depth=2, clf__min_samples_leaf=2, clf__min_samples_split=4, clf__n_estimators=50 \n"
     ]
    },
    {
     "name": "stderr",
     "output_type": "stream",
     "text": [
      "/anaconda3/lib/python3.7/site-packages/sklearn/metrics/classification.py:1143: UndefinedMetricWarning: F-score is ill-defined and being set to 0.0 in labels with no predicted samples.\n",
      "  'precision', 'predicted', average, warn_for)\n",
      "/anaconda3/lib/python3.7/site-packages/sklearn/metrics/classification.py:1143: UndefinedMetricWarning: F-score is ill-defined and being set to 0.0 in labels with no predicted samples.\n",
      "  'precision', 'predicted', average, warn_for)\n",
      "/anaconda3/lib/python3.7/site-packages/sklearn/metrics/classification.py:1143: UndefinedMetricWarning: F-score is ill-defined and being set to 0.0 in labels with no predicted samples.\n",
      "  'precision', 'predicted', average, warn_for)\n",
      "/anaconda3/lib/python3.7/site-packages/sklearn/metrics/classification.py:1143: UndefinedMetricWarning: F-score is ill-defined and being set to 0.0 in labels with no predicted samples.\n",
      "  'precision', 'predicted', average, warn_for)\n"
     ]
    },
    {
     "name": "stdout",
     "output_type": "stream",
     "text": [
      "[CV]  clf__criterion=entropy, clf__max_depth=2, clf__min_samples_leaf=2, clf__min_samples_split=4, clf__n_estimators=50, total=   0.1s\n",
      "[CV] clf__criterion=entropy, clf__max_depth=2, clf__min_samples_leaf=2, clf__min_samples_split=4, clf__n_estimators=50 \n",
      "[CV]  clf__criterion=entropy, clf__max_depth=2, clf__min_samples_leaf=2, clf__min_samples_split=4, clf__n_estimators=50, total=   0.1s\n",
      "[CV] clf__criterion=entropy, clf__max_depth=2, clf__min_samples_leaf=2, clf__min_samples_split=4, clf__n_estimators=100 \n"
     ]
    },
    {
     "name": "stderr",
     "output_type": "stream",
     "text": [
      "/anaconda3/lib/python3.7/site-packages/sklearn/metrics/classification.py:1143: UndefinedMetricWarning: F-score is ill-defined and being set to 0.0 in labels with no predicted samples.\n",
      "  'precision', 'predicted', average, warn_for)\n",
      "/anaconda3/lib/python3.7/site-packages/sklearn/metrics/classification.py:1143: UndefinedMetricWarning: F-score is ill-defined and being set to 0.0 in labels with no predicted samples.\n",
      "  'precision', 'predicted', average, warn_for)\n",
      "/anaconda3/lib/python3.7/site-packages/sklearn/metrics/classification.py:1143: UndefinedMetricWarning: F-score is ill-defined and being set to 0.0 in labels with no predicted samples.\n",
      "  'precision', 'predicted', average, warn_for)\n"
     ]
    },
    {
     "name": "stdout",
     "output_type": "stream",
     "text": [
      "[CV]  clf__criterion=entropy, clf__max_depth=2, clf__min_samples_leaf=2, clf__min_samples_split=4, clf__n_estimators=100, total=   0.2s\n",
      "[CV] clf__criterion=entropy, clf__max_depth=2, clf__min_samples_leaf=2, clf__min_samples_split=4, clf__n_estimators=100 \n",
      "[CV]  clf__criterion=entropy, clf__max_depth=2, clf__min_samples_leaf=2, clf__min_samples_split=4, clf__n_estimators=100, total=   0.2s\n",
      "[CV] clf__criterion=entropy, clf__max_depth=2, clf__min_samples_leaf=2, clf__min_samples_split=4, clf__n_estimators=100 \n"
     ]
    },
    {
     "name": "stderr",
     "output_type": "stream",
     "text": [
      "/anaconda3/lib/python3.7/site-packages/sklearn/metrics/classification.py:1143: UndefinedMetricWarning: F-score is ill-defined and being set to 0.0 in labels with no predicted samples.\n",
      "  'precision', 'predicted', average, warn_for)\n",
      "/anaconda3/lib/python3.7/site-packages/sklearn/metrics/classification.py:1143: UndefinedMetricWarning: F-score is ill-defined and being set to 0.0 in labels with no predicted samples.\n",
      "  'precision', 'predicted', average, warn_for)\n",
      "/anaconda3/lib/python3.7/site-packages/sklearn/metrics/classification.py:1143: UndefinedMetricWarning: F-score is ill-defined and being set to 0.0 in labels with no predicted samples.\n",
      "  'precision', 'predicted', average, warn_for)\n"
     ]
    },
    {
     "name": "stdout",
     "output_type": "stream",
     "text": [
      "[CV]  clf__criterion=entropy, clf__max_depth=2, clf__min_samples_leaf=2, clf__min_samples_split=4, clf__n_estimators=100, total=   0.2s\n",
      "[CV] clf__criterion=entropy, clf__max_depth=2, clf__min_samples_leaf=3, clf__min_samples_split=2, clf__n_estimators=50 \n",
      "[CV]  clf__criterion=entropy, clf__max_depth=2, clf__min_samples_leaf=3, clf__min_samples_split=2, clf__n_estimators=50, total=   0.1s\n",
      "[CV] clf__criterion=entropy, clf__max_depth=2, clf__min_samples_leaf=3, clf__min_samples_split=2, clf__n_estimators=50 \n"
     ]
    },
    {
     "name": "stderr",
     "output_type": "stream",
     "text": [
      "/anaconda3/lib/python3.7/site-packages/sklearn/metrics/classification.py:1143: UndefinedMetricWarning: F-score is ill-defined and being set to 0.0 in labels with no predicted samples.\n",
      "  'precision', 'predicted', average, warn_for)\n",
      "/anaconda3/lib/python3.7/site-packages/sklearn/metrics/classification.py:1143: UndefinedMetricWarning: F-score is ill-defined and being set to 0.0 in labels with no predicted samples.\n",
      "  'precision', 'predicted', average, warn_for)\n",
      "/anaconda3/lib/python3.7/site-packages/sklearn/metrics/classification.py:1143: UndefinedMetricWarning: F-score is ill-defined and being set to 0.0 in labels with no predicted samples.\n",
      "  'precision', 'predicted', average, warn_for)\n",
      "/anaconda3/lib/python3.7/site-packages/sklearn/metrics/classification.py:1143: UndefinedMetricWarning: F-score is ill-defined and being set to 0.0 in labels with no predicted samples.\n",
      "  'precision', 'predicted', average, warn_for)\n"
     ]
    },
    {
     "name": "stdout",
     "output_type": "stream",
     "text": [
      "[CV]  clf__criterion=entropy, clf__max_depth=2, clf__min_samples_leaf=3, clf__min_samples_split=2, clf__n_estimators=50, total=   0.1s\n",
      "[CV] clf__criterion=entropy, clf__max_depth=2, clf__min_samples_leaf=3, clf__min_samples_split=2, clf__n_estimators=50 \n",
      "[CV]  clf__criterion=entropy, clf__max_depth=2, clf__min_samples_leaf=3, clf__min_samples_split=2, clf__n_estimators=50, total=   0.1s\n",
      "[CV] clf__criterion=entropy, clf__max_depth=2, clf__min_samples_leaf=3, clf__min_samples_split=2, clf__n_estimators=100 \n"
     ]
    },
    {
     "name": "stderr",
     "output_type": "stream",
     "text": [
      "/anaconda3/lib/python3.7/site-packages/sklearn/metrics/classification.py:1143: UndefinedMetricWarning: F-score is ill-defined and being set to 0.0 in labels with no predicted samples.\n",
      "  'precision', 'predicted', average, warn_for)\n",
      "/anaconda3/lib/python3.7/site-packages/sklearn/metrics/classification.py:1143: UndefinedMetricWarning: F-score is ill-defined and being set to 0.0 in labels with no predicted samples.\n",
      "  'precision', 'predicted', average, warn_for)\n",
      "/anaconda3/lib/python3.7/site-packages/sklearn/metrics/classification.py:1143: UndefinedMetricWarning: F-score is ill-defined and being set to 0.0 in labels with no predicted samples.\n",
      "  'precision', 'predicted', average, warn_for)\n",
      "/anaconda3/lib/python3.7/site-packages/sklearn/metrics/classification.py:1143: UndefinedMetricWarning: F-score is ill-defined and being set to 0.0 in labels with no predicted samples.\n",
      "  'precision', 'predicted', average, warn_for)\n",
      "/anaconda3/lib/python3.7/site-packages/sklearn/metrics/classification.py:1143: UndefinedMetricWarning: F-score is ill-defined and being set to 0.0 in labels with no predicted samples.\n",
      "  'precision', 'predicted', average, warn_for)\n",
      "/anaconda3/lib/python3.7/site-packages/sklearn/metrics/classification.py:1143: UndefinedMetricWarning: F-score is ill-defined and being set to 0.0 in labels with no predicted samples.\n",
      "  'precision', 'predicted', average, warn_for)\n"
     ]
    },
    {
     "name": "stdout",
     "output_type": "stream",
     "text": [
      "[CV]  clf__criterion=entropy, clf__max_depth=2, clf__min_samples_leaf=3, clf__min_samples_split=2, clf__n_estimators=100, total=   0.2s\n",
      "[CV] clf__criterion=entropy, clf__max_depth=2, clf__min_samples_leaf=3, clf__min_samples_split=2, clf__n_estimators=100 \n",
      "[CV]  clf__criterion=entropy, clf__max_depth=2, clf__min_samples_leaf=3, clf__min_samples_split=2, clf__n_estimators=100, total=   0.2s\n",
      "[CV] clf__criterion=entropy, clf__max_depth=2, clf__min_samples_leaf=3, clf__min_samples_split=2, clf__n_estimators=100 \n"
     ]
    },
    {
     "name": "stderr",
     "output_type": "stream",
     "text": [
      "/anaconda3/lib/python3.7/site-packages/sklearn/metrics/classification.py:1143: UndefinedMetricWarning: F-score is ill-defined and being set to 0.0 in labels with no predicted samples.\n",
      "  'precision', 'predicted', average, warn_for)\n",
      "/anaconda3/lib/python3.7/site-packages/sklearn/metrics/classification.py:1143: UndefinedMetricWarning: F-score is ill-defined and being set to 0.0 in labels with no predicted samples.\n",
      "  'precision', 'predicted', average, warn_for)\n",
      "/anaconda3/lib/python3.7/site-packages/sklearn/metrics/classification.py:1143: UndefinedMetricWarning: F-score is ill-defined and being set to 0.0 in labels with no predicted samples.\n",
      "  'precision', 'predicted', average, warn_for)\n",
      "/anaconda3/lib/python3.7/site-packages/sklearn/metrics/classification.py:1143: UndefinedMetricWarning: F-score is ill-defined and being set to 0.0 in labels with no predicted samples.\n",
      "  'precision', 'predicted', average, warn_for)\n"
     ]
    },
    {
     "name": "stdout",
     "output_type": "stream",
     "text": [
      "[CV]  clf__criterion=entropy, clf__max_depth=2, clf__min_samples_leaf=3, clf__min_samples_split=2, clf__n_estimators=100, total=   0.2s\n",
      "[CV] clf__criterion=entropy, clf__max_depth=2, clf__min_samples_leaf=3, clf__min_samples_split=4, clf__n_estimators=50 \n",
      "[CV]  clf__criterion=entropy, clf__max_depth=2, clf__min_samples_leaf=3, clf__min_samples_split=4, clf__n_estimators=50, total=   0.1s\n",
      "[CV] clf__criterion=entropy, clf__max_depth=2, clf__min_samples_leaf=3, clf__min_samples_split=4, clf__n_estimators=50 \n"
     ]
    },
    {
     "name": "stderr",
     "output_type": "stream",
     "text": [
      "/anaconda3/lib/python3.7/site-packages/sklearn/metrics/classification.py:1143: UndefinedMetricWarning: F-score is ill-defined and being set to 0.0 in labels with no predicted samples.\n",
      "  'precision', 'predicted', average, warn_for)\n",
      "/anaconda3/lib/python3.7/site-packages/sklearn/metrics/classification.py:1143: UndefinedMetricWarning: F-score is ill-defined and being set to 0.0 in labels with no predicted samples.\n",
      "  'precision', 'predicted', average, warn_for)\n",
      "/anaconda3/lib/python3.7/site-packages/sklearn/metrics/classification.py:1143: UndefinedMetricWarning: F-score is ill-defined and being set to 0.0 in labels with no predicted samples.\n",
      "  'precision', 'predicted', average, warn_for)\n",
      "/anaconda3/lib/python3.7/site-packages/sklearn/metrics/classification.py:1143: UndefinedMetricWarning: F-score is ill-defined and being set to 0.0 in labels with no predicted samples.\n",
      "  'precision', 'predicted', average, warn_for)\n"
     ]
    },
    {
     "name": "stdout",
     "output_type": "stream",
     "text": [
      "[CV]  clf__criterion=entropy, clf__max_depth=2, clf__min_samples_leaf=3, clf__min_samples_split=4, clf__n_estimators=50, total=   0.1s\n",
      "[CV] clf__criterion=entropy, clf__max_depth=2, clf__min_samples_leaf=3, clf__min_samples_split=4, clf__n_estimators=50 \n",
      "[CV]  clf__criterion=entropy, clf__max_depth=2, clf__min_samples_leaf=3, clf__min_samples_split=4, clf__n_estimators=50, total=   0.1s\n",
      "[CV] clf__criterion=entropy, clf__max_depth=2, clf__min_samples_leaf=3, clf__min_samples_split=4, clf__n_estimators=100 \n"
     ]
    },
    {
     "name": "stderr",
     "output_type": "stream",
     "text": [
      "/anaconda3/lib/python3.7/site-packages/sklearn/metrics/classification.py:1143: UndefinedMetricWarning: F-score is ill-defined and being set to 0.0 in labels with no predicted samples.\n",
      "  'precision', 'predicted', average, warn_for)\n",
      "/anaconda3/lib/python3.7/site-packages/sklearn/metrics/classification.py:1143: UndefinedMetricWarning: F-score is ill-defined and being set to 0.0 in labels with no predicted samples.\n",
      "  'precision', 'predicted', average, warn_for)\n",
      "/anaconda3/lib/python3.7/site-packages/sklearn/metrics/classification.py:1143: UndefinedMetricWarning: F-score is ill-defined and being set to 0.0 in labels with no predicted samples.\n",
      "  'precision', 'predicted', average, warn_for)\n"
     ]
    },
    {
     "name": "stdout",
     "output_type": "stream",
     "text": [
      "[CV]  clf__criterion=entropy, clf__max_depth=2, clf__min_samples_leaf=3, clf__min_samples_split=4, clf__n_estimators=100, total=   0.2s\n",
      "[CV] clf__criterion=entropy, clf__max_depth=2, clf__min_samples_leaf=3, clf__min_samples_split=4, clf__n_estimators=100 \n",
      "[CV]  clf__criterion=entropy, clf__max_depth=2, clf__min_samples_leaf=3, clf__min_samples_split=4, clf__n_estimators=100, total=   0.2s\n",
      "[CV] clf__criterion=entropy, clf__max_depth=2, clf__min_samples_leaf=3, clf__min_samples_split=4, clf__n_estimators=100 \n"
     ]
    },
    {
     "name": "stderr",
     "output_type": "stream",
     "text": [
      "/anaconda3/lib/python3.7/site-packages/sklearn/metrics/classification.py:1143: UndefinedMetricWarning: F-score is ill-defined and being set to 0.0 in labels with no predicted samples.\n",
      "  'precision', 'predicted', average, warn_for)\n",
      "/anaconda3/lib/python3.7/site-packages/sklearn/metrics/classification.py:1143: UndefinedMetricWarning: F-score is ill-defined and being set to 0.0 in labels with no predicted samples.\n",
      "  'precision', 'predicted', average, warn_for)\n",
      "/anaconda3/lib/python3.7/site-packages/sklearn/metrics/classification.py:1143: UndefinedMetricWarning: F-score is ill-defined and being set to 0.0 in labels with no predicted samples.\n",
      "  'precision', 'predicted', average, warn_for)\n",
      "/anaconda3/lib/python3.7/site-packages/sklearn/metrics/classification.py:1143: UndefinedMetricWarning: F-score is ill-defined and being set to 0.0 in labels with no predicted samples.\n",
      "  'precision', 'predicted', average, warn_for)\n",
      "/anaconda3/lib/python3.7/site-packages/sklearn/metrics/classification.py:1143: UndefinedMetricWarning: F-score is ill-defined and being set to 0.0 in labels with no predicted samples.\n",
      "  'precision', 'predicted', average, warn_for)\n"
     ]
    },
    {
     "name": "stdout",
     "output_type": "stream",
     "text": [
      "[CV]  clf__criterion=entropy, clf__max_depth=2, clf__min_samples_leaf=3, clf__min_samples_split=4, clf__n_estimators=100, total=   0.2s\n",
      "[CV] clf__criterion=entropy, clf__max_depth=4, clf__min_samples_leaf=2, clf__min_samples_split=2, clf__n_estimators=50 \n",
      "[CV]  clf__criterion=entropy, clf__max_depth=4, clf__min_samples_leaf=2, clf__min_samples_split=2, clf__n_estimators=50, total=   0.1s\n",
      "[CV] clf__criterion=entropy, clf__max_depth=4, clf__min_samples_leaf=2, clf__min_samples_split=2, clf__n_estimators=50 \n"
     ]
    },
    {
     "name": "stderr",
     "output_type": "stream",
     "text": [
      "/anaconda3/lib/python3.7/site-packages/sklearn/metrics/classification.py:1143: UndefinedMetricWarning: F-score is ill-defined and being set to 0.0 in labels with no predicted samples.\n",
      "  'precision', 'predicted', average, warn_for)\n",
      "/anaconda3/lib/python3.7/site-packages/sklearn/metrics/classification.py:1143: UndefinedMetricWarning: F-score is ill-defined and being set to 0.0 in labels with no predicted samples.\n",
      "  'precision', 'predicted', average, warn_for)\n",
      "/anaconda3/lib/python3.7/site-packages/sklearn/metrics/classification.py:1143: UndefinedMetricWarning: F-score is ill-defined and being set to 0.0 in labels with no predicted samples.\n",
      "  'precision', 'predicted', average, warn_for)\n",
      "/anaconda3/lib/python3.7/site-packages/sklearn/metrics/classification.py:1143: UndefinedMetricWarning: F-score is ill-defined and being set to 0.0 in labels with no predicted samples.\n",
      "  'precision', 'predicted', average, warn_for)\n"
     ]
    },
    {
     "name": "stdout",
     "output_type": "stream",
     "text": [
      "[CV]  clf__criterion=entropy, clf__max_depth=4, clf__min_samples_leaf=2, clf__min_samples_split=2, clf__n_estimators=50, total=   0.1s\n",
      "[CV] clf__criterion=entropy, clf__max_depth=4, clf__min_samples_leaf=2, clf__min_samples_split=2, clf__n_estimators=50 \n",
      "[CV]  clf__criterion=entropy, clf__max_depth=4, clf__min_samples_leaf=2, clf__min_samples_split=2, clf__n_estimators=50, total=   0.1s\n",
      "[CV] clf__criterion=entropy, clf__max_depth=4, clf__min_samples_leaf=2, clf__min_samples_split=2, clf__n_estimators=100 \n"
     ]
    },
    {
     "name": "stderr",
     "output_type": "stream",
     "text": [
      "/anaconda3/lib/python3.7/site-packages/sklearn/metrics/classification.py:1143: UndefinedMetricWarning: F-score is ill-defined and being set to 0.0 in labels with no predicted samples.\n",
      "  'precision', 'predicted', average, warn_for)\n",
      "/anaconda3/lib/python3.7/site-packages/sklearn/metrics/classification.py:1143: UndefinedMetricWarning: F-score is ill-defined and being set to 0.0 in labels with no predicted samples.\n",
      "  'precision', 'predicted', average, warn_for)\n"
     ]
    },
    {
     "name": "stdout",
     "output_type": "stream",
     "text": [
      "[CV]  clf__criterion=entropy, clf__max_depth=4, clf__min_samples_leaf=2, clf__min_samples_split=2, clf__n_estimators=100, total=   0.2s\n",
      "[CV] clf__criterion=entropy, clf__max_depth=4, clf__min_samples_leaf=2, clf__min_samples_split=2, clf__n_estimators=100 \n"
     ]
    },
    {
     "name": "stderr",
     "output_type": "stream",
     "text": [
      "/anaconda3/lib/python3.7/site-packages/sklearn/metrics/classification.py:1143: UndefinedMetricWarning: F-score is ill-defined and being set to 0.0 in labels with no predicted samples.\n",
      "  'precision', 'predicted', average, warn_for)\n",
      "/anaconda3/lib/python3.7/site-packages/sklearn/metrics/classification.py:1143: UndefinedMetricWarning: F-score is ill-defined and being set to 0.0 in labels with no predicted samples.\n",
      "  'precision', 'predicted', average, warn_for)\n"
     ]
    },
    {
     "name": "stdout",
     "output_type": "stream",
     "text": [
      "[CV]  clf__criterion=entropy, clf__max_depth=4, clf__min_samples_leaf=2, clf__min_samples_split=2, clf__n_estimators=100, total=   0.2s\n",
      "[CV] clf__criterion=entropy, clf__max_depth=4, clf__min_samples_leaf=2, clf__min_samples_split=2, clf__n_estimators=100 \n"
     ]
    },
    {
     "name": "stderr",
     "output_type": "stream",
     "text": [
      "/anaconda3/lib/python3.7/site-packages/sklearn/metrics/classification.py:1143: UndefinedMetricWarning: F-score is ill-defined and being set to 0.0 in labels with no predicted samples.\n",
      "  'precision', 'predicted', average, warn_for)\n",
      "/anaconda3/lib/python3.7/site-packages/sklearn/metrics/classification.py:1143: UndefinedMetricWarning: F-score is ill-defined and being set to 0.0 in labels with no predicted samples.\n",
      "  'precision', 'predicted', average, warn_for)\n",
      "/anaconda3/lib/python3.7/site-packages/sklearn/metrics/classification.py:1143: UndefinedMetricWarning: F-score is ill-defined and being set to 0.0 in labels with no predicted samples.\n",
      "  'precision', 'predicted', average, warn_for)\n",
      "/anaconda3/lib/python3.7/site-packages/sklearn/metrics/classification.py:1143: UndefinedMetricWarning: F-score is ill-defined and being set to 0.0 in labels with no predicted samples.\n",
      "  'precision', 'predicted', average, warn_for)\n"
     ]
    },
    {
     "name": "stdout",
     "output_type": "stream",
     "text": [
      "[CV]  clf__criterion=entropy, clf__max_depth=4, clf__min_samples_leaf=2, clf__min_samples_split=2, clf__n_estimators=100, total=   0.2s\n",
      "[CV] clf__criterion=entropy, clf__max_depth=4, clf__min_samples_leaf=2, clf__min_samples_split=4, clf__n_estimators=50 \n",
      "[CV]  clf__criterion=entropy, clf__max_depth=4, clf__min_samples_leaf=2, clf__min_samples_split=4, clf__n_estimators=50, total=   0.1s\n",
      "[CV] clf__criterion=entropy, clf__max_depth=4, clf__min_samples_leaf=2, clf__min_samples_split=4, clf__n_estimators=50 \n"
     ]
    },
    {
     "name": "stderr",
     "output_type": "stream",
     "text": [
      "/anaconda3/lib/python3.7/site-packages/sklearn/metrics/classification.py:1143: UndefinedMetricWarning: F-score is ill-defined and being set to 0.0 in labels with no predicted samples.\n",
      "  'precision', 'predicted', average, warn_for)\n",
      "/anaconda3/lib/python3.7/site-packages/sklearn/metrics/classification.py:1143: UndefinedMetricWarning: F-score is ill-defined and being set to 0.0 in labels with no predicted samples.\n",
      "  'precision', 'predicted', average, warn_for)\n",
      "/anaconda3/lib/python3.7/site-packages/sklearn/metrics/classification.py:1143: UndefinedMetricWarning: F-score is ill-defined and being set to 0.0 in labels with no predicted samples.\n",
      "  'precision', 'predicted', average, warn_for)\n",
      "/anaconda3/lib/python3.7/site-packages/sklearn/metrics/classification.py:1143: UndefinedMetricWarning: F-score is ill-defined and being set to 0.0 in labels with no predicted samples.\n",
      "  'precision', 'predicted', average, warn_for)\n"
     ]
    },
    {
     "name": "stdout",
     "output_type": "stream",
     "text": [
      "[CV]  clf__criterion=entropy, clf__max_depth=4, clf__min_samples_leaf=2, clf__min_samples_split=4, clf__n_estimators=50, total=   0.1s\n",
      "[CV] clf__criterion=entropy, clf__max_depth=4, clf__min_samples_leaf=2, clf__min_samples_split=4, clf__n_estimators=50 \n",
      "[CV]  clf__criterion=entropy, clf__max_depth=4, clf__min_samples_leaf=2, clf__min_samples_split=4, clf__n_estimators=50, total=   0.1s\n",
      "[CV] clf__criterion=entropy, clf__max_depth=4, clf__min_samples_leaf=2, clf__min_samples_split=4, clf__n_estimators=100 \n"
     ]
    },
    {
     "name": "stderr",
     "output_type": "stream",
     "text": [
      "/anaconda3/lib/python3.7/site-packages/sklearn/metrics/classification.py:1143: UndefinedMetricWarning: F-score is ill-defined and being set to 0.0 in labels with no predicted samples.\n",
      "  'precision', 'predicted', average, warn_for)\n",
      "/anaconda3/lib/python3.7/site-packages/sklearn/metrics/classification.py:1143: UndefinedMetricWarning: F-score is ill-defined and being set to 0.0 in labels with no predicted samples.\n",
      "  'precision', 'predicted', average, warn_for)\n"
     ]
    },
    {
     "name": "stdout",
     "output_type": "stream",
     "text": [
      "[CV]  clf__criterion=entropy, clf__max_depth=4, clf__min_samples_leaf=2, clf__min_samples_split=4, clf__n_estimators=100, total=   0.2s\n",
      "[CV] clf__criterion=entropy, clf__max_depth=4, clf__min_samples_leaf=2, clf__min_samples_split=4, clf__n_estimators=100 \n"
     ]
    },
    {
     "name": "stderr",
     "output_type": "stream",
     "text": [
      "/anaconda3/lib/python3.7/site-packages/sklearn/metrics/classification.py:1143: UndefinedMetricWarning: F-score is ill-defined and being set to 0.0 in labels with no predicted samples.\n",
      "  'precision', 'predicted', average, warn_for)\n",
      "/anaconda3/lib/python3.7/site-packages/sklearn/metrics/classification.py:1143: UndefinedMetricWarning: F-score is ill-defined and being set to 0.0 in labels with no predicted samples.\n",
      "  'precision', 'predicted', average, warn_for)\n"
     ]
    },
    {
     "name": "stdout",
     "output_type": "stream",
     "text": [
      "[CV]  clf__criterion=entropy, clf__max_depth=4, clf__min_samples_leaf=2, clf__min_samples_split=4, clf__n_estimators=100, total=   0.2s\n",
      "[CV] clf__criterion=entropy, clf__max_depth=4, clf__min_samples_leaf=2, clf__min_samples_split=4, clf__n_estimators=100 \n"
     ]
    },
    {
     "name": "stderr",
     "output_type": "stream",
     "text": [
      "/anaconda3/lib/python3.7/site-packages/sklearn/metrics/classification.py:1143: UndefinedMetricWarning: F-score is ill-defined and being set to 0.0 in labels with no predicted samples.\n",
      "  'precision', 'predicted', average, warn_for)\n",
      "/anaconda3/lib/python3.7/site-packages/sklearn/metrics/classification.py:1143: UndefinedMetricWarning: F-score is ill-defined and being set to 0.0 in labels with no predicted samples.\n",
      "  'precision', 'predicted', average, warn_for)\n",
      "/anaconda3/lib/python3.7/site-packages/sklearn/metrics/classification.py:1143: UndefinedMetricWarning: F-score is ill-defined and being set to 0.0 in labels with no predicted samples.\n",
      "  'precision', 'predicted', average, warn_for)\n",
      "/anaconda3/lib/python3.7/site-packages/sklearn/metrics/classification.py:1143: UndefinedMetricWarning: F-score is ill-defined and being set to 0.0 in labels with no predicted samples.\n",
      "  'precision', 'predicted', average, warn_for)\n"
     ]
    },
    {
     "name": "stdout",
     "output_type": "stream",
     "text": [
      "[CV]  clf__criterion=entropy, clf__max_depth=4, clf__min_samples_leaf=2, clf__min_samples_split=4, clf__n_estimators=100, total=   0.2s\n",
      "[CV] clf__criterion=entropy, clf__max_depth=4, clf__min_samples_leaf=3, clf__min_samples_split=2, clf__n_estimators=50 \n",
      "[CV]  clf__criterion=entropy, clf__max_depth=4, clf__min_samples_leaf=3, clf__min_samples_split=2, clf__n_estimators=50, total=   0.1s\n",
      "[CV] clf__criterion=entropy, clf__max_depth=4, clf__min_samples_leaf=3, clf__min_samples_split=2, clf__n_estimators=50 \n"
     ]
    },
    {
     "name": "stderr",
     "output_type": "stream",
     "text": [
      "/anaconda3/lib/python3.7/site-packages/sklearn/metrics/classification.py:1143: UndefinedMetricWarning: F-score is ill-defined and being set to 0.0 in labels with no predicted samples.\n",
      "  'precision', 'predicted', average, warn_for)\n",
      "/anaconda3/lib/python3.7/site-packages/sklearn/metrics/classification.py:1143: UndefinedMetricWarning: F-score is ill-defined and being set to 0.0 in labels with no predicted samples.\n",
      "  'precision', 'predicted', average, warn_for)\n",
      "/anaconda3/lib/python3.7/site-packages/sklearn/metrics/classification.py:1143: UndefinedMetricWarning: F-score is ill-defined and being set to 0.0 in labels with no predicted samples.\n",
      "  'precision', 'predicted', average, warn_for)\n",
      "/anaconda3/lib/python3.7/site-packages/sklearn/metrics/classification.py:1143: UndefinedMetricWarning: F-score is ill-defined and being set to 0.0 in labels with no predicted samples.\n",
      "  'precision', 'predicted', average, warn_for)\n"
     ]
    },
    {
     "name": "stdout",
     "output_type": "stream",
     "text": [
      "[CV]  clf__criterion=entropy, clf__max_depth=4, clf__min_samples_leaf=3, clf__min_samples_split=2, clf__n_estimators=50, total=   0.1s\n",
      "[CV] clf__criterion=entropy, clf__max_depth=4, clf__min_samples_leaf=3, clf__min_samples_split=2, clf__n_estimators=50 \n",
      "[CV]  clf__criterion=entropy, clf__max_depth=4, clf__min_samples_leaf=3, clf__min_samples_split=2, clf__n_estimators=50, total=   0.1s\n",
      "[CV] clf__criterion=entropy, clf__max_depth=4, clf__min_samples_leaf=3, clf__min_samples_split=2, clf__n_estimators=100 \n"
     ]
    },
    {
     "name": "stderr",
     "output_type": "stream",
     "text": [
      "/anaconda3/lib/python3.7/site-packages/sklearn/metrics/classification.py:1143: UndefinedMetricWarning: F-score is ill-defined and being set to 0.0 in labels with no predicted samples.\n",
      "  'precision', 'predicted', average, warn_for)\n",
      "/anaconda3/lib/python3.7/site-packages/sklearn/metrics/classification.py:1143: UndefinedMetricWarning: F-score is ill-defined and being set to 0.0 in labels with no predicted samples.\n",
      "  'precision', 'predicted', average, warn_for)\n"
     ]
    },
    {
     "name": "stdout",
     "output_type": "stream",
     "text": [
      "[CV]  clf__criterion=entropy, clf__max_depth=4, clf__min_samples_leaf=3, clf__min_samples_split=2, clf__n_estimators=100, total=   0.2s\n",
      "[CV] clf__criterion=entropy, clf__max_depth=4, clf__min_samples_leaf=3, clf__min_samples_split=2, clf__n_estimators=100 \n"
     ]
    },
    {
     "name": "stderr",
     "output_type": "stream",
     "text": [
      "/anaconda3/lib/python3.7/site-packages/sklearn/metrics/classification.py:1143: UndefinedMetricWarning: F-score is ill-defined and being set to 0.0 in labels with no predicted samples.\n",
      "  'precision', 'predicted', average, warn_for)\n",
      "/anaconda3/lib/python3.7/site-packages/sklearn/metrics/classification.py:1143: UndefinedMetricWarning: F-score is ill-defined and being set to 0.0 in labels with no predicted samples.\n",
      "  'precision', 'predicted', average, warn_for)\n"
     ]
    },
    {
     "name": "stdout",
     "output_type": "stream",
     "text": [
      "[CV]  clf__criterion=entropy, clf__max_depth=4, clf__min_samples_leaf=3, clf__min_samples_split=2, clf__n_estimators=100, total=   0.2s\n",
      "[CV] clf__criterion=entropy, clf__max_depth=4, clf__min_samples_leaf=3, clf__min_samples_split=2, clf__n_estimators=100 \n"
     ]
    },
    {
     "name": "stderr",
     "output_type": "stream",
     "text": [
      "/anaconda3/lib/python3.7/site-packages/sklearn/metrics/classification.py:1143: UndefinedMetricWarning: F-score is ill-defined and being set to 0.0 in labels with no predicted samples.\n",
      "  'precision', 'predicted', average, warn_for)\n",
      "/anaconda3/lib/python3.7/site-packages/sklearn/metrics/classification.py:1143: UndefinedMetricWarning: F-score is ill-defined and being set to 0.0 in labels with no predicted samples.\n",
      "  'precision', 'predicted', average, warn_for)\n",
      "/anaconda3/lib/python3.7/site-packages/sklearn/metrics/classification.py:1143: UndefinedMetricWarning: F-score is ill-defined and being set to 0.0 in labels with no predicted samples.\n",
      "  'precision', 'predicted', average, warn_for)\n",
      "/anaconda3/lib/python3.7/site-packages/sklearn/metrics/classification.py:1143: UndefinedMetricWarning: F-score is ill-defined and being set to 0.0 in labels with no predicted samples.\n",
      "  'precision', 'predicted', average, warn_for)\n"
     ]
    },
    {
     "name": "stdout",
     "output_type": "stream",
     "text": [
      "[CV]  clf__criterion=entropy, clf__max_depth=4, clf__min_samples_leaf=3, clf__min_samples_split=2, clf__n_estimators=100, total=   0.2s\n",
      "[CV] clf__criterion=entropy, clf__max_depth=4, clf__min_samples_leaf=3, clf__min_samples_split=4, clf__n_estimators=50 \n",
      "[CV]  clf__criterion=entropy, clf__max_depth=4, clf__min_samples_leaf=3, clf__min_samples_split=4, clf__n_estimators=50, total=   0.1s\n",
      "[CV] clf__criterion=entropy, clf__max_depth=4, clf__min_samples_leaf=3, clf__min_samples_split=4, clf__n_estimators=50 \n"
     ]
    },
    {
     "name": "stderr",
     "output_type": "stream",
     "text": [
      "/anaconda3/lib/python3.7/site-packages/sklearn/metrics/classification.py:1143: UndefinedMetricWarning: F-score is ill-defined and being set to 0.0 in labels with no predicted samples.\n",
      "  'precision', 'predicted', average, warn_for)\n",
      "/anaconda3/lib/python3.7/site-packages/sklearn/metrics/classification.py:1143: UndefinedMetricWarning: F-score is ill-defined and being set to 0.0 in labels with no predicted samples.\n",
      "  'precision', 'predicted', average, warn_for)\n",
      "/anaconda3/lib/python3.7/site-packages/sklearn/metrics/classification.py:1143: UndefinedMetricWarning: F-score is ill-defined and being set to 0.0 in labels with no predicted samples.\n",
      "  'precision', 'predicted', average, warn_for)\n",
      "/anaconda3/lib/python3.7/site-packages/sklearn/metrics/classification.py:1143: UndefinedMetricWarning: F-score is ill-defined and being set to 0.0 in labels with no predicted samples.\n",
      "  'precision', 'predicted', average, warn_for)\n"
     ]
    },
    {
     "name": "stdout",
     "output_type": "stream",
     "text": [
      "[CV]  clf__criterion=entropy, clf__max_depth=4, clf__min_samples_leaf=3, clf__min_samples_split=4, clf__n_estimators=50, total=   0.1s\n",
      "[CV] clf__criterion=entropy, clf__max_depth=4, clf__min_samples_leaf=3, clf__min_samples_split=4, clf__n_estimators=50 \n",
      "[CV]  clf__criterion=entropy, clf__max_depth=4, clf__min_samples_leaf=3, clf__min_samples_split=4, clf__n_estimators=50, total=   0.1s\n",
      "[CV] clf__criterion=entropy, clf__max_depth=4, clf__min_samples_leaf=3, clf__min_samples_split=4, clf__n_estimators=100 \n"
     ]
    },
    {
     "name": "stderr",
     "output_type": "stream",
     "text": [
      "/anaconda3/lib/python3.7/site-packages/sklearn/metrics/classification.py:1143: UndefinedMetricWarning: F-score is ill-defined and being set to 0.0 in labels with no predicted samples.\n",
      "  'precision', 'predicted', average, warn_for)\n",
      "/anaconda3/lib/python3.7/site-packages/sklearn/metrics/classification.py:1143: UndefinedMetricWarning: F-score is ill-defined and being set to 0.0 in labels with no predicted samples.\n",
      "  'precision', 'predicted', average, warn_for)\n"
     ]
    },
    {
     "name": "stdout",
     "output_type": "stream",
     "text": [
      "[CV]  clf__criterion=entropy, clf__max_depth=4, clf__min_samples_leaf=3, clf__min_samples_split=4, clf__n_estimators=100, total=   0.2s\n",
      "[CV] clf__criterion=entropy, clf__max_depth=4, clf__min_samples_leaf=3, clf__min_samples_split=4, clf__n_estimators=100 \n"
     ]
    },
    {
     "name": "stderr",
     "output_type": "stream",
     "text": [
      "/anaconda3/lib/python3.7/site-packages/sklearn/metrics/classification.py:1143: UndefinedMetricWarning: F-score is ill-defined and being set to 0.0 in labels with no predicted samples.\n",
      "  'precision', 'predicted', average, warn_for)\n",
      "/anaconda3/lib/python3.7/site-packages/sklearn/metrics/classification.py:1143: UndefinedMetricWarning: F-score is ill-defined and being set to 0.0 in labels with no predicted samples.\n",
      "  'precision', 'predicted', average, warn_for)\n"
     ]
    },
    {
     "name": "stdout",
     "output_type": "stream",
     "text": [
      "[CV]  clf__criterion=entropy, clf__max_depth=4, clf__min_samples_leaf=3, clf__min_samples_split=4, clf__n_estimators=100, total=   0.2s\n",
      "[CV] clf__criterion=entropy, clf__max_depth=4, clf__min_samples_leaf=3, clf__min_samples_split=4, clf__n_estimators=100 \n"
     ]
    },
    {
     "name": "stderr",
     "output_type": "stream",
     "text": [
      "/anaconda3/lib/python3.7/site-packages/sklearn/metrics/classification.py:1143: UndefinedMetricWarning: F-score is ill-defined and being set to 0.0 in labels with no predicted samples.\n",
      "  'precision', 'predicted', average, warn_for)\n",
      "/anaconda3/lib/python3.7/site-packages/sklearn/metrics/classification.py:1143: UndefinedMetricWarning: F-score is ill-defined and being set to 0.0 in labels with no predicted samples.\n",
      "  'precision', 'predicted', average, warn_for)\n",
      "[Parallel(n_jobs=1)]: Done 144 out of 144 | elapsed:   29.7s finished\n"
     ]
    },
    {
     "name": "stdout",
     "output_type": "stream",
     "text": [
      "[CV]  clf__criterion=entropy, clf__max_depth=4, clf__min_samples_leaf=3, clf__min_samples_split=4, clf__n_estimators=100, total=   0.2s\n",
      "KNN - - - - - - - - - - - - - - - - - - - - - - - - - - - - - -\n",
      "Fitting 3 folds for each of 20 candidates, totalling 60 fits\n",
      "[CV] clf__n_neighbors=5, clf__p=1, clf__weights=uniform ..............\n"
     ]
    },
    {
     "name": "stderr",
     "output_type": "stream",
     "text": [
      "[Parallel(n_jobs=1)]: Using backend SequentialBackend with 1 concurrent workers.\n"
     ]
    },
    {
     "name": "stdout",
     "output_type": "stream",
     "text": [
      "[CV]  clf__n_neighbors=5, clf__p=1, clf__weights=uniform, total=   0.4s\n",
      "[CV] clf__n_neighbors=5, clf__p=1, clf__weights=uniform ..............\n"
     ]
    },
    {
     "name": "stderr",
     "output_type": "stream",
     "text": [
      "[Parallel(n_jobs=1)]: Done   1 out of   1 | elapsed:    1.0s remaining:    0.0s\n"
     ]
    },
    {
     "name": "stdout",
     "output_type": "stream",
     "text": [
      "[CV]  clf__n_neighbors=5, clf__p=1, clf__weights=uniform, total=   0.3s\n",
      "[CV] clf__n_neighbors=5, clf__p=1, clf__weights=uniform ..............\n",
      "[CV]  clf__n_neighbors=5, clf__p=1, clf__weights=uniform, total=   0.3s\n",
      "[CV] clf__n_neighbors=5, clf__p=1, clf__weights=distance .............\n",
      "[CV]  clf__n_neighbors=5, clf__p=1, clf__weights=distance, total=   0.3s\n",
      "[CV] clf__n_neighbors=5, clf__p=1, clf__weights=distance .............\n",
      "[CV]  clf__n_neighbors=5, clf__p=1, clf__weights=distance, total=   0.3s\n",
      "[CV] clf__n_neighbors=5, clf__p=1, clf__weights=distance .............\n",
      "[CV]  clf__n_neighbors=5, clf__p=1, clf__weights=distance, total=   0.3s\n",
      "[CV] clf__n_neighbors=5, clf__p=2, clf__weights=uniform ..............\n",
      "[CV]  clf__n_neighbors=5, clf__p=2, clf__weights=uniform, total=   0.3s\n",
      "[CV] clf__n_neighbors=5, clf__p=2, clf__weights=uniform ..............\n",
      "[CV]  clf__n_neighbors=5, clf__p=2, clf__weights=uniform, total=   0.3s\n",
      "[CV] clf__n_neighbors=5, clf__p=2, clf__weights=uniform ..............\n",
      "[CV]  clf__n_neighbors=5, clf__p=2, clf__weights=uniform, total=   0.3s\n",
      "[CV] clf__n_neighbors=5, clf__p=2, clf__weights=distance .............\n",
      "[CV]  clf__n_neighbors=5, clf__p=2, clf__weights=distance, total=   0.3s\n",
      "[CV] clf__n_neighbors=5, clf__p=2, clf__weights=distance .............\n",
      "[CV]  clf__n_neighbors=5, clf__p=2, clf__weights=distance, total=   0.3s\n",
      "[CV] clf__n_neighbors=5, clf__p=2, clf__weights=distance .............\n",
      "[CV]  clf__n_neighbors=5, clf__p=2, clf__weights=distance, total=   0.3s\n",
      "[CV] clf__n_neighbors=25, clf__p=1, clf__weights=uniform .............\n"
     ]
    },
    {
     "name": "stderr",
     "output_type": "stream",
     "text": [
      "/anaconda3/lib/python3.7/site-packages/sklearn/metrics/classification.py:1143: UndefinedMetricWarning: F-score is ill-defined and being set to 0.0 in labels with no predicted samples.\n",
      "  'precision', 'predicted', average, warn_for)\n",
      "/anaconda3/lib/python3.7/site-packages/sklearn/metrics/classification.py:1143: UndefinedMetricWarning: F-score is ill-defined and being set to 0.0 in labels with no predicted samples.\n",
      "  'precision', 'predicted', average, warn_for)\n"
     ]
    },
    {
     "name": "stdout",
     "output_type": "stream",
     "text": [
      "[CV]  clf__n_neighbors=25, clf__p=1, clf__weights=uniform, total=   0.5s\n",
      "[CV] clf__n_neighbors=25, clf__p=1, clf__weights=uniform .............\n",
      "[CV]  clf__n_neighbors=25, clf__p=1, clf__weights=uniform, total=   0.5s\n",
      "[CV] clf__n_neighbors=25, clf__p=1, clf__weights=uniform .............\n"
     ]
    },
    {
     "name": "stderr",
     "output_type": "stream",
     "text": [
      "/anaconda3/lib/python3.7/site-packages/sklearn/metrics/classification.py:1143: UndefinedMetricWarning: F-score is ill-defined and being set to 0.0 in labels with no predicted samples.\n",
      "  'precision', 'predicted', average, warn_for)\n",
      "/anaconda3/lib/python3.7/site-packages/sklearn/metrics/classification.py:1143: UndefinedMetricWarning: F-score is ill-defined and being set to 0.0 in labels with no predicted samples.\n",
      "  'precision', 'predicted', average, warn_for)\n"
     ]
    },
    {
     "name": "stdout",
     "output_type": "stream",
     "text": [
      "[CV]  clf__n_neighbors=25, clf__p=1, clf__weights=uniform, total=   0.5s\n",
      "[CV] clf__n_neighbors=25, clf__p=1, clf__weights=distance ............\n",
      "[CV]  clf__n_neighbors=25, clf__p=1, clf__weights=distance, total=   0.4s\n",
      "[CV] clf__n_neighbors=25, clf__p=1, clf__weights=distance ............\n",
      "[CV]  clf__n_neighbors=25, clf__p=1, clf__weights=distance, total=   0.4s\n",
      "[CV] clf__n_neighbors=25, clf__p=1, clf__weights=distance ............\n",
      "[CV]  clf__n_neighbors=25, clf__p=1, clf__weights=distance, total=   0.4s\n",
      "[CV] clf__n_neighbors=25, clf__p=2, clf__weights=uniform .............\n"
     ]
    },
    {
     "name": "stderr",
     "output_type": "stream",
     "text": [
      "/anaconda3/lib/python3.7/site-packages/sklearn/metrics/classification.py:1143: UndefinedMetricWarning: F-score is ill-defined and being set to 0.0 in labels with no predicted samples.\n",
      "  'precision', 'predicted', average, warn_for)\n",
      "/anaconda3/lib/python3.7/site-packages/sklearn/metrics/classification.py:1143: UndefinedMetricWarning: F-score is ill-defined and being set to 0.0 in labels with no predicted samples.\n",
      "  'precision', 'predicted', average, warn_for)\n"
     ]
    },
    {
     "name": "stdout",
     "output_type": "stream",
     "text": [
      "[CV]  clf__n_neighbors=25, clf__p=2, clf__weights=uniform, total=   0.5s\n",
      "[CV] clf__n_neighbors=25, clf__p=2, clf__weights=uniform .............\n",
      "[CV]  clf__n_neighbors=25, clf__p=2, clf__weights=uniform, total=   0.5s\n",
      "[CV] clf__n_neighbors=25, clf__p=2, clf__weights=uniform .............\n"
     ]
    },
    {
     "name": "stderr",
     "output_type": "stream",
     "text": [
      "/anaconda3/lib/python3.7/site-packages/sklearn/metrics/classification.py:1143: UndefinedMetricWarning: F-score is ill-defined and being set to 0.0 in labels with no predicted samples.\n",
      "  'precision', 'predicted', average, warn_for)\n",
      "/anaconda3/lib/python3.7/site-packages/sklearn/metrics/classification.py:1143: UndefinedMetricWarning: F-score is ill-defined and being set to 0.0 in labels with no predicted samples.\n",
      "  'precision', 'predicted', average, warn_for)\n"
     ]
    },
    {
     "name": "stdout",
     "output_type": "stream",
     "text": [
      "[CV]  clf__n_neighbors=25, clf__p=2, clf__weights=uniform, total=   0.5s\n",
      "[CV] clf__n_neighbors=25, clf__p=2, clf__weights=distance ............\n",
      "[CV]  clf__n_neighbors=25, clf__p=2, clf__weights=distance, total=   0.4s\n",
      "[CV] clf__n_neighbors=25, clf__p=2, clf__weights=distance ............\n",
      "[CV]  clf__n_neighbors=25, clf__p=2, clf__weights=distance, total=   0.5s\n",
      "[CV] clf__n_neighbors=25, clf__p=2, clf__weights=distance ............\n",
      "[CV]  clf__n_neighbors=25, clf__p=2, clf__weights=distance, total=   0.5s\n",
      "[CV] clf__n_neighbors=50, clf__p=1, clf__weights=uniform .............\n"
     ]
    },
    {
     "name": "stderr",
     "output_type": "stream",
     "text": [
      "/anaconda3/lib/python3.7/site-packages/sklearn/metrics/classification.py:1143: UndefinedMetricWarning: F-score is ill-defined and being set to 0.0 in labels with no predicted samples.\n",
      "  'precision', 'predicted', average, warn_for)\n",
      "/anaconda3/lib/python3.7/site-packages/sklearn/metrics/classification.py:1143: UndefinedMetricWarning: F-score is ill-defined and being set to 0.0 in labels with no predicted samples.\n",
      "  'precision', 'predicted', average, warn_for)\n"
     ]
    },
    {
     "name": "stdout",
     "output_type": "stream",
     "text": [
      "[CV]  clf__n_neighbors=50, clf__p=1, clf__weights=uniform, total=   0.6s\n",
      "[CV] clf__n_neighbors=50, clf__p=1, clf__weights=uniform .............\n"
     ]
    },
    {
     "name": "stderr",
     "output_type": "stream",
     "text": [
      "/anaconda3/lib/python3.7/site-packages/sklearn/metrics/classification.py:1143: UndefinedMetricWarning: F-score is ill-defined and being set to 0.0 in labels with no predicted samples.\n",
      "  'precision', 'predicted', average, warn_for)\n",
      "/anaconda3/lib/python3.7/site-packages/sklearn/metrics/classification.py:1143: UndefinedMetricWarning: F-score is ill-defined and being set to 0.0 in labels with no predicted samples.\n",
      "  'precision', 'predicted', average, warn_for)\n"
     ]
    },
    {
     "name": "stdout",
     "output_type": "stream",
     "text": [
      "[CV]  clf__n_neighbors=50, clf__p=1, clf__weights=uniform, total=   0.6s\n",
      "[CV] clf__n_neighbors=50, clf__p=1, clf__weights=uniform .............\n"
     ]
    },
    {
     "name": "stderr",
     "output_type": "stream",
     "text": [
      "/anaconda3/lib/python3.7/site-packages/sklearn/metrics/classification.py:1143: UndefinedMetricWarning: F-score is ill-defined and being set to 0.0 in labels with no predicted samples.\n",
      "  'precision', 'predicted', average, warn_for)\n",
      "/anaconda3/lib/python3.7/site-packages/sklearn/metrics/classification.py:1143: UndefinedMetricWarning: F-score is ill-defined and being set to 0.0 in labels with no predicted samples.\n",
      "  'precision', 'predicted', average, warn_for)\n"
     ]
    },
    {
     "name": "stdout",
     "output_type": "stream",
     "text": [
      "[CV]  clf__n_neighbors=50, clf__p=1, clf__weights=uniform, total=   0.6s\n",
      "[CV] clf__n_neighbors=50, clf__p=1, clf__weights=distance ............\n",
      "[CV]  clf__n_neighbors=50, clf__p=1, clf__weights=distance, total=   0.6s\n",
      "[CV] clf__n_neighbors=50, clf__p=1, clf__weights=distance ............\n",
      "[CV]  clf__n_neighbors=50, clf__p=1, clf__weights=distance, total=   0.6s\n",
      "[CV] clf__n_neighbors=50, clf__p=1, clf__weights=distance ............\n",
      "[CV]  clf__n_neighbors=50, clf__p=1, clf__weights=distance, total=   0.6s\n",
      "[CV] clf__n_neighbors=50, clf__p=2, clf__weights=uniform .............\n"
     ]
    },
    {
     "name": "stderr",
     "output_type": "stream",
     "text": [
      "/anaconda3/lib/python3.7/site-packages/sklearn/metrics/classification.py:1143: UndefinedMetricWarning: F-score is ill-defined and being set to 0.0 in labels with no predicted samples.\n",
      "  'precision', 'predicted', average, warn_for)\n",
      "/anaconda3/lib/python3.7/site-packages/sklearn/metrics/classification.py:1143: UndefinedMetricWarning: F-score is ill-defined and being set to 0.0 in labels with no predicted samples.\n",
      "  'precision', 'predicted', average, warn_for)\n"
     ]
    },
    {
     "name": "stdout",
     "output_type": "stream",
     "text": [
      "[CV]  clf__n_neighbors=50, clf__p=2, clf__weights=uniform, total=   0.6s\n",
      "[CV] clf__n_neighbors=50, clf__p=2, clf__weights=uniform .............\n"
     ]
    },
    {
     "name": "stderr",
     "output_type": "stream",
     "text": [
      "/anaconda3/lib/python3.7/site-packages/sklearn/metrics/classification.py:1143: UndefinedMetricWarning: F-score is ill-defined and being set to 0.0 in labels with no predicted samples.\n",
      "  'precision', 'predicted', average, warn_for)\n",
      "/anaconda3/lib/python3.7/site-packages/sklearn/metrics/classification.py:1143: UndefinedMetricWarning: F-score is ill-defined and being set to 0.0 in labels with no predicted samples.\n",
      "  'precision', 'predicted', average, warn_for)\n"
     ]
    },
    {
     "name": "stdout",
     "output_type": "stream",
     "text": [
      "[CV]  clf__n_neighbors=50, clf__p=2, clf__weights=uniform, total=   0.6s\n",
      "[CV] clf__n_neighbors=50, clf__p=2, clf__weights=uniform .............\n"
     ]
    },
    {
     "name": "stderr",
     "output_type": "stream",
     "text": [
      "/anaconda3/lib/python3.7/site-packages/sklearn/metrics/classification.py:1143: UndefinedMetricWarning: F-score is ill-defined and being set to 0.0 in labels with no predicted samples.\n",
      "  'precision', 'predicted', average, warn_for)\n",
      "/anaconda3/lib/python3.7/site-packages/sklearn/metrics/classification.py:1143: UndefinedMetricWarning: F-score is ill-defined and being set to 0.0 in labels with no predicted samples.\n",
      "  'precision', 'predicted', average, warn_for)\n"
     ]
    },
    {
     "name": "stdout",
     "output_type": "stream",
     "text": [
      "[CV]  clf__n_neighbors=50, clf__p=2, clf__weights=uniform, total=   0.6s\n",
      "[CV] clf__n_neighbors=50, clf__p=2, clf__weights=distance ............\n",
      "[CV]  clf__n_neighbors=50, clf__p=2, clf__weights=distance, total=   0.6s\n",
      "[CV] clf__n_neighbors=50, clf__p=2, clf__weights=distance ............\n",
      "[CV]  clf__n_neighbors=50, clf__p=2, clf__weights=distance, total=   0.5s\n",
      "[CV] clf__n_neighbors=50, clf__p=2, clf__weights=distance ............\n",
      "[CV]  clf__n_neighbors=50, clf__p=2, clf__weights=distance, total=   0.5s\n",
      "[CV] clf__n_neighbors=100, clf__p=1, clf__weights=uniform ............\n"
     ]
    },
    {
     "name": "stderr",
     "output_type": "stream",
     "text": [
      "/anaconda3/lib/python3.7/site-packages/sklearn/metrics/classification.py:1143: UndefinedMetricWarning: F-score is ill-defined and being set to 0.0 in labels with no predicted samples.\n",
      "  'precision', 'predicted', average, warn_for)\n",
      "/anaconda3/lib/python3.7/site-packages/sklearn/metrics/classification.py:1143: UndefinedMetricWarning: F-score is ill-defined and being set to 0.0 in labels with no predicted samples.\n",
      "  'precision', 'predicted', average, warn_for)\n"
     ]
    },
    {
     "name": "stdout",
     "output_type": "stream",
     "text": [
      "[CV]  clf__n_neighbors=100, clf__p=1, clf__weights=uniform, total=   0.8s\n",
      "[CV] clf__n_neighbors=100, clf__p=1, clf__weights=uniform ............\n"
     ]
    },
    {
     "name": "stderr",
     "output_type": "stream",
     "text": [
      "/anaconda3/lib/python3.7/site-packages/sklearn/metrics/classification.py:1143: UndefinedMetricWarning: F-score is ill-defined and being set to 0.0 in labels with no predicted samples.\n",
      "  'precision', 'predicted', average, warn_for)\n",
      "/anaconda3/lib/python3.7/site-packages/sklearn/metrics/classification.py:1143: UndefinedMetricWarning: F-score is ill-defined and being set to 0.0 in labels with no predicted samples.\n",
      "  'precision', 'predicted', average, warn_for)\n"
     ]
    },
    {
     "name": "stdout",
     "output_type": "stream",
     "text": [
      "[CV]  clf__n_neighbors=100, clf__p=1, clf__weights=uniform, total=   0.8s\n",
      "[CV] clf__n_neighbors=100, clf__p=1, clf__weights=uniform ............\n"
     ]
    },
    {
     "name": "stderr",
     "output_type": "stream",
     "text": [
      "/anaconda3/lib/python3.7/site-packages/sklearn/metrics/classification.py:1143: UndefinedMetricWarning: F-score is ill-defined and being set to 0.0 in labels with no predicted samples.\n",
      "  'precision', 'predicted', average, warn_for)\n",
      "/anaconda3/lib/python3.7/site-packages/sklearn/metrics/classification.py:1143: UndefinedMetricWarning: F-score is ill-defined and being set to 0.0 in labels with no predicted samples.\n",
      "  'precision', 'predicted', average, warn_for)\n"
     ]
    },
    {
     "name": "stdout",
     "output_type": "stream",
     "text": [
      "[CV]  clf__n_neighbors=100, clf__p=1, clf__weights=uniform, total=   0.7s\n",
      "[CV] clf__n_neighbors=100, clf__p=1, clf__weights=distance ...........\n",
      "[CV]  clf__n_neighbors=100, clf__p=1, clf__weights=distance, total=   0.7s\n",
      "[CV] clf__n_neighbors=100, clf__p=1, clf__weights=distance ...........\n",
      "[CV]  clf__n_neighbors=100, clf__p=1, clf__weights=distance, total=   0.7s\n",
      "[CV] clf__n_neighbors=100, clf__p=1, clf__weights=distance ...........\n",
      "[CV]  clf__n_neighbors=100, clf__p=1, clf__weights=distance, total=   0.7s\n",
      "[CV] clf__n_neighbors=100, clf__p=2, clf__weights=uniform ............\n"
     ]
    },
    {
     "name": "stderr",
     "output_type": "stream",
     "text": [
      "/anaconda3/lib/python3.7/site-packages/sklearn/metrics/classification.py:1143: UndefinedMetricWarning: F-score is ill-defined and being set to 0.0 in labels with no predicted samples.\n",
      "  'precision', 'predicted', average, warn_for)\n",
      "/anaconda3/lib/python3.7/site-packages/sklearn/metrics/classification.py:1143: UndefinedMetricWarning: F-score is ill-defined and being set to 0.0 in labels with no predicted samples.\n",
      "  'precision', 'predicted', average, warn_for)\n"
     ]
    },
    {
     "name": "stdout",
     "output_type": "stream",
     "text": [
      "[CV]  clf__n_neighbors=100, clf__p=2, clf__weights=uniform, total=   0.8s\n",
      "[CV] clf__n_neighbors=100, clf__p=2, clf__weights=uniform ............\n"
     ]
    },
    {
     "name": "stderr",
     "output_type": "stream",
     "text": [
      "/anaconda3/lib/python3.7/site-packages/sklearn/metrics/classification.py:1143: UndefinedMetricWarning: F-score is ill-defined and being set to 0.0 in labels with no predicted samples.\n",
      "  'precision', 'predicted', average, warn_for)\n",
      "/anaconda3/lib/python3.7/site-packages/sklearn/metrics/classification.py:1143: UndefinedMetricWarning: F-score is ill-defined and being set to 0.0 in labels with no predicted samples.\n",
      "  'precision', 'predicted', average, warn_for)\n"
     ]
    },
    {
     "name": "stdout",
     "output_type": "stream",
     "text": [
      "[CV]  clf__n_neighbors=100, clf__p=2, clf__weights=uniform, total=   0.7s\n",
      "[CV] clf__n_neighbors=100, clf__p=2, clf__weights=uniform ............\n"
     ]
    },
    {
     "name": "stderr",
     "output_type": "stream",
     "text": [
      "/anaconda3/lib/python3.7/site-packages/sklearn/metrics/classification.py:1143: UndefinedMetricWarning: F-score is ill-defined and being set to 0.0 in labels with no predicted samples.\n",
      "  'precision', 'predicted', average, warn_for)\n",
      "/anaconda3/lib/python3.7/site-packages/sklearn/metrics/classification.py:1143: UndefinedMetricWarning: F-score is ill-defined and being set to 0.0 in labels with no predicted samples.\n",
      "  'precision', 'predicted', average, warn_for)\n"
     ]
    },
    {
     "name": "stdout",
     "output_type": "stream",
     "text": [
      "[CV]  clf__n_neighbors=100, clf__p=2, clf__weights=uniform, total=   0.7s\n",
      "[CV] clf__n_neighbors=100, clf__p=2, clf__weights=distance ...........\n",
      "[CV]  clf__n_neighbors=100, clf__p=2, clf__weights=distance, total=   0.7s\n",
      "[CV] clf__n_neighbors=100, clf__p=2, clf__weights=distance ...........\n",
      "[CV]  clf__n_neighbors=100, clf__p=2, clf__weights=distance, total=   0.8s\n",
      "[CV] clf__n_neighbors=100, clf__p=2, clf__weights=distance ...........\n",
      "[CV]  clf__n_neighbors=100, clf__p=2, clf__weights=distance, total=   0.8s\n",
      "[CV] clf__n_neighbors=200, clf__p=1, clf__weights=uniform ............\n"
     ]
    },
    {
     "name": "stderr",
     "output_type": "stream",
     "text": [
      "/anaconda3/lib/python3.7/site-packages/sklearn/metrics/classification.py:1143: UndefinedMetricWarning: F-score is ill-defined and being set to 0.0 in labels with no predicted samples.\n",
      "  'precision', 'predicted', average, warn_for)\n",
      "/anaconda3/lib/python3.7/site-packages/sklearn/metrics/classification.py:1143: UndefinedMetricWarning: F-score is ill-defined and being set to 0.0 in labels with no predicted samples.\n",
      "  'precision', 'predicted', average, warn_for)\n"
     ]
    },
    {
     "name": "stdout",
     "output_type": "stream",
     "text": [
      "[CV]  clf__n_neighbors=200, clf__p=1, clf__weights=uniform, total=   0.9s\n",
      "[CV] clf__n_neighbors=200, clf__p=1, clf__weights=uniform ............\n"
     ]
    },
    {
     "name": "stderr",
     "output_type": "stream",
     "text": [
      "/anaconda3/lib/python3.7/site-packages/sklearn/metrics/classification.py:1143: UndefinedMetricWarning: F-score is ill-defined and being set to 0.0 in labels with no predicted samples.\n",
      "  'precision', 'predicted', average, warn_for)\n",
      "/anaconda3/lib/python3.7/site-packages/sklearn/metrics/classification.py:1143: UndefinedMetricWarning: F-score is ill-defined and being set to 0.0 in labels with no predicted samples.\n",
      "  'precision', 'predicted', average, warn_for)\n"
     ]
    },
    {
     "name": "stdout",
     "output_type": "stream",
     "text": [
      "[CV]  clf__n_neighbors=200, clf__p=1, clf__weights=uniform, total=   1.0s\n",
      "[CV] clf__n_neighbors=200, clf__p=1, clf__weights=uniform ............\n"
     ]
    },
    {
     "name": "stderr",
     "output_type": "stream",
     "text": [
      "/anaconda3/lib/python3.7/site-packages/sklearn/metrics/classification.py:1143: UndefinedMetricWarning: F-score is ill-defined and being set to 0.0 in labels with no predicted samples.\n",
      "  'precision', 'predicted', average, warn_for)\n",
      "/anaconda3/lib/python3.7/site-packages/sklearn/metrics/classification.py:1143: UndefinedMetricWarning: F-score is ill-defined and being set to 0.0 in labels with no predicted samples.\n",
      "  'precision', 'predicted', average, warn_for)\n"
     ]
    },
    {
     "name": "stdout",
     "output_type": "stream",
     "text": [
      "[CV]  clf__n_neighbors=200, clf__p=1, clf__weights=uniform, total=   1.0s\n",
      "[CV] clf__n_neighbors=200, clf__p=1, clf__weights=distance ...........\n",
      "[CV]  clf__n_neighbors=200, clf__p=1, clf__weights=distance, total=   1.1s\n",
      "[CV] clf__n_neighbors=200, clf__p=1, clf__weights=distance ...........\n",
      "[CV]  clf__n_neighbors=200, clf__p=1, clf__weights=distance, total=   1.0s\n",
      "[CV] clf__n_neighbors=200, clf__p=1, clf__weights=distance ...........\n",
      "[CV]  clf__n_neighbors=200, clf__p=1, clf__weights=distance, total=   0.9s\n",
      "[CV] clf__n_neighbors=200, clf__p=2, clf__weights=uniform ............\n"
     ]
    },
    {
     "name": "stderr",
     "output_type": "stream",
     "text": [
      "/anaconda3/lib/python3.7/site-packages/sklearn/metrics/classification.py:1143: UndefinedMetricWarning: F-score is ill-defined and being set to 0.0 in labels with no predicted samples.\n",
      "  'precision', 'predicted', average, warn_for)\n",
      "/anaconda3/lib/python3.7/site-packages/sklearn/metrics/classification.py:1143: UndefinedMetricWarning: F-score is ill-defined and being set to 0.0 in labels with no predicted samples.\n",
      "  'precision', 'predicted', average, warn_for)\n"
     ]
    },
    {
     "name": "stdout",
     "output_type": "stream",
     "text": [
      "[CV]  clf__n_neighbors=200, clf__p=2, clf__weights=uniform, total=   0.9s\n",
      "[CV] clf__n_neighbors=200, clf__p=2, clf__weights=uniform ............\n"
     ]
    },
    {
     "name": "stderr",
     "output_type": "stream",
     "text": [
      "/anaconda3/lib/python3.7/site-packages/sklearn/metrics/classification.py:1143: UndefinedMetricWarning: F-score is ill-defined and being set to 0.0 in labels with no predicted samples.\n",
      "  'precision', 'predicted', average, warn_for)\n",
      "/anaconda3/lib/python3.7/site-packages/sklearn/metrics/classification.py:1143: UndefinedMetricWarning: F-score is ill-defined and being set to 0.0 in labels with no predicted samples.\n",
      "  'precision', 'predicted', average, warn_for)\n"
     ]
    },
    {
     "name": "stdout",
     "output_type": "stream",
     "text": [
      "[CV]  clf__n_neighbors=200, clf__p=2, clf__weights=uniform, total=   0.9s\n",
      "[CV] clf__n_neighbors=200, clf__p=2, clf__weights=uniform ............\n"
     ]
    },
    {
     "name": "stderr",
     "output_type": "stream",
     "text": [
      "/anaconda3/lib/python3.7/site-packages/sklearn/metrics/classification.py:1143: UndefinedMetricWarning: F-score is ill-defined and being set to 0.0 in labels with no predicted samples.\n",
      "  'precision', 'predicted', average, warn_for)\n",
      "/anaconda3/lib/python3.7/site-packages/sklearn/metrics/classification.py:1143: UndefinedMetricWarning: F-score is ill-defined and being set to 0.0 in labels with no predicted samples.\n",
      "  'precision', 'predicted', average, warn_for)\n"
     ]
    },
    {
     "name": "stdout",
     "output_type": "stream",
     "text": [
      "[CV]  clf__n_neighbors=200, clf__p=2, clf__weights=uniform, total=   0.9s\n",
      "[CV] clf__n_neighbors=200, clf__p=2, clf__weights=distance ...........\n",
      "[CV]  clf__n_neighbors=200, clf__p=2, clf__weights=distance, total=   0.8s\n",
      "[CV] clf__n_neighbors=200, clf__p=2, clf__weights=distance ...........\n",
      "[CV]  clf__n_neighbors=200, clf__p=2, clf__weights=distance, total=   0.8s\n",
      "[CV] clf__n_neighbors=200, clf__p=2, clf__weights=distance ...........\n",
      "[CV]  clf__n_neighbors=200, clf__p=2, clf__weights=distance, total=   0.8s\n",
      "NaiveBayes - - - - - - - - - - - - - - - - - - - - - - - - - - - - - -\n",
      "Fitting 3 folds for each of 75 candidates, totalling 225 fits\n",
      "[CV] clf__var_smoothing=3.919183201535428e-55 ........................\n",
      "[CV] ......... clf__var_smoothing=3.919183201535428e-55, total=   0.0s\n",
      "[CV] clf__var_smoothing=3.919183201535428e-55 ........................\n",
      "[CV] ......... clf__var_smoothing=3.919183201535428e-55, total=   0.0s\n",
      "[CV] clf__var_smoothing=3.919183201535428e-55 ........................\n",
      "[CV] ......... clf__var_smoothing=3.919183201535428e-55, total=   0.0s\n",
      "[CV] clf__var_smoothing=4.8009994218808985e-54 .......................\n",
      "[CV] ........ clf__var_smoothing=4.8009994218808985e-54, total=   0.0s\n",
      "[CV] clf__var_smoothing=4.8009994218808985e-54 .......................\n",
      "[CV] ........ clf__var_smoothing=4.8009994218808985e-54, total=   0.0s\n",
      "[CV] clf__var_smoothing=4.8009994218808985e-54 .......................\n",
      "[CV] ........ clf__var_smoothing=4.8009994218808985e-54, total=   0.0s\n",
      "[CV] clf__var_smoothing=5.881224291804101e-53 ........................\n",
      "[CV] ......... clf__var_smoothing=5.881224291804101e-53, total=   0.0s\n",
      "[CV] clf__var_smoothing=5.881224291804101e-53 ........................\n",
      "[CV] ......... clf__var_smoothing=5.881224291804101e-53, total=   0.0s\n",
      "[CV] clf__var_smoothing=5.881224291804101e-53 ........................\n",
      "[CV] ......... clf__var_smoothing=5.881224291804101e-53, total=   0.0s\n",
      "[CV] clf__var_smoothing=7.204499757460024e-52 ........................\n",
      "[CV] ......... clf__var_smoothing=7.204499757460024e-52, total=   0.0s\n",
      "[CV] clf__var_smoothing=7.204499757460024e-52 ........................\n",
      "[CV] ......... clf__var_smoothing=7.204499757460024e-52, total=   0.0s\n",
      "[CV] clf__var_smoothing=7.204499757460024e-52 ........................\n"
     ]
    },
    {
     "name": "stderr",
     "output_type": "stream",
     "text": [
      "[Parallel(n_jobs=1)]: Done  60 out of  60 | elapsed:  1.8min finished\n",
      "[Parallel(n_jobs=1)]: Using backend SequentialBackend with 1 concurrent workers.\n",
      "[Parallel(n_jobs=1)]: Done   1 out of   1 | elapsed:    0.0s remaining:    0.0s\n"
     ]
    },
    {
     "name": "stdout",
     "output_type": "stream",
     "text": [
      "[CV] ......... clf__var_smoothing=7.204499757460024e-52, total=   0.0s\n",
      "[CV] clf__var_smoothing=8.825512202888529e-51 ........................\n",
      "[CV] ......... clf__var_smoothing=8.825512202888529e-51, total=   0.0s\n",
      "[CV] clf__var_smoothing=8.825512202888529e-51 ........................\n",
      "[CV] ......... clf__var_smoothing=8.825512202888529e-51, total=   0.0s\n",
      "[CV] clf__var_smoothing=8.825512202888529e-51 ........................\n",
      "[CV] ......... clf__var_smoothing=8.825512202888529e-51, total=   0.0s\n",
      "[CV] clf__var_smoothing=1.0811252448538447e-49 .......................\n",
      "[CV] ........ clf__var_smoothing=1.0811252448538447e-49, total=   0.0s\n",
      "[CV] clf__var_smoothing=1.0811252448538447e-49 .......................\n",
      "[CV] ........ clf__var_smoothing=1.0811252448538447e-49, total=   0.0s\n",
      "[CV] clf__var_smoothing=1.0811252448538447e-49 .......................\n",
      "[CV] ........ clf__var_smoothing=1.0811252448538447e-49, total=   0.0s\n",
      "[CV] clf__var_smoothing=1.3243784249459598e-48 .......................\n",
      "[CV] ........ clf__var_smoothing=1.3243784249459598e-48, total=   0.0s\n",
      "[CV] clf__var_smoothing=1.3243784249459598e-48 .......................\n",
      "[CV] ........ clf__var_smoothing=1.3243784249459598e-48, total=   0.0s\n",
      "[CV] clf__var_smoothing=1.3243784249459598e-48 .......................\n",
      "[CV] ........ clf__var_smoothing=1.3243784249459598e-48, total=   0.0s\n",
      "[CV] clf__var_smoothing=1.6223635705588008e-47 .......................\n",
      "[CV] ........ clf__var_smoothing=1.6223635705588008e-47, total=   0.0s\n",
      "[CV] clf__var_smoothing=1.6223635705588008e-47 .......................\n",
      "[CV] ........ clf__var_smoothing=1.6223635705588008e-47, total=   0.0s\n",
      "[CV] clf__var_smoothing=1.6223635705588008e-47 .......................\n",
      "[CV] ........ clf__var_smoothing=1.6223635705588008e-47, total=   0.0s\n",
      "[CV] clf__var_smoothing=1.987395373934531e-46 ........................\n",
      "[CV] ......... clf__var_smoothing=1.987395373934531e-46, total=   0.0s\n",
      "[CV] clf__var_smoothing=1.987395373934531e-46 ........................\n",
      "[CV] ......... clf__var_smoothing=1.987395373934531e-46, total=   0.0s\n",
      "[CV] clf__var_smoothing=1.987395373934531e-46 ........................\n",
      "[CV] ......... clf__var_smoothing=1.987395373934531e-46, total=   0.0s\n",
      "[CV] clf__var_smoothing=2.4345593330698005e-45 .......................\n",
      "[CV] ........ clf__var_smoothing=2.4345593330698005e-45, total=   0.0s\n",
      "[CV] clf__var_smoothing=2.4345593330698005e-45 .......................\n",
      "[CV] ........ clf__var_smoothing=2.4345593330698005e-45, total=   0.0s\n",
      "[CV] clf__var_smoothing=2.4345593330698005e-45 .......................\n",
      "[CV] ........ clf__var_smoothing=2.4345593330698005e-45, total=   0.0s\n",
      "[CV] clf__var_smoothing=2.982335183010506e-44 ........................\n",
      "[CV] ......... clf__var_smoothing=2.982335183010506e-44, total=   0.0s\n",
      "[CV] clf__var_smoothing=2.982335183010506e-44 ........................\n",
      "[CV] ......... clf__var_smoothing=2.982335183010506e-44, total=   0.0s\n",
      "[CV] clf__var_smoothing=2.982335183010506e-44 ........................\n",
      "[CV] ......... clf__var_smoothing=2.982335183010506e-44, total=   0.0s\n",
      "[CV] clf__var_smoothing=3.6533605991878696e-43 .......................\n",
      "[CV] ........ clf__var_smoothing=3.6533605991878696e-43, total=   0.0s\n",
      "[CV] clf__var_smoothing=3.6533605991878696e-43 .......................\n",
      "[CV] ........ clf__var_smoothing=3.6533605991878696e-43, total=   0.0s\n",
      "[CV] clf__var_smoothing=3.6533605991878696e-43 .......................\n",
      "[CV] ........ clf__var_smoothing=3.6533605991878696e-43, total=   0.0s\n",
      "[CV] clf__var_smoothing=4.47536673400514e-42 .........................\n",
      "[CV] .......... clf__var_smoothing=4.47536673400514e-42, total=   0.0s\n",
      "[CV] clf__var_smoothing=4.47536673400514e-42 .........................\n",
      "[CV] .......... clf__var_smoothing=4.47536673400514e-42, total=   0.0s\n",
      "[CV] clf__var_smoothing=4.47536673400514e-42 .........................\n",
      "[CV] .......... clf__var_smoothing=4.47536673400514e-42, total=   0.0s\n",
      "[CV] clf__var_smoothing=5.482324249156296e-41 ........................\n",
      "[CV] ......... clf__var_smoothing=5.482324249156296e-41, total=   0.0s\n",
      "[CV] clf__var_smoothing=5.482324249156296e-41 ........................\n",
      "[CV] ......... clf__var_smoothing=5.482324249156296e-41, total=   0.0s\n",
      "[CV] clf__var_smoothing=5.482324249156296e-41 ........................\n",
      "[CV] ......... clf__var_smoothing=5.482324249156296e-41, total=   0.0s\n",
      "[CV] clf__var_smoothing=6.715847205216464e-40 ........................\n",
      "[CV] ......... clf__var_smoothing=6.715847205216464e-40, total=   0.0s\n",
      "[CV] clf__var_smoothing=6.715847205216464e-40 ........................\n",
      "[CV] ......... clf__var_smoothing=6.715847205216464e-40, total=   0.0s\n",
      "[CV] clf__var_smoothing=6.715847205216464e-40 ........................\n",
      "[CV] ......... clf__var_smoothing=6.715847205216464e-40, total=   0.0s\n",
      "[CV] clf__var_smoothing=8.226912826390167e-39 ........................\n",
      "[CV] ......... clf__var_smoothing=8.226912826390167e-39, total=   0.0s\n",
      "[CV] clf__var_smoothing=8.226912826390167e-39 ........................\n",
      "[CV] ......... clf__var_smoothing=8.226912826390167e-39, total=   0.0s\n",
      "[CV] clf__var_smoothing=8.226912826390167e-39 ........................\n",
      "[CV] ......... clf__var_smoothing=8.226912826390167e-39, total=   0.0s\n",
      "[CV] clf__var_smoothing=1.0077968212327955e-37 .......................\n",
      "[CV] ........ clf__var_smoothing=1.0077968212327955e-37, total=   0.0s\n",
      "[CV] clf__var_smoothing=1.0077968212327955e-37 .......................\n",
      "[CV] ........ clf__var_smoothing=1.0077968212327955e-37, total=   0.0s\n",
      "[CV] clf__var_smoothing=1.0077968212327955e-37 .......................\n",
      "[CV] ........ clf__var_smoothing=1.0077968212327955e-37, total=   0.0s\n",
      "[CV] clf__var_smoothing=1.2345511060101745e-36 .......................\n",
      "[CV] ........ clf__var_smoothing=1.2345511060101745e-36, total=   0.0s\n",
      "[CV] clf__var_smoothing=1.2345511060101745e-36 .......................\n",
      "[CV] ........ clf__var_smoothing=1.2345511060101745e-36, total=   0.0s\n",
      "[CV] clf__var_smoothing=1.2345511060101745e-36 .......................\n",
      "[CV] ........ clf__var_smoothing=1.2345511060101745e-36, total=   0.0s\n",
      "[CV] clf__var_smoothing=1.5123251048624638e-35 .......................\n",
      "[CV] ........ clf__var_smoothing=1.5123251048624638e-35, total=   0.0s\n",
      "[CV] clf__var_smoothing=1.5123251048624638e-35 .......................\n",
      "[CV] ........ clf__var_smoothing=1.5123251048624638e-35, total=   0.0s\n",
      "[CV] clf__var_smoothing=1.5123251048624638e-35 .......................\n",
      "[CV] ........ clf__var_smoothing=1.5123251048624638e-35, total=   0.0s\n",
      "[CV] clf__var_smoothing=1.852598253456518e-34 ........................\n",
      "[CV] ......... clf__var_smoothing=1.852598253456518e-34, total=   0.0s\n",
      "[CV] clf__var_smoothing=1.852598253456518e-34 ........................\n",
      "[CV] ......... clf__var_smoothing=1.852598253456518e-34, total=   0.0s\n",
      "[CV] clf__var_smoothing=1.852598253456518e-34 ........................\n",
      "[CV] ......... clf__var_smoothing=1.852598253456518e-34, total=   0.0s\n",
      "[CV] clf__var_smoothing=2.2694328604842346e-33 .......................\n",
      "[CV] ........ clf__var_smoothing=2.2694328604842346e-33, total=   0.0s\n",
      "[CV] clf__var_smoothing=2.2694328604842346e-33 .......................\n",
      "[CV] ........ clf__var_smoothing=2.2694328604842346e-33, total=   0.0s\n",
      "[CV] clf__var_smoothing=2.2694328604842346e-33 .......................\n",
      "[CV] ........ clf__var_smoothing=2.2694328604842346e-33, total=   0.0s\n",
      "[CV] clf__var_smoothing=2.7800552540931874e-32 .......................\n",
      "[CV] ........ clf__var_smoothing=2.7800552540931874e-32, total=   0.0s\n",
      "[CV] clf__var_smoothing=2.7800552540931874e-32 .......................\n",
      "[CV] ........ clf__var_smoothing=2.7800552540931874e-32, total=   0.0s\n",
      "[CV] clf__var_smoothing=2.7800552540931874e-32 .......................\n",
      "[CV] ........ clf__var_smoothing=2.7800552540931874e-32, total=   0.0s\n",
      "[CV] clf__var_smoothing=3.4055676862641545e-31 .......................\n",
      "[CV] ........ clf__var_smoothing=3.4055676862641545e-31, total=   0.0s\n",
      "[CV] clf__var_smoothing=3.4055676862641545e-31 .......................\n",
      "[CV] ........ clf__var_smoothing=3.4055676862641545e-31, total=   0.0s\n",
      "[CV] clf__var_smoothing=3.4055676862641545e-31 .......................\n",
      "[CV] ........ clf__var_smoothing=3.4055676862641545e-31, total=   0.0s\n",
      "[CV] clf__var_smoothing=4.1718204156735894e-30 .......................\n",
      "[CV] ........ clf__var_smoothing=4.1718204156735894e-30, total=   0.0s\n",
      "[CV] clf__var_smoothing=4.1718204156735894e-30 .......................\n",
      "[CV] ........ clf__var_smoothing=4.1718204156735894e-30, total=   0.0s\n",
      "[CV] clf__var_smoothing=4.1718204156735894e-30 .......................\n"
     ]
    },
    {
     "name": "stdout",
     "output_type": "stream",
     "text": [
      "[CV] ........ clf__var_smoothing=4.1718204156735894e-30, total=   0.0s\n",
      "[CV] clf__var_smoothing=5.110480009200148e-29 ........................\n",
      "[CV] ......... clf__var_smoothing=5.110480009200148e-29, total=   0.0s\n",
      "[CV] clf__var_smoothing=5.110480009200148e-29 ........................\n",
      "[CV] ......... clf__var_smoothing=5.110480009200148e-29, total=   0.0s\n",
      "[CV] clf__var_smoothing=5.110480009200148e-29 ........................\n",
      "[CV] ......... clf__var_smoothing=5.110480009200148e-29, total=   0.0s\n",
      "[CV] clf__var_smoothing=6.26033801127018e-28 .........................\n",
      "[CV] .......... clf__var_smoothing=6.26033801127018e-28, total=   0.0s\n",
      "[CV] clf__var_smoothing=6.26033801127018e-28 .........................\n",
      "[CV] .......... clf__var_smoothing=6.26033801127018e-28, total=   0.0s\n",
      "[CV] clf__var_smoothing=6.26033801127018e-28 .........................\n",
      "[CV] .......... clf__var_smoothing=6.26033801127018e-28, total=   0.0s\n",
      "[CV] clf__var_smoothing=7.66891406380597e-27 .........................\n",
      "[CV] .......... clf__var_smoothing=7.66891406380597e-27, total=   0.0s\n",
      "[CV] clf__var_smoothing=7.66891406380597e-27 .........................\n",
      "[CV] .......... clf__var_smoothing=7.66891406380597e-27, total=   0.0s\n",
      "[CV] clf__var_smoothing=7.66891406380597e-27 .........................\n",
      "[CV] .......... clf__var_smoothing=7.66891406380597e-27, total=   0.0s\n",
      "[CV] clf__var_smoothing=9.394419728162314e-26 ........................\n",
      "[CV] ......... clf__var_smoothing=9.394419728162314e-26, total=   0.0s\n",
      "[CV] clf__var_smoothing=9.394419728162314e-26 ........................\n",
      "[CV] ......... clf__var_smoothing=9.394419728162314e-26, total=   0.0s\n",
      "[CV] clf__var_smoothing=9.394419728162314e-26 ........................\n",
      "[CV] ......... clf__var_smoothing=9.394419728162314e-26, total=   0.0s\n",
      "[CV] clf__var_smoothing=1.1508164166998835e-24 .......................\n",
      "[CV] ........ clf__var_smoothing=1.1508164166998835e-24, total=   0.0s\n",
      "[CV] clf__var_smoothing=1.1508164166998835e-24 .......................\n",
      "[CV] ........ clf__var_smoothing=1.1508164166998835e-24, total=   0.0s\n",
      "[CV] clf__var_smoothing=1.1508164166998835e-24 .......................\n",
      "[CV] ........ clf__var_smoothing=1.1508164166998835e-24, total=   0.0s\n",
      "[CV] clf__var_smoothing=1.4097501104573573e-23 .......................\n",
      "[CV] ........ clf__var_smoothing=1.4097501104573573e-23, total=   0.0s\n",
      "[CV] clf__var_smoothing=1.4097501104573573e-23 .......................\n",
      "[CV] ........ clf__var_smoothing=1.4097501104573573e-23, total=   0.0s\n",
      "[CV] clf__var_smoothing=1.4097501104573573e-23 .......................\n",
      "[CV] ........ clf__var_smoothing=1.4097501104573573e-23, total=   0.0s\n",
      "[CV] clf__var_smoothing=1.7269438853102626e-22 .......................\n",
      "[CV] ........ clf__var_smoothing=1.7269438853102626e-22, total=   0.0s\n",
      "[CV] clf__var_smoothing=1.7269438853102626e-22 .......................\n",
      "[CV] ........ clf__var_smoothing=1.7269438853102626e-22, total=   0.0s\n",
      "[CV] clf__var_smoothing=1.7269438853102626e-22 .......................\n",
      "[CV] ........ clf__var_smoothing=1.7269438853102626e-22, total=   0.0s\n",
      "[CV] clf__var_smoothing=2.1155062595050716e-21 .......................\n",
      "[CV] ........ clf__var_smoothing=2.1155062595050716e-21, total=   0.0s\n",
      "[CV] clf__var_smoothing=2.1155062595050716e-21 .......................\n",
      "[CV] ........ clf__var_smoothing=2.1155062595050716e-21, total=   0.0s\n",
      "[CV] clf__var_smoothing=2.1155062595050716e-21 .......................\n",
      "[CV] ........ clf__var_smoothing=2.1155062595050716e-21, total=   0.0s\n",
      "[CV] clf__var_smoothing=2.591495167893713e-20 ........................\n",
      "[CV] ......... clf__var_smoothing=2.591495167893713e-20, total=   0.0s\n",
      "[CV] clf__var_smoothing=2.591495167893713e-20 ........................\n",
      "[CV] ......... clf__var_smoothing=2.591495167893713e-20, total=   0.0s\n",
      "[CV] clf__var_smoothing=2.591495167893713e-20 ........................\n",
      "[CV] ......... clf__var_smoothing=2.591495167893713e-20, total=   0.0s\n",
      "[CV] clf__var_smoothing=3.174581580669798e-19 ........................\n",
      "[CV] ......... clf__var_smoothing=3.174581580669798e-19, total=   0.0s\n",
      "[CV] clf__var_smoothing=3.174581580669798e-19 ........................\n",
      "[CV] ......... clf__var_smoothing=3.174581580669798e-19, total=   0.0s\n",
      "[CV] clf__var_smoothing=3.174581580669798e-19 ........................\n",
      "[CV] ......... clf__var_smoothing=3.174581580669798e-19, total=   0.0s\n",
      "[CV] clf__var_smoothing=3.888862436320503e-18 ........................\n",
      "[CV] ......... clf__var_smoothing=3.888862436320503e-18, total=   0.0s\n",
      "[CV] clf__var_smoothing=3.888862436320503e-18 ........................\n",
      "[CV] ......... clf__var_smoothing=3.888862436320503e-18, total=   0.0s\n",
      "[CV] clf__var_smoothing=3.888862436320503e-18 ........................\n",
      "[CV] ......... clf__var_smoothing=3.888862436320503e-18, total=   0.0s\n",
      "[CV] clf__var_smoothing=4.763856484492616e-17 ........................\n",
      "[CV] ......... clf__var_smoothing=4.763856484492616e-17, total=   0.0s\n",
      "[CV] clf__var_smoothing=4.763856484492616e-17 ........................\n",
      "[CV] ......... clf__var_smoothing=4.763856484492616e-17, total=   0.0s\n",
      "[CV] clf__var_smoothing=4.763856484492616e-17 ........................\n",
      "[CV] ......... clf__var_smoothing=4.763856484492616e-17, total=   0.0s\n",
      "[CV] clf__var_smoothing=5.835724193503454e-16 ........................\n",
      "[CV] ......... clf__var_smoothing=5.835724193503454e-16, total=   0.0s\n",
      "[CV] clf__var_smoothing=5.835724193503454e-16 ........................\n",
      "[CV] ......... clf__var_smoothing=5.835724193503454e-16, total=   0.0s\n",
      "[CV] clf__var_smoothing=5.835724193503454e-16 ........................\n",
      "[CV] ......... clf__var_smoothing=5.835724193503454e-16, total=   0.0s\n",
      "[CV] clf__var_smoothing=7.148762137041732e-15 ........................\n",
      "[CV] ......... clf__var_smoothing=7.148762137041732e-15, total=   0.0s\n",
      "[CV] clf__var_smoothing=7.148762137041732e-15 ........................\n",
      "[CV] ......... clf__var_smoothing=7.148762137041732e-15, total=   0.0s\n",
      "[CV] clf__var_smoothing=7.148762137041732e-15 ........................\n",
      "[CV] ......... clf__var_smoothing=7.148762137041732e-15, total=   0.0s\n",
      "[CV] clf__var_smoothing=8.757233617876122e-14 ........................\n",
      "[CV] ......... clf__var_smoothing=8.757233617876122e-14, total=   0.0s\n",
      "[CV] clf__var_smoothing=8.757233617876122e-14 ........................\n",
      "[CV] ......... clf__var_smoothing=8.757233617876122e-14, total=   0.0s\n",
      "[CV] clf__var_smoothing=8.757233617876122e-14 ........................\n",
      "[CV] ......... clf__var_smoothing=8.757233617876122e-14, total=   0.0s\n",
      "[CV] clf__var_smoothing=1.0727611181898249e-12 .......................\n",
      "[CV] ........ clf__var_smoothing=1.0727611181898249e-12, total=   0.0s\n",
      "[CV] clf__var_smoothing=1.0727611181898249e-12 .......................\n",
      "[CV] ........ clf__var_smoothing=1.0727611181898249e-12, total=   0.0s\n",
      "[CV] clf__var_smoothing=1.0727611181898249e-12 .......................\n",
      "[CV] ........ clf__var_smoothing=1.0727611181898249e-12, total=   0.0s\n",
      "[CV] clf__var_smoothing=1.3141323697825354e-11 .......................\n",
      "[CV] ........ clf__var_smoothing=1.3141323697825354e-11, total=   0.0s\n",
      "[CV] clf__var_smoothing=1.3141323697825354e-11 .......................\n",
      "[CV] ........ clf__var_smoothing=1.3141323697825354e-11, total=   0.0s\n",
      "[CV] clf__var_smoothing=1.3141323697825354e-11 .......................\n",
      "[CV] ........ clf__var_smoothing=1.3141323697825354e-11, total=   0.0s\n",
      "[CV] clf__var_smoothing=1.609812152983606e-10 ........................\n",
      "[CV] ......... clf__var_smoothing=1.609812152983606e-10, total=   0.0s\n",
      "[CV] clf__var_smoothing=1.609812152983606e-10 ........................\n",
      "[CV] ......... clf__var_smoothing=1.609812152983606e-10, total=   0.0s\n",
      "[CV] clf__var_smoothing=1.609812152983606e-10 ........................\n",
      "[CV] ......... clf__var_smoothing=1.609812152983606e-10, total=   0.0s\n",
      "[CV] clf__var_smoothing=1.9720198874049174e-09 .......................\n",
      "[CV] ........ clf__var_smoothing=1.9720198874049174e-09, total=   0.0s\n",
      "[CV] clf__var_smoothing=1.9720198874049174e-09 .......................\n",
      "[CV] ........ clf__var_smoothing=1.9720198874049174e-09, total=   0.0s\n",
      "[CV] clf__var_smoothing=1.9720198874049174e-09 .......................\n",
      "[CV] ........ clf__var_smoothing=1.9720198874049174e-09, total=   0.0s\n",
      "[CV] clf__var_smoothing=2.4157243620710238e-08 .......................\n"
     ]
    },
    {
     "name": "stdout",
     "output_type": "stream",
     "text": [
      "[CV] ........ clf__var_smoothing=2.4157243620710238e-08, total=   0.0s\n",
      "[CV] clf__var_smoothing=2.4157243620710238e-08 .......................\n",
      "[CV] ........ clf__var_smoothing=2.4157243620710238e-08, total=   0.0s\n",
      "[CV] clf__var_smoothing=2.4157243620710238e-08 .......................\n",
      "[CV] ........ clf__var_smoothing=2.4157243620710238e-08, total=   0.0s\n",
      "[CV] clf__var_smoothing=2.959262343537004e-07 ........................\n",
      "[CV] ......... clf__var_smoothing=2.959262343537004e-07, total=   0.0s\n",
      "[CV] clf__var_smoothing=2.959262343537004e-07 ........................\n",
      "[CV] ......... clf__var_smoothing=2.959262343537004e-07, total=   0.0s\n",
      "[CV] clf__var_smoothing=2.959262343537004e-07 ........................\n",
      "[CV] ......... clf__var_smoothing=2.959262343537004e-07, total=   0.0s\n",
      "[CV] clf__var_smoothing=3.62509637083283e-06 .........................\n",
      "[CV] .......... clf__var_smoothing=3.62509637083283e-06, total=   0.0s\n",
      "[CV] clf__var_smoothing=3.62509637083283e-06 .........................\n",
      "[CV] .......... clf__var_smoothing=3.62509637083283e-06, total=   0.0s\n",
      "[CV] clf__var_smoothing=3.62509637083283e-06 .........................\n",
      "[CV] .......... clf__var_smoothing=3.62509637083283e-06, total=   0.0s\n",
      "[CV] clf__var_smoothing=4.440743054270217e-05 ........................\n",
      "[CV] ......... clf__var_smoothing=4.440743054270217e-05, total=   0.0s\n",
      "[CV] clf__var_smoothing=4.440743054270217e-05 ........................\n",
      "[CV] ......... clf__var_smoothing=4.440743054270217e-05, total=   0.0s\n",
      "[CV] clf__var_smoothing=4.440743054270217e-05 ........................\n",
      "[CV] ......... clf__var_smoothing=4.440743054270217e-05, total=   0.0s\n",
      "[CV] clf__var_smoothing=0.0005439910241481016 ........................\n",
      "[CV] ......... clf__var_smoothing=0.0005439910241481016, total=   0.0s\n",
      "[CV] clf__var_smoothing=0.0005439910241481016 ........................\n",
      "[CV] ......... clf__var_smoothing=0.0005439910241481016, total=   0.0s\n",
      "[CV] clf__var_smoothing=0.0005439910241481016 ........................\n",
      "[CV] ......... clf__var_smoothing=0.0005439910241481016, total=   0.0s\n",
      "[CV] clf__var_smoothing=0.006663890045814244 .........................\n",
      "[CV] .......... clf__var_smoothing=0.006663890045814244, total=   0.0s\n",
      "[CV] clf__var_smoothing=0.006663890045814244 .........................\n",
      "[CV] .......... clf__var_smoothing=0.006663890045814244, total=   0.0s\n",
      "[CV] clf__var_smoothing=0.006663890045814244 .........................\n",
      "[CV] .......... clf__var_smoothing=0.006663890045814244, total=   0.0s\n",
      "[CV] clf__var_smoothing=0.08163265306122448 ..........................\n",
      "[CV] ........... clf__var_smoothing=0.08163265306122448, total=   0.0s\n",
      "[CV] clf__var_smoothing=0.08163265306122448 ..........................\n",
      "[CV] ........... clf__var_smoothing=0.08163265306122448, total=   0.0s\n",
      "[CV] clf__var_smoothing=0.08163265306122448 ..........................\n",
      "[CV] ........... clf__var_smoothing=0.08163265306122448, total=   0.0s\n",
      "[CV] clf__var_smoothing=1.0 ..........................................\n",
      "[CV] ........................... clf__var_smoothing=1.0, total=   0.0s\n",
      "[CV] clf__var_smoothing=1.0 ..........................................\n",
      "[CV] ........................... clf__var_smoothing=1.0, total=   0.0s\n",
      "[CV] clf__var_smoothing=1.0 ..........................................\n",
      "[CV] ........................... clf__var_smoothing=1.0, total=   0.0s\n",
      "[CV] clf__var_smoothing=12.25 ........................................\n",
      "[CV] ......................... clf__var_smoothing=12.25, total=   0.0s\n",
      "[CV] clf__var_smoothing=12.25 ........................................\n",
      "[CV] ......................... clf__var_smoothing=12.25, total=   0.0s\n",
      "[CV] clf__var_smoothing=12.25 ........................................\n",
      "[CV] ......................... clf__var_smoothing=12.25, total=   0.0s\n",
      "[CV] clf__var_smoothing=150.0625 .....................................\n",
      "[CV] ...................... clf__var_smoothing=150.0625, total=   0.0s\n",
      "[CV] clf__var_smoothing=150.0625 .....................................\n",
      "[CV] ...................... clf__var_smoothing=150.0625, total=   0.0s\n",
      "[CV] clf__var_smoothing=150.0625 .....................................\n"
     ]
    },
    {
     "name": "stderr",
     "output_type": "stream",
     "text": [
      "/anaconda3/lib/python3.7/site-packages/sklearn/metrics/classification.py:1143: UndefinedMetricWarning: F-score is ill-defined and being set to 0.0 in labels with no predicted samples.\n",
      "  'precision', 'predicted', average, warn_for)\n",
      "/anaconda3/lib/python3.7/site-packages/sklearn/metrics/classification.py:1143: UndefinedMetricWarning: F-score is ill-defined and being set to 0.0 in labels with no predicted samples.\n",
      "  'precision', 'predicted', average, warn_for)\n",
      "/anaconda3/lib/python3.7/site-packages/sklearn/metrics/classification.py:1143: UndefinedMetricWarning: F-score is ill-defined and being set to 0.0 in labels with no predicted samples.\n",
      "  'precision', 'predicted', average, warn_for)\n",
      "/anaconda3/lib/python3.7/site-packages/sklearn/metrics/classification.py:1143: UndefinedMetricWarning: F-score is ill-defined and being set to 0.0 in labels with no predicted samples.\n",
      "  'precision', 'predicted', average, warn_for)\n",
      "/anaconda3/lib/python3.7/site-packages/sklearn/metrics/classification.py:1143: UndefinedMetricWarning: F-score is ill-defined and being set to 0.0 in labels with no predicted samples.\n",
      "  'precision', 'predicted', average, warn_for)\n",
      "/anaconda3/lib/python3.7/site-packages/sklearn/metrics/classification.py:1143: UndefinedMetricWarning: F-score is ill-defined and being set to 0.0 in labels with no predicted samples.\n",
      "  'precision', 'predicted', average, warn_for)\n",
      "/anaconda3/lib/python3.7/site-packages/sklearn/metrics/classification.py:1143: UndefinedMetricWarning: F-score is ill-defined and being set to 0.0 in labels with no predicted samples.\n",
      "  'precision', 'predicted', average, warn_for)\n",
      "/anaconda3/lib/python3.7/site-packages/sklearn/metrics/classification.py:1143: UndefinedMetricWarning: F-score is ill-defined and being set to 0.0 in labels with no predicted samples.\n",
      "  'precision', 'predicted', average, warn_for)\n",
      "/anaconda3/lib/python3.7/site-packages/sklearn/metrics/classification.py:1143: UndefinedMetricWarning: F-score is ill-defined and being set to 0.0 in labels with no predicted samples.\n",
      "  'precision', 'predicted', average, warn_for)\n",
      "/anaconda3/lib/python3.7/site-packages/sklearn/metrics/classification.py:1143: UndefinedMetricWarning: F-score is ill-defined and being set to 0.0 in labels with no predicted samples.\n",
      "  'precision', 'predicted', average, warn_for)\n",
      "/anaconda3/lib/python3.7/site-packages/sklearn/metrics/classification.py:1143: UndefinedMetricWarning: F-score is ill-defined and being set to 0.0 in labels with no predicted samples.\n",
      "  'precision', 'predicted', average, warn_for)\n",
      "/anaconda3/lib/python3.7/site-packages/sklearn/metrics/classification.py:1143: UndefinedMetricWarning: F-score is ill-defined and being set to 0.0 in labels with no predicted samples.\n",
      "  'precision', 'predicted', average, warn_for)\n",
      "/anaconda3/lib/python3.7/site-packages/sklearn/metrics/classification.py:1143: UndefinedMetricWarning: F-score is ill-defined and being set to 0.0 in labels with no predicted samples.\n",
      "  'precision', 'predicted', average, warn_for)\n",
      "/anaconda3/lib/python3.7/site-packages/sklearn/metrics/classification.py:1143: UndefinedMetricWarning: F-score is ill-defined and being set to 0.0 in labels with no predicted samples.\n",
      "  'precision', 'predicted', average, warn_for)\n",
      "/anaconda3/lib/python3.7/site-packages/sklearn/metrics/classification.py:1143: UndefinedMetricWarning: F-score is ill-defined and being set to 0.0 in labels with no predicted samples.\n",
      "  'precision', 'predicted', average, warn_for)\n",
      "/anaconda3/lib/python3.7/site-packages/sklearn/metrics/classification.py:1143: UndefinedMetricWarning: F-score is ill-defined and being set to 0.0 in labels with no predicted samples.\n",
      "  'precision', 'predicted', average, warn_for)\n",
      "/anaconda3/lib/python3.7/site-packages/sklearn/metrics/classification.py:1143: UndefinedMetricWarning: F-score is ill-defined and being set to 0.0 in labels with no predicted samples.\n",
      "  'precision', 'predicted', average, warn_for)\n",
      "/anaconda3/lib/python3.7/site-packages/sklearn/metrics/classification.py:1143: UndefinedMetricWarning: F-score is ill-defined and being set to 0.0 in labels with no predicted samples.\n",
      "  'precision', 'predicted', average, warn_for)\n",
      "/anaconda3/lib/python3.7/site-packages/sklearn/metrics/classification.py:1143: UndefinedMetricWarning: F-score is ill-defined and being set to 0.0 in labels with no predicted samples.\n",
      "  'precision', 'predicted', average, warn_for)\n",
      "/anaconda3/lib/python3.7/site-packages/sklearn/metrics/classification.py:1143: UndefinedMetricWarning: F-score is ill-defined and being set to 0.0 in labels with no predicted samples.\n",
      "  'precision', 'predicted', average, warn_for)\n",
      "/anaconda3/lib/python3.7/site-packages/sklearn/metrics/classification.py:1143: UndefinedMetricWarning: F-score is ill-defined and being set to 0.0 in labels with no predicted samples.\n",
      "  'precision', 'predicted', average, warn_for)\n",
      "/anaconda3/lib/python3.7/site-packages/sklearn/metrics/classification.py:1143: UndefinedMetricWarning: F-score is ill-defined and being set to 0.0 in labels with no predicted samples.\n",
      "  'precision', 'predicted', average, warn_for)\n",
      "/anaconda3/lib/python3.7/site-packages/sklearn/metrics/classification.py:1143: UndefinedMetricWarning: F-score is ill-defined and being set to 0.0 in labels with no predicted samples.\n",
      "  'precision', 'predicted', average, warn_for)\n",
      "/anaconda3/lib/python3.7/site-packages/sklearn/metrics/classification.py:1143: UndefinedMetricWarning: F-score is ill-defined and being set to 0.0 in labels with no predicted samples.\n",
      "  'precision', 'predicted', average, warn_for)\n",
      "/anaconda3/lib/python3.7/site-packages/sklearn/metrics/classification.py:1143: UndefinedMetricWarning: F-score is ill-defined and being set to 0.0 in labels with no predicted samples.\n",
      "  'precision', 'predicted', average, warn_for)\n",
      "/anaconda3/lib/python3.7/site-packages/sklearn/metrics/classification.py:1143: UndefinedMetricWarning: F-score is ill-defined and being set to 0.0 in labels with no predicted samples.\n",
      "  'precision', 'predicted', average, warn_for)\n",
      "/anaconda3/lib/python3.7/site-packages/sklearn/metrics/classification.py:1143: UndefinedMetricWarning: F-score is ill-defined and being set to 0.0 in labels with no predicted samples.\n",
      "  'precision', 'predicted', average, warn_for)\n",
      "/anaconda3/lib/python3.7/site-packages/sklearn/metrics/classification.py:1143: UndefinedMetricWarning: F-score is ill-defined and being set to 0.0 in labels with no predicted samples.\n",
      "  'precision', 'predicted', average, warn_for)\n"
     ]
    },
    {
     "name": "stdout",
     "output_type": "stream",
     "text": [
      "[CV] ...................... clf__var_smoothing=150.0625, total=   0.0s\n",
      "[CV] clf__var_smoothing=1838.265625 ..................................\n",
      "[CV] ................... clf__var_smoothing=1838.265625, total=   0.0s\n",
      "[CV] clf__var_smoothing=1838.265625 ..................................\n",
      "[CV] ................... clf__var_smoothing=1838.265625, total=   0.0s\n",
      "[CV] clf__var_smoothing=1838.265625 ..................................\n",
      "[CV] ................... clf__var_smoothing=1838.265625, total=   0.0s\n",
      "[CV] clf__var_smoothing=22518.75390625 ...............................\n",
      "[CV] ................ clf__var_smoothing=22518.75390625, total=   0.0s\n",
      "[CV] clf__var_smoothing=22518.75390625 ...............................\n",
      "[CV] ................ clf__var_smoothing=22518.75390625, total=   0.0s\n",
      "[CV] clf__var_smoothing=22518.75390625 ...............................\n",
      "[CV] ................ clf__var_smoothing=22518.75390625, total=   0.0s\n",
      "[CV] clf__var_smoothing=275854.7353515625 ............................\n",
      "[CV] ............. clf__var_smoothing=275854.7353515625, total=   0.0s\n",
      "[CV] clf__var_smoothing=275854.7353515625 ............................\n",
      "[CV] ............. clf__var_smoothing=275854.7353515625, total=   0.0s\n",
      "[CV] clf__var_smoothing=275854.7353515625 ............................\n",
      "[CV] ............. clf__var_smoothing=275854.7353515625, total=   0.0s\n",
      "[CV] clf__var_smoothing=3379220.5080566406 ...........................\n",
      "[CV] ............ clf__var_smoothing=3379220.5080566406, total=   0.0s\n",
      "[CV] clf__var_smoothing=3379220.5080566406 ...........................\n",
      "[CV] ............ clf__var_smoothing=3379220.5080566406, total=   0.0s\n",
      "[CV] clf__var_smoothing=3379220.5080566406 ...........................\n",
      "[CV] ............ clf__var_smoothing=3379220.5080566406, total=   0.0s\n",
      "[CV] clf__var_smoothing=41395451.22369385 ............................\n",
      "[CV] ............. clf__var_smoothing=41395451.22369385, total=   0.0s\n",
      "[CV] clf__var_smoothing=41395451.22369385 ............................\n"
     ]
    },
    {
     "name": "stderr",
     "output_type": "stream",
     "text": [
      "/anaconda3/lib/python3.7/site-packages/sklearn/metrics/classification.py:1143: UndefinedMetricWarning: F-score is ill-defined and being set to 0.0 in labels with no predicted samples.\n",
      "  'precision', 'predicted', average, warn_for)\n",
      "/anaconda3/lib/python3.7/site-packages/sklearn/metrics/classification.py:1143: UndefinedMetricWarning: F-score is ill-defined and being set to 0.0 in labels with no predicted samples.\n",
      "  'precision', 'predicted', average, warn_for)\n",
      "/anaconda3/lib/python3.7/site-packages/sklearn/metrics/classification.py:1143: UndefinedMetricWarning: F-score is ill-defined and being set to 0.0 in labels with no predicted samples.\n",
      "  'precision', 'predicted', average, warn_for)\n",
      "/anaconda3/lib/python3.7/site-packages/sklearn/metrics/classification.py:1143: UndefinedMetricWarning: F-score is ill-defined and being set to 0.0 in labels with no predicted samples.\n",
      "  'precision', 'predicted', average, warn_for)\n",
      "/anaconda3/lib/python3.7/site-packages/sklearn/metrics/classification.py:1143: UndefinedMetricWarning: F-score is ill-defined and being set to 0.0 in labels with no predicted samples.\n",
      "  'precision', 'predicted', average, warn_for)\n",
      "/anaconda3/lib/python3.7/site-packages/sklearn/metrics/classification.py:1143: UndefinedMetricWarning: F-score is ill-defined and being set to 0.0 in labels with no predicted samples.\n",
      "  'precision', 'predicted', average, warn_for)\n",
      "/anaconda3/lib/python3.7/site-packages/sklearn/metrics/classification.py:1143: UndefinedMetricWarning: F-score is ill-defined and being set to 0.0 in labels with no predicted samples.\n",
      "  'precision', 'predicted', average, warn_for)\n",
      "/anaconda3/lib/python3.7/site-packages/sklearn/metrics/classification.py:1143: UndefinedMetricWarning: F-score is ill-defined and being set to 0.0 in labels with no predicted samples.\n",
      "  'precision', 'predicted', average, warn_for)\n",
      "/anaconda3/lib/python3.7/site-packages/sklearn/metrics/classification.py:1143: UndefinedMetricWarning: F-score is ill-defined and being set to 0.0 in labels with no predicted samples.\n",
      "  'precision', 'predicted', average, warn_for)\n",
      "/anaconda3/lib/python3.7/site-packages/sklearn/metrics/classification.py:1143: UndefinedMetricWarning: F-score is ill-defined and being set to 0.0 in labels with no predicted samples.\n",
      "  'precision', 'predicted', average, warn_for)\n",
      "/anaconda3/lib/python3.7/site-packages/sklearn/metrics/classification.py:1143: UndefinedMetricWarning: F-score is ill-defined and being set to 0.0 in labels with no predicted samples.\n",
      "  'precision', 'predicted', average, warn_for)\n",
      "/anaconda3/lib/python3.7/site-packages/sklearn/metrics/classification.py:1143: UndefinedMetricWarning: F-score is ill-defined and being set to 0.0 in labels with no predicted samples.\n",
      "  'precision', 'predicted', average, warn_for)\n",
      "/anaconda3/lib/python3.7/site-packages/sklearn/metrics/classification.py:1143: UndefinedMetricWarning: F-score is ill-defined and being set to 0.0 in labels with no predicted samples.\n",
      "  'precision', 'predicted', average, warn_for)\n",
      "/anaconda3/lib/python3.7/site-packages/sklearn/metrics/classification.py:1143: UndefinedMetricWarning: F-score is ill-defined and being set to 0.0 in labels with no predicted samples.\n",
      "  'precision', 'predicted', average, warn_for)\n",
      "/anaconda3/lib/python3.7/site-packages/sklearn/metrics/classification.py:1143: UndefinedMetricWarning: F-score is ill-defined and being set to 0.0 in labels with no predicted samples.\n",
      "  'precision', 'predicted', average, warn_for)\n",
      "/anaconda3/lib/python3.7/site-packages/sklearn/metrics/classification.py:1143: UndefinedMetricWarning: F-score is ill-defined and being set to 0.0 in labels with no predicted samples.\n",
      "  'precision', 'predicted', average, warn_for)\n",
      "/anaconda3/lib/python3.7/site-packages/sklearn/metrics/classification.py:1143: UndefinedMetricWarning: F-score is ill-defined and being set to 0.0 in labels with no predicted samples.\n",
      "  'precision', 'predicted', average, warn_for)\n",
      "/anaconda3/lib/python3.7/site-packages/sklearn/metrics/classification.py:1143: UndefinedMetricWarning: F-score is ill-defined and being set to 0.0 in labels with no predicted samples.\n",
      "  'precision', 'predicted', average, warn_for)\n",
      "/anaconda3/lib/python3.7/site-packages/sklearn/metrics/classification.py:1143: UndefinedMetricWarning: F-score is ill-defined and being set to 0.0 in labels with no predicted samples.\n",
      "  'precision', 'predicted', average, warn_for)\n",
      "/anaconda3/lib/python3.7/site-packages/sklearn/metrics/classification.py:1143: UndefinedMetricWarning: F-score is ill-defined and being set to 0.0 in labels with no predicted samples.\n",
      "  'precision', 'predicted', average, warn_for)\n",
      "/anaconda3/lib/python3.7/site-packages/sklearn/metrics/classification.py:1143: UndefinedMetricWarning: F-score is ill-defined and being set to 0.0 in labels with no predicted samples.\n",
      "  'precision', 'predicted', average, warn_for)\n",
      "/anaconda3/lib/python3.7/site-packages/sklearn/metrics/classification.py:1143: UndefinedMetricWarning: F-score is ill-defined and being set to 0.0 in labels with no predicted samples.\n",
      "  'precision', 'predicted', average, warn_for)\n",
      "/anaconda3/lib/python3.7/site-packages/sklearn/metrics/classification.py:1143: UndefinedMetricWarning: F-score is ill-defined and being set to 0.0 in labels with no predicted samples.\n",
      "  'precision', 'predicted', average, warn_for)\n",
      "/anaconda3/lib/python3.7/site-packages/sklearn/metrics/classification.py:1143: UndefinedMetricWarning: F-score is ill-defined and being set to 0.0 in labels with no predicted samples.\n",
      "  'precision', 'predicted', average, warn_for)\n",
      "/anaconda3/lib/python3.7/site-packages/sklearn/metrics/classification.py:1143: UndefinedMetricWarning: F-score is ill-defined and being set to 0.0 in labels with no predicted samples.\n",
      "  'precision', 'predicted', average, warn_for)\n",
      "/anaconda3/lib/python3.7/site-packages/sklearn/metrics/classification.py:1143: UndefinedMetricWarning: F-score is ill-defined and being set to 0.0 in labels with no predicted samples.\n",
      "  'precision', 'predicted', average, warn_for)\n",
      "/anaconda3/lib/python3.7/site-packages/sklearn/metrics/classification.py:1143: UndefinedMetricWarning: F-score is ill-defined and being set to 0.0 in labels with no predicted samples.\n",
      "  'precision', 'predicted', average, warn_for)\n",
      "/anaconda3/lib/python3.7/site-packages/sklearn/metrics/classification.py:1143: UndefinedMetricWarning: F-score is ill-defined and being set to 0.0 in labels with no predicted samples.\n",
      "  'precision', 'predicted', average, warn_for)\n"
     ]
    },
    {
     "name": "stdout",
     "output_type": "stream",
     "text": [
      "[CV] ............. clf__var_smoothing=41395451.22369385, total=   0.0s\n",
      "[CV] clf__var_smoothing=41395451.22369385 ............................\n",
      "[CV] ............. clf__var_smoothing=41395451.22369385, total=   0.0s\n",
      "[CV] clf__var_smoothing=507094277.49024963 ...........................\n",
      "[CV] ............ clf__var_smoothing=507094277.49024963, total=   0.0s\n",
      "[CV] clf__var_smoothing=507094277.49024963 ...........................\n",
      "[CV] ............ clf__var_smoothing=507094277.49024963, total=   0.0s\n",
      "[CV] clf__var_smoothing=507094277.49024963 ...........................\n",
      "[CV] ............ clf__var_smoothing=507094277.49024963, total=   0.0s\n",
      "[CV] clf__var_smoothing=6211904899.255558 ............................\n",
      "[CV] ............. clf__var_smoothing=6211904899.255558, total=   0.0s\n",
      "[CV] clf__var_smoothing=6211904899.255558 ............................\n",
      "[CV] ............. clf__var_smoothing=6211904899.255558, total=   0.0s\n",
      "[CV] clf__var_smoothing=6211904899.255558 ............................\n",
      "[CV] ............. clf__var_smoothing=6211904899.255558, total=   0.0s\n",
      "[CV] clf__var_smoothing=76095835015.88058 ............................\n",
      "[CV] ............. clf__var_smoothing=76095835015.88058, total=   0.0s\n",
      "[CV] clf__var_smoothing=76095835015.88058 ............................\n",
      "[CV] ............. clf__var_smoothing=76095835015.88058, total=   0.0s\n",
      "[CV] clf__var_smoothing=76095835015.88058 ............................\n",
      "[CV] ............. clf__var_smoothing=76095835015.88058, total=   0.0s\n",
      "[CV] clf__var_smoothing=932173978944.5372 ............................\n",
      "[CV] ............. clf__var_smoothing=932173978944.5372, total=   0.0s\n",
      "[CV] clf__var_smoothing=932173978944.5372 ............................\n",
      "[CV] ............. clf__var_smoothing=932173978944.5372, total=   0.0s\n",
      "[CV] clf__var_smoothing=932173978944.5372 ............................\n",
      "[CV] ............. clf__var_smoothing=932173978944.5372, total=   0.0s\n",
      "[CV] clf__var_smoothing=11419131242070.58 ............................\n"
     ]
    },
    {
     "name": "stderr",
     "output_type": "stream",
     "text": [
      "/anaconda3/lib/python3.7/site-packages/sklearn/metrics/classification.py:1143: UndefinedMetricWarning: F-score is ill-defined and being set to 0.0 in labels with no predicted samples.\n",
      "  'precision', 'predicted', average, warn_for)\n",
      "/anaconda3/lib/python3.7/site-packages/sklearn/metrics/classification.py:1143: UndefinedMetricWarning: F-score is ill-defined and being set to 0.0 in labels with no predicted samples.\n",
      "  'precision', 'predicted', average, warn_for)\n",
      "/anaconda3/lib/python3.7/site-packages/sklearn/metrics/classification.py:1143: UndefinedMetricWarning: F-score is ill-defined and being set to 0.0 in labels with no predicted samples.\n",
      "  'precision', 'predicted', average, warn_for)\n",
      "/anaconda3/lib/python3.7/site-packages/sklearn/metrics/classification.py:1143: UndefinedMetricWarning: F-score is ill-defined and being set to 0.0 in labels with no predicted samples.\n",
      "  'precision', 'predicted', average, warn_for)\n",
      "/anaconda3/lib/python3.7/site-packages/sklearn/metrics/classification.py:1143: UndefinedMetricWarning: F-score is ill-defined and being set to 0.0 in labels with no predicted samples.\n",
      "  'precision', 'predicted', average, warn_for)\n",
      "/anaconda3/lib/python3.7/site-packages/sklearn/metrics/classification.py:1143: UndefinedMetricWarning: F-score is ill-defined and being set to 0.0 in labels with no predicted samples.\n",
      "  'precision', 'predicted', average, warn_for)\n",
      "/anaconda3/lib/python3.7/site-packages/sklearn/metrics/classification.py:1143: UndefinedMetricWarning: F-score is ill-defined and being set to 0.0 in labels with no predicted samples.\n",
      "  'precision', 'predicted', average, warn_for)\n",
      "/anaconda3/lib/python3.7/site-packages/sklearn/metrics/classification.py:1143: UndefinedMetricWarning: F-score is ill-defined and being set to 0.0 in labels with no predicted samples.\n",
      "  'precision', 'predicted', average, warn_for)\n",
      "/anaconda3/lib/python3.7/site-packages/sklearn/metrics/classification.py:1143: UndefinedMetricWarning: F-score is ill-defined and being set to 0.0 in labels with no predicted samples.\n",
      "  'precision', 'predicted', average, warn_for)\n",
      "/anaconda3/lib/python3.7/site-packages/sklearn/metrics/classification.py:1143: UndefinedMetricWarning: F-score is ill-defined and being set to 0.0 in labels with no predicted samples.\n",
      "  'precision', 'predicted', average, warn_for)\n",
      "/anaconda3/lib/python3.7/site-packages/sklearn/metrics/classification.py:1143: UndefinedMetricWarning: F-score is ill-defined and being set to 0.0 in labels with no predicted samples.\n",
      "  'precision', 'predicted', average, warn_for)\n",
      "/anaconda3/lib/python3.7/site-packages/sklearn/metrics/classification.py:1143: UndefinedMetricWarning: F-score is ill-defined and being set to 0.0 in labels with no predicted samples.\n",
      "  'precision', 'predicted', average, warn_for)\n",
      "/anaconda3/lib/python3.7/site-packages/sklearn/metrics/classification.py:1143: UndefinedMetricWarning: F-score is ill-defined and being set to 0.0 in labels with no predicted samples.\n",
      "  'precision', 'predicted', average, warn_for)\n",
      "/anaconda3/lib/python3.7/site-packages/sklearn/metrics/classification.py:1143: UndefinedMetricWarning: F-score is ill-defined and being set to 0.0 in labels with no predicted samples.\n",
      "  'precision', 'predicted', average, warn_for)\n",
      "/anaconda3/lib/python3.7/site-packages/sklearn/metrics/classification.py:1143: UndefinedMetricWarning: F-score is ill-defined and being set to 0.0 in labels with no predicted samples.\n",
      "  'precision', 'predicted', average, warn_for)\n",
      "/anaconda3/lib/python3.7/site-packages/sklearn/metrics/classification.py:1143: UndefinedMetricWarning: F-score is ill-defined and being set to 0.0 in labels with no predicted samples.\n",
      "  'precision', 'predicted', average, warn_for)\n",
      "/anaconda3/lib/python3.7/site-packages/sklearn/metrics/classification.py:1143: UndefinedMetricWarning: F-score is ill-defined and being set to 0.0 in labels with no predicted samples.\n",
      "  'precision', 'predicted', average, warn_for)\n",
      "/anaconda3/lib/python3.7/site-packages/sklearn/metrics/classification.py:1143: UndefinedMetricWarning: F-score is ill-defined and being set to 0.0 in labels with no predicted samples.\n",
      "  'precision', 'predicted', average, warn_for)\n",
      "/anaconda3/lib/python3.7/site-packages/sklearn/metrics/classification.py:1143: UndefinedMetricWarning: F-score is ill-defined and being set to 0.0 in labels with no predicted samples.\n",
      "  'precision', 'predicted', average, warn_for)\n",
      "/anaconda3/lib/python3.7/site-packages/sklearn/metrics/classification.py:1143: UndefinedMetricWarning: F-score is ill-defined and being set to 0.0 in labels with no predicted samples.\n",
      "  'precision', 'predicted', average, warn_for)\n",
      "/anaconda3/lib/python3.7/site-packages/sklearn/metrics/classification.py:1143: UndefinedMetricWarning: F-score is ill-defined and being set to 0.0 in labels with no predicted samples.\n",
      "  'precision', 'predicted', average, warn_for)\n",
      "/anaconda3/lib/python3.7/site-packages/sklearn/metrics/classification.py:1143: UndefinedMetricWarning: F-score is ill-defined and being set to 0.0 in labels with no predicted samples.\n",
      "  'precision', 'predicted', average, warn_for)\n",
      "/anaconda3/lib/python3.7/site-packages/sklearn/metrics/classification.py:1143: UndefinedMetricWarning: F-score is ill-defined and being set to 0.0 in labels with no predicted samples.\n",
      "  'precision', 'predicted', average, warn_for)\n",
      "/anaconda3/lib/python3.7/site-packages/sklearn/metrics/classification.py:1143: UndefinedMetricWarning: F-score is ill-defined and being set to 0.0 in labels with no predicted samples.\n",
      "  'precision', 'predicted', average, warn_for)\n",
      "/anaconda3/lib/python3.7/site-packages/sklearn/metrics/classification.py:1143: UndefinedMetricWarning: F-score is ill-defined and being set to 0.0 in labels with no predicted samples.\n",
      "  'precision', 'predicted', average, warn_for)\n",
      "/anaconda3/lib/python3.7/site-packages/sklearn/metrics/classification.py:1143: UndefinedMetricWarning: F-score is ill-defined and being set to 0.0 in labels with no predicted samples.\n",
      "  'precision', 'predicted', average, warn_for)\n",
      "/anaconda3/lib/python3.7/site-packages/sklearn/metrics/classification.py:1143: UndefinedMetricWarning: F-score is ill-defined and being set to 0.0 in labels with no predicted samples.\n",
      "  'precision', 'predicted', average, warn_for)\n",
      "/anaconda3/lib/python3.7/site-packages/sklearn/metrics/classification.py:1143: UndefinedMetricWarning: F-score is ill-defined and being set to 0.0 in labels with no predicted samples.\n",
      "  'precision', 'predicted', average, warn_for)\n"
     ]
    },
    {
     "name": "stdout",
     "output_type": "stream",
     "text": [
      "[CV] ............. clf__var_smoothing=11419131242070.58, total=   0.0s\n",
      "[CV] clf__var_smoothing=11419131242070.58 ............................\n",
      "[CV] ............. clf__var_smoothing=11419131242070.58, total=   0.0s\n",
      "[CV] clf__var_smoothing=11419131242070.58 ............................\n",
      "[CV] ............. clf__var_smoothing=11419131242070.58, total=   0.0s\n",
      "[CV] clf__var_smoothing=139884357715364.61 ...........................\n",
      "[CV] ............ clf__var_smoothing=139884357715364.61, total=   0.0s\n",
      "[CV] clf__var_smoothing=139884357715364.61 ...........................\n",
      "[CV] ............ clf__var_smoothing=139884357715364.61, total=   0.0s\n",
      "[CV] clf__var_smoothing=139884357715364.61 ...........................\n",
      "[CV] ............ clf__var_smoothing=139884357715364.61, total=   0.0s\n",
      "[CV] clf__var_smoothing=1713583382013216.5 ...........................\n",
      "[CV] ............ clf__var_smoothing=1713583382013216.5, total=   0.0s\n",
      "[CV] clf__var_smoothing=1713583382013216.5 ...........................\n",
      "[CV] ............ clf__var_smoothing=1713583382013216.5, total=   0.0s\n",
      "[CV] clf__var_smoothing=1713583382013216.5 ...........................\n",
      "[CV] ............ clf__var_smoothing=1713583382013216.5, total=   0.0s\n",
      "[CV] clf__var_smoothing=2.09913964296619e+16 .........................\n",
      "[CV] .......... clf__var_smoothing=2.09913964296619e+16, total=   0.0s\n",
      "[CV] clf__var_smoothing=2.09913964296619e+16 .........................\n",
      "[CV] .......... clf__var_smoothing=2.09913964296619e+16, total=   0.0s\n",
      "[CV] clf__var_smoothing=2.09913964296619e+16 .........................\n",
      "[CV] .......... clf__var_smoothing=2.09913964296619e+16, total=   0.0s\n",
      "[CV] clf__var_smoothing=2.571446062633583e+17 ........................\n",
      "[CV] ......... clf__var_smoothing=2.571446062633583e+17, total=   0.0s\n",
      "[CV] clf__var_smoothing=2.571446062633583e+17 ........................\n",
      "[CV] ......... clf__var_smoothing=2.571446062633583e+17, total=   0.0s\n",
      "[CV] clf__var_smoothing=2.571446062633583e+17 ........................\n"
     ]
    },
    {
     "name": "stderr",
     "output_type": "stream",
     "text": [
      "/anaconda3/lib/python3.7/site-packages/sklearn/metrics/classification.py:1143: UndefinedMetricWarning: F-score is ill-defined and being set to 0.0 in labels with no predicted samples.\n",
      "  'precision', 'predicted', average, warn_for)\n",
      "/anaconda3/lib/python3.7/site-packages/sklearn/metrics/classification.py:1143: UndefinedMetricWarning: F-score is ill-defined and being set to 0.0 in labels with no predicted samples.\n",
      "  'precision', 'predicted', average, warn_for)\n",
      "/anaconda3/lib/python3.7/site-packages/sklearn/metrics/classification.py:1143: UndefinedMetricWarning: F-score is ill-defined and being set to 0.0 in labels with no predicted samples.\n",
      "  'precision', 'predicted', average, warn_for)\n",
      "/anaconda3/lib/python3.7/site-packages/sklearn/metrics/classification.py:1143: UndefinedMetricWarning: F-score is ill-defined and being set to 0.0 in labels with no predicted samples.\n",
      "  'precision', 'predicted', average, warn_for)\n",
      "/anaconda3/lib/python3.7/site-packages/sklearn/metrics/classification.py:1143: UndefinedMetricWarning: F-score is ill-defined and being set to 0.0 in labels with no predicted samples.\n",
      "  'precision', 'predicted', average, warn_for)\n",
      "/anaconda3/lib/python3.7/site-packages/sklearn/metrics/classification.py:1143: UndefinedMetricWarning: F-score is ill-defined and being set to 0.0 in labels with no predicted samples.\n",
      "  'precision', 'predicted', average, warn_for)\n",
      "/anaconda3/lib/python3.7/site-packages/sklearn/metrics/classification.py:1143: UndefinedMetricWarning: F-score is ill-defined and being set to 0.0 in labels with no predicted samples.\n",
      "  'precision', 'predicted', average, warn_for)\n",
      "/anaconda3/lib/python3.7/site-packages/sklearn/metrics/classification.py:1143: UndefinedMetricWarning: F-score is ill-defined and being set to 0.0 in labels with no predicted samples.\n",
      "  'precision', 'predicted', average, warn_for)\n",
      "/anaconda3/lib/python3.7/site-packages/sklearn/metrics/classification.py:1143: UndefinedMetricWarning: F-score is ill-defined and being set to 0.0 in labels with no predicted samples.\n",
      "  'precision', 'predicted', average, warn_for)\n",
      "/anaconda3/lib/python3.7/site-packages/sklearn/metrics/classification.py:1143: UndefinedMetricWarning: F-score is ill-defined and being set to 0.0 in labels with no predicted samples.\n",
      "  'precision', 'predicted', average, warn_for)\n",
      "/anaconda3/lib/python3.7/site-packages/sklearn/metrics/classification.py:1143: UndefinedMetricWarning: F-score is ill-defined and being set to 0.0 in labels with no predicted samples.\n",
      "  'precision', 'predicted', average, warn_for)\n",
      "/anaconda3/lib/python3.7/site-packages/sklearn/metrics/classification.py:1143: UndefinedMetricWarning: F-score is ill-defined and being set to 0.0 in labels with no predicted samples.\n",
      "  'precision', 'predicted', average, warn_for)\n",
      "/anaconda3/lib/python3.7/site-packages/sklearn/metrics/classification.py:1143: UndefinedMetricWarning: F-score is ill-defined and being set to 0.0 in labels with no predicted samples.\n",
      "  'precision', 'predicted', average, warn_for)\n",
      "/anaconda3/lib/python3.7/site-packages/sklearn/metrics/classification.py:1143: UndefinedMetricWarning: F-score is ill-defined and being set to 0.0 in labels with no predicted samples.\n",
      "  'precision', 'predicted', average, warn_for)\n",
      "/anaconda3/lib/python3.7/site-packages/sklearn/metrics/classification.py:1143: UndefinedMetricWarning: F-score is ill-defined and being set to 0.0 in labels with no predicted samples.\n",
      "  'precision', 'predicted', average, warn_for)\n",
      "/anaconda3/lib/python3.7/site-packages/sklearn/metrics/classification.py:1143: UndefinedMetricWarning: F-score is ill-defined and being set to 0.0 in labels with no predicted samples.\n",
      "  'precision', 'predicted', average, warn_for)\n",
      "/anaconda3/lib/python3.7/site-packages/sklearn/metrics/classification.py:1143: UndefinedMetricWarning: F-score is ill-defined and being set to 0.0 in labels with no predicted samples.\n",
      "  'precision', 'predicted', average, warn_for)\n",
      "/anaconda3/lib/python3.7/site-packages/sklearn/metrics/classification.py:1143: UndefinedMetricWarning: F-score is ill-defined and being set to 0.0 in labels with no predicted samples.\n",
      "  'precision', 'predicted', average, warn_for)\n",
      "/anaconda3/lib/python3.7/site-packages/sklearn/metrics/classification.py:1143: UndefinedMetricWarning: F-score is ill-defined and being set to 0.0 in labels with no predicted samples.\n",
      "  'precision', 'predicted', average, warn_for)\n",
      "/anaconda3/lib/python3.7/site-packages/sklearn/metrics/classification.py:1143: UndefinedMetricWarning: F-score is ill-defined and being set to 0.0 in labels with no predicted samples.\n",
      "  'precision', 'predicted', average, warn_for)\n",
      "/anaconda3/lib/python3.7/site-packages/sklearn/metrics/classification.py:1143: UndefinedMetricWarning: F-score is ill-defined and being set to 0.0 in labels with no predicted samples.\n",
      "  'precision', 'predicted', average, warn_for)\n",
      "/anaconda3/lib/python3.7/site-packages/sklearn/metrics/classification.py:1143: UndefinedMetricWarning: F-score is ill-defined and being set to 0.0 in labels with no predicted samples.\n",
      "  'precision', 'predicted', average, warn_for)\n",
      "/anaconda3/lib/python3.7/site-packages/sklearn/metrics/classification.py:1143: UndefinedMetricWarning: F-score is ill-defined and being set to 0.0 in labels with no predicted samples.\n",
      "  'precision', 'predicted', average, warn_for)\n",
      "/anaconda3/lib/python3.7/site-packages/sklearn/metrics/classification.py:1143: UndefinedMetricWarning: F-score is ill-defined and being set to 0.0 in labels with no predicted samples.\n",
      "  'precision', 'predicted', average, warn_for)\n",
      "/anaconda3/lib/python3.7/site-packages/sklearn/metrics/classification.py:1143: UndefinedMetricWarning: F-score is ill-defined and being set to 0.0 in labels with no predicted samples.\n",
      "  'precision', 'predicted', average, warn_for)\n",
      "/anaconda3/lib/python3.7/site-packages/sklearn/metrics/classification.py:1143: UndefinedMetricWarning: F-score is ill-defined and being set to 0.0 in labels with no predicted samples.\n",
      "  'precision', 'predicted', average, warn_for)\n",
      "/anaconda3/lib/python3.7/site-packages/sklearn/metrics/classification.py:1143: UndefinedMetricWarning: F-score is ill-defined and being set to 0.0 in labels with no predicted samples.\n",
      "  'precision', 'predicted', average, warn_for)\n"
     ]
    },
    {
     "name": "stdout",
     "output_type": "stream",
     "text": [
      "[CV] ......... clf__var_smoothing=2.571446062633583e+17, total=   0.0s\n",
      "[CV] clf__var_smoothing=3.150021426726139e+18 ........................\n",
      "[CV] ......... clf__var_smoothing=3.150021426726139e+18, total=   0.0s\n",
      "[CV] clf__var_smoothing=3.150021426726139e+18 ........................\n",
      "[CV] ......... clf__var_smoothing=3.150021426726139e+18, total=   0.0s\n",
      "[CV] clf__var_smoothing=3.150021426726139e+18 ........................\n",
      "[CV] ......... clf__var_smoothing=3.150021426726139e+18, total=   0.0s\n",
      "[CV] clf__var_smoothing=3.858776247739521e+19 ........................\n",
      "[CV] ......... clf__var_smoothing=3.858776247739521e+19, total=   0.0s\n",
      "[CV] clf__var_smoothing=3.858776247739521e+19 ........................\n",
      "[CV] ......... clf__var_smoothing=3.858776247739521e+19, total=   0.0s\n",
      "[CV] clf__var_smoothing=3.858776247739521e+19 ........................\n",
      "[CV] ......... clf__var_smoothing=3.858776247739521e+19, total=   0.0s\n",
      "[CV] clf__var_smoothing=4.727000903480913e+20 ........................\n",
      "[CV] ......... clf__var_smoothing=4.727000903480913e+20, total=   0.0s\n",
      "[CV] clf__var_smoothing=4.727000903480913e+20 ........................\n",
      "[CV] ......... clf__var_smoothing=4.727000903480913e+20, total=   0.0s\n",
      "[CV] clf__var_smoothing=4.727000903480913e+20 ........................\n",
      "[CV] ......... clf__var_smoothing=4.727000903480913e+20, total=   0.0s\n",
      "[CV] clf__var_smoothing=5.790576106764118e+21 ........................\n",
      "[CV] ......... clf__var_smoothing=5.790576106764118e+21, total=   0.0s\n",
      "[CV] clf__var_smoothing=5.790576106764118e+21 ........................\n",
      "[CV] ......... clf__var_smoothing=5.790576106764118e+21, total=   0.0s\n",
      "[CV] clf__var_smoothing=5.790576106764118e+21 ........................\n",
      "[CV] ......... clf__var_smoothing=5.790576106764118e+21, total=   0.0s\n",
      "[CV] clf__var_smoothing=7.093455730786045e+22 ........................\n",
      "[CV] ......... clf__var_smoothing=7.093455730786045e+22, total=   0.0s\n",
      "[CV] clf__var_smoothing=7.093455730786045e+22 ........................\n"
     ]
    },
    {
     "name": "stderr",
     "output_type": "stream",
     "text": [
      "/anaconda3/lib/python3.7/site-packages/sklearn/metrics/classification.py:1143: UndefinedMetricWarning: F-score is ill-defined and being set to 0.0 in labels with no predicted samples.\n",
      "  'precision', 'predicted', average, warn_for)\n",
      "/anaconda3/lib/python3.7/site-packages/sklearn/metrics/classification.py:1143: UndefinedMetricWarning: F-score is ill-defined and being set to 0.0 in labels with no predicted samples.\n",
      "  'precision', 'predicted', average, warn_for)\n",
      "/anaconda3/lib/python3.7/site-packages/sklearn/metrics/classification.py:1143: UndefinedMetricWarning: F-score is ill-defined and being set to 0.0 in labels with no predicted samples.\n",
      "  'precision', 'predicted', average, warn_for)\n",
      "/anaconda3/lib/python3.7/site-packages/sklearn/metrics/classification.py:1143: UndefinedMetricWarning: F-score is ill-defined and being set to 0.0 in labels with no predicted samples.\n",
      "  'precision', 'predicted', average, warn_for)\n",
      "/anaconda3/lib/python3.7/site-packages/sklearn/metrics/classification.py:1143: UndefinedMetricWarning: F-score is ill-defined and being set to 0.0 in labels with no predicted samples.\n",
      "  'precision', 'predicted', average, warn_for)\n",
      "/anaconda3/lib/python3.7/site-packages/sklearn/metrics/classification.py:1143: UndefinedMetricWarning: F-score is ill-defined and being set to 0.0 in labels with no predicted samples.\n",
      "  'precision', 'predicted', average, warn_for)\n",
      "/anaconda3/lib/python3.7/site-packages/sklearn/metrics/classification.py:1143: UndefinedMetricWarning: F-score is ill-defined and being set to 0.0 in labels with no predicted samples.\n",
      "  'precision', 'predicted', average, warn_for)\n",
      "/anaconda3/lib/python3.7/site-packages/sklearn/metrics/classification.py:1143: UndefinedMetricWarning: F-score is ill-defined and being set to 0.0 in labels with no predicted samples.\n",
      "  'precision', 'predicted', average, warn_for)\n",
      "/anaconda3/lib/python3.7/site-packages/sklearn/metrics/classification.py:1143: UndefinedMetricWarning: F-score is ill-defined and being set to 0.0 in labels with no predicted samples.\n",
      "  'precision', 'predicted', average, warn_for)\n",
      "/anaconda3/lib/python3.7/site-packages/sklearn/metrics/classification.py:1143: UndefinedMetricWarning: F-score is ill-defined and being set to 0.0 in labels with no predicted samples.\n",
      "  'precision', 'predicted', average, warn_for)\n",
      "/anaconda3/lib/python3.7/site-packages/sklearn/metrics/classification.py:1143: UndefinedMetricWarning: F-score is ill-defined and being set to 0.0 in labels with no predicted samples.\n",
      "  'precision', 'predicted', average, warn_for)\n",
      "/anaconda3/lib/python3.7/site-packages/sklearn/metrics/classification.py:1143: UndefinedMetricWarning: F-score is ill-defined and being set to 0.0 in labels with no predicted samples.\n",
      "  'precision', 'predicted', average, warn_for)\n",
      "/anaconda3/lib/python3.7/site-packages/sklearn/metrics/classification.py:1143: UndefinedMetricWarning: F-score is ill-defined and being set to 0.0 in labels with no predicted samples.\n",
      "  'precision', 'predicted', average, warn_for)\n",
      "/anaconda3/lib/python3.7/site-packages/sklearn/metrics/classification.py:1143: UndefinedMetricWarning: F-score is ill-defined and being set to 0.0 in labels with no predicted samples.\n",
      "  'precision', 'predicted', average, warn_for)\n",
      "/anaconda3/lib/python3.7/site-packages/sklearn/metrics/classification.py:1143: UndefinedMetricWarning: F-score is ill-defined and being set to 0.0 in labels with no predicted samples.\n",
      "  'precision', 'predicted', average, warn_for)\n",
      "/anaconda3/lib/python3.7/site-packages/sklearn/metrics/classification.py:1143: UndefinedMetricWarning: F-score is ill-defined and being set to 0.0 in labels with no predicted samples.\n",
      "  'precision', 'predicted', average, warn_for)\n",
      "/anaconda3/lib/python3.7/site-packages/sklearn/metrics/classification.py:1143: UndefinedMetricWarning: F-score is ill-defined and being set to 0.0 in labels with no predicted samples.\n",
      "  'precision', 'predicted', average, warn_for)\n",
      "/anaconda3/lib/python3.7/site-packages/sklearn/metrics/classification.py:1143: UndefinedMetricWarning: F-score is ill-defined and being set to 0.0 in labels with no predicted samples.\n",
      "  'precision', 'predicted', average, warn_for)\n",
      "/anaconda3/lib/python3.7/site-packages/sklearn/metrics/classification.py:1143: UndefinedMetricWarning: F-score is ill-defined and being set to 0.0 in labels with no predicted samples.\n",
      "  'precision', 'predicted', average, warn_for)\n",
      "/anaconda3/lib/python3.7/site-packages/sklearn/metrics/classification.py:1143: UndefinedMetricWarning: F-score is ill-defined and being set to 0.0 in labels with no predicted samples.\n",
      "  'precision', 'predicted', average, warn_for)\n",
      "/anaconda3/lib/python3.7/site-packages/sklearn/metrics/classification.py:1143: UndefinedMetricWarning: F-score is ill-defined and being set to 0.0 in labels with no predicted samples.\n",
      "  'precision', 'predicted', average, warn_for)\n",
      "/anaconda3/lib/python3.7/site-packages/sklearn/metrics/classification.py:1143: UndefinedMetricWarning: F-score is ill-defined and being set to 0.0 in labels with no predicted samples.\n",
      "  'precision', 'predicted', average, warn_for)\n",
      "/anaconda3/lib/python3.7/site-packages/sklearn/metrics/classification.py:1143: UndefinedMetricWarning: F-score is ill-defined and being set to 0.0 in labels with no predicted samples.\n",
      "  'precision', 'predicted', average, warn_for)\n",
      "/anaconda3/lib/python3.7/site-packages/sklearn/metrics/classification.py:1143: UndefinedMetricWarning: F-score is ill-defined and being set to 0.0 in labels with no predicted samples.\n",
      "  'precision', 'predicted', average, warn_for)\n",
      "/anaconda3/lib/python3.7/site-packages/sklearn/metrics/classification.py:1143: UndefinedMetricWarning: F-score is ill-defined and being set to 0.0 in labels with no predicted samples.\n",
      "  'precision', 'predicted', average, warn_for)\n",
      "/anaconda3/lib/python3.7/site-packages/sklearn/metrics/classification.py:1143: UndefinedMetricWarning: F-score is ill-defined and being set to 0.0 in labels with no predicted samples.\n",
      "  'precision', 'predicted', average, warn_for)\n",
      "/anaconda3/lib/python3.7/site-packages/sklearn/metrics/classification.py:1143: UndefinedMetricWarning: F-score is ill-defined and being set to 0.0 in labels with no predicted samples.\n",
      "  'precision', 'predicted', average, warn_for)\n"
     ]
    },
    {
     "name": "stdout",
     "output_type": "stream",
     "text": [
      "[CV] ......... clf__var_smoothing=7.093455730786045e+22, total=   0.0s\n",
      "[CV] clf__var_smoothing=7.093455730786045e+22 ........................\n",
      "[CV] ......... clf__var_smoothing=7.093455730786045e+22, total=   0.0s\n",
      "[CV] clf__var_smoothing=8.689483270212904e+23 ........................\n",
      "[CV] ......... clf__var_smoothing=8.689483270212904e+23, total=   0.0s\n",
      "[CV] clf__var_smoothing=8.689483270212904e+23 ........................\n",
      "[CV] ......... clf__var_smoothing=8.689483270212904e+23, total=   0.0s\n",
      "[CV] clf__var_smoothing=8.689483270212904e+23 ........................\n",
      "[CV] ......... clf__var_smoothing=8.689483270212904e+23, total=   0.0s\n",
      "[CV] clf__var_smoothing=1.0644617006010808e+25 .......................\n",
      "[CV] ........ clf__var_smoothing=1.0644617006010808e+25, total=   0.0s\n",
      "[CV] clf__var_smoothing=1.0644617006010808e+25 .......................\n",
      "[CV] ........ clf__var_smoothing=1.0644617006010808e+25, total=   0.0s\n",
      "[CV] clf__var_smoothing=1.0644617006010808e+25 .......................\n",
      "[CV] ........ clf__var_smoothing=1.0644617006010808e+25, total=   0.0s\n",
      "[CV] clf__var_smoothing=1.303965583236324e+26 ........................\n",
      "[CV] ......... clf__var_smoothing=1.303965583236324e+26, total=   0.0s\n",
      "[CV] clf__var_smoothing=1.303965583236324e+26 ........................\n",
      "[CV] ......... clf__var_smoothing=1.303965583236324e+26, total=   0.0s\n",
      "[CV] clf__var_smoothing=1.303965583236324e+26 ........................\n",
      "[CV] ......... clf__var_smoothing=1.303965583236324e+26, total=   0.0s\n"
     ]
    },
    {
     "name": "stderr",
     "output_type": "stream",
     "text": [
      "/anaconda3/lib/python3.7/site-packages/sklearn/metrics/classification.py:1143: UndefinedMetricWarning: F-score is ill-defined and being set to 0.0 in labels with no predicted samples.\n",
      "  'precision', 'predicted', average, warn_for)\n",
      "/anaconda3/lib/python3.7/site-packages/sklearn/metrics/classification.py:1143: UndefinedMetricWarning: F-score is ill-defined and being set to 0.0 in labels with no predicted samples.\n",
      "  'precision', 'predicted', average, warn_for)\n",
      "/anaconda3/lib/python3.7/site-packages/sklearn/metrics/classification.py:1143: UndefinedMetricWarning: F-score is ill-defined and being set to 0.0 in labels with no predicted samples.\n",
      "  'precision', 'predicted', average, warn_for)\n",
      "/anaconda3/lib/python3.7/site-packages/sklearn/metrics/classification.py:1143: UndefinedMetricWarning: F-score is ill-defined and being set to 0.0 in labels with no predicted samples.\n",
      "  'precision', 'predicted', average, warn_for)\n",
      "/anaconda3/lib/python3.7/site-packages/sklearn/metrics/classification.py:1143: UndefinedMetricWarning: F-score is ill-defined and being set to 0.0 in labels with no predicted samples.\n",
      "  'precision', 'predicted', average, warn_for)\n",
      "/anaconda3/lib/python3.7/site-packages/sklearn/metrics/classification.py:1143: UndefinedMetricWarning: F-score is ill-defined and being set to 0.0 in labels with no predicted samples.\n",
      "  'precision', 'predicted', average, warn_for)\n",
      "/anaconda3/lib/python3.7/site-packages/sklearn/metrics/classification.py:1143: UndefinedMetricWarning: F-score is ill-defined and being set to 0.0 in labels with no predicted samples.\n",
      "  'precision', 'predicted', average, warn_for)\n",
      "/anaconda3/lib/python3.7/site-packages/sklearn/metrics/classification.py:1143: UndefinedMetricWarning: F-score is ill-defined and being set to 0.0 in labels with no predicted samples.\n",
      "  'precision', 'predicted', average, warn_for)\n",
      "/anaconda3/lib/python3.7/site-packages/sklearn/metrics/classification.py:1143: UndefinedMetricWarning: F-score is ill-defined and being set to 0.0 in labels with no predicted samples.\n",
      "  'precision', 'predicted', average, warn_for)\n",
      "/anaconda3/lib/python3.7/site-packages/sklearn/metrics/classification.py:1143: UndefinedMetricWarning: F-score is ill-defined and being set to 0.0 in labels with no predicted samples.\n",
      "  'precision', 'predicted', average, warn_for)\n",
      "/anaconda3/lib/python3.7/site-packages/sklearn/metrics/classification.py:1143: UndefinedMetricWarning: F-score is ill-defined and being set to 0.0 in labels with no predicted samples.\n",
      "  'precision', 'predicted', average, warn_for)\n",
      "/anaconda3/lib/python3.7/site-packages/sklearn/metrics/classification.py:1143: UndefinedMetricWarning: F-score is ill-defined and being set to 0.0 in labels with no predicted samples.\n",
      "  'precision', 'predicted', average, warn_for)\n",
      "[Parallel(n_jobs=1)]: Done 225 out of 225 | elapsed:    3.3s finished\n"
     ]
    }
   ],
   "source": [
    "# Dictionary storing the best estimators for each classifier\n",
    "best_estimators = {}\n",
    "\n",
    "# Grid Searching each classifier\n",
    "for name, vals in top.items():\n",
    "    print(name + ' -'*30)\n",
    "    \n",
    "    # Grid Searching \n",
    "    gs = GridSearchCV(vals[0], vals[1] , cv=3, return_train_score=True, verbose=2, scoring='f1_macro')\n",
    "    gs.fit(X_train, y_train)\n",
    "    \n",
    "    # Saving the best estimators/tuned models\n",
    "    best_estimators[name+'_clf'] = gs.best_estimator_"
   ]
  },
  {
   "cell_type": "markdown",
   "metadata": {},
   "source": [
    "### Classification Reports"
   ]
  },
  {
   "cell_type": "code",
   "execution_count": 115,
   "metadata": {},
   "outputs": [
    {
     "name": "stdout",
     "output_type": "stream",
     "text": [
      "\n",
      "Tuned RandomForest_clf - - - - - - - - - - - - - - - - - - - - - - - - - - - - - -\n",
      "              precision    recall  f1-score   support\n",
      "\n",
      "    No Virus       0.95      0.99      0.97      2493\n",
      "       Virus       0.34      0.08      0.13       134\n",
      "\n",
      "   micro avg       0.95      0.95      0.95      2627\n",
      "   macro avg       0.65      0.54      0.55      2627\n",
      "weighted avg       0.92      0.95      0.93      2627\n",
      "\n",
      "\n",
      "Tuned KNN_clf - - - - - - - - - - - - - - - - - - - - - - - - - - - - - -\n",
      "              precision    recall  f1-score   support\n",
      "\n",
      "    No Virus       0.95      0.98      0.97      2493\n",
      "       Virus       0.22      0.12      0.15       134\n",
      "\n",
      "   micro avg       0.93      0.93      0.93      2627\n",
      "   macro avg       0.58      0.55      0.56      2627\n",
      "weighted avg       0.92      0.93      0.92      2627\n",
      "\n",
      "\n",
      "Tuned NaiveBayes_clf - - - - - - - - - - - - - - - - - - - - - - - - - - - - - -\n",
      "              precision    recall  f1-score   support\n",
      "\n",
      "    No Virus       0.98      0.66      0.79      2493\n",
      "       Virus       0.10      0.71      0.18       134\n",
      "\n",
      "   micro avg       0.66      0.66      0.66      2627\n",
      "   macro avg       0.54      0.69      0.48      2627\n",
      "weighted avg       0.93      0.66      0.76      2627\n",
      "\n"
     ]
    }
   ],
   "source": [
    "# Looping through each tuned model's predictions and getting their classification reports\n",
    "for name, pipe in best_estimators.items():\n",
    "    print('\\nTuned '+ name + ' -'*30)\n",
    "    \n",
    "    report = classification_report(y_test, pipe.predict(X_test), target_names=['No Virus', 'Virus'], output_dict=False)\n",
    "    print(report)"
   ]
  },
  {
   "cell_type": "markdown",
   "metadata": {},
   "source": [
    "### Confusion Matrix"
   ]
  },
  {
   "cell_type": "code",
   "execution_count": 116,
   "metadata": {},
   "outputs": [],
   "source": [
    "def plot_confusion_matrix(y_true, y_pred, labels=['No Virus','Virus'],\n",
    "                          normalize=False, title=None, cmap=plt.cm.coolwarm):\n",
    "\n",
    "    cm = confusion_matrix(y_true, y_pred)\n",
    "    fig, ax = plt.subplots(figsize=(12,6))\n",
    "    im = ax.imshow(cm, interpolation='nearest', cmap=cmap)\n",
    "    ax.figure.colorbar(im, ax=ax)\n",
    "    # We want to show all ticks...\n",
    "    ax.set(xticks=np.arange(cm.shape[1]),\n",
    "           yticks=np.arange(cm.shape[0]),\n",
    "           # ... and label them with the respective list entries\n",
    "           xticklabels=labels, yticklabels=labels,\n",
    "           title=title,\n",
    "           ylabel='ACTUAL',\n",
    "           xlabel='PREDICTED')\n",
    "    # Rotate the tick labels and set their alignment.\n",
    "    plt.setp(ax.get_xticklabels(), rotation=45, ha=\"right\",\n",
    "             rotation_mode=\"anchor\")\n",
    "    # Loop over data dimensions and create text annotations.\n",
    "    fmt = '.2f' if normalize else 'd'\n",
    "    thresh = cm.max() / 1.5\n",
    "    for i in range(cm.shape[0]):\n",
    "        for j in range(cm.shape[1]):\n",
    "            ax.text(j, i, format(cm[i, j], fmt),\n",
    "                    ha=\"center\", va=\"center\",\n",
    "                    color=\"snow\" if cm[i, j] > thresh else \"orange\",\n",
    "                    size=26)\n",
    "    ax.grid(False)\n",
    "    fig.tight_layout()\n",
    "    return ax"
   ]
  },
  {
   "cell_type": "code",
   "execution_count": 117,
   "metadata": {},
   "outputs": [
    {
     "data": {
      "image/png": "[encoded data removed]",
      "text/plain": [
       "<Figure size 864x432 with 2 Axes>"
      ]
     },
     "metadata": {
      "needs_background": "light"
     },
     "output_type": "display_data"
    }
   ],
   "source": [
    "plot_confusion_matrix(y_test, best_estimators['NaiveBayes_clf'].predict(X_test), title=\"Confusion Matrix\")\n",
    "np.set_printoptions(precision=1)\n",
    "# Plot non-normalized confusion matrix\n",
    "plt.show()"
   ]
  },
  {
   "cell_type": "markdown",
   "metadata": {},
   "source": [
    "Because we are dealing with imbalanced dataset we cannot use __Accuracy__ as an evaluation metric.  Instead, since we are more concerned with detecting the West Nile Virus.  With that in mind, we must use __Recall__ as the preferred metric.  __Recall__ is more concerned with detecting the WNV.  __Precision__ is not too much of our concern because _False Positives_ are more acceptable than _False Negatives_.  We don't want to miss any WNV detection."
   ]
  },
  {
   "cell_type": "code",
   "execution_count": null,
   "metadata": {},
   "outputs": [],
   "source": []
  },
  {
   "cell_type": "code",
   "execution_count": null,
   "metadata": {},
   "outputs": [],
   "source": []
  }
 ],
 "metadata": {
  "kernelspec": {
   "display_name": "Python 3",
   "language": "python",
   "name": "python3"
  },
  "language_info": {
   "codemirror_mode": {
    "name": "ipython",
    "version": 3
   },
   "file_extension": ".py",
   "mimetype": "text/x-python",
   "name": "python",
   "nbconvert_exporter": "python",
   "pygments_lexer": "ipython3",
   "version": "3.7.3"
  }
 },
 "nbformat": 4,
 "nbformat_minor": 2
}
