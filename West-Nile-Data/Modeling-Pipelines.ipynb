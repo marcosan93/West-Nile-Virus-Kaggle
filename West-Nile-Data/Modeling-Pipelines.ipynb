{
 "cells": [
  {
   "cell_type": "markdown",
   "metadata": {},
   "source": [
    "# Modeling"
   ]
  },
  {
   "cell_type": "markdown",
   "metadata": {},
   "source": [
    "### Import Libraries"
   ]
  },
  {
   "cell_type": "code",
   "execution_count": 77,
   "metadata": {},
   "outputs": [],
   "source": [
    "import _pickle as pickle\n",
    "import numpy as np\n",
    "import pandas as pd\n",
    "import matplotlib.pyplot as plt\n",
    "from sklearn.model_selection import train_test_split\n",
    "from sklearn.metrics import confusion_matrix, classification_report\n",
    "from sklearn.preprocessing import MinMaxScaler\n",
    "from sklearn.pipeline import Pipeline"
   ]
  },
  {
   "cell_type": "markdown",
   "metadata": {},
   "source": [
    "### Loading the Data"
   ]
  },
  {
   "cell_type": "code",
   "execution_count": 86,
   "metadata": {},
   "outputs": [],
   "source": [
    "with open('var_df.pkl', 'rb') as fp:\n",
    "    df = pickle.load(fp)\n",
    "    \n",
    "with open('test_df.pkl', 'rb') as fp:\n",
    "    test = pickle.load(fp)"
   ]
  },
  {
   "cell_type": "markdown",
   "metadata": {},
   "source": [
    "## Splitting the Data\n",
    "Into train and testing sets"
   ]
  },
  {
   "cell_type": "code",
   "execution_count": 87,
   "metadata": {},
   "outputs": [],
   "source": [
    "X = df.drop('WnvPresent', axis=1)\n",
    "y = df.WnvPresent\n",
    "\n",
    "# Train, test, split\n",
    "X_train, X_test, y_train, y_test = train_test_split(X, y)"
   ]
  },
  {
   "cell_type": "markdown",
   "metadata": {},
   "source": [
    "## Modeling"
   ]
  },
  {
   "cell_type": "code",
   "execution_count": 118,
   "metadata": {},
   "outputs": [],
   "source": [
    "# Importing the 10 models\n",
    "from sklearn.ensemble import AdaBoostClassifier, GradientBoostingClassifier, RandomForestClassifier\n",
    "from sklearn.tree import DecisionTreeClassifier\n",
    "from sklearn.dummy import DummyClassifier\n",
    "from sklearn.neighbors import KNeighborsClassifier\n",
    "from sklearn.linear_model import LogisticRegression\n",
    "from sklearn.naive_bayes import GaussianNB, ComplementNB\n",
    "from sklearn.svm import SVC\n",
    "\n",
    "## Preventing error from occuring: XGBoost causes kernel to die.\n",
    "import os\n",
    "os.environ['KMP_DUPLICATE_LIB_OK']='True'\n",
    "from xgboost import XGBClassifier"
   ]
  },
  {
   "cell_type": "markdown",
   "metadata": {},
   "source": [
    "### Pipeline Creation"
   ]
  },
  {
   "cell_type": "code",
   "execution_count": 119,
   "metadata": {},
   "outputs": [],
   "source": [
    "# Adaboost\n",
    "pipe_ada = Pipeline([('clf', AdaBoostClassifier())])\n",
    "\n",
    "# Gradient Boost\n",
    "pipe_gb  = Pipeline([('clf', GradientBoostingClassifier())])\n",
    "\n",
    "# Random Forest\n",
    "pipe_rf  = Pipeline([('clf', RandomForestClassifier())])\n",
    "\n",
    "# Decision Tree\n",
    "pipe_dt  = Pipeline([('clf', DecisionTreeClassifier())])\n",
    "\n",
    "# Dummy (Baseline)\n",
    "pipe_dum = Pipeline([('clf', DummyClassifier())])\n",
    "\n",
    "# K Nearest Neighbors\n",
    "pipe_knn = Pipeline([('clf', KNeighborsClassifier())])\n",
    "\n",
    "# Logistic Regression\n",
    "pipe_lr  = Pipeline([('clf', LogisticRegression())])\n",
    "\n",
    "# Naive Bayes\n",
    "pipe_nb  = Pipeline([('clf', ComplementNB())])\n",
    "\n",
    "# Support Vector Machine\n",
    "pipe_svm = Pipeline([('clf', SVC())])\n",
    "\n",
    "# XGBoost\n",
    "pipe_xgb = Pipeline([('clf', XGBClassifier())])"
   ]
  },
  {
   "cell_type": "code",
   "execution_count": 120,
   "metadata": {},
   "outputs": [],
   "source": [
    "pipelines = [pipe_ada, pipe_gb, pipe_rf, pipe_dt, pipe_dum, \n",
    "             pipe_knn, pipe_lr, pipe_nb, pipe_svm, pipe_xgb]\n",
    "\n",
    "models = ['Adaboost', \n",
    "          'GradientBoost', \n",
    "          'RandomForest', \n",
    "          'DecisionTree', \n",
    "          'Dummy(Baseline)', \n",
    "          'KNN', \n",
    "          'LogisticRegression',\n",
    "          'NaiveBayes',\n",
    "          'SupportVectorMachine',\n",
    "          'XGBoost']\n",
    "\n",
    "# Zipping the the strings and pipelines together and creating a dictionary\n",
    "model_pipelines = dict(zip(models, pipelines))"
   ]
  },
  {
   "cell_type": "code",
   "execution_count": 121,
   "metadata": {
    "scrolled": true
   },
   "outputs": [
    {
     "name": "stdout",
     "output_type": "stream",
     "text": [
      "Pipeline(memory=None,\n",
      "     steps=[('clf', AdaBoostClassifier(algorithm='SAMME.R', base_estimator=None,\n",
      "          learning_rate=1.0, n_estimators=50, random_state=None))])\n",
      "Pipeline(memory=None,\n",
      "     steps=[('clf', GradientBoostingClassifier(criterion='friedman_mse', init=None,\n",
      "              learning_rate=0.1, loss='deviance', max_depth=3,\n",
      "              max_features=None, max_leaf_nodes=None,\n",
      "              min_impurity_decrease=0.0, min_impurity_split=None,\n",
      "              min_samples_leaf=1, min_...    subsample=1.0, tol=0.0001, validation_fraction=0.1,\n",
      "              verbose=0, warm_start=False))])\n",
      "Pipeline(memory=None,\n",
      "     steps=[('clf', RandomForestClassifier(bootstrap=True, class_weight=None, criterion='gini',\n",
      "            max_depth=None, max_features='auto', max_leaf_nodes=None,\n",
      "            min_impurity_decrease=0.0, min_impurity_split=None,\n",
      "            min_samples_leaf=1, min_samples_split=2,\n",
      "            min_weight_fraction_leaf=0.0, n_estimators='warn', n_jobs=None,\n",
      "            oob_score=False, random_state=None, verbose=0,\n",
      "            warm_start=False))])\n",
      "Pipeline(memory=None,\n",
      "     steps=[('clf', DecisionTreeClassifier(class_weight=None, criterion='gini', max_depth=None,\n",
      "            max_features=None, max_leaf_nodes=None,\n",
      "            min_impurity_decrease=0.0, min_impurity_split=None,\n",
      "            min_samples_leaf=1, min_samples_split=2,\n",
      "            min_weight_fraction_leaf=0.0, presort=False, random_state=None,\n",
      "            splitter='best'))])\n",
      "Pipeline(memory=None,\n",
      "     steps=[('clf', DummyClassifier(constant=None, random_state=None, strategy='stratified'))])\n",
      "Pipeline(memory=None,\n",
      "     steps=[('clf', KNeighborsClassifier(algorithm='auto', leaf_size=30, metric='minkowski',\n",
      "           metric_params=None, n_jobs=None, n_neighbors=5, p=2,\n",
      "           weights='uniform'))])\n",
      "Pipeline(memory=None,\n",
      "     steps=[('clf', LogisticRegression(C=1.0, class_weight=None, dual=False, fit_intercept=True,\n",
      "          intercept_scaling=1, max_iter=100, multi_class='warn',\n",
      "          n_jobs=None, penalty='l2', random_state=None, solver='warn',\n",
      "          tol=0.0001, verbose=0, warm_start=False))])\n",
      "Pipeline(memory=None,\n",
      "     steps=[('clf', ComplementNB(alpha=1.0, class_prior=None, fit_prior=True, norm=False))])\n",
      "Pipeline(memory=None,\n",
      "     steps=[('clf', SVC(C=1.0, cache_size=200, class_weight=None, coef0=0.0,\n",
      "  decision_function_shape='ovr', degree=3, gamma='auto_deprecated',\n",
      "  kernel='rbf', max_iter=-1, probability=False, random_state=None,\n",
      "  shrinking=True, tol=0.001, verbose=False))])\n"
     ]
    },
    {
     "name": "stderr",
     "output_type": "stream",
     "text": [
      "/anaconda3/lib/python3.7/site-packages/sklearn/ensemble/forest.py:246: FutureWarning: The default value of n_estimators will change from 10 in version 0.20 to 100 in 0.22.\n",
      "  \"10 in version 0.20 to 100 in 0.22.\", FutureWarning)\n",
      "/anaconda3/lib/python3.7/site-packages/sklearn/linear_model/logistic.py:433: FutureWarning: Default solver will be changed to 'lbfgs' in 0.22. Specify a solver to silence this warning.\n",
      "  FutureWarning)\n",
      "/anaconda3/lib/python3.7/site-packages/sklearn/svm/base.py:196: FutureWarning: The default value of gamma will change from 'auto' to 'scale' in version 0.22 to account better for unscaled features. Set gamma explicitly to 'auto' or 'scale' to avoid this warning.\n",
      "  \"avoid this warning.\", FutureWarning)\n"
     ]
    },
    {
     "name": "stdout",
     "output_type": "stream",
     "text": [
      "Pipeline(memory=None,\n",
      "     steps=[('clf', XGBClassifier(base_score=0.5, booster='gbtree', colsample_bylevel=1,\n",
      "       colsample_bynode=1, colsample_bytree=1, gamma=0, learning_rate=0.1,\n",
      "       max_delta_step=0, max_depth=3, min_child_weight=1, missing=None,\n",
      "       n_estimators=100, n_jobs=1, nthread=None,\n",
      "       objective='binary:logistic', random_state=0, reg_alpha=0,\n",
      "       reg_lambda=1, scale_pos_weight=1, seed=None, silent=None,\n",
      "       subsample=1, verbosity=1))])\n"
     ]
    }
   ],
   "source": [
    "# Looping through each Pipeline to fit and train each model\n",
    "for name, pipe in model_pipelines.items():\n",
    "    print(pipe)\n",
    "    pipe.fit(X_train, y_train)"
   ]
  },
  {
   "cell_type": "code",
   "execution_count": 122,
   "metadata": {},
   "outputs": [
    {
     "name": "stdout",
     "output_type": "stream",
     "text": [
      "\n",
      " Adaboost - - - - - - - - - - - - - - - - - - - - - - - - - - - - - -\n",
      "              precision    recall  f1-score   support\n",
      "\n",
      "    No Virus       0.95      1.00      0.97      2493\n",
      "       Virus       0.00      0.00      0.00       134\n",
      "\n",
      "   micro avg       0.95      0.95      0.95      2627\n",
      "   macro avg       0.47      0.50      0.49      2627\n",
      "weighted avg       0.90      0.95      0.92      2627\n",
      "\n",
      "\n",
      " GradientBoost - - - - - - - - - - - - - - - - - - - - - - - - - - - - - -\n",
      "              precision    recall  f1-score   support\n",
      "\n",
      "    No Virus       0.95      1.00      0.97      2493\n",
      "       Virus       0.43      0.02      0.04       134\n",
      "\n",
      "   micro avg       0.95      0.95      0.95      2627\n",
      "   macro avg       0.69      0.51      0.51      2627\n",
      "weighted avg       0.92      0.95      0.93      2627\n",
      "\n",
      "\n",
      " RandomForest - - - - - - - - - - - - - - - - - - - - - - - - - - - - - -\n",
      "              precision    recall  f1-score   support\n",
      "\n",
      "    No Virus       0.95      0.98      0.97      2493\n",
      "       Virus       0.31      0.13      0.18       134\n",
      "\n",
      "   micro avg       0.94      0.94      0.94      2627\n",
      "   macro avg       0.63      0.56      0.57      2627\n",
      "weighted avg       0.92      0.94      0.93      2627\n",
      "\n",
      "\n",
      " DecisionTree - - - - - - - - - - - - - - - - - - - - - - - - - - - - - -\n",
      "              precision    recall  f1-score   support\n",
      "\n",
      "    No Virus       0.95      0.99      0.97      2493\n",
      "       Virus       0.25      0.08      0.12       134\n",
      "\n",
      "   micro avg       0.94      0.94      0.94      2627\n",
      "   macro avg       0.60      0.53      0.55      2627\n",
      "weighted avg       0.92      0.94      0.93      2627\n",
      "\n",
      "\n",
      " Dummy(Baseline) - - - - - - - - - - - - - - - - - - - - - - - - - - - - - -\n",
      "              precision    recall  f1-score   support\n",
      "\n",
      "    No Virus       0.95      0.95      0.95      2493\n",
      "       Virus       0.07      0.07      0.07       134\n",
      "\n",
      "   micro avg       0.90      0.90      0.90      2627\n",
      "   macro avg       0.51      0.51      0.51      2627\n",
      "weighted avg       0.91      0.90      0.90      2627\n",
      "\n",
      "\n",
      " KNN - - - - - - - - - - - - - - - - - - - - - - - - - - - - - -\n"
     ]
    },
    {
     "name": "stderr",
     "output_type": "stream",
     "text": [
      "/anaconda3/lib/python3.7/site-packages/sklearn/metrics/classification.py:1143: UndefinedMetricWarning: Precision and F-score are ill-defined and being set to 0.0 in labels with no predicted samples.\n",
      "  'precision', 'predicted', average, warn_for)\n"
     ]
    },
    {
     "name": "stdout",
     "output_type": "stream",
     "text": [
      "              precision    recall  f1-score   support\n",
      "\n",
      "    No Virus       0.95      0.98      0.97      2493\n",
      "       Virus       0.22      0.10      0.14       134\n",
      "\n",
      "   micro avg       0.93      0.93      0.93      2627\n",
      "   macro avg       0.58      0.54      0.55      2627\n",
      "weighted avg       0.92      0.93      0.92      2627\n",
      "\n",
      "\n",
      " LogisticRegression - - - - - - - - - - - - - - - - - - - - - - - - - - - - - -\n",
      "              precision    recall  f1-score   support\n",
      "\n",
      "    No Virus       0.95      1.00      0.97      2493\n",
      "       Virus       0.00      0.00      0.00       134\n",
      "\n",
      "   micro avg       0.95      0.95      0.95      2627\n",
      "   macro avg       0.47      0.50      0.49      2627\n",
      "weighted avg       0.90      0.95      0.92      2627\n",
      "\n",
      "\n",
      " NaiveBayes - - - - - - - - - - - - - - - - - - - - - - - - - - - - - -\n",
      "              precision    recall  f1-score   support\n",
      "\n",
      "    No Virus       0.98      0.62      0.76      2493\n",
      "       Virus       0.10      0.80      0.18       134\n",
      "\n",
      "   micro avg       0.63      0.63      0.63      2627\n",
      "   macro avg       0.54      0.71      0.47      2627\n",
      "weighted avg       0.94      0.63      0.73      2627\n",
      "\n",
      "\n",
      " SupportVectorMachine - - - - - - - - - - - - - - - - - - - - - - - - - - - - - -\n",
      "              precision    recall  f1-score   support\n",
      "\n",
      "    No Virus       0.95      1.00      0.97      2493\n",
      "       Virus       0.00      0.00      0.00       134\n",
      "\n",
      "   micro avg       0.95      0.95      0.95      2627\n",
      "   macro avg       0.47      0.50      0.49      2627\n",
      "weighted avg       0.90      0.95      0.92      2627\n",
      "\n",
      "\n",
      " XGBoost - - - - - - - - - - - - - - - - - - - - - - - - - - - - - -\n",
      "              precision    recall  f1-score   support\n",
      "\n",
      "    No Virus       0.95      1.00      0.97      2493\n",
      "       Virus       0.00      0.00      0.00       134\n",
      "\n",
      "   micro avg       0.95      0.95      0.95      2627\n",
      "   macro avg       0.47      0.50      0.49      2627\n",
      "weighted avg       0.90      0.95      0.92      2627\n",
      "\n"
     ]
    },
    {
     "name": "stderr",
     "output_type": "stream",
     "text": [
      "/anaconda3/lib/python3.7/site-packages/sklearn/metrics/classification.py:1143: UndefinedMetricWarning: Precision and F-score are ill-defined and being set to 0.0 in labels with no predicted samples.\n",
      "  'precision', 'predicted', average, warn_for)\n",
      "/anaconda3/lib/python3.7/site-packages/sklearn/metrics/classification.py:1143: UndefinedMetricWarning: Precision and F-score are ill-defined and being set to 0.0 in labels with no predicted samples.\n",
      "  'precision', 'predicted', average, warn_for)\n"
     ]
    }
   ],
   "source": [
    "# Dictionary containing the model names and their scores\n",
    "models_met = {}\n",
    "\n",
    "# Looping through each model's predictions and getting their classification reports\n",
    "for name, pipe in model_pipelines.items():\n",
    "    print('\\n '+ name + ' -'*30)\n",
    "    \n",
    "    # Classification Report\n",
    "    report = classification_report(y_test, pipe.predict(X_test), target_names=['No Virus', 'Virus'], output_dict=False)\n",
    "    \n",
    "    print(report)"
   ]
  },
  {
   "cell_type": "markdown",
   "metadata": {},
   "source": [
    "## Grid Searching"
   ]
  },
  {
   "cell_type": "code",
   "execution_count": 123,
   "metadata": {},
   "outputs": [],
   "source": [
    "from sklearn.model_selection import GridSearchCV"
   ]
  },
  {
   "cell_type": "code",
   "execution_count": 124,
   "metadata": {},
   "outputs": [],
   "source": [
    "# Parameters to Tune\n",
    "nb_params = {'clf__alpha': [0,.5,1],\n",
    "             'clf__norm': [True, False]}\n",
    "\n",
    "rf_params = {'clf__n_estimators': [50,100],\n",
    "             'clf__criterion': ['gini', 'entropy'],\n",
    "             'clf__max_depth': [None, 2,4],\n",
    "             'clf__min_samples_split': [2,4],\n",
    "             'clf__min_samples_leaf': [2, 3]}\n",
    "\n",
    "knn_params = {\"clf__n_neighbors\": [5, 25, 50, 100, 200],\n",
    "              \"clf__weights\": ['uniform', 'distance'],\n",
    "              \"clf__p\": [1,2]}"
   ]
  },
  {
   "cell_type": "code",
   "execution_count": 125,
   "metadata": {},
   "outputs": [],
   "source": [
    "# Creating a dictionary for the Top Classifiers with their respective parameters\n",
    "top = {'RandomForest': [pipe_rf, rf_params],\n",
    "       'KNN': [pipe_knn, knn_params],\n",
    "       'NaiveBayes': [pipe_nb, nb_params]}"
   ]
  },
  {
   "cell_type": "code",
   "execution_count": 126,
   "metadata": {
    "scrolled": true
   },
   "outputs": [
    {
     "name": "stdout",
     "output_type": "stream",
     "text": [
      "RandomForest - - - - - - - - - - - - - - - - - - - - - - - - - - - - - -\n",
      "Fitting 3 folds for each of 48 candidates, totalling 144 fits\n",
      "[CV] clf__criterion=gini, clf__max_depth=None, clf__min_samples_leaf=2, clf__min_samples_split=2, clf__n_estimators=50 \n"
     ]
    },
    {
     "name": "stderr",
     "output_type": "stream",
     "text": [
      "[Parallel(n_jobs=1)]: Using backend SequentialBackend with 1 concurrent workers.\n"
     ]
    },
    {
     "name": "stdout",
     "output_type": "stream",
     "text": [
      "[CV]  clf__criterion=gini, clf__max_depth=None, clf__min_samples_leaf=2, clf__min_samples_split=2, clf__n_estimators=50, total=   0.2s\n",
      "[CV] clf__criterion=gini, clf__max_depth=None, clf__min_samples_leaf=2, clf__min_samples_split=2, clf__n_estimators=50 \n",
      "[CV]  clf__criterion=gini, clf__max_depth=None, clf__min_samples_leaf=2, clf__min_samples_split=2, clf__n_estimators=50, total=   0.2s\n",
      "[CV] clf__criterion=gini, clf__max_depth=None, clf__min_samples_leaf=2, clf__min_samples_split=2, clf__n_estimators=50 \n"
     ]
    },
    {
     "name": "stderr",
     "output_type": "stream",
     "text": [
      "[Parallel(n_jobs=1)]: Done   1 out of   1 | elapsed:    0.2s remaining:    0.0s\n"
     ]
    },
    {
     "name": "stdout",
     "output_type": "stream",
     "text": [
      "[CV]  clf__criterion=gini, clf__max_depth=None, clf__min_samples_leaf=2, clf__min_samples_split=2, clf__n_estimators=50, total=   0.2s\n",
      "[CV] clf__criterion=gini, clf__max_depth=None, clf__min_samples_leaf=2, clf__min_samples_split=2, clf__n_estimators=100 \n",
      "[CV]  clf__criterion=gini, clf__max_depth=None, clf__min_samples_leaf=2, clf__min_samples_split=2, clf__n_estimators=100, total=   0.3s\n",
      "[CV] clf__criterion=gini, clf__max_depth=None, clf__min_samples_leaf=2, clf__min_samples_split=2, clf__n_estimators=100 \n",
      "[CV]  clf__criterion=gini, clf__max_depth=None, clf__min_samples_leaf=2, clf__min_samples_split=2, clf__n_estimators=100, total=   0.3s\n",
      "[CV] clf__criterion=gini, clf__max_depth=None, clf__min_samples_leaf=2, clf__min_samples_split=2, clf__n_estimators=100 \n",
      "[CV]  clf__criterion=gini, clf__max_depth=None, clf__min_samples_leaf=2, clf__min_samples_split=2, clf__n_estimators=100, total=   0.3s\n",
      "[CV] clf__criterion=gini, clf__max_depth=None, clf__min_samples_leaf=2, clf__min_samples_split=4, clf__n_estimators=50 \n",
      "[CV]  clf__criterion=gini, clf__max_depth=None, clf__min_samples_leaf=2, clf__min_samples_split=4, clf__n_estimators=50, total=   0.2s\n",
      "[CV] clf__criterion=gini, clf__max_depth=None, clf__min_samples_leaf=2, clf__min_samples_split=4, clf__n_estimators=50 \n",
      "[CV]  clf__criterion=gini, clf__max_depth=None, clf__min_samples_leaf=2, clf__min_samples_split=4, clf__n_estimators=50, total=   0.2s\n",
      "[CV] clf__criterion=gini, clf__max_depth=None, clf__min_samples_leaf=2, clf__min_samples_split=4, clf__n_estimators=50 \n",
      "[CV]  clf__criterion=gini, clf__max_depth=None, clf__min_samples_leaf=2, clf__min_samples_split=4, clf__n_estimators=50, total=   0.2s\n",
      "[CV] clf__criterion=gini, clf__max_depth=None, clf__min_samples_leaf=2, clf__min_samples_split=4, clf__n_estimators=100 \n",
      "[CV]  clf__criterion=gini, clf__max_depth=None, clf__min_samples_leaf=2, clf__min_samples_split=4, clf__n_estimators=100, total=   0.3s\n",
      "[CV] clf__criterion=gini, clf__max_depth=None, clf__min_samples_leaf=2, clf__min_samples_split=4, clf__n_estimators=100 \n",
      "[CV]  clf__criterion=gini, clf__max_depth=None, clf__min_samples_leaf=2, clf__min_samples_split=4, clf__n_estimators=100, total=   0.5s\n",
      "[CV] clf__criterion=gini, clf__max_depth=None, clf__min_samples_leaf=2, clf__min_samples_split=4, clf__n_estimators=100 \n",
      "[CV]  clf__criterion=gini, clf__max_depth=None, clf__min_samples_leaf=2, clf__min_samples_split=4, clf__n_estimators=100, total=   0.4s\n",
      "[CV] clf__criterion=gini, clf__max_depth=None, clf__min_samples_leaf=3, clf__min_samples_split=2, clf__n_estimators=50 \n",
      "[CV]  clf__criterion=gini, clf__max_depth=None, clf__min_samples_leaf=3, clf__min_samples_split=2, clf__n_estimators=50, total=   0.2s\n",
      "[CV] clf__criterion=gini, clf__max_depth=None, clf__min_samples_leaf=3, clf__min_samples_split=2, clf__n_estimators=50 \n",
      "[CV]  clf__criterion=gini, clf__max_depth=None, clf__min_samples_leaf=3, clf__min_samples_split=2, clf__n_estimators=50, total=   0.2s\n",
      "[CV] clf__criterion=gini, clf__max_depth=None, clf__min_samples_leaf=3, clf__min_samples_split=2, clf__n_estimators=50 \n",
      "[CV]  clf__criterion=gini, clf__max_depth=None, clf__min_samples_leaf=3, clf__min_samples_split=2, clf__n_estimators=50, total=   0.2s\n",
      "[CV] clf__criterion=gini, clf__max_depth=None, clf__min_samples_leaf=3, clf__min_samples_split=2, clf__n_estimators=100 \n",
      "[CV]  clf__criterion=gini, clf__max_depth=None, clf__min_samples_leaf=3, clf__min_samples_split=2, clf__n_estimators=100, total=   0.4s\n",
      "[CV] clf__criterion=gini, clf__max_depth=None, clf__min_samples_leaf=3, clf__min_samples_split=2, clf__n_estimators=100 \n",
      "[CV]  clf__criterion=gini, clf__max_depth=None, clf__min_samples_leaf=3, clf__min_samples_split=2, clf__n_estimators=100, total=   0.3s\n",
      "[CV] clf__criterion=gini, clf__max_depth=None, clf__min_samples_leaf=3, clf__min_samples_split=2, clf__n_estimators=100 \n",
      "[CV]  clf__criterion=gini, clf__max_depth=None, clf__min_samples_leaf=3, clf__min_samples_split=2, clf__n_estimators=100, total=   0.4s\n",
      "[CV] clf__criterion=gini, clf__max_depth=None, clf__min_samples_leaf=3, clf__min_samples_split=4, clf__n_estimators=50 \n",
      "[CV]  clf__criterion=gini, clf__max_depth=None, clf__min_samples_leaf=3, clf__min_samples_split=4, clf__n_estimators=50, total=   0.2s\n",
      "[CV] clf__criterion=gini, clf__max_depth=None, clf__min_samples_leaf=3, clf__min_samples_split=4, clf__n_estimators=50 \n",
      "[CV]  clf__criterion=gini, clf__max_depth=None, clf__min_samples_leaf=3, clf__min_samples_split=4, clf__n_estimators=50, total=   0.2s\n",
      "[CV] clf__criterion=gini, clf__max_depth=None, clf__min_samples_leaf=3, clf__min_samples_split=4, clf__n_estimators=50 \n",
      "[CV]  clf__criterion=gini, clf__max_depth=None, clf__min_samples_leaf=3, clf__min_samples_split=4, clf__n_estimators=50, total=   0.2s\n",
      "[CV] clf__criterion=gini, clf__max_depth=None, clf__min_samples_leaf=3, clf__min_samples_split=4, clf__n_estimators=100 \n",
      "[CV]  clf__criterion=gini, clf__max_depth=None, clf__min_samples_leaf=3, clf__min_samples_split=4, clf__n_estimators=100, total=   0.3s\n",
      "[CV] clf__criterion=gini, clf__max_depth=None, clf__min_samples_leaf=3, clf__min_samples_split=4, clf__n_estimators=100 \n",
      "[CV]  clf__criterion=gini, clf__max_depth=None, clf__min_samples_leaf=3, clf__min_samples_split=4, clf__n_estimators=100, total=   0.3s\n",
      "[CV] clf__criterion=gini, clf__max_depth=None, clf__min_samples_leaf=3, clf__min_samples_split=4, clf__n_estimators=100 \n",
      "[CV]  clf__criterion=gini, clf__max_depth=None, clf__min_samples_leaf=3, clf__min_samples_split=4, clf__n_estimators=100, total=   0.3s\n",
      "[CV] clf__criterion=gini, clf__max_depth=2, clf__min_samples_leaf=2, clf__min_samples_split=2, clf__n_estimators=50 \n",
      "[CV]  clf__criterion=gini, clf__max_depth=2, clf__min_samples_leaf=2, clf__min_samples_split=2, clf__n_estimators=50, total=   0.1s\n",
      "[CV] clf__criterion=gini, clf__max_depth=2, clf__min_samples_leaf=2, clf__min_samples_split=2, clf__n_estimators=50 \n"
     ]
    },
    {
     "name": "stderr",
     "output_type": "stream",
     "text": [
      "/anaconda3/lib/python3.7/site-packages/sklearn/metrics/classification.py:1143: UndefinedMetricWarning: F-score is ill-defined and being set to 0.0 in labels with no predicted samples.\n",
      "  'precision', 'predicted', average, warn_for)\n",
      "/anaconda3/lib/python3.7/site-packages/sklearn/metrics/classification.py:1143: UndefinedMetricWarning: F-score is ill-defined and being set to 0.0 in labels with no predicted samples.\n",
      "  'precision', 'predicted', average, warn_for)\n",
      "/anaconda3/lib/python3.7/site-packages/sklearn/metrics/classification.py:1143: UndefinedMetricWarning: F-score is ill-defined and being set to 0.0 in labels with no predicted samples.\n",
      "  'precision', 'predicted', average, warn_for)\n",
      "/anaconda3/lib/python3.7/site-packages/sklearn/metrics/classification.py:1143: UndefinedMetricWarning: F-score is ill-defined and being set to 0.0 in labels with no predicted samples.\n",
      "  'precision', 'predicted', average, warn_for)\n"
     ]
    },
    {
     "name": "stdout",
     "output_type": "stream",
     "text": [
      "[CV]  clf__criterion=gini, clf__max_depth=2, clf__min_samples_leaf=2, clf__min_samples_split=2, clf__n_estimators=50, total=   0.1s\n",
      "[CV] clf__criterion=gini, clf__max_depth=2, clf__min_samples_leaf=2, clf__min_samples_split=2, clf__n_estimators=50 \n",
      "[CV]  clf__criterion=gini, clf__max_depth=2, clf__min_samples_leaf=2, clf__min_samples_split=2, clf__n_estimators=50, total=   0.1s\n",
      "[CV] clf__criterion=gini, clf__max_depth=2, clf__min_samples_leaf=2, clf__min_samples_split=2, clf__n_estimators=100 \n"
     ]
    },
    {
     "name": "stderr",
     "output_type": "stream",
     "text": [
      "/anaconda3/lib/python3.7/site-packages/sklearn/metrics/classification.py:1143: UndefinedMetricWarning: F-score is ill-defined and being set to 0.0 in labels with no predicted samples.\n",
      "  'precision', 'predicted', average, warn_for)\n",
      "/anaconda3/lib/python3.7/site-packages/sklearn/metrics/classification.py:1143: UndefinedMetricWarning: F-score is ill-defined and being set to 0.0 in labels with no predicted samples.\n",
      "  'precision', 'predicted', average, warn_for)\n",
      "/anaconda3/lib/python3.7/site-packages/sklearn/metrics/classification.py:1143: UndefinedMetricWarning: F-score is ill-defined and being set to 0.0 in labels with no predicted samples.\n",
      "  'precision', 'predicted', average, warn_for)\n",
      "/anaconda3/lib/python3.7/site-packages/sklearn/metrics/classification.py:1143: UndefinedMetricWarning: F-score is ill-defined and being set to 0.0 in labels with no predicted samples.\n",
      "  'precision', 'predicted', average, warn_for)\n"
     ]
    },
    {
     "name": "stdout",
     "output_type": "stream",
     "text": [
      "[CV]  clf__criterion=gini, clf__max_depth=2, clf__min_samples_leaf=2, clf__min_samples_split=2, clf__n_estimators=100, total=   0.3s\n",
      "[CV] clf__criterion=gini, clf__max_depth=2, clf__min_samples_leaf=2, clf__min_samples_split=2, clf__n_estimators=100 \n"
     ]
    },
    {
     "name": "stderr",
     "output_type": "stream",
     "text": [
      "/anaconda3/lib/python3.7/site-packages/sklearn/metrics/classification.py:1143: UndefinedMetricWarning: F-score is ill-defined and being set to 0.0 in labels with no predicted samples.\n",
      "  'precision', 'predicted', average, warn_for)\n",
      "/anaconda3/lib/python3.7/site-packages/sklearn/metrics/classification.py:1143: UndefinedMetricWarning: F-score is ill-defined and being set to 0.0 in labels with no predicted samples.\n",
      "  'precision', 'predicted', average, warn_for)\n"
     ]
    },
    {
     "name": "stdout",
     "output_type": "stream",
     "text": [
      "[CV]  clf__criterion=gini, clf__max_depth=2, clf__min_samples_leaf=2, clf__min_samples_split=2, clf__n_estimators=100, total=   0.2s\n",
      "[CV] clf__criterion=gini, clf__max_depth=2, clf__min_samples_leaf=2, clf__min_samples_split=2, clf__n_estimators=100 \n"
     ]
    },
    {
     "name": "stderr",
     "output_type": "stream",
     "text": [
      "/anaconda3/lib/python3.7/site-packages/sklearn/metrics/classification.py:1143: UndefinedMetricWarning: F-score is ill-defined and being set to 0.0 in labels with no predicted samples.\n",
      "  'precision', 'predicted', average, warn_for)\n",
      "/anaconda3/lib/python3.7/site-packages/sklearn/metrics/classification.py:1143: UndefinedMetricWarning: F-score is ill-defined and being set to 0.0 in labels with no predicted samples.\n",
      "  'precision', 'predicted', average, warn_for)\n",
      "/anaconda3/lib/python3.7/site-packages/sklearn/metrics/classification.py:1143: UndefinedMetricWarning: F-score is ill-defined and being set to 0.0 in labels with no predicted samples.\n",
      "  'precision', 'predicted', average, warn_for)\n",
      "/anaconda3/lib/python3.7/site-packages/sklearn/metrics/classification.py:1143: UndefinedMetricWarning: F-score is ill-defined and being set to 0.0 in labels with no predicted samples.\n",
      "  'precision', 'predicted', average, warn_for)\n"
     ]
    },
    {
     "name": "stdout",
     "output_type": "stream",
     "text": [
      "[CV]  clf__criterion=gini, clf__max_depth=2, clf__min_samples_leaf=2, clf__min_samples_split=2, clf__n_estimators=100, total=   0.2s\n",
      "[CV] clf__criterion=gini, clf__max_depth=2, clf__min_samples_leaf=2, clf__min_samples_split=4, clf__n_estimators=50 \n",
      "[CV]  clf__criterion=gini, clf__max_depth=2, clf__min_samples_leaf=2, clf__min_samples_split=4, clf__n_estimators=50, total=   0.1s\n",
      "[CV] clf__criterion=gini, clf__max_depth=2, clf__min_samples_leaf=2, clf__min_samples_split=4, clf__n_estimators=50 \n"
     ]
    },
    {
     "name": "stderr",
     "output_type": "stream",
     "text": [
      "/anaconda3/lib/python3.7/site-packages/sklearn/metrics/classification.py:1143: UndefinedMetricWarning: F-score is ill-defined and being set to 0.0 in labels with no predicted samples.\n",
      "  'precision', 'predicted', average, warn_for)\n",
      "/anaconda3/lib/python3.7/site-packages/sklearn/metrics/classification.py:1143: UndefinedMetricWarning: F-score is ill-defined and being set to 0.0 in labels with no predicted samples.\n",
      "  'precision', 'predicted', average, warn_for)\n",
      "/anaconda3/lib/python3.7/site-packages/sklearn/metrics/classification.py:1143: UndefinedMetricWarning: F-score is ill-defined and being set to 0.0 in labels with no predicted samples.\n",
      "  'precision', 'predicted', average, warn_for)\n",
      "/anaconda3/lib/python3.7/site-packages/sklearn/metrics/classification.py:1143: UndefinedMetricWarning: F-score is ill-defined and being set to 0.0 in labels with no predicted samples.\n",
      "  'precision', 'predicted', average, warn_for)\n"
     ]
    },
    {
     "name": "stdout",
     "output_type": "stream",
     "text": [
      "[CV]  clf__criterion=gini, clf__max_depth=2, clf__min_samples_leaf=2, clf__min_samples_split=4, clf__n_estimators=50, total=   0.1s\n",
      "[CV] clf__criterion=gini, clf__max_depth=2, clf__min_samples_leaf=2, clf__min_samples_split=4, clf__n_estimators=50 \n",
      "[CV]  clf__criterion=gini, clf__max_depth=2, clf__min_samples_leaf=2, clf__min_samples_split=4, clf__n_estimators=50, total=   0.1s\n",
      "[CV] clf__criterion=gini, clf__max_depth=2, clf__min_samples_leaf=2, clf__min_samples_split=4, clf__n_estimators=100 \n"
     ]
    },
    {
     "name": "stderr",
     "output_type": "stream",
     "text": [
      "/anaconda3/lib/python3.7/site-packages/sklearn/metrics/classification.py:1143: UndefinedMetricWarning: F-score is ill-defined and being set to 0.0 in labels with no predicted samples.\n",
      "  'precision', 'predicted', average, warn_for)\n",
      "/anaconda3/lib/python3.7/site-packages/sklearn/metrics/classification.py:1143: UndefinedMetricWarning: F-score is ill-defined and being set to 0.0 in labels with no predicted samples.\n",
      "  'precision', 'predicted', average, warn_for)\n"
     ]
    },
    {
     "name": "stdout",
     "output_type": "stream",
     "text": [
      "[CV]  clf__criterion=gini, clf__max_depth=2, clf__min_samples_leaf=2, clf__min_samples_split=4, clf__n_estimators=100, total=   0.2s\n",
      "[CV] clf__criterion=gini, clf__max_depth=2, clf__min_samples_leaf=2, clf__min_samples_split=4, clf__n_estimators=100 \n"
     ]
    },
    {
     "name": "stderr",
     "output_type": "stream",
     "text": [
      "/anaconda3/lib/python3.7/site-packages/sklearn/metrics/classification.py:1143: UndefinedMetricWarning: F-score is ill-defined and being set to 0.0 in labels with no predicted samples.\n",
      "  'precision', 'predicted', average, warn_for)\n",
      "/anaconda3/lib/python3.7/site-packages/sklearn/metrics/classification.py:1143: UndefinedMetricWarning: F-score is ill-defined and being set to 0.0 in labels with no predicted samples.\n",
      "  'precision', 'predicted', average, warn_for)\n"
     ]
    },
    {
     "name": "stdout",
     "output_type": "stream",
     "text": [
      "[CV]  clf__criterion=gini, clf__max_depth=2, clf__min_samples_leaf=2, clf__min_samples_split=4, clf__n_estimators=100, total=   0.2s\n",
      "[CV] clf__criterion=gini, clf__max_depth=2, clf__min_samples_leaf=2, clf__min_samples_split=4, clf__n_estimators=100 \n"
     ]
    },
    {
     "name": "stderr",
     "output_type": "stream",
     "text": [
      "/anaconda3/lib/python3.7/site-packages/sklearn/metrics/classification.py:1143: UndefinedMetricWarning: F-score is ill-defined and being set to 0.0 in labels with no predicted samples.\n",
      "  'precision', 'predicted', average, warn_for)\n",
      "/anaconda3/lib/python3.7/site-packages/sklearn/metrics/classification.py:1143: UndefinedMetricWarning: F-score is ill-defined and being set to 0.0 in labels with no predicted samples.\n",
      "  'precision', 'predicted', average, warn_for)\n",
      "/anaconda3/lib/python3.7/site-packages/sklearn/metrics/classification.py:1143: UndefinedMetricWarning: F-score is ill-defined and being set to 0.0 in labels with no predicted samples.\n",
      "  'precision', 'predicted', average, warn_for)\n",
      "/anaconda3/lib/python3.7/site-packages/sklearn/metrics/classification.py:1143: UndefinedMetricWarning: F-score is ill-defined and being set to 0.0 in labels with no predicted samples.\n",
      "  'precision', 'predicted', average, warn_for)\n"
     ]
    },
    {
     "name": "stdout",
     "output_type": "stream",
     "text": [
      "[CV]  clf__criterion=gini, clf__max_depth=2, clf__min_samples_leaf=2, clf__min_samples_split=4, clf__n_estimators=100, total=   0.2s\n",
      "[CV] clf__criterion=gini, clf__max_depth=2, clf__min_samples_leaf=3, clf__min_samples_split=2, clf__n_estimators=50 \n",
      "[CV]  clf__criterion=gini, clf__max_depth=2, clf__min_samples_leaf=3, clf__min_samples_split=2, clf__n_estimators=50, total=   0.1s\n",
      "[CV] clf__criterion=gini, clf__max_depth=2, clf__min_samples_leaf=3, clf__min_samples_split=2, clf__n_estimators=50 \n"
     ]
    },
    {
     "name": "stderr",
     "output_type": "stream",
     "text": [
      "/anaconda3/lib/python3.7/site-packages/sklearn/metrics/classification.py:1143: UndefinedMetricWarning: F-score is ill-defined and being set to 0.0 in labels with no predicted samples.\n",
      "  'precision', 'predicted', average, warn_for)\n",
      "/anaconda3/lib/python3.7/site-packages/sklearn/metrics/classification.py:1143: UndefinedMetricWarning: F-score is ill-defined and being set to 0.0 in labels with no predicted samples.\n",
      "  'precision', 'predicted', average, warn_for)\n",
      "/anaconda3/lib/python3.7/site-packages/sklearn/metrics/classification.py:1143: UndefinedMetricWarning: F-score is ill-defined and being set to 0.0 in labels with no predicted samples.\n",
      "  'precision', 'predicted', average, warn_for)\n",
      "/anaconda3/lib/python3.7/site-packages/sklearn/metrics/classification.py:1143: UndefinedMetricWarning: F-score is ill-defined and being set to 0.0 in labels with no predicted samples.\n",
      "  'precision', 'predicted', average, warn_for)\n"
     ]
    },
    {
     "name": "stdout",
     "output_type": "stream",
     "text": [
      "[CV]  clf__criterion=gini, clf__max_depth=2, clf__min_samples_leaf=3, clf__min_samples_split=2, clf__n_estimators=50, total=   0.1s\n",
      "[CV] clf__criterion=gini, clf__max_depth=2, clf__min_samples_leaf=3, clf__min_samples_split=2, clf__n_estimators=50 \n",
      "[CV]  clf__criterion=gini, clf__max_depth=2, clf__min_samples_leaf=3, clf__min_samples_split=2, clf__n_estimators=50, total=   0.1s\n",
      "[CV] clf__criterion=gini, clf__max_depth=2, clf__min_samples_leaf=3, clf__min_samples_split=2, clf__n_estimators=100 \n"
     ]
    },
    {
     "name": "stderr",
     "output_type": "stream",
     "text": [
      "/anaconda3/lib/python3.7/site-packages/sklearn/metrics/classification.py:1143: UndefinedMetricWarning: F-score is ill-defined and being set to 0.0 in labels with no predicted samples.\n",
      "  'precision', 'predicted', average, warn_for)\n",
      "/anaconda3/lib/python3.7/site-packages/sklearn/metrics/classification.py:1143: UndefinedMetricWarning: F-score is ill-defined and being set to 0.0 in labels with no predicted samples.\n",
      "  'precision', 'predicted', average, warn_for)\n"
     ]
    },
    {
     "name": "stdout",
     "output_type": "stream",
     "text": [
      "[CV]  clf__criterion=gini, clf__max_depth=2, clf__min_samples_leaf=3, clf__min_samples_split=2, clf__n_estimators=100, total=   0.2s\n",
      "[CV] clf__criterion=gini, clf__max_depth=2, clf__min_samples_leaf=3, clf__min_samples_split=2, clf__n_estimators=100 \n"
     ]
    },
    {
     "name": "stderr",
     "output_type": "stream",
     "text": [
      "/anaconda3/lib/python3.7/site-packages/sklearn/metrics/classification.py:1143: UndefinedMetricWarning: F-score is ill-defined and being set to 0.0 in labels with no predicted samples.\n",
      "  'precision', 'predicted', average, warn_for)\n",
      "/anaconda3/lib/python3.7/site-packages/sklearn/metrics/classification.py:1143: UndefinedMetricWarning: F-score is ill-defined and being set to 0.0 in labels with no predicted samples.\n",
      "  'precision', 'predicted', average, warn_for)\n"
     ]
    },
    {
     "name": "stdout",
     "output_type": "stream",
     "text": [
      "[CV]  clf__criterion=gini, clf__max_depth=2, clf__min_samples_leaf=3, clf__min_samples_split=2, clf__n_estimators=100, total=   0.2s\n",
      "[CV] clf__criterion=gini, clf__max_depth=2, clf__min_samples_leaf=3, clf__min_samples_split=2, clf__n_estimators=100 \n"
     ]
    },
    {
     "name": "stderr",
     "output_type": "stream",
     "text": [
      "/anaconda3/lib/python3.7/site-packages/sklearn/metrics/classification.py:1143: UndefinedMetricWarning: F-score is ill-defined and being set to 0.0 in labels with no predicted samples.\n",
      "  'precision', 'predicted', average, warn_for)\n",
      "/anaconda3/lib/python3.7/site-packages/sklearn/metrics/classification.py:1143: UndefinedMetricWarning: F-score is ill-defined and being set to 0.0 in labels with no predicted samples.\n",
      "  'precision', 'predicted', average, warn_for)\n",
      "/anaconda3/lib/python3.7/site-packages/sklearn/metrics/classification.py:1143: UndefinedMetricWarning: F-score is ill-defined and being set to 0.0 in labels with no predicted samples.\n",
      "  'precision', 'predicted', average, warn_for)\n",
      "/anaconda3/lib/python3.7/site-packages/sklearn/metrics/classification.py:1143: UndefinedMetricWarning: F-score is ill-defined and being set to 0.0 in labels with no predicted samples.\n",
      "  'precision', 'predicted', average, warn_for)\n"
     ]
    },
    {
     "name": "stdout",
     "output_type": "stream",
     "text": [
      "[CV]  clf__criterion=gini, clf__max_depth=2, clf__min_samples_leaf=3, clf__min_samples_split=2, clf__n_estimators=100, total=   0.2s\n",
      "[CV] clf__criterion=gini, clf__max_depth=2, clf__min_samples_leaf=3, clf__min_samples_split=4, clf__n_estimators=50 \n",
      "[CV]  clf__criterion=gini, clf__max_depth=2, clf__min_samples_leaf=3, clf__min_samples_split=4, clf__n_estimators=50, total=   0.1s\n",
      "[CV] clf__criterion=gini, clf__max_depth=2, clf__min_samples_leaf=3, clf__min_samples_split=4, clf__n_estimators=50 \n"
     ]
    },
    {
     "name": "stderr",
     "output_type": "stream",
     "text": [
      "/anaconda3/lib/python3.7/site-packages/sklearn/metrics/classification.py:1143: UndefinedMetricWarning: F-score is ill-defined and being set to 0.0 in labels with no predicted samples.\n",
      "  'precision', 'predicted', average, warn_for)\n",
      "/anaconda3/lib/python3.7/site-packages/sklearn/metrics/classification.py:1143: UndefinedMetricWarning: F-score is ill-defined and being set to 0.0 in labels with no predicted samples.\n",
      "  'precision', 'predicted', average, warn_for)\n",
      "/anaconda3/lib/python3.7/site-packages/sklearn/metrics/classification.py:1143: UndefinedMetricWarning: F-score is ill-defined and being set to 0.0 in labels with no predicted samples.\n",
      "  'precision', 'predicted', average, warn_for)\n",
      "/anaconda3/lib/python3.7/site-packages/sklearn/metrics/classification.py:1143: UndefinedMetricWarning: F-score is ill-defined and being set to 0.0 in labels with no predicted samples.\n",
      "  'precision', 'predicted', average, warn_for)\n"
     ]
    },
    {
     "name": "stdout",
     "output_type": "stream",
     "text": [
      "[CV]  clf__criterion=gini, clf__max_depth=2, clf__min_samples_leaf=3, clf__min_samples_split=4, clf__n_estimators=50, total=   0.1s\n",
      "[CV] clf__criterion=gini, clf__max_depth=2, clf__min_samples_leaf=3, clf__min_samples_split=4, clf__n_estimators=50 \n",
      "[CV]  clf__criterion=gini, clf__max_depth=2, clf__min_samples_leaf=3, clf__min_samples_split=4, clf__n_estimators=50, total=   0.1s\n",
      "[CV] clf__criterion=gini, clf__max_depth=2, clf__min_samples_leaf=3, clf__min_samples_split=4, clf__n_estimators=100 \n"
     ]
    },
    {
     "name": "stderr",
     "output_type": "stream",
     "text": [
      "/anaconda3/lib/python3.7/site-packages/sklearn/metrics/classification.py:1143: UndefinedMetricWarning: F-score is ill-defined and being set to 0.0 in labels with no predicted samples.\n",
      "  'precision', 'predicted', average, warn_for)\n",
      "/anaconda3/lib/python3.7/site-packages/sklearn/metrics/classification.py:1143: UndefinedMetricWarning: F-score is ill-defined and being set to 0.0 in labels with no predicted samples.\n",
      "  'precision', 'predicted', average, warn_for)\n"
     ]
    },
    {
     "name": "stdout",
     "output_type": "stream",
     "text": [
      "[CV]  clf__criterion=gini, clf__max_depth=2, clf__min_samples_leaf=3, clf__min_samples_split=4, clf__n_estimators=100, total=   0.2s\n",
      "[CV] clf__criterion=gini, clf__max_depth=2, clf__min_samples_leaf=3, clf__min_samples_split=4, clf__n_estimators=100 \n"
     ]
    },
    {
     "name": "stderr",
     "output_type": "stream",
     "text": [
      "/anaconda3/lib/python3.7/site-packages/sklearn/metrics/classification.py:1143: UndefinedMetricWarning: F-score is ill-defined and being set to 0.0 in labels with no predicted samples.\n",
      "  'precision', 'predicted', average, warn_for)\n",
      "/anaconda3/lib/python3.7/site-packages/sklearn/metrics/classification.py:1143: UndefinedMetricWarning: F-score is ill-defined and being set to 0.0 in labels with no predicted samples.\n",
      "  'precision', 'predicted', average, warn_for)\n"
     ]
    },
    {
     "name": "stdout",
     "output_type": "stream",
     "text": [
      "[CV]  clf__criterion=gini, clf__max_depth=2, clf__min_samples_leaf=3, clf__min_samples_split=4, clf__n_estimators=100, total=   0.2s\n",
      "[CV] clf__criterion=gini, clf__max_depth=2, clf__min_samples_leaf=3, clf__min_samples_split=4, clf__n_estimators=100 \n"
     ]
    },
    {
     "name": "stderr",
     "output_type": "stream",
     "text": [
      "/anaconda3/lib/python3.7/site-packages/sklearn/metrics/classification.py:1143: UndefinedMetricWarning: F-score is ill-defined and being set to 0.0 in labels with no predicted samples.\n",
      "  'precision', 'predicted', average, warn_for)\n",
      "/anaconda3/lib/python3.7/site-packages/sklearn/metrics/classification.py:1143: UndefinedMetricWarning: F-score is ill-defined and being set to 0.0 in labels with no predicted samples.\n",
      "  'precision', 'predicted', average, warn_for)\n",
      "/anaconda3/lib/python3.7/site-packages/sklearn/metrics/classification.py:1143: UndefinedMetricWarning: F-score is ill-defined and being set to 0.0 in labels with no predicted samples.\n",
      "  'precision', 'predicted', average, warn_for)\n"
     ]
    },
    {
     "name": "stdout",
     "output_type": "stream",
     "text": [
      "[CV]  clf__criterion=gini, clf__max_depth=2, clf__min_samples_leaf=3, clf__min_samples_split=4, clf__n_estimators=100, total=   0.3s\n",
      "[CV] clf__criterion=gini, clf__max_depth=4, clf__min_samples_leaf=2, clf__min_samples_split=2, clf__n_estimators=50 \n",
      "[CV]  clf__criterion=gini, clf__max_depth=4, clf__min_samples_leaf=2, clf__min_samples_split=2, clf__n_estimators=50, total=   0.1s\n",
      "[CV] clf__criterion=gini, clf__max_depth=4, clf__min_samples_leaf=2, clf__min_samples_split=2, clf__n_estimators=50 \n"
     ]
    },
    {
     "name": "stderr",
     "output_type": "stream",
     "text": [
      "/anaconda3/lib/python3.7/site-packages/sklearn/metrics/classification.py:1143: UndefinedMetricWarning: F-score is ill-defined and being set to 0.0 in labels with no predicted samples.\n",
      "  'precision', 'predicted', average, warn_for)\n",
      "/anaconda3/lib/python3.7/site-packages/sklearn/metrics/classification.py:1143: UndefinedMetricWarning: F-score is ill-defined and being set to 0.0 in labels with no predicted samples.\n",
      "  'precision', 'predicted', average, warn_for)\n",
      "/anaconda3/lib/python3.7/site-packages/sklearn/metrics/classification.py:1143: UndefinedMetricWarning: F-score is ill-defined and being set to 0.0 in labels with no predicted samples.\n",
      "  'precision', 'predicted', average, warn_for)\n"
     ]
    },
    {
     "name": "stdout",
     "output_type": "stream",
     "text": [
      "[CV]  clf__criterion=gini, clf__max_depth=4, clf__min_samples_leaf=2, clf__min_samples_split=2, clf__n_estimators=50, total=   0.1s\n",
      "[CV] clf__criterion=gini, clf__max_depth=4, clf__min_samples_leaf=2, clf__min_samples_split=2, clf__n_estimators=50 \n",
      "[CV]  clf__criterion=gini, clf__max_depth=4, clf__min_samples_leaf=2, clf__min_samples_split=2, clf__n_estimators=50, total=   0.1s\n",
      "[CV] clf__criterion=gini, clf__max_depth=4, clf__min_samples_leaf=2, clf__min_samples_split=2, clf__n_estimators=100 \n"
     ]
    },
    {
     "name": "stderr",
     "output_type": "stream",
     "text": [
      "/anaconda3/lib/python3.7/site-packages/sklearn/metrics/classification.py:1143: UndefinedMetricWarning: F-score is ill-defined and being set to 0.0 in labels with no predicted samples.\n",
      "  'precision', 'predicted', average, warn_for)\n",
      "/anaconda3/lib/python3.7/site-packages/sklearn/metrics/classification.py:1143: UndefinedMetricWarning: F-score is ill-defined and being set to 0.0 in labels with no predicted samples.\n",
      "  'precision', 'predicted', average, warn_for)\n",
      "/anaconda3/lib/python3.7/site-packages/sklearn/metrics/classification.py:1143: UndefinedMetricWarning: F-score is ill-defined and being set to 0.0 in labels with no predicted samples.\n",
      "  'precision', 'predicted', average, warn_for)\n",
      "/anaconda3/lib/python3.7/site-packages/sklearn/metrics/classification.py:1143: UndefinedMetricWarning: F-score is ill-defined and being set to 0.0 in labels with no predicted samples.\n",
      "  'precision', 'predicted', average, warn_for)\n"
     ]
    },
    {
     "name": "stdout",
     "output_type": "stream",
     "text": [
      "[CV]  clf__criterion=gini, clf__max_depth=4, clf__min_samples_leaf=2, clf__min_samples_split=2, clf__n_estimators=100, total=   0.2s\n",
      "[CV] clf__criterion=gini, clf__max_depth=4, clf__min_samples_leaf=2, clf__min_samples_split=2, clf__n_estimators=100 \n"
     ]
    },
    {
     "name": "stderr",
     "output_type": "stream",
     "text": [
      "/anaconda3/lib/python3.7/site-packages/sklearn/metrics/classification.py:1143: UndefinedMetricWarning: F-score is ill-defined and being set to 0.0 in labels with no predicted samples.\n",
      "  'precision', 'predicted', average, warn_for)\n",
      "/anaconda3/lib/python3.7/site-packages/sklearn/metrics/classification.py:1143: UndefinedMetricWarning: F-score is ill-defined and being set to 0.0 in labels with no predicted samples.\n",
      "  'precision', 'predicted', average, warn_for)\n"
     ]
    },
    {
     "name": "stdout",
     "output_type": "stream",
     "text": [
      "[CV]  clf__criterion=gini, clf__max_depth=4, clf__min_samples_leaf=2, clf__min_samples_split=2, clf__n_estimators=100, total=   0.3s\n",
      "[CV] clf__criterion=gini, clf__max_depth=4, clf__min_samples_leaf=2, clf__min_samples_split=2, clf__n_estimators=100 \n"
     ]
    },
    {
     "name": "stderr",
     "output_type": "stream",
     "text": [
      "/anaconda3/lib/python3.7/site-packages/sklearn/metrics/classification.py:1143: UndefinedMetricWarning: F-score is ill-defined and being set to 0.0 in labels with no predicted samples.\n",
      "  'precision', 'predicted', average, warn_for)\n",
      "/anaconda3/lib/python3.7/site-packages/sklearn/metrics/classification.py:1143: UndefinedMetricWarning: F-score is ill-defined and being set to 0.0 in labels with no predicted samples.\n",
      "  'precision', 'predicted', average, warn_for)\n",
      "/anaconda3/lib/python3.7/site-packages/sklearn/metrics/classification.py:1143: UndefinedMetricWarning: F-score is ill-defined and being set to 0.0 in labels with no predicted samples.\n",
      "  'precision', 'predicted', average, warn_for)\n",
      "/anaconda3/lib/python3.7/site-packages/sklearn/metrics/classification.py:1143: UndefinedMetricWarning: F-score is ill-defined and being set to 0.0 in labels with no predicted samples.\n",
      "  'precision', 'predicted', average, warn_for)\n"
     ]
    },
    {
     "name": "stdout",
     "output_type": "stream",
     "text": [
      "[CV]  clf__criterion=gini, clf__max_depth=4, clf__min_samples_leaf=2, clf__min_samples_split=2, clf__n_estimators=100, total=   0.2s\n",
      "[CV] clf__criterion=gini, clf__max_depth=4, clf__min_samples_leaf=2, clf__min_samples_split=4, clf__n_estimators=50 \n",
      "[CV]  clf__criterion=gini, clf__max_depth=4, clf__min_samples_leaf=2, clf__min_samples_split=4, clf__n_estimators=50, total=   0.1s\n",
      "[CV] clf__criterion=gini, clf__max_depth=4, clf__min_samples_leaf=2, clf__min_samples_split=4, clf__n_estimators=50 \n"
     ]
    },
    {
     "name": "stderr",
     "output_type": "stream",
     "text": [
      "/anaconda3/lib/python3.7/site-packages/sklearn/metrics/classification.py:1143: UndefinedMetricWarning: F-score is ill-defined and being set to 0.0 in labels with no predicted samples.\n",
      "  'precision', 'predicted', average, warn_for)\n",
      "/anaconda3/lib/python3.7/site-packages/sklearn/metrics/classification.py:1143: UndefinedMetricWarning: F-score is ill-defined and being set to 0.0 in labels with no predicted samples.\n",
      "  'precision', 'predicted', average, warn_for)\n",
      "/anaconda3/lib/python3.7/site-packages/sklearn/metrics/classification.py:1143: UndefinedMetricWarning: F-score is ill-defined and being set to 0.0 in labels with no predicted samples.\n",
      "  'precision', 'predicted', average, warn_for)\n",
      "/anaconda3/lib/python3.7/site-packages/sklearn/metrics/classification.py:1143: UndefinedMetricWarning: F-score is ill-defined and being set to 0.0 in labels with no predicted samples.\n",
      "  'precision', 'predicted', average, warn_for)\n"
     ]
    },
    {
     "name": "stdout",
     "output_type": "stream",
     "text": [
      "[CV]  clf__criterion=gini, clf__max_depth=4, clf__min_samples_leaf=2, clf__min_samples_split=4, clf__n_estimators=50, total=   0.1s\n",
      "[CV] clf__criterion=gini, clf__max_depth=4, clf__min_samples_leaf=2, clf__min_samples_split=4, clf__n_estimators=50 \n",
      "[CV]  clf__criterion=gini, clf__max_depth=4, clf__min_samples_leaf=2, clf__min_samples_split=4, clf__n_estimators=50, total=   0.1s\n",
      "[CV] clf__criterion=gini, clf__max_depth=4, clf__min_samples_leaf=2, clf__min_samples_split=4, clf__n_estimators=100 \n"
     ]
    },
    {
     "name": "stderr",
     "output_type": "stream",
     "text": [
      "/anaconda3/lib/python3.7/site-packages/sklearn/metrics/classification.py:1143: UndefinedMetricWarning: F-score is ill-defined and being set to 0.0 in labels with no predicted samples.\n",
      "  'precision', 'predicted', average, warn_for)\n",
      "/anaconda3/lib/python3.7/site-packages/sklearn/metrics/classification.py:1143: UndefinedMetricWarning: F-score is ill-defined and being set to 0.0 in labels with no predicted samples.\n",
      "  'precision', 'predicted', average, warn_for)\n"
     ]
    },
    {
     "name": "stdout",
     "output_type": "stream",
     "text": [
      "[CV]  clf__criterion=gini, clf__max_depth=4, clf__min_samples_leaf=2, clf__min_samples_split=4, clf__n_estimators=100, total=   0.2s\n",
      "[CV] clf__criterion=gini, clf__max_depth=4, clf__min_samples_leaf=2, clf__min_samples_split=4, clf__n_estimators=100 \n"
     ]
    },
    {
     "name": "stderr",
     "output_type": "stream",
     "text": [
      "/anaconda3/lib/python3.7/site-packages/sklearn/metrics/classification.py:1143: UndefinedMetricWarning: F-score is ill-defined and being set to 0.0 in labels with no predicted samples.\n",
      "  'precision', 'predicted', average, warn_for)\n",
      "/anaconda3/lib/python3.7/site-packages/sklearn/metrics/classification.py:1143: UndefinedMetricWarning: F-score is ill-defined and being set to 0.0 in labels with no predicted samples.\n",
      "  'precision', 'predicted', average, warn_for)\n"
     ]
    },
    {
     "name": "stdout",
     "output_type": "stream",
     "text": [
      "[CV]  clf__criterion=gini, clf__max_depth=4, clf__min_samples_leaf=2, clf__min_samples_split=4, clf__n_estimators=100, total=   0.2s\n",
      "[CV] clf__criterion=gini, clf__max_depth=4, clf__min_samples_leaf=2, clf__min_samples_split=4, clf__n_estimators=100 \n"
     ]
    },
    {
     "name": "stderr",
     "output_type": "stream",
     "text": [
      "/anaconda3/lib/python3.7/site-packages/sklearn/metrics/classification.py:1143: UndefinedMetricWarning: F-score is ill-defined and being set to 0.0 in labels with no predicted samples.\n",
      "  'precision', 'predicted', average, warn_for)\n",
      "/anaconda3/lib/python3.7/site-packages/sklearn/metrics/classification.py:1143: UndefinedMetricWarning: F-score is ill-defined and being set to 0.0 in labels with no predicted samples.\n",
      "  'precision', 'predicted', average, warn_for)\n",
      "/anaconda3/lib/python3.7/site-packages/sklearn/metrics/classification.py:1143: UndefinedMetricWarning: F-score is ill-defined and being set to 0.0 in labels with no predicted samples.\n",
      "  'precision', 'predicted', average, warn_for)\n",
      "/anaconda3/lib/python3.7/site-packages/sklearn/metrics/classification.py:1143: UndefinedMetricWarning: F-score is ill-defined and being set to 0.0 in labels with no predicted samples.\n",
      "  'precision', 'predicted', average, warn_for)\n"
     ]
    },
    {
     "name": "stdout",
     "output_type": "stream",
     "text": [
      "[CV]  clf__criterion=gini, clf__max_depth=4, clf__min_samples_leaf=2, clf__min_samples_split=4, clf__n_estimators=100, total=   0.3s\n",
      "[CV] clf__criterion=gini, clf__max_depth=4, clf__min_samples_leaf=3, clf__min_samples_split=2, clf__n_estimators=50 \n",
      "[CV]  clf__criterion=gini, clf__max_depth=4, clf__min_samples_leaf=3, clf__min_samples_split=2, clf__n_estimators=50, total=   0.1s\n",
      "[CV] clf__criterion=gini, clf__max_depth=4, clf__min_samples_leaf=3, clf__min_samples_split=2, clf__n_estimators=50 \n"
     ]
    },
    {
     "name": "stderr",
     "output_type": "stream",
     "text": [
      "/anaconda3/lib/python3.7/site-packages/sklearn/metrics/classification.py:1143: UndefinedMetricWarning: F-score is ill-defined and being set to 0.0 in labels with no predicted samples.\n",
      "  'precision', 'predicted', average, warn_for)\n",
      "/anaconda3/lib/python3.7/site-packages/sklearn/metrics/classification.py:1143: UndefinedMetricWarning: F-score is ill-defined and being set to 0.0 in labels with no predicted samples.\n",
      "  'precision', 'predicted', average, warn_for)\n",
      "/anaconda3/lib/python3.7/site-packages/sklearn/metrics/classification.py:1143: UndefinedMetricWarning: F-score is ill-defined and being set to 0.0 in labels with no predicted samples.\n",
      "  'precision', 'predicted', average, warn_for)\n"
     ]
    },
    {
     "name": "stdout",
     "output_type": "stream",
     "text": [
      "[CV]  clf__criterion=gini, clf__max_depth=4, clf__min_samples_leaf=3, clf__min_samples_split=2, clf__n_estimators=50, total=   0.2s\n",
      "[CV] clf__criterion=gini, clf__max_depth=4, clf__min_samples_leaf=3, clf__min_samples_split=2, clf__n_estimators=50 \n",
      "[CV]  clf__criterion=gini, clf__max_depth=4, clf__min_samples_leaf=3, clf__min_samples_split=2, clf__n_estimators=50, total=   0.2s\n",
      "[CV] clf__criterion=gini, clf__max_depth=4, clf__min_samples_leaf=3, clf__min_samples_split=2, clf__n_estimators=100 \n"
     ]
    },
    {
     "name": "stderr",
     "output_type": "stream",
     "text": [
      "/anaconda3/lib/python3.7/site-packages/sklearn/metrics/classification.py:1143: UndefinedMetricWarning: F-score is ill-defined and being set to 0.0 in labels with no predicted samples.\n",
      "  'precision', 'predicted', average, warn_for)\n",
      "/anaconda3/lib/python3.7/site-packages/sklearn/metrics/classification.py:1143: UndefinedMetricWarning: F-score is ill-defined and being set to 0.0 in labels with no predicted samples.\n",
      "  'precision', 'predicted', average, warn_for)\n",
      "/anaconda3/lib/python3.7/site-packages/sklearn/metrics/classification.py:1143: UndefinedMetricWarning: F-score is ill-defined and being set to 0.0 in labels with no predicted samples.\n",
      "  'precision', 'predicted', average, warn_for)\n"
     ]
    },
    {
     "name": "stdout",
     "output_type": "stream",
     "text": [
      "[CV]  clf__criterion=gini, clf__max_depth=4, clf__min_samples_leaf=3, clf__min_samples_split=2, clf__n_estimators=100, total=   0.3s\n",
      "[CV] clf__criterion=gini, clf__max_depth=4, clf__min_samples_leaf=3, clf__min_samples_split=2, clf__n_estimators=100 \n"
     ]
    },
    {
     "name": "stderr",
     "output_type": "stream",
     "text": [
      "/anaconda3/lib/python3.7/site-packages/sklearn/metrics/classification.py:1143: UndefinedMetricWarning: F-score is ill-defined and being set to 0.0 in labels with no predicted samples.\n",
      "  'precision', 'predicted', average, warn_for)\n",
      "/anaconda3/lib/python3.7/site-packages/sklearn/metrics/classification.py:1143: UndefinedMetricWarning: F-score is ill-defined and being set to 0.0 in labels with no predicted samples.\n",
      "  'precision', 'predicted', average, warn_for)\n"
     ]
    },
    {
     "name": "stdout",
     "output_type": "stream",
     "text": [
      "[CV]  clf__criterion=gini, clf__max_depth=4, clf__min_samples_leaf=3, clf__min_samples_split=2, clf__n_estimators=100, total=   0.4s\n",
      "[CV] clf__criterion=gini, clf__max_depth=4, clf__min_samples_leaf=3, clf__min_samples_split=2, clf__n_estimators=100 \n"
     ]
    },
    {
     "name": "stderr",
     "output_type": "stream",
     "text": [
      "/anaconda3/lib/python3.7/site-packages/sklearn/metrics/classification.py:1143: UndefinedMetricWarning: F-score is ill-defined and being set to 0.0 in labels with no predicted samples.\n",
      "  'precision', 'predicted', average, warn_for)\n",
      "/anaconda3/lib/python3.7/site-packages/sklearn/metrics/classification.py:1143: UndefinedMetricWarning: F-score is ill-defined and being set to 0.0 in labels with no predicted samples.\n",
      "  'precision', 'predicted', average, warn_for)\n",
      "/anaconda3/lib/python3.7/site-packages/sklearn/metrics/classification.py:1143: UndefinedMetricWarning: F-score is ill-defined and being set to 0.0 in labels with no predicted samples.\n",
      "  'precision', 'predicted', average, warn_for)\n"
     ]
    },
    {
     "name": "stdout",
     "output_type": "stream",
     "text": [
      "[CV]  clf__criterion=gini, clf__max_depth=4, clf__min_samples_leaf=3, clf__min_samples_split=2, clf__n_estimators=100, total=   0.2s\n",
      "[CV] clf__criterion=gini, clf__max_depth=4, clf__min_samples_leaf=3, clf__min_samples_split=4, clf__n_estimators=50 \n",
      "[CV]  clf__criterion=gini, clf__max_depth=4, clf__min_samples_leaf=3, clf__min_samples_split=4, clf__n_estimators=50, total=   0.1s\n",
      "[CV] clf__criterion=gini, clf__max_depth=4, clf__min_samples_leaf=3, clf__min_samples_split=4, clf__n_estimators=50 \n"
     ]
    },
    {
     "name": "stderr",
     "output_type": "stream",
     "text": [
      "/anaconda3/lib/python3.7/site-packages/sklearn/metrics/classification.py:1143: UndefinedMetricWarning: F-score is ill-defined and being set to 0.0 in labels with no predicted samples.\n",
      "  'precision', 'predicted', average, warn_for)\n",
      "/anaconda3/lib/python3.7/site-packages/sklearn/metrics/classification.py:1143: UndefinedMetricWarning: F-score is ill-defined and being set to 0.0 in labels with no predicted samples.\n",
      "  'precision', 'predicted', average, warn_for)\n",
      "/anaconda3/lib/python3.7/site-packages/sklearn/metrics/classification.py:1143: UndefinedMetricWarning: F-score is ill-defined and being set to 0.0 in labels with no predicted samples.\n",
      "  'precision', 'predicted', average, warn_for)\n"
     ]
    },
    {
     "name": "stdout",
     "output_type": "stream",
     "text": [
      "[CV]  clf__criterion=gini, clf__max_depth=4, clf__min_samples_leaf=3, clf__min_samples_split=4, clf__n_estimators=50, total=   0.1s\n",
      "[CV] clf__criterion=gini, clf__max_depth=4, clf__min_samples_leaf=3, clf__min_samples_split=4, clf__n_estimators=50 \n",
      "[CV]  clf__criterion=gini, clf__max_depth=4, clf__min_samples_leaf=3, clf__min_samples_split=4, clf__n_estimators=50, total=   0.1s\n",
      "[CV] clf__criterion=gini, clf__max_depth=4, clf__min_samples_leaf=3, clf__min_samples_split=4, clf__n_estimators=100 \n"
     ]
    },
    {
     "name": "stderr",
     "output_type": "stream",
     "text": [
      "/anaconda3/lib/python3.7/site-packages/sklearn/metrics/classification.py:1143: UndefinedMetricWarning: F-score is ill-defined and being set to 0.0 in labels with no predicted samples.\n",
      "  'precision', 'predicted', average, warn_for)\n",
      "/anaconda3/lib/python3.7/site-packages/sklearn/metrics/classification.py:1143: UndefinedMetricWarning: F-score is ill-defined and being set to 0.0 in labels with no predicted samples.\n",
      "  'precision', 'predicted', average, warn_for)\n",
      "/anaconda3/lib/python3.7/site-packages/sklearn/metrics/classification.py:1143: UndefinedMetricWarning: F-score is ill-defined and being set to 0.0 in labels with no predicted samples.\n",
      "  'precision', 'predicted', average, warn_for)\n",
      "/anaconda3/lib/python3.7/site-packages/sklearn/metrics/classification.py:1143: UndefinedMetricWarning: F-score is ill-defined and being set to 0.0 in labels with no predicted samples.\n",
      "  'precision', 'predicted', average, warn_for)\n"
     ]
    },
    {
     "name": "stdout",
     "output_type": "stream",
     "text": [
      "[CV]  clf__criterion=gini, clf__max_depth=4, clf__min_samples_leaf=3, clf__min_samples_split=4, clf__n_estimators=100, total=   0.2s\n",
      "[CV] clf__criterion=gini, clf__max_depth=4, clf__min_samples_leaf=3, clf__min_samples_split=4, clf__n_estimators=100 \n"
     ]
    },
    {
     "name": "stderr",
     "output_type": "stream",
     "text": [
      "/anaconda3/lib/python3.7/site-packages/sklearn/metrics/classification.py:1143: UndefinedMetricWarning: F-score is ill-defined and being set to 0.0 in labels with no predicted samples.\n",
      "  'precision', 'predicted', average, warn_for)\n",
      "/anaconda3/lib/python3.7/site-packages/sklearn/metrics/classification.py:1143: UndefinedMetricWarning: F-score is ill-defined and being set to 0.0 in labels with no predicted samples.\n",
      "  'precision', 'predicted', average, warn_for)\n"
     ]
    },
    {
     "name": "stdout",
     "output_type": "stream",
     "text": [
      "[CV]  clf__criterion=gini, clf__max_depth=4, clf__min_samples_leaf=3, clf__min_samples_split=4, clf__n_estimators=100, total=   0.4s\n",
      "[CV] clf__criterion=gini, clf__max_depth=4, clf__min_samples_leaf=3, clf__min_samples_split=4, clf__n_estimators=100 \n"
     ]
    },
    {
     "name": "stderr",
     "output_type": "stream",
     "text": [
      "/anaconda3/lib/python3.7/site-packages/sklearn/metrics/classification.py:1143: UndefinedMetricWarning: F-score is ill-defined and being set to 0.0 in labels with no predicted samples.\n",
      "  'precision', 'predicted', average, warn_for)\n",
      "/anaconda3/lib/python3.7/site-packages/sklearn/metrics/classification.py:1143: UndefinedMetricWarning: F-score is ill-defined and being set to 0.0 in labels with no predicted samples.\n",
      "  'precision', 'predicted', average, warn_for)\n"
     ]
    },
    {
     "name": "stdout",
     "output_type": "stream",
     "text": [
      "[CV]  clf__criterion=gini, clf__max_depth=4, clf__min_samples_leaf=3, clf__min_samples_split=4, clf__n_estimators=100, total=   0.2s\n",
      "[CV] clf__criterion=entropy, clf__max_depth=None, clf__min_samples_leaf=2, clf__min_samples_split=2, clf__n_estimators=50 \n",
      "[CV]  clf__criterion=entropy, clf__max_depth=None, clf__min_samples_leaf=2, clf__min_samples_split=2, clf__n_estimators=50, total=   0.2s\n",
      "[CV] clf__criterion=entropy, clf__max_depth=None, clf__min_samples_leaf=2, clf__min_samples_split=2, clf__n_estimators=50 \n",
      "[CV]  clf__criterion=entropy, clf__max_depth=None, clf__min_samples_leaf=2, clf__min_samples_split=2, clf__n_estimators=50, total=   0.3s\n",
      "[CV] clf__criterion=entropy, clf__max_depth=None, clf__min_samples_leaf=2, clf__min_samples_split=2, clf__n_estimators=50 \n",
      "[CV]  clf__criterion=entropy, clf__max_depth=None, clf__min_samples_leaf=2, clf__min_samples_split=2, clf__n_estimators=50, total=   0.2s\n",
      "[CV] clf__criterion=entropy, clf__max_depth=None, clf__min_samples_leaf=2, clf__min_samples_split=2, clf__n_estimators=100 \n",
      "[CV]  clf__criterion=entropy, clf__max_depth=None, clf__min_samples_leaf=2, clf__min_samples_split=2, clf__n_estimators=100, total=   0.4s\n",
      "[CV] clf__criterion=entropy, clf__max_depth=None, clf__min_samples_leaf=2, clf__min_samples_split=2, clf__n_estimators=100 \n",
      "[CV]  clf__criterion=entropy, clf__max_depth=None, clf__min_samples_leaf=2, clf__min_samples_split=2, clf__n_estimators=100, total=   0.4s\n",
      "[CV] clf__criterion=entropy, clf__max_depth=None, clf__min_samples_leaf=2, clf__min_samples_split=2, clf__n_estimators=100 \n",
      "[CV]  clf__criterion=entropy, clf__max_depth=None, clf__min_samples_leaf=2, clf__min_samples_split=2, clf__n_estimators=100, total=   0.4s\n",
      "[CV] clf__criterion=entropy, clf__max_depth=None, clf__min_samples_leaf=2, clf__min_samples_split=4, clf__n_estimators=50 \n",
      "[CV]  clf__criterion=entropy, clf__max_depth=None, clf__min_samples_leaf=2, clf__min_samples_split=4, clf__n_estimators=50, total=   0.2s\n",
      "[CV] clf__criterion=entropy, clf__max_depth=None, clf__min_samples_leaf=2, clf__min_samples_split=4, clf__n_estimators=50 \n",
      "[CV]  clf__criterion=entropy, clf__max_depth=None, clf__min_samples_leaf=2, clf__min_samples_split=4, clf__n_estimators=50, total=   0.3s\n",
      "[CV] clf__criterion=entropy, clf__max_depth=None, clf__min_samples_leaf=2, clf__min_samples_split=4, clf__n_estimators=50 \n",
      "[CV]  clf__criterion=entropy, clf__max_depth=None, clf__min_samples_leaf=2, clf__min_samples_split=4, clf__n_estimators=50, total=   0.2s\n",
      "[CV] clf__criterion=entropy, clf__max_depth=None, clf__min_samples_leaf=2, clf__min_samples_split=4, clf__n_estimators=100 \n",
      "[CV]  clf__criterion=entropy, clf__max_depth=None, clf__min_samples_leaf=2, clf__min_samples_split=4, clf__n_estimators=100, total=   0.4s\n",
      "[CV] clf__criterion=entropy, clf__max_depth=None, clf__min_samples_leaf=2, clf__min_samples_split=4, clf__n_estimators=100 \n",
      "[CV]  clf__criterion=entropy, clf__max_depth=None, clf__min_samples_leaf=2, clf__min_samples_split=4, clf__n_estimators=100, total=   0.4s\n",
      "[CV] clf__criterion=entropy, clf__max_depth=None, clf__min_samples_leaf=2, clf__min_samples_split=4, clf__n_estimators=100 \n",
      "[CV]  clf__criterion=entropy, clf__max_depth=None, clf__min_samples_leaf=2, clf__min_samples_split=4, clf__n_estimators=100, total=   0.5s\n",
      "[CV] clf__criterion=entropy, clf__max_depth=None, clf__min_samples_leaf=3, clf__min_samples_split=2, clf__n_estimators=50 \n",
      "[CV]  clf__criterion=entropy, clf__max_depth=None, clf__min_samples_leaf=3, clf__min_samples_split=2, clf__n_estimators=50, total=   0.2s\n",
      "[CV] clf__criterion=entropy, clf__max_depth=None, clf__min_samples_leaf=3, clf__min_samples_split=2, clf__n_estimators=50 \n",
      "[CV]  clf__criterion=entropy, clf__max_depth=None, clf__min_samples_leaf=3, clf__min_samples_split=2, clf__n_estimators=50, total=   0.2s\n",
      "[CV] clf__criterion=entropy, clf__max_depth=None, clf__min_samples_leaf=3, clf__min_samples_split=2, clf__n_estimators=50 \n",
      "[CV]  clf__criterion=entropy, clf__max_depth=None, clf__min_samples_leaf=3, clf__min_samples_split=2, clf__n_estimators=50, total=   0.2s\n",
      "[CV] clf__criterion=entropy, clf__max_depth=None, clf__min_samples_leaf=3, clf__min_samples_split=2, clf__n_estimators=100 \n",
      "[CV]  clf__criterion=entropy, clf__max_depth=None, clf__min_samples_leaf=3, clf__min_samples_split=2, clf__n_estimators=100, total=   0.3s\n",
      "[CV] clf__criterion=entropy, clf__max_depth=None, clf__min_samples_leaf=3, clf__min_samples_split=2, clf__n_estimators=100 \n",
      "[CV]  clf__criterion=entropy, clf__max_depth=None, clf__min_samples_leaf=3, clf__min_samples_split=2, clf__n_estimators=100, total=   0.4s\n",
      "[CV] clf__criterion=entropy, clf__max_depth=None, clf__min_samples_leaf=3, clf__min_samples_split=2, clf__n_estimators=100 \n",
      "[CV]  clf__criterion=entropy, clf__max_depth=None, clf__min_samples_leaf=3, clf__min_samples_split=2, clf__n_estimators=100, total=   0.4s\n",
      "[CV] clf__criterion=entropy, clf__max_depth=None, clf__min_samples_leaf=3, clf__min_samples_split=4, clf__n_estimators=50 \n",
      "[CV]  clf__criterion=entropy, clf__max_depth=None, clf__min_samples_leaf=3, clf__min_samples_split=4, clf__n_estimators=50, total=   0.2s\n",
      "[CV] clf__criterion=entropy, clf__max_depth=None, clf__min_samples_leaf=3, clf__min_samples_split=4, clf__n_estimators=50 \n",
      "[CV]  clf__criterion=entropy, clf__max_depth=None, clf__min_samples_leaf=3, clf__min_samples_split=4, clf__n_estimators=50, total=   0.2s\n",
      "[CV] clf__criterion=entropy, clf__max_depth=None, clf__min_samples_leaf=3, clf__min_samples_split=4, clf__n_estimators=50 \n",
      "[CV]  clf__criterion=entropy, clf__max_depth=None, clf__min_samples_leaf=3, clf__min_samples_split=4, clf__n_estimators=50, total=   0.2s\n",
      "[CV] clf__criterion=entropy, clf__max_depth=None, clf__min_samples_leaf=3, clf__min_samples_split=4, clf__n_estimators=100 \n",
      "[CV]  clf__criterion=entropy, clf__max_depth=None, clf__min_samples_leaf=3, clf__min_samples_split=4, clf__n_estimators=100, total=   0.3s\n",
      "[CV] clf__criterion=entropy, clf__max_depth=None, clf__min_samples_leaf=3, clf__min_samples_split=4, clf__n_estimators=100 \n",
      "[CV]  clf__criterion=entropy, clf__max_depth=None, clf__min_samples_leaf=3, clf__min_samples_split=4, clf__n_estimators=100, total=   0.4s\n",
      "[CV] clf__criterion=entropy, clf__max_depth=None, clf__min_samples_leaf=3, clf__min_samples_split=4, clf__n_estimators=100 \n",
      "[CV]  clf__criterion=entropy, clf__max_depth=None, clf__min_samples_leaf=3, clf__min_samples_split=4, clf__n_estimators=100, total=   0.5s\n",
      "[CV] clf__criterion=entropy, clf__max_depth=2, clf__min_samples_leaf=2, clf__min_samples_split=2, clf__n_estimators=50 \n",
      "[CV]  clf__criterion=entropy, clf__max_depth=2, clf__min_samples_leaf=2, clf__min_samples_split=2, clf__n_estimators=50, total=   0.1s\n",
      "[CV] clf__criterion=entropy, clf__max_depth=2, clf__min_samples_leaf=2, clf__min_samples_split=2, clf__n_estimators=50 \n"
     ]
    },
    {
     "name": "stderr",
     "output_type": "stream",
     "text": [
      "/anaconda3/lib/python3.7/site-packages/sklearn/metrics/classification.py:1143: UndefinedMetricWarning: F-score is ill-defined and being set to 0.0 in labels with no predicted samples.\n",
      "  'precision', 'predicted', average, warn_for)\n",
      "/anaconda3/lib/python3.7/site-packages/sklearn/metrics/classification.py:1143: UndefinedMetricWarning: F-score is ill-defined and being set to 0.0 in labels with no predicted samples.\n",
      "  'precision', 'predicted', average, warn_for)\n",
      "/anaconda3/lib/python3.7/site-packages/sklearn/metrics/classification.py:1143: UndefinedMetricWarning: F-score is ill-defined and being set to 0.0 in labels with no predicted samples.\n",
      "  'precision', 'predicted', average, warn_for)\n",
      "/anaconda3/lib/python3.7/site-packages/sklearn/metrics/classification.py:1143: UndefinedMetricWarning: F-score is ill-defined and being set to 0.0 in labels with no predicted samples.\n",
      "  'precision', 'predicted', average, warn_for)\n"
     ]
    },
    {
     "name": "stdout",
     "output_type": "stream",
     "text": [
      "[CV]  clf__criterion=entropy, clf__max_depth=2, clf__min_samples_leaf=2, clf__min_samples_split=2, clf__n_estimators=50, total=   0.1s\n",
      "[CV] clf__criterion=entropy, clf__max_depth=2, clf__min_samples_leaf=2, clf__min_samples_split=2, clf__n_estimators=50 \n",
      "[CV]  clf__criterion=entropy, clf__max_depth=2, clf__min_samples_leaf=2, clf__min_samples_split=2, clf__n_estimators=50, total=   0.1s\n",
      "[CV] clf__criterion=entropy, clf__max_depth=2, clf__min_samples_leaf=2, clf__min_samples_split=2, clf__n_estimators=100 \n"
     ]
    },
    {
     "name": "stderr",
     "output_type": "stream",
     "text": [
      "/anaconda3/lib/python3.7/site-packages/sklearn/metrics/classification.py:1143: UndefinedMetricWarning: F-score is ill-defined and being set to 0.0 in labels with no predicted samples.\n",
      "  'precision', 'predicted', average, warn_for)\n",
      "/anaconda3/lib/python3.7/site-packages/sklearn/metrics/classification.py:1143: UndefinedMetricWarning: F-score is ill-defined and being set to 0.0 in labels with no predicted samples.\n",
      "  'precision', 'predicted', average, warn_for)\n",
      "/anaconda3/lib/python3.7/site-packages/sklearn/metrics/classification.py:1143: UndefinedMetricWarning: F-score is ill-defined and being set to 0.0 in labels with no predicted samples.\n",
      "  'precision', 'predicted', average, warn_for)\n",
      "/anaconda3/lib/python3.7/site-packages/sklearn/metrics/classification.py:1143: UndefinedMetricWarning: F-score is ill-defined and being set to 0.0 in labels with no predicted samples.\n",
      "  'precision', 'predicted', average, warn_for)\n"
     ]
    },
    {
     "name": "stdout",
     "output_type": "stream",
     "text": [
      "[CV]  clf__criterion=entropy, clf__max_depth=2, clf__min_samples_leaf=2, clf__min_samples_split=2, clf__n_estimators=100, total=   0.3s\n",
      "[CV] clf__criterion=entropy, clf__max_depth=2, clf__min_samples_leaf=2, clf__min_samples_split=2, clf__n_estimators=100 \n"
     ]
    },
    {
     "name": "stderr",
     "output_type": "stream",
     "text": [
      "/anaconda3/lib/python3.7/site-packages/sklearn/metrics/classification.py:1143: UndefinedMetricWarning: F-score is ill-defined and being set to 0.0 in labels with no predicted samples.\n",
      "  'precision', 'predicted', average, warn_for)\n",
      "/anaconda3/lib/python3.7/site-packages/sklearn/metrics/classification.py:1143: UndefinedMetricWarning: F-score is ill-defined and being set to 0.0 in labels with no predicted samples.\n",
      "  'precision', 'predicted', average, warn_for)\n"
     ]
    },
    {
     "name": "stdout",
     "output_type": "stream",
     "text": [
      "[CV]  clf__criterion=entropy, clf__max_depth=2, clf__min_samples_leaf=2, clf__min_samples_split=2, clf__n_estimators=100, total=   0.2s\n",
      "[CV] clf__criterion=entropy, clf__max_depth=2, clf__min_samples_leaf=2, clf__min_samples_split=2, clf__n_estimators=100 \n",
      "[CV]  clf__criterion=entropy, clf__max_depth=2, clf__min_samples_leaf=2, clf__min_samples_split=2, clf__n_estimators=100, total=   0.2s\n",
      "[CV] clf__criterion=entropy, clf__max_depth=2, clf__min_samples_leaf=2, clf__min_samples_split=4, clf__n_estimators=50 \n"
     ]
    },
    {
     "name": "stderr",
     "output_type": "stream",
     "text": [
      "/anaconda3/lib/python3.7/site-packages/sklearn/metrics/classification.py:1143: UndefinedMetricWarning: F-score is ill-defined and being set to 0.0 in labels with no predicted samples.\n",
      "  'precision', 'predicted', average, warn_for)\n",
      "/anaconda3/lib/python3.7/site-packages/sklearn/metrics/classification.py:1143: UndefinedMetricWarning: F-score is ill-defined and being set to 0.0 in labels with no predicted samples.\n",
      "  'precision', 'predicted', average, warn_for)\n",
      "/anaconda3/lib/python3.7/site-packages/sklearn/metrics/classification.py:1143: UndefinedMetricWarning: F-score is ill-defined and being set to 0.0 in labels with no predicted samples.\n",
      "  'precision', 'predicted', average, warn_for)\n",
      "/anaconda3/lib/python3.7/site-packages/sklearn/metrics/classification.py:1143: UndefinedMetricWarning: F-score is ill-defined and being set to 0.0 in labels with no predicted samples.\n",
      "  'precision', 'predicted', average, warn_for)\n"
     ]
    },
    {
     "name": "stdout",
     "output_type": "stream",
     "text": [
      "[CV]  clf__criterion=entropy, clf__max_depth=2, clf__min_samples_leaf=2, clf__min_samples_split=4, clf__n_estimators=50, total=   0.1s\n",
      "[CV] clf__criterion=entropy, clf__max_depth=2, clf__min_samples_leaf=2, clf__min_samples_split=4, clf__n_estimators=50 \n",
      "[CV]  clf__criterion=entropy, clf__max_depth=2, clf__min_samples_leaf=2, clf__min_samples_split=4, clf__n_estimators=50, total=   0.1s\n",
      "[CV] clf__criterion=entropy, clf__max_depth=2, clf__min_samples_leaf=2, clf__min_samples_split=4, clf__n_estimators=50 \n"
     ]
    },
    {
     "name": "stderr",
     "output_type": "stream",
     "text": [
      "/anaconda3/lib/python3.7/site-packages/sklearn/metrics/classification.py:1143: UndefinedMetricWarning: F-score is ill-defined and being set to 0.0 in labels with no predicted samples.\n",
      "  'precision', 'predicted', average, warn_for)\n",
      "/anaconda3/lib/python3.7/site-packages/sklearn/metrics/classification.py:1143: UndefinedMetricWarning: F-score is ill-defined and being set to 0.0 in labels with no predicted samples.\n",
      "  'precision', 'predicted', average, warn_for)\n",
      "/anaconda3/lib/python3.7/site-packages/sklearn/metrics/classification.py:1143: UndefinedMetricWarning: F-score is ill-defined and being set to 0.0 in labels with no predicted samples.\n",
      "  'precision', 'predicted', average, warn_for)\n",
      "/anaconda3/lib/python3.7/site-packages/sklearn/metrics/classification.py:1143: UndefinedMetricWarning: F-score is ill-defined and being set to 0.0 in labels with no predicted samples.\n",
      "  'precision', 'predicted', average, warn_for)\n"
     ]
    },
    {
     "name": "stdout",
     "output_type": "stream",
     "text": [
      "[CV]  clf__criterion=entropy, clf__max_depth=2, clf__min_samples_leaf=2, clf__min_samples_split=4, clf__n_estimators=50, total=   0.1s\n",
      "[CV] clf__criterion=entropy, clf__max_depth=2, clf__min_samples_leaf=2, clf__min_samples_split=4, clf__n_estimators=100 \n"
     ]
    },
    {
     "name": "stderr",
     "output_type": "stream",
     "text": [
      "/anaconda3/lib/python3.7/site-packages/sklearn/metrics/classification.py:1143: UndefinedMetricWarning: F-score is ill-defined and being set to 0.0 in labels with no predicted samples.\n",
      "  'precision', 'predicted', average, warn_for)\n",
      "/anaconda3/lib/python3.7/site-packages/sklearn/metrics/classification.py:1143: UndefinedMetricWarning: F-score is ill-defined and being set to 0.0 in labels with no predicted samples.\n",
      "  'precision', 'predicted', average, warn_for)\n",
      "/anaconda3/lib/python3.7/site-packages/sklearn/metrics/classification.py:1143: UndefinedMetricWarning: F-score is ill-defined and being set to 0.0 in labels with no predicted samples.\n",
      "  'precision', 'predicted', average, warn_for)\n"
     ]
    },
    {
     "name": "stdout",
     "output_type": "stream",
     "text": [
      "[CV]  clf__criterion=entropy, clf__max_depth=2, clf__min_samples_leaf=2, clf__min_samples_split=4, clf__n_estimators=100, total=   0.3s\n",
      "[CV] clf__criterion=entropy, clf__max_depth=2, clf__min_samples_leaf=2, clf__min_samples_split=4, clf__n_estimators=100 \n",
      "[CV]  clf__criterion=entropy, clf__max_depth=2, clf__min_samples_leaf=2, clf__min_samples_split=4, clf__n_estimators=100, total=   0.2s\n",
      "[CV] clf__criterion=entropy, clf__max_depth=2, clf__min_samples_leaf=2, clf__min_samples_split=4, clf__n_estimators=100 \n"
     ]
    },
    {
     "name": "stderr",
     "output_type": "stream",
     "text": [
      "/anaconda3/lib/python3.7/site-packages/sklearn/metrics/classification.py:1143: UndefinedMetricWarning: F-score is ill-defined and being set to 0.0 in labels with no predicted samples.\n",
      "  'precision', 'predicted', average, warn_for)\n",
      "/anaconda3/lib/python3.7/site-packages/sklearn/metrics/classification.py:1143: UndefinedMetricWarning: F-score is ill-defined and being set to 0.0 in labels with no predicted samples.\n",
      "  'precision', 'predicted', average, warn_for)\n",
      "/anaconda3/lib/python3.7/site-packages/sklearn/metrics/classification.py:1143: UndefinedMetricWarning: F-score is ill-defined and being set to 0.0 in labels with no predicted samples.\n",
      "  'precision', 'predicted', average, warn_for)\n",
      "/anaconda3/lib/python3.7/site-packages/sklearn/metrics/classification.py:1143: UndefinedMetricWarning: F-score is ill-defined and being set to 0.0 in labels with no predicted samples.\n",
      "  'precision', 'predicted', average, warn_for)\n",
      "/anaconda3/lib/python3.7/site-packages/sklearn/metrics/classification.py:1143: UndefinedMetricWarning: F-score is ill-defined and being set to 0.0 in labels with no predicted samples.\n",
      "  'precision', 'predicted', average, warn_for)\n"
     ]
    },
    {
     "name": "stdout",
     "output_type": "stream",
     "text": [
      "[CV]  clf__criterion=entropy, clf__max_depth=2, clf__min_samples_leaf=2, clf__min_samples_split=4, clf__n_estimators=100, total=   0.2s\n",
      "[CV] clf__criterion=entropy, clf__max_depth=2, clf__min_samples_leaf=3, clf__min_samples_split=2, clf__n_estimators=50 \n",
      "[CV]  clf__criterion=entropy, clf__max_depth=2, clf__min_samples_leaf=3, clf__min_samples_split=2, clf__n_estimators=50, total=   0.1s\n",
      "[CV] clf__criterion=entropy, clf__max_depth=2, clf__min_samples_leaf=3, clf__min_samples_split=2, clf__n_estimators=50 \n"
     ]
    },
    {
     "name": "stderr",
     "output_type": "stream",
     "text": [
      "/anaconda3/lib/python3.7/site-packages/sklearn/metrics/classification.py:1143: UndefinedMetricWarning: F-score is ill-defined and being set to 0.0 in labels with no predicted samples.\n",
      "  'precision', 'predicted', average, warn_for)\n",
      "/anaconda3/lib/python3.7/site-packages/sklearn/metrics/classification.py:1143: UndefinedMetricWarning: F-score is ill-defined and being set to 0.0 in labels with no predicted samples.\n",
      "  'precision', 'predicted', average, warn_for)\n",
      "/anaconda3/lib/python3.7/site-packages/sklearn/metrics/classification.py:1143: UndefinedMetricWarning: F-score is ill-defined and being set to 0.0 in labels with no predicted samples.\n",
      "  'precision', 'predicted', average, warn_for)\n",
      "/anaconda3/lib/python3.7/site-packages/sklearn/metrics/classification.py:1143: UndefinedMetricWarning: F-score is ill-defined and being set to 0.0 in labels with no predicted samples.\n",
      "  'precision', 'predicted', average, warn_for)\n"
     ]
    },
    {
     "name": "stdout",
     "output_type": "stream",
     "text": [
      "[CV]  clf__criterion=entropy, clf__max_depth=2, clf__min_samples_leaf=3, clf__min_samples_split=2, clf__n_estimators=50, total=   0.1s\n",
      "[CV] clf__criterion=entropy, clf__max_depth=2, clf__min_samples_leaf=3, clf__min_samples_split=2, clf__n_estimators=50 \n",
      "[CV]  clf__criterion=entropy, clf__max_depth=2, clf__min_samples_leaf=3, clf__min_samples_split=2, clf__n_estimators=50, total=   0.1s\n",
      "[CV] clf__criterion=entropy, clf__max_depth=2, clf__min_samples_leaf=3, clf__min_samples_split=2, clf__n_estimators=100 \n"
     ]
    },
    {
     "name": "stderr",
     "output_type": "stream",
     "text": [
      "/anaconda3/lib/python3.7/site-packages/sklearn/metrics/classification.py:1143: UndefinedMetricWarning: F-score is ill-defined and being set to 0.0 in labels with no predicted samples.\n",
      "  'precision', 'predicted', average, warn_for)\n",
      "/anaconda3/lib/python3.7/site-packages/sklearn/metrics/classification.py:1143: UndefinedMetricWarning: F-score is ill-defined and being set to 0.0 in labels with no predicted samples.\n",
      "  'precision', 'predicted', average, warn_for)\n"
     ]
    },
    {
     "name": "stdout",
     "output_type": "stream",
     "text": [
      "[CV]  clf__criterion=entropy, clf__max_depth=2, clf__min_samples_leaf=3, clf__min_samples_split=2, clf__n_estimators=100, total=   0.2s\n",
      "[CV] clf__criterion=entropy, clf__max_depth=2, clf__min_samples_leaf=3, clf__min_samples_split=2, clf__n_estimators=100 \n"
     ]
    },
    {
     "name": "stderr",
     "output_type": "stream",
     "text": [
      "/anaconda3/lib/python3.7/site-packages/sklearn/metrics/classification.py:1143: UndefinedMetricWarning: F-score is ill-defined and being set to 0.0 in labels with no predicted samples.\n",
      "  'precision', 'predicted', average, warn_for)\n",
      "/anaconda3/lib/python3.7/site-packages/sklearn/metrics/classification.py:1143: UndefinedMetricWarning: F-score is ill-defined and being set to 0.0 in labels with no predicted samples.\n",
      "  'precision', 'predicted', average, warn_for)\n"
     ]
    },
    {
     "name": "stdout",
     "output_type": "stream",
     "text": [
      "[CV]  clf__criterion=entropy, clf__max_depth=2, clf__min_samples_leaf=3, clf__min_samples_split=2, clf__n_estimators=100, total=   0.2s\n",
      "[CV] clf__criterion=entropy, clf__max_depth=2, clf__min_samples_leaf=3, clf__min_samples_split=2, clf__n_estimators=100 \n"
     ]
    },
    {
     "name": "stderr",
     "output_type": "stream",
     "text": [
      "/anaconda3/lib/python3.7/site-packages/sklearn/metrics/classification.py:1143: UndefinedMetricWarning: F-score is ill-defined and being set to 0.0 in labels with no predicted samples.\n",
      "  'precision', 'predicted', average, warn_for)\n",
      "/anaconda3/lib/python3.7/site-packages/sklearn/metrics/classification.py:1143: UndefinedMetricWarning: F-score is ill-defined and being set to 0.0 in labels with no predicted samples.\n",
      "  'precision', 'predicted', average, warn_for)\n",
      "/anaconda3/lib/python3.7/site-packages/sklearn/metrics/classification.py:1143: UndefinedMetricWarning: F-score is ill-defined and being set to 0.0 in labels with no predicted samples.\n",
      "  'precision', 'predicted', average, warn_for)\n",
      "/anaconda3/lib/python3.7/site-packages/sklearn/metrics/classification.py:1143: UndefinedMetricWarning: F-score is ill-defined and being set to 0.0 in labels with no predicted samples.\n",
      "  'precision', 'predicted', average, warn_for)\n"
     ]
    },
    {
     "name": "stdout",
     "output_type": "stream",
     "text": [
      "[CV]  clf__criterion=entropy, clf__max_depth=2, clf__min_samples_leaf=3, clf__min_samples_split=2, clf__n_estimators=100, total=   0.3s\n",
      "[CV] clf__criterion=entropy, clf__max_depth=2, clf__min_samples_leaf=3, clf__min_samples_split=4, clf__n_estimators=50 \n",
      "[CV]  clf__criterion=entropy, clf__max_depth=2, clf__min_samples_leaf=3, clf__min_samples_split=4, clf__n_estimators=50, total=   0.1s\n",
      "[CV] clf__criterion=entropy, clf__max_depth=2, clf__min_samples_leaf=3, clf__min_samples_split=4, clf__n_estimators=50 \n"
     ]
    },
    {
     "name": "stderr",
     "output_type": "stream",
     "text": [
      "/anaconda3/lib/python3.7/site-packages/sklearn/metrics/classification.py:1143: UndefinedMetricWarning: F-score is ill-defined and being set to 0.0 in labels with no predicted samples.\n",
      "  'precision', 'predicted', average, warn_for)\n",
      "/anaconda3/lib/python3.7/site-packages/sklearn/metrics/classification.py:1143: UndefinedMetricWarning: F-score is ill-defined and being set to 0.0 in labels with no predicted samples.\n",
      "  'precision', 'predicted', average, warn_for)\n",
      "/anaconda3/lib/python3.7/site-packages/sklearn/metrics/classification.py:1143: UndefinedMetricWarning: F-score is ill-defined and being set to 0.0 in labels with no predicted samples.\n",
      "  'precision', 'predicted', average, warn_for)\n",
      "/anaconda3/lib/python3.7/site-packages/sklearn/metrics/classification.py:1143: UndefinedMetricWarning: F-score is ill-defined and being set to 0.0 in labels with no predicted samples.\n",
      "  'precision', 'predicted', average, warn_for)\n"
     ]
    },
    {
     "name": "stdout",
     "output_type": "stream",
     "text": [
      "[CV]  clf__criterion=entropy, clf__max_depth=2, clf__min_samples_leaf=3, clf__min_samples_split=4, clf__n_estimators=50, total=   0.1s\n",
      "[CV] clf__criterion=entropy, clf__max_depth=2, clf__min_samples_leaf=3, clf__min_samples_split=4, clf__n_estimators=50 \n",
      "[CV]  clf__criterion=entropy, clf__max_depth=2, clf__min_samples_leaf=3, clf__min_samples_split=4, clf__n_estimators=50, total=   0.1s\n",
      "[CV] clf__criterion=entropy, clf__max_depth=2, clf__min_samples_leaf=3, clf__min_samples_split=4, clf__n_estimators=100 \n"
     ]
    },
    {
     "name": "stderr",
     "output_type": "stream",
     "text": [
      "/anaconda3/lib/python3.7/site-packages/sklearn/metrics/classification.py:1143: UndefinedMetricWarning: F-score is ill-defined and being set to 0.0 in labels with no predicted samples.\n",
      "  'precision', 'predicted', average, warn_for)\n",
      "/anaconda3/lib/python3.7/site-packages/sklearn/metrics/classification.py:1143: UndefinedMetricWarning: F-score is ill-defined and being set to 0.0 in labels with no predicted samples.\n",
      "  'precision', 'predicted', average, warn_for)\n"
     ]
    },
    {
     "name": "stdout",
     "output_type": "stream",
     "text": [
      "[CV]  clf__criterion=entropy, clf__max_depth=2, clf__min_samples_leaf=3, clf__min_samples_split=4, clf__n_estimators=100, total=   0.2s\n",
      "[CV] clf__criterion=entropy, clf__max_depth=2, clf__min_samples_leaf=3, clf__min_samples_split=4, clf__n_estimators=100 \n"
     ]
    },
    {
     "name": "stderr",
     "output_type": "stream",
     "text": [
      "/anaconda3/lib/python3.7/site-packages/sklearn/metrics/classification.py:1143: UndefinedMetricWarning: F-score is ill-defined and being set to 0.0 in labels with no predicted samples.\n",
      "  'precision', 'predicted', average, warn_for)\n",
      "/anaconda3/lib/python3.7/site-packages/sklearn/metrics/classification.py:1143: UndefinedMetricWarning: F-score is ill-defined and being set to 0.0 in labels with no predicted samples.\n",
      "  'precision', 'predicted', average, warn_for)\n"
     ]
    },
    {
     "name": "stdout",
     "output_type": "stream",
     "text": [
      "[CV]  clf__criterion=entropy, clf__max_depth=2, clf__min_samples_leaf=3, clf__min_samples_split=4, clf__n_estimators=100, total=   0.2s\n",
      "[CV] clf__criterion=entropy, clf__max_depth=2, clf__min_samples_leaf=3, clf__min_samples_split=4, clf__n_estimators=100 \n"
     ]
    },
    {
     "name": "stderr",
     "output_type": "stream",
     "text": [
      "/anaconda3/lib/python3.7/site-packages/sklearn/metrics/classification.py:1143: UndefinedMetricWarning: F-score is ill-defined and being set to 0.0 in labels with no predicted samples.\n",
      "  'precision', 'predicted', average, warn_for)\n",
      "/anaconda3/lib/python3.7/site-packages/sklearn/metrics/classification.py:1143: UndefinedMetricWarning: F-score is ill-defined and being set to 0.0 in labels with no predicted samples.\n",
      "  'precision', 'predicted', average, warn_for)\n"
     ]
    },
    {
     "name": "stdout",
     "output_type": "stream",
     "text": [
      "[CV]  clf__criterion=entropy, clf__max_depth=2, clf__min_samples_leaf=3, clf__min_samples_split=4, clf__n_estimators=100, total=   0.2s\n",
      "[CV] clf__criterion=entropy, clf__max_depth=4, clf__min_samples_leaf=2, clf__min_samples_split=2, clf__n_estimators=50 \n"
     ]
    },
    {
     "name": "stderr",
     "output_type": "stream",
     "text": [
      "/anaconda3/lib/python3.7/site-packages/sklearn/metrics/classification.py:1143: UndefinedMetricWarning: F-score is ill-defined and being set to 0.0 in labels with no predicted samples.\n",
      "  'precision', 'predicted', average, warn_for)\n",
      "/anaconda3/lib/python3.7/site-packages/sklearn/metrics/classification.py:1143: UndefinedMetricWarning: F-score is ill-defined and being set to 0.0 in labels with no predicted samples.\n",
      "  'precision', 'predicted', average, warn_for)\n"
     ]
    },
    {
     "name": "stdout",
     "output_type": "stream",
     "text": [
      "[CV]  clf__criterion=entropy, clf__max_depth=4, clf__min_samples_leaf=2, clf__min_samples_split=2, clf__n_estimators=50, total=   0.2s\n",
      "[CV] clf__criterion=entropy, clf__max_depth=4, clf__min_samples_leaf=2, clf__min_samples_split=2, clf__n_estimators=50 \n",
      "[CV]  clf__criterion=entropy, clf__max_depth=4, clf__min_samples_leaf=2, clf__min_samples_split=2, clf__n_estimators=50, total=   0.2s\n",
      "[CV] clf__criterion=entropy, clf__max_depth=4, clf__min_samples_leaf=2, clf__min_samples_split=2, clf__n_estimators=50 \n"
     ]
    },
    {
     "name": "stderr",
     "output_type": "stream",
     "text": [
      "/anaconda3/lib/python3.7/site-packages/sklearn/metrics/classification.py:1143: UndefinedMetricWarning: F-score is ill-defined and being set to 0.0 in labels with no predicted samples.\n",
      "  'precision', 'predicted', average, warn_for)\n",
      "/anaconda3/lib/python3.7/site-packages/sklearn/metrics/classification.py:1143: UndefinedMetricWarning: F-score is ill-defined and being set to 0.0 in labels with no predicted samples.\n",
      "  'precision', 'predicted', average, warn_for)\n",
      "/anaconda3/lib/python3.7/site-packages/sklearn/metrics/classification.py:1143: UndefinedMetricWarning: F-score is ill-defined and being set to 0.0 in labels with no predicted samples.\n",
      "  'precision', 'predicted', average, warn_for)\n",
      "/anaconda3/lib/python3.7/site-packages/sklearn/metrics/classification.py:1143: UndefinedMetricWarning: F-score is ill-defined and being set to 0.0 in labels with no predicted samples.\n",
      "  'precision', 'predicted', average, warn_for)\n"
     ]
    },
    {
     "name": "stdout",
     "output_type": "stream",
     "text": [
      "[CV]  clf__criterion=entropy, clf__max_depth=4, clf__min_samples_leaf=2, clf__min_samples_split=2, clf__n_estimators=50, total=   0.1s\n",
      "[CV] clf__criterion=entropy, clf__max_depth=4, clf__min_samples_leaf=2, clf__min_samples_split=2, clf__n_estimators=100 \n"
     ]
    },
    {
     "name": "stderr",
     "output_type": "stream",
     "text": [
      "/anaconda3/lib/python3.7/site-packages/sklearn/metrics/classification.py:1143: UndefinedMetricWarning: F-score is ill-defined and being set to 0.0 in labels with no predicted samples.\n",
      "  'precision', 'predicted', average, warn_for)\n",
      "/anaconda3/lib/python3.7/site-packages/sklearn/metrics/classification.py:1143: UndefinedMetricWarning: F-score is ill-defined and being set to 0.0 in labels with no predicted samples.\n",
      "  'precision', 'predicted', average, warn_for)\n"
     ]
    },
    {
     "name": "stdout",
     "output_type": "stream",
     "text": [
      "[CV]  clf__criterion=entropy, clf__max_depth=4, clf__min_samples_leaf=2, clf__min_samples_split=2, clf__n_estimators=100, total=   0.2s\n",
      "[CV] clf__criterion=entropy, clf__max_depth=4, clf__min_samples_leaf=2, clf__min_samples_split=2, clf__n_estimators=100 \n"
     ]
    },
    {
     "name": "stderr",
     "output_type": "stream",
     "text": [
      "/anaconda3/lib/python3.7/site-packages/sklearn/metrics/classification.py:1143: UndefinedMetricWarning: F-score is ill-defined and being set to 0.0 in labels with no predicted samples.\n",
      "  'precision', 'predicted', average, warn_for)\n",
      "/anaconda3/lib/python3.7/site-packages/sklearn/metrics/classification.py:1143: UndefinedMetricWarning: F-score is ill-defined and being set to 0.0 in labels with no predicted samples.\n",
      "  'precision', 'predicted', average, warn_for)\n"
     ]
    },
    {
     "name": "stdout",
     "output_type": "stream",
     "text": [
      "[CV]  clf__criterion=entropy, clf__max_depth=4, clf__min_samples_leaf=2, clf__min_samples_split=2, clf__n_estimators=100, total=   0.3s\n",
      "[CV] clf__criterion=entropy, clf__max_depth=4, clf__min_samples_leaf=2, clf__min_samples_split=2, clf__n_estimators=100 \n"
     ]
    },
    {
     "name": "stderr",
     "output_type": "stream",
     "text": [
      "/anaconda3/lib/python3.7/site-packages/sklearn/metrics/classification.py:1143: UndefinedMetricWarning: F-score is ill-defined and being set to 0.0 in labels with no predicted samples.\n",
      "  'precision', 'predicted', average, warn_for)\n",
      "/anaconda3/lib/python3.7/site-packages/sklearn/metrics/classification.py:1143: UndefinedMetricWarning: F-score is ill-defined and being set to 0.0 in labels with no predicted samples.\n",
      "  'precision', 'predicted', average, warn_for)\n",
      "/anaconda3/lib/python3.7/site-packages/sklearn/metrics/classification.py:1143: UndefinedMetricWarning: F-score is ill-defined and being set to 0.0 in labels with no predicted samples.\n",
      "  'precision', 'predicted', average, warn_for)\n",
      "/anaconda3/lib/python3.7/site-packages/sklearn/metrics/classification.py:1143: UndefinedMetricWarning: F-score is ill-defined and being set to 0.0 in labels with no predicted samples.\n",
      "  'precision', 'predicted', average, warn_for)\n"
     ]
    },
    {
     "name": "stdout",
     "output_type": "stream",
     "text": [
      "[CV]  clf__criterion=entropy, clf__max_depth=4, clf__min_samples_leaf=2, clf__min_samples_split=2, clf__n_estimators=100, total=   0.3s\n",
      "[CV] clf__criterion=entropy, clf__max_depth=4, clf__min_samples_leaf=2, clf__min_samples_split=4, clf__n_estimators=50 \n",
      "[CV]  clf__criterion=entropy, clf__max_depth=4, clf__min_samples_leaf=2, clf__min_samples_split=4, clf__n_estimators=50, total=   0.1s\n",
      "[CV] clf__criterion=entropy, clf__max_depth=4, clf__min_samples_leaf=2, clf__min_samples_split=4, clf__n_estimators=50 \n"
     ]
    },
    {
     "name": "stderr",
     "output_type": "stream",
     "text": [
      "/anaconda3/lib/python3.7/site-packages/sklearn/metrics/classification.py:1143: UndefinedMetricWarning: F-score is ill-defined and being set to 0.0 in labels with no predicted samples.\n",
      "  'precision', 'predicted', average, warn_for)\n",
      "/anaconda3/lib/python3.7/site-packages/sklearn/metrics/classification.py:1143: UndefinedMetricWarning: F-score is ill-defined and being set to 0.0 in labels with no predicted samples.\n",
      "  'precision', 'predicted', average, warn_for)\n"
     ]
    },
    {
     "name": "stdout",
     "output_type": "stream",
     "text": [
      "[CV]  clf__criterion=entropy, clf__max_depth=4, clf__min_samples_leaf=2, clf__min_samples_split=4, clf__n_estimators=50, total=   0.1s\n",
      "[CV] clf__criterion=entropy, clf__max_depth=4, clf__min_samples_leaf=2, clf__min_samples_split=4, clf__n_estimators=50 \n"
     ]
    },
    {
     "name": "stderr",
     "output_type": "stream",
     "text": [
      "/anaconda3/lib/python3.7/site-packages/sklearn/metrics/classification.py:1143: UndefinedMetricWarning: F-score is ill-defined and being set to 0.0 in labels with no predicted samples.\n",
      "  'precision', 'predicted', average, warn_for)\n",
      "/anaconda3/lib/python3.7/site-packages/sklearn/metrics/classification.py:1143: UndefinedMetricWarning: F-score is ill-defined and being set to 0.0 in labels with no predicted samples.\n",
      "  'precision', 'predicted', average, warn_for)\n"
     ]
    },
    {
     "name": "stdout",
     "output_type": "stream",
     "text": [
      "[CV]  clf__criterion=entropy, clf__max_depth=4, clf__min_samples_leaf=2, clf__min_samples_split=4, clf__n_estimators=50, total=   0.2s\n",
      "[CV] clf__criterion=entropy, clf__max_depth=4, clf__min_samples_leaf=2, clf__min_samples_split=4, clf__n_estimators=100 \n"
     ]
    },
    {
     "name": "stderr",
     "output_type": "stream",
     "text": [
      "/anaconda3/lib/python3.7/site-packages/sklearn/metrics/classification.py:1143: UndefinedMetricWarning: F-score is ill-defined and being set to 0.0 in labels with no predicted samples.\n",
      "  'precision', 'predicted', average, warn_for)\n",
      "/anaconda3/lib/python3.7/site-packages/sklearn/metrics/classification.py:1143: UndefinedMetricWarning: F-score is ill-defined and being set to 0.0 in labels with no predicted samples.\n",
      "  'precision', 'predicted', average, warn_for)\n"
     ]
    },
    {
     "name": "stdout",
     "output_type": "stream",
     "text": [
      "[CV]  clf__criterion=entropy, clf__max_depth=4, clf__min_samples_leaf=2, clf__min_samples_split=4, clf__n_estimators=100, total=   0.3s\n",
      "[CV] clf__criterion=entropy, clf__max_depth=4, clf__min_samples_leaf=2, clf__min_samples_split=4, clf__n_estimators=100 \n"
     ]
    },
    {
     "name": "stderr",
     "output_type": "stream",
     "text": [
      "/anaconda3/lib/python3.7/site-packages/sklearn/metrics/classification.py:1143: UndefinedMetricWarning: F-score is ill-defined and being set to 0.0 in labels with no predicted samples.\n",
      "  'precision', 'predicted', average, warn_for)\n",
      "/anaconda3/lib/python3.7/site-packages/sklearn/metrics/classification.py:1143: UndefinedMetricWarning: F-score is ill-defined and being set to 0.0 in labels with no predicted samples.\n",
      "  'precision', 'predicted', average, warn_for)\n"
     ]
    },
    {
     "name": "stdout",
     "output_type": "stream",
     "text": [
      "[CV]  clf__criterion=entropy, clf__max_depth=4, clf__min_samples_leaf=2, clf__min_samples_split=4, clf__n_estimators=100, total=   0.2s\n",
      "[CV] clf__criterion=entropy, clf__max_depth=4, clf__min_samples_leaf=2, clf__min_samples_split=4, clf__n_estimators=100 \n"
     ]
    },
    {
     "name": "stderr",
     "output_type": "stream",
     "text": [
      "/anaconda3/lib/python3.7/site-packages/sklearn/metrics/classification.py:1143: UndefinedMetricWarning: F-score is ill-defined and being set to 0.0 in labels with no predicted samples.\n",
      "  'precision', 'predicted', average, warn_for)\n",
      "/anaconda3/lib/python3.7/site-packages/sklearn/metrics/classification.py:1143: UndefinedMetricWarning: F-score is ill-defined and being set to 0.0 in labels with no predicted samples.\n",
      "  'precision', 'predicted', average, warn_for)\n",
      "/anaconda3/lib/python3.7/site-packages/sklearn/metrics/classification.py:1143: UndefinedMetricWarning: F-score is ill-defined and being set to 0.0 in labels with no predicted samples.\n",
      "  'precision', 'predicted', average, warn_for)\n",
      "/anaconda3/lib/python3.7/site-packages/sklearn/metrics/classification.py:1143: UndefinedMetricWarning: F-score is ill-defined and being set to 0.0 in labels with no predicted samples.\n",
      "  'precision', 'predicted', average, warn_for)\n"
     ]
    },
    {
     "name": "stdout",
     "output_type": "stream",
     "text": [
      "[CV]  clf__criterion=entropy, clf__max_depth=4, clf__min_samples_leaf=2, clf__min_samples_split=4, clf__n_estimators=100, total=   0.2s\n",
      "[CV] clf__criterion=entropy, clf__max_depth=4, clf__min_samples_leaf=3, clf__min_samples_split=2, clf__n_estimators=50 \n",
      "[CV]  clf__criterion=entropy, clf__max_depth=4, clf__min_samples_leaf=3, clf__min_samples_split=2, clf__n_estimators=50, total=   0.1s\n",
      "[CV] clf__criterion=entropy, clf__max_depth=4, clf__min_samples_leaf=3, clf__min_samples_split=2, clf__n_estimators=50 \n"
     ]
    },
    {
     "name": "stderr",
     "output_type": "stream",
     "text": [
      "/anaconda3/lib/python3.7/site-packages/sklearn/metrics/classification.py:1143: UndefinedMetricWarning: F-score is ill-defined and being set to 0.0 in labels with no predicted samples.\n",
      "  'precision', 'predicted', average, warn_for)\n",
      "/anaconda3/lib/python3.7/site-packages/sklearn/metrics/classification.py:1143: UndefinedMetricWarning: F-score is ill-defined and being set to 0.0 in labels with no predicted samples.\n",
      "  'precision', 'predicted', average, warn_for)\n",
      "/anaconda3/lib/python3.7/site-packages/sklearn/metrics/classification.py:1143: UndefinedMetricWarning: F-score is ill-defined and being set to 0.0 in labels with no predicted samples.\n",
      "  'precision', 'predicted', average, warn_for)\n",
      "/anaconda3/lib/python3.7/site-packages/sklearn/metrics/classification.py:1143: UndefinedMetricWarning: F-score is ill-defined and being set to 0.0 in labels with no predicted samples.\n",
      "  'precision', 'predicted', average, warn_for)\n"
     ]
    },
    {
     "name": "stdout",
     "output_type": "stream",
     "text": [
      "[CV]  clf__criterion=entropy, clf__max_depth=4, clf__min_samples_leaf=3, clf__min_samples_split=2, clf__n_estimators=50, total=   0.1s\n",
      "[CV] clf__criterion=entropy, clf__max_depth=4, clf__min_samples_leaf=3, clf__min_samples_split=2, clf__n_estimators=50 \n",
      "[CV]  clf__criterion=entropy, clf__max_depth=4, clf__min_samples_leaf=3, clf__min_samples_split=2, clf__n_estimators=50, total=   0.1s\n",
      "[CV] clf__criterion=entropy, clf__max_depth=4, clf__min_samples_leaf=3, clf__min_samples_split=2, clf__n_estimators=100 \n"
     ]
    },
    {
     "name": "stderr",
     "output_type": "stream",
     "text": [
      "/anaconda3/lib/python3.7/site-packages/sklearn/metrics/classification.py:1143: UndefinedMetricWarning: F-score is ill-defined and being set to 0.0 in labels with no predicted samples.\n",
      "  'precision', 'predicted', average, warn_for)\n",
      "/anaconda3/lib/python3.7/site-packages/sklearn/metrics/classification.py:1143: UndefinedMetricWarning: F-score is ill-defined and being set to 0.0 in labels with no predicted samples.\n",
      "  'precision', 'predicted', average, warn_for)\n"
     ]
    },
    {
     "name": "stdout",
     "output_type": "stream",
     "text": [
      "[CV]  clf__criterion=entropy, clf__max_depth=4, clf__min_samples_leaf=3, clf__min_samples_split=2, clf__n_estimators=100, total=   0.2s\n",
      "[CV] clf__criterion=entropy, clf__max_depth=4, clf__min_samples_leaf=3, clf__min_samples_split=2, clf__n_estimators=100 \n"
     ]
    },
    {
     "name": "stderr",
     "output_type": "stream",
     "text": [
      "/anaconda3/lib/python3.7/site-packages/sklearn/metrics/classification.py:1143: UndefinedMetricWarning: F-score is ill-defined and being set to 0.0 in labels with no predicted samples.\n",
      "  'precision', 'predicted', average, warn_for)\n",
      "/anaconda3/lib/python3.7/site-packages/sklearn/metrics/classification.py:1143: UndefinedMetricWarning: F-score is ill-defined and being set to 0.0 in labels with no predicted samples.\n",
      "  'precision', 'predicted', average, warn_for)\n"
     ]
    },
    {
     "name": "stdout",
     "output_type": "stream",
     "text": [
      "[CV]  clf__criterion=entropy, clf__max_depth=4, clf__min_samples_leaf=3, clf__min_samples_split=2, clf__n_estimators=100, total=   0.2s\n",
      "[CV] clf__criterion=entropy, clf__max_depth=4, clf__min_samples_leaf=3, clf__min_samples_split=2, clf__n_estimators=100 \n"
     ]
    },
    {
     "name": "stderr",
     "output_type": "stream",
     "text": [
      "/anaconda3/lib/python3.7/site-packages/sklearn/metrics/classification.py:1143: UndefinedMetricWarning: F-score is ill-defined and being set to 0.0 in labels with no predicted samples.\n",
      "  'precision', 'predicted', average, warn_for)\n",
      "/anaconda3/lib/python3.7/site-packages/sklearn/metrics/classification.py:1143: UndefinedMetricWarning: F-score is ill-defined and being set to 0.0 in labels with no predicted samples.\n",
      "  'precision', 'predicted', average, warn_for)\n",
      "/anaconda3/lib/python3.7/site-packages/sklearn/metrics/classification.py:1143: UndefinedMetricWarning: F-score is ill-defined and being set to 0.0 in labels with no predicted samples.\n",
      "  'precision', 'predicted', average, warn_for)\n",
      "/anaconda3/lib/python3.7/site-packages/sklearn/metrics/classification.py:1143: UndefinedMetricWarning: F-score is ill-defined and being set to 0.0 in labels with no predicted samples.\n",
      "  'precision', 'predicted', average, warn_for)\n"
     ]
    },
    {
     "name": "stdout",
     "output_type": "stream",
     "text": [
      "[CV]  clf__criterion=entropy, clf__max_depth=4, clf__min_samples_leaf=3, clf__min_samples_split=2, clf__n_estimators=100, total=   0.2s\n",
      "[CV] clf__criterion=entropy, clf__max_depth=4, clf__min_samples_leaf=3, clf__min_samples_split=4, clf__n_estimators=50 \n",
      "[CV]  clf__criterion=entropy, clf__max_depth=4, clf__min_samples_leaf=3, clf__min_samples_split=4, clf__n_estimators=50, total=   0.1s\n",
      "[CV] clf__criterion=entropy, clf__max_depth=4, clf__min_samples_leaf=3, clf__min_samples_split=4, clf__n_estimators=50 \n"
     ]
    },
    {
     "name": "stderr",
     "output_type": "stream",
     "text": [
      "/anaconda3/lib/python3.7/site-packages/sklearn/metrics/classification.py:1143: UndefinedMetricWarning: F-score is ill-defined and being set to 0.0 in labels with no predicted samples.\n",
      "  'precision', 'predicted', average, warn_for)\n",
      "/anaconda3/lib/python3.7/site-packages/sklearn/metrics/classification.py:1143: UndefinedMetricWarning: F-score is ill-defined and being set to 0.0 in labels with no predicted samples.\n",
      "  'precision', 'predicted', average, warn_for)\n",
      "/anaconda3/lib/python3.7/site-packages/sklearn/metrics/classification.py:1143: UndefinedMetricWarning: F-score is ill-defined and being set to 0.0 in labels with no predicted samples.\n",
      "  'precision', 'predicted', average, warn_for)\n",
      "/anaconda3/lib/python3.7/site-packages/sklearn/metrics/classification.py:1143: UndefinedMetricWarning: F-score is ill-defined and being set to 0.0 in labels with no predicted samples.\n",
      "  'precision', 'predicted', average, warn_for)\n"
     ]
    },
    {
     "name": "stdout",
     "output_type": "stream",
     "text": [
      "[CV]  clf__criterion=entropy, clf__max_depth=4, clf__min_samples_leaf=3, clf__min_samples_split=4, clf__n_estimators=50, total=   0.1s\n",
      "[CV] clf__criterion=entropy, clf__max_depth=4, clf__min_samples_leaf=3, clf__min_samples_split=4, clf__n_estimators=50 \n",
      "[CV]  clf__criterion=entropy, clf__max_depth=4, clf__min_samples_leaf=3, clf__min_samples_split=4, clf__n_estimators=50, total=   0.1s\n",
      "[CV] clf__criterion=entropy, clf__max_depth=4, clf__min_samples_leaf=3, clf__min_samples_split=4, clf__n_estimators=100 \n"
     ]
    },
    {
     "name": "stderr",
     "output_type": "stream",
     "text": [
      "/anaconda3/lib/python3.7/site-packages/sklearn/metrics/classification.py:1143: UndefinedMetricWarning: F-score is ill-defined and being set to 0.0 in labels with no predicted samples.\n",
      "  'precision', 'predicted', average, warn_for)\n",
      "/anaconda3/lib/python3.7/site-packages/sklearn/metrics/classification.py:1143: UndefinedMetricWarning: F-score is ill-defined and being set to 0.0 in labels with no predicted samples.\n",
      "  'precision', 'predicted', average, warn_for)\n"
     ]
    },
    {
     "name": "stdout",
     "output_type": "stream",
     "text": [
      "[CV]  clf__criterion=entropy, clf__max_depth=4, clf__min_samples_leaf=3, clf__min_samples_split=4, clf__n_estimators=100, total=   0.2s\n",
      "[CV] clf__criterion=entropy, clf__max_depth=4, clf__min_samples_leaf=3, clf__min_samples_split=4, clf__n_estimators=100 \n"
     ]
    },
    {
     "name": "stderr",
     "output_type": "stream",
     "text": [
      "/anaconda3/lib/python3.7/site-packages/sklearn/metrics/classification.py:1143: UndefinedMetricWarning: F-score is ill-defined and being set to 0.0 in labels with no predicted samples.\n",
      "  'precision', 'predicted', average, warn_for)\n",
      "/anaconda3/lib/python3.7/site-packages/sklearn/metrics/classification.py:1143: UndefinedMetricWarning: F-score is ill-defined and being set to 0.0 in labels with no predicted samples.\n",
      "  'precision', 'predicted', average, warn_for)\n"
     ]
    },
    {
     "name": "stdout",
     "output_type": "stream",
     "text": [
      "[CV]  clf__criterion=entropy, clf__max_depth=4, clf__min_samples_leaf=3, clf__min_samples_split=4, clf__n_estimators=100, total=   0.2s\n",
      "[CV] clf__criterion=entropy, clf__max_depth=4, clf__min_samples_leaf=3, clf__min_samples_split=4, clf__n_estimators=100 \n"
     ]
    },
    {
     "name": "stderr",
     "output_type": "stream",
     "text": [
      "/anaconda3/lib/python3.7/site-packages/sklearn/metrics/classification.py:1143: UndefinedMetricWarning: F-score is ill-defined and being set to 0.0 in labels with no predicted samples.\n",
      "  'precision', 'predicted', average, warn_for)\n",
      "/anaconda3/lib/python3.7/site-packages/sklearn/metrics/classification.py:1143: UndefinedMetricWarning: F-score is ill-defined and being set to 0.0 in labels with no predicted samples.\n",
      "  'precision', 'predicted', average, warn_for)\n",
      "[Parallel(n_jobs=1)]: Done 144 out of 144 | elapsed:   36.4s finished\n"
     ]
    },
    {
     "name": "stdout",
     "output_type": "stream",
     "text": [
      "[CV]  clf__criterion=entropy, clf__max_depth=4, clf__min_samples_leaf=3, clf__min_samples_split=4, clf__n_estimators=100, total=   0.3s\n",
      "KNN - - - - - - - - - - - - - - - - - - - - - - - - - - - - - -\n",
      "Fitting 3 folds for each of 20 candidates, totalling 60 fits\n",
      "[CV] clf__n_neighbors=5, clf__p=1, clf__weights=uniform ..............\n"
     ]
    },
    {
     "name": "stderr",
     "output_type": "stream",
     "text": [
      "[Parallel(n_jobs=1)]: Using backend SequentialBackend with 1 concurrent workers.\n"
     ]
    },
    {
     "name": "stdout",
     "output_type": "stream",
     "text": [
      "[CV]  clf__n_neighbors=5, clf__p=1, clf__weights=uniform, total=   0.4s\n",
      "[CV] clf__n_neighbors=5, clf__p=1, clf__weights=uniform ..............\n"
     ]
    },
    {
     "name": "stderr",
     "output_type": "stream",
     "text": [
      "[Parallel(n_jobs=1)]: Done   1 out of   1 | elapsed:    1.2s remaining:    0.0s\n"
     ]
    },
    {
     "name": "stdout",
     "output_type": "stream",
     "text": [
      "[CV]  clf__n_neighbors=5, clf__p=1, clf__weights=uniform, total=   0.4s\n",
      "[CV] clf__n_neighbors=5, clf__p=1, clf__weights=uniform ..............\n",
      "[CV]  clf__n_neighbors=5, clf__p=1, clf__weights=uniform, total=   0.4s\n",
      "[CV] clf__n_neighbors=5, clf__p=1, clf__weights=distance .............\n",
      "[CV]  clf__n_neighbors=5, clf__p=1, clf__weights=distance, total=   0.3s\n",
      "[CV] clf__n_neighbors=5, clf__p=1, clf__weights=distance .............\n",
      "[CV]  clf__n_neighbors=5, clf__p=1, clf__weights=distance, total=   0.4s\n",
      "[CV] clf__n_neighbors=5, clf__p=1, clf__weights=distance .............\n",
      "[CV]  clf__n_neighbors=5, clf__p=1, clf__weights=distance, total=   0.3s\n",
      "[CV] clf__n_neighbors=5, clf__p=2, clf__weights=uniform ..............\n",
      "[CV]  clf__n_neighbors=5, clf__p=2, clf__weights=uniform, total=   0.4s\n",
      "[CV] clf__n_neighbors=5, clf__p=2, clf__weights=uniform ..............\n",
      "[CV]  clf__n_neighbors=5, clf__p=2, clf__weights=uniform, total=   0.5s\n",
      "[CV] clf__n_neighbors=5, clf__p=2, clf__weights=uniform ..............\n",
      "[CV]  clf__n_neighbors=5, clf__p=2, clf__weights=uniform, total=   0.3s\n",
      "[CV] clf__n_neighbors=5, clf__p=2, clf__weights=distance .............\n",
      "[CV]  clf__n_neighbors=5, clf__p=2, clf__weights=distance, total=   0.4s\n",
      "[CV] clf__n_neighbors=5, clf__p=2, clf__weights=distance .............\n",
      "[CV]  clf__n_neighbors=5, clf__p=2, clf__weights=distance, total=   0.3s\n",
      "[CV] clf__n_neighbors=5, clf__p=2, clf__weights=distance .............\n",
      "[CV]  clf__n_neighbors=5, clf__p=2, clf__weights=distance, total=   0.3s\n",
      "[CV] clf__n_neighbors=25, clf__p=1, clf__weights=uniform .............\n"
     ]
    },
    {
     "name": "stderr",
     "output_type": "stream",
     "text": [
      "/anaconda3/lib/python3.7/site-packages/sklearn/metrics/classification.py:1143: UndefinedMetricWarning: F-score is ill-defined and being set to 0.0 in labels with no predicted samples.\n",
      "  'precision', 'predicted', average, warn_for)\n",
      "/anaconda3/lib/python3.7/site-packages/sklearn/metrics/classification.py:1143: UndefinedMetricWarning: F-score is ill-defined and being set to 0.0 in labels with no predicted samples.\n",
      "  'precision', 'predicted', average, warn_for)\n"
     ]
    },
    {
     "name": "stdout",
     "output_type": "stream",
     "text": [
      "[CV]  clf__n_neighbors=25, clf__p=1, clf__weights=uniform, total=   0.6s\n",
      "[CV] clf__n_neighbors=25, clf__p=1, clf__weights=uniform .............\n",
      "[CV]  clf__n_neighbors=25, clf__p=1, clf__weights=uniform, total=   0.6s\n",
      "[CV] clf__n_neighbors=25, clf__p=1, clf__weights=uniform .............\n"
     ]
    },
    {
     "name": "stderr",
     "output_type": "stream",
     "text": [
      "/anaconda3/lib/python3.7/site-packages/sklearn/metrics/classification.py:1143: UndefinedMetricWarning: F-score is ill-defined and being set to 0.0 in labels with no predicted samples.\n",
      "  'precision', 'predicted', average, warn_for)\n",
      "/anaconda3/lib/python3.7/site-packages/sklearn/metrics/classification.py:1143: UndefinedMetricWarning: F-score is ill-defined and being set to 0.0 in labels with no predicted samples.\n",
      "  'precision', 'predicted', average, warn_for)\n"
     ]
    },
    {
     "name": "stdout",
     "output_type": "stream",
     "text": [
      "[CV]  clf__n_neighbors=25, clf__p=1, clf__weights=uniform, total=   0.7s\n",
      "[CV] clf__n_neighbors=25, clf__p=1, clf__weights=distance ............\n",
      "[CV]  clf__n_neighbors=25, clf__p=1, clf__weights=distance, total=   0.6s\n",
      "[CV] clf__n_neighbors=25, clf__p=1, clf__weights=distance ............\n",
      "[CV]  clf__n_neighbors=25, clf__p=1, clf__weights=distance, total=   0.5s\n",
      "[CV] clf__n_neighbors=25, clf__p=1, clf__weights=distance ............\n",
      "[CV]  clf__n_neighbors=25, clf__p=1, clf__weights=distance, total=   0.5s\n",
      "[CV] clf__n_neighbors=25, clf__p=2, clf__weights=uniform .............\n"
     ]
    },
    {
     "name": "stderr",
     "output_type": "stream",
     "text": [
      "/anaconda3/lib/python3.7/site-packages/sklearn/metrics/classification.py:1143: UndefinedMetricWarning: F-score is ill-defined and being set to 0.0 in labels with no predicted samples.\n",
      "  'precision', 'predicted', average, warn_for)\n",
      "/anaconda3/lib/python3.7/site-packages/sklearn/metrics/classification.py:1143: UndefinedMetricWarning: F-score is ill-defined and being set to 0.0 in labels with no predicted samples.\n",
      "  'precision', 'predicted', average, warn_for)\n"
     ]
    },
    {
     "name": "stdout",
     "output_type": "stream",
     "text": [
      "[CV]  clf__n_neighbors=25, clf__p=2, clf__weights=uniform, total=   0.6s\n",
      "[CV] clf__n_neighbors=25, clf__p=2, clf__weights=uniform .............\n",
      "[CV]  clf__n_neighbors=25, clf__p=2, clf__weights=uniform, total=   0.5s\n",
      "[CV] clf__n_neighbors=25, clf__p=2, clf__weights=uniform .............\n"
     ]
    },
    {
     "name": "stderr",
     "output_type": "stream",
     "text": [
      "/anaconda3/lib/python3.7/site-packages/sklearn/metrics/classification.py:1143: UndefinedMetricWarning: F-score is ill-defined and being set to 0.0 in labels with no predicted samples.\n",
      "  'precision', 'predicted', average, warn_for)\n",
      "/anaconda3/lib/python3.7/site-packages/sklearn/metrics/classification.py:1143: UndefinedMetricWarning: F-score is ill-defined and being set to 0.0 in labels with no predicted samples.\n",
      "  'precision', 'predicted', average, warn_for)\n"
     ]
    },
    {
     "name": "stdout",
     "output_type": "stream",
     "text": [
      "[CV]  clf__n_neighbors=25, clf__p=2, clf__weights=uniform, total=   0.5s\n",
      "[CV] clf__n_neighbors=25, clf__p=2, clf__weights=distance ............\n",
      "[CV]  clf__n_neighbors=25, clf__p=2, clf__weights=distance, total=   0.4s\n",
      "[CV] clf__n_neighbors=25, clf__p=2, clf__weights=distance ............\n",
      "[CV]  clf__n_neighbors=25, clf__p=2, clf__weights=distance, total=   0.4s\n",
      "[CV] clf__n_neighbors=25, clf__p=2, clf__weights=distance ............\n",
      "[CV]  clf__n_neighbors=25, clf__p=2, clf__weights=distance, total=   0.5s\n",
      "[CV] clf__n_neighbors=50, clf__p=1, clf__weights=uniform .............\n"
     ]
    },
    {
     "name": "stderr",
     "output_type": "stream",
     "text": [
      "/anaconda3/lib/python3.7/site-packages/sklearn/metrics/classification.py:1143: UndefinedMetricWarning: F-score is ill-defined and being set to 0.0 in labels with no predicted samples.\n",
      "  'precision', 'predicted', average, warn_for)\n",
      "/anaconda3/lib/python3.7/site-packages/sklearn/metrics/classification.py:1143: UndefinedMetricWarning: F-score is ill-defined and being set to 0.0 in labels with no predicted samples.\n",
      "  'precision', 'predicted', average, warn_for)\n"
     ]
    },
    {
     "name": "stdout",
     "output_type": "stream",
     "text": [
      "[CV]  clf__n_neighbors=50, clf__p=1, clf__weights=uniform, total=   0.8s\n",
      "[CV] clf__n_neighbors=50, clf__p=1, clf__weights=uniform .............\n"
     ]
    },
    {
     "name": "stderr",
     "output_type": "stream",
     "text": [
      "/anaconda3/lib/python3.7/site-packages/sklearn/metrics/classification.py:1143: UndefinedMetricWarning: F-score is ill-defined and being set to 0.0 in labels with no predicted samples.\n",
      "  'precision', 'predicted', average, warn_for)\n",
      "/anaconda3/lib/python3.7/site-packages/sklearn/metrics/classification.py:1143: UndefinedMetricWarning: F-score is ill-defined and being set to 0.0 in labels with no predicted samples.\n",
      "  'precision', 'predicted', average, warn_for)\n"
     ]
    },
    {
     "name": "stdout",
     "output_type": "stream",
     "text": [
      "[CV]  clf__n_neighbors=50, clf__p=1, clf__weights=uniform, total=   0.6s\n",
      "[CV] clf__n_neighbors=50, clf__p=1, clf__weights=uniform .............\n"
     ]
    },
    {
     "name": "stderr",
     "output_type": "stream",
     "text": [
      "/anaconda3/lib/python3.7/site-packages/sklearn/metrics/classification.py:1143: UndefinedMetricWarning: F-score is ill-defined and being set to 0.0 in labels with no predicted samples.\n",
      "  'precision', 'predicted', average, warn_for)\n",
      "/anaconda3/lib/python3.7/site-packages/sklearn/metrics/classification.py:1143: UndefinedMetricWarning: F-score is ill-defined and being set to 0.0 in labels with no predicted samples.\n",
      "  'precision', 'predicted', average, warn_for)\n"
     ]
    },
    {
     "name": "stdout",
     "output_type": "stream",
     "text": [
      "[CV]  clf__n_neighbors=50, clf__p=1, clf__weights=uniform, total=   0.6s\n",
      "[CV] clf__n_neighbors=50, clf__p=1, clf__weights=distance ............\n",
      "[CV]  clf__n_neighbors=50, clf__p=1, clf__weights=distance, total=   0.8s\n",
      "[CV] clf__n_neighbors=50, clf__p=1, clf__weights=distance ............\n",
      "[CV]  clf__n_neighbors=50, clf__p=1, clf__weights=distance, total=   0.6s\n",
      "[CV] clf__n_neighbors=50, clf__p=1, clf__weights=distance ............\n",
      "[CV]  clf__n_neighbors=50, clf__p=1, clf__weights=distance, total=   0.9s\n",
      "[CV] clf__n_neighbors=50, clf__p=2, clf__weights=uniform .............\n"
     ]
    },
    {
     "name": "stderr",
     "output_type": "stream",
     "text": [
      "/anaconda3/lib/python3.7/site-packages/sklearn/metrics/classification.py:1143: UndefinedMetricWarning: F-score is ill-defined and being set to 0.0 in labels with no predicted samples.\n",
      "  'precision', 'predicted', average, warn_for)\n",
      "/anaconda3/lib/python3.7/site-packages/sklearn/metrics/classification.py:1143: UndefinedMetricWarning: F-score is ill-defined and being set to 0.0 in labels with no predicted samples.\n",
      "  'precision', 'predicted', average, warn_for)\n"
     ]
    },
    {
     "name": "stdout",
     "output_type": "stream",
     "text": [
      "[CV]  clf__n_neighbors=50, clf__p=2, clf__weights=uniform, total=   0.7s\n",
      "[CV] clf__n_neighbors=50, clf__p=2, clf__weights=uniform .............\n"
     ]
    },
    {
     "name": "stderr",
     "output_type": "stream",
     "text": [
      "/anaconda3/lib/python3.7/site-packages/sklearn/metrics/classification.py:1143: UndefinedMetricWarning: F-score is ill-defined and being set to 0.0 in labels with no predicted samples.\n",
      "  'precision', 'predicted', average, warn_for)\n",
      "/anaconda3/lib/python3.7/site-packages/sklearn/metrics/classification.py:1143: UndefinedMetricWarning: F-score is ill-defined and being set to 0.0 in labels with no predicted samples.\n",
      "  'precision', 'predicted', average, warn_for)\n"
     ]
    },
    {
     "name": "stdout",
     "output_type": "stream",
     "text": [
      "[CV]  clf__n_neighbors=50, clf__p=2, clf__weights=uniform, total=   0.6s\n",
      "[CV] clf__n_neighbors=50, clf__p=2, clf__weights=uniform .............\n"
     ]
    },
    {
     "name": "stderr",
     "output_type": "stream",
     "text": [
      "/anaconda3/lib/python3.7/site-packages/sklearn/metrics/classification.py:1143: UndefinedMetricWarning: F-score is ill-defined and being set to 0.0 in labels with no predicted samples.\n",
      "  'precision', 'predicted', average, warn_for)\n",
      "/anaconda3/lib/python3.7/site-packages/sklearn/metrics/classification.py:1143: UndefinedMetricWarning: F-score is ill-defined and being set to 0.0 in labels with no predicted samples.\n",
      "  'precision', 'predicted', average, warn_for)\n"
     ]
    },
    {
     "name": "stdout",
     "output_type": "stream",
     "text": [
      "[CV]  clf__n_neighbors=50, clf__p=2, clf__weights=uniform, total=   0.7s\n",
      "[CV] clf__n_neighbors=50, clf__p=2, clf__weights=distance ............\n",
      "[CV]  clf__n_neighbors=50, clf__p=2, clf__weights=distance, total=   1.2s\n",
      "[CV] clf__n_neighbors=50, clf__p=2, clf__weights=distance ............\n",
      "[CV]  clf__n_neighbors=50, clf__p=2, clf__weights=distance, total=   0.7s\n",
      "[CV] clf__n_neighbors=50, clf__p=2, clf__weights=distance ............\n",
      "[CV]  clf__n_neighbors=50, clf__p=2, clf__weights=distance, total=   0.7s\n",
      "[CV] clf__n_neighbors=100, clf__p=1, clf__weights=uniform ............\n"
     ]
    },
    {
     "name": "stderr",
     "output_type": "stream",
     "text": [
      "/anaconda3/lib/python3.7/site-packages/sklearn/metrics/classification.py:1143: UndefinedMetricWarning: F-score is ill-defined and being set to 0.0 in labels with no predicted samples.\n",
      "  'precision', 'predicted', average, warn_for)\n",
      "/anaconda3/lib/python3.7/site-packages/sklearn/metrics/classification.py:1143: UndefinedMetricWarning: F-score is ill-defined and being set to 0.0 in labels with no predicted samples.\n",
      "  'precision', 'predicted', average, warn_for)\n"
     ]
    },
    {
     "name": "stdout",
     "output_type": "stream",
     "text": [
      "[CV]  clf__n_neighbors=100, clf__p=1, clf__weights=uniform, total=   0.8s\n",
      "[CV] clf__n_neighbors=100, clf__p=1, clf__weights=uniform ............\n"
     ]
    },
    {
     "name": "stderr",
     "output_type": "stream",
     "text": [
      "/anaconda3/lib/python3.7/site-packages/sklearn/metrics/classification.py:1143: UndefinedMetricWarning: F-score is ill-defined and being set to 0.0 in labels with no predicted samples.\n",
      "  'precision', 'predicted', average, warn_for)\n",
      "/anaconda3/lib/python3.7/site-packages/sklearn/metrics/classification.py:1143: UndefinedMetricWarning: F-score is ill-defined and being set to 0.0 in labels with no predicted samples.\n",
      "  'precision', 'predicted', average, warn_for)\n"
     ]
    },
    {
     "name": "stdout",
     "output_type": "stream",
     "text": [
      "[CV]  clf__n_neighbors=100, clf__p=1, clf__weights=uniform, total=   0.8s\n",
      "[CV] clf__n_neighbors=100, clf__p=1, clf__weights=uniform ............\n"
     ]
    },
    {
     "name": "stderr",
     "output_type": "stream",
     "text": [
      "/anaconda3/lib/python3.7/site-packages/sklearn/metrics/classification.py:1143: UndefinedMetricWarning: F-score is ill-defined and being set to 0.0 in labels with no predicted samples.\n",
      "  'precision', 'predicted', average, warn_for)\n",
      "/anaconda3/lib/python3.7/site-packages/sklearn/metrics/classification.py:1143: UndefinedMetricWarning: F-score is ill-defined and being set to 0.0 in labels with no predicted samples.\n",
      "  'precision', 'predicted', average, warn_for)\n"
     ]
    },
    {
     "name": "stdout",
     "output_type": "stream",
     "text": [
      "[CV]  clf__n_neighbors=100, clf__p=1, clf__weights=uniform, total=   0.8s\n",
      "[CV] clf__n_neighbors=100, clf__p=1, clf__weights=distance ...........\n",
      "[CV]  clf__n_neighbors=100, clf__p=1, clf__weights=distance, total=   0.7s\n",
      "[CV] clf__n_neighbors=100, clf__p=1, clf__weights=distance ...........\n",
      "[CV]  clf__n_neighbors=100, clf__p=1, clf__weights=distance, total=   0.7s\n",
      "[CV] clf__n_neighbors=100, clf__p=1, clf__weights=distance ...........\n",
      "[CV]  clf__n_neighbors=100, clf__p=1, clf__weights=distance, total=   0.8s\n",
      "[CV] clf__n_neighbors=100, clf__p=2, clf__weights=uniform ............\n"
     ]
    },
    {
     "name": "stderr",
     "output_type": "stream",
     "text": [
      "/anaconda3/lib/python3.7/site-packages/sklearn/metrics/classification.py:1143: UndefinedMetricWarning: F-score is ill-defined and being set to 0.0 in labels with no predicted samples.\n",
      "  'precision', 'predicted', average, warn_for)\n",
      "/anaconda3/lib/python3.7/site-packages/sklearn/metrics/classification.py:1143: UndefinedMetricWarning: F-score is ill-defined and being set to 0.0 in labels with no predicted samples.\n",
      "  'precision', 'predicted', average, warn_for)\n"
     ]
    },
    {
     "name": "stdout",
     "output_type": "stream",
     "text": [
      "[CV]  clf__n_neighbors=100, clf__p=2, clf__weights=uniform, total=   1.0s\n",
      "[CV] clf__n_neighbors=100, clf__p=2, clf__weights=uniform ............\n"
     ]
    },
    {
     "name": "stderr",
     "output_type": "stream",
     "text": [
      "/anaconda3/lib/python3.7/site-packages/sklearn/metrics/classification.py:1143: UndefinedMetricWarning: F-score is ill-defined and being set to 0.0 in labels with no predicted samples.\n",
      "  'precision', 'predicted', average, warn_for)\n",
      "/anaconda3/lib/python3.7/site-packages/sklearn/metrics/classification.py:1143: UndefinedMetricWarning: F-score is ill-defined and being set to 0.0 in labels with no predicted samples.\n",
      "  'precision', 'predicted', average, warn_for)\n"
     ]
    },
    {
     "name": "stdout",
     "output_type": "stream",
     "text": [
      "[CV]  clf__n_neighbors=100, clf__p=2, clf__weights=uniform, total=   1.1s\n",
      "[CV] clf__n_neighbors=100, clf__p=2, clf__weights=uniform ............\n"
     ]
    },
    {
     "name": "stderr",
     "output_type": "stream",
     "text": [
      "/anaconda3/lib/python3.7/site-packages/sklearn/metrics/classification.py:1143: UndefinedMetricWarning: F-score is ill-defined and being set to 0.0 in labels with no predicted samples.\n",
      "  'precision', 'predicted', average, warn_for)\n",
      "/anaconda3/lib/python3.7/site-packages/sklearn/metrics/classification.py:1143: UndefinedMetricWarning: F-score is ill-defined and being set to 0.0 in labels with no predicted samples.\n",
      "  'precision', 'predicted', average, warn_for)\n"
     ]
    },
    {
     "name": "stdout",
     "output_type": "stream",
     "text": [
      "[CV]  clf__n_neighbors=100, clf__p=2, clf__weights=uniform, total=   1.0s\n",
      "[CV] clf__n_neighbors=100, clf__p=2, clf__weights=distance ...........\n",
      "[CV]  clf__n_neighbors=100, clf__p=2, clf__weights=distance, total=   1.0s\n",
      "[CV] clf__n_neighbors=100, clf__p=2, clf__weights=distance ...........\n",
      "[CV]  clf__n_neighbors=100, clf__p=2, clf__weights=distance, total=   0.7s\n",
      "[CV] clf__n_neighbors=100, clf__p=2, clf__weights=distance ...........\n",
      "[CV]  clf__n_neighbors=100, clf__p=2, clf__weights=distance, total=   0.8s\n",
      "[CV] clf__n_neighbors=200, clf__p=1, clf__weights=uniform ............\n"
     ]
    },
    {
     "name": "stderr",
     "output_type": "stream",
     "text": [
      "/anaconda3/lib/python3.7/site-packages/sklearn/metrics/classification.py:1143: UndefinedMetricWarning: F-score is ill-defined and being set to 0.0 in labels with no predicted samples.\n",
      "  'precision', 'predicted', average, warn_for)\n",
      "/anaconda3/lib/python3.7/site-packages/sklearn/metrics/classification.py:1143: UndefinedMetricWarning: F-score is ill-defined and being set to 0.0 in labels with no predicted samples.\n",
      "  'precision', 'predicted', average, warn_for)\n"
     ]
    },
    {
     "name": "stdout",
     "output_type": "stream",
     "text": [
      "[CV]  clf__n_neighbors=200, clf__p=1, clf__weights=uniform, total=   1.1s\n",
      "[CV] clf__n_neighbors=200, clf__p=1, clf__weights=uniform ............\n"
     ]
    },
    {
     "name": "stderr",
     "output_type": "stream",
     "text": [
      "/anaconda3/lib/python3.7/site-packages/sklearn/metrics/classification.py:1143: UndefinedMetricWarning: F-score is ill-defined and being set to 0.0 in labels with no predicted samples.\n",
      "  'precision', 'predicted', average, warn_for)\n",
      "/anaconda3/lib/python3.7/site-packages/sklearn/metrics/classification.py:1143: UndefinedMetricWarning: F-score is ill-defined and being set to 0.0 in labels with no predicted samples.\n",
      "  'precision', 'predicted', average, warn_for)\n"
     ]
    },
    {
     "name": "stdout",
     "output_type": "stream",
     "text": [
      "[CV]  clf__n_neighbors=200, clf__p=1, clf__weights=uniform, total=   1.5s\n",
      "[CV] clf__n_neighbors=200, clf__p=1, clf__weights=uniform ............\n"
     ]
    },
    {
     "name": "stderr",
     "output_type": "stream",
     "text": [
      "/anaconda3/lib/python3.7/site-packages/sklearn/metrics/classification.py:1143: UndefinedMetricWarning: F-score is ill-defined and being set to 0.0 in labels with no predicted samples.\n",
      "  'precision', 'predicted', average, warn_for)\n",
      "/anaconda3/lib/python3.7/site-packages/sklearn/metrics/classification.py:1143: UndefinedMetricWarning: F-score is ill-defined and being set to 0.0 in labels with no predicted samples.\n",
      "  'precision', 'predicted', average, warn_for)\n"
     ]
    },
    {
     "name": "stdout",
     "output_type": "stream",
     "text": [
      "[CV]  clf__n_neighbors=200, clf__p=1, clf__weights=uniform, total=   0.9s\n",
      "[CV] clf__n_neighbors=200, clf__p=1, clf__weights=distance ...........\n",
      "[CV]  clf__n_neighbors=200, clf__p=1, clf__weights=distance, total=   1.3s\n",
      "[CV] clf__n_neighbors=200, clf__p=1, clf__weights=distance ...........\n",
      "[CV]  clf__n_neighbors=200, clf__p=1, clf__weights=distance, total=   0.9s\n",
      "[CV] clf__n_neighbors=200, clf__p=1, clf__weights=distance ...........\n",
      "[CV]  clf__n_neighbors=200, clf__p=1, clf__weights=distance, total=   0.9s\n",
      "[CV] clf__n_neighbors=200, clf__p=2, clf__weights=uniform ............\n"
     ]
    },
    {
     "name": "stderr",
     "output_type": "stream",
     "text": [
      "/anaconda3/lib/python3.7/site-packages/sklearn/metrics/classification.py:1143: UndefinedMetricWarning: F-score is ill-defined and being set to 0.0 in labels with no predicted samples.\n",
      "  'precision', 'predicted', average, warn_for)\n",
      "/anaconda3/lib/python3.7/site-packages/sklearn/metrics/classification.py:1143: UndefinedMetricWarning: F-score is ill-defined and being set to 0.0 in labels with no predicted samples.\n",
      "  'precision', 'predicted', average, warn_for)\n"
     ]
    },
    {
     "name": "stdout",
     "output_type": "stream",
     "text": [
      "[CV]  clf__n_neighbors=200, clf__p=2, clf__weights=uniform, total=   1.2s\n",
      "[CV] clf__n_neighbors=200, clf__p=2, clf__weights=uniform ............\n"
     ]
    },
    {
     "name": "stderr",
     "output_type": "stream",
     "text": [
      "/anaconda3/lib/python3.7/site-packages/sklearn/metrics/classification.py:1143: UndefinedMetricWarning: F-score is ill-defined and being set to 0.0 in labels with no predicted samples.\n",
      "  'precision', 'predicted', average, warn_for)\n",
      "/anaconda3/lib/python3.7/site-packages/sklearn/metrics/classification.py:1143: UndefinedMetricWarning: F-score is ill-defined and being set to 0.0 in labels with no predicted samples.\n",
      "  'precision', 'predicted', average, warn_for)\n"
     ]
    },
    {
     "name": "stdout",
     "output_type": "stream",
     "text": [
      "[CV]  clf__n_neighbors=200, clf__p=2, clf__weights=uniform, total=   1.1s\n",
      "[CV] clf__n_neighbors=200, clf__p=2, clf__weights=uniform ............\n"
     ]
    },
    {
     "name": "stderr",
     "output_type": "stream",
     "text": [
      "/anaconda3/lib/python3.7/site-packages/sklearn/metrics/classification.py:1143: UndefinedMetricWarning: F-score is ill-defined and being set to 0.0 in labels with no predicted samples.\n",
      "  'precision', 'predicted', average, warn_for)\n",
      "/anaconda3/lib/python3.7/site-packages/sklearn/metrics/classification.py:1143: UndefinedMetricWarning: F-score is ill-defined and being set to 0.0 in labels with no predicted samples.\n",
      "  'precision', 'predicted', average, warn_for)\n"
     ]
    },
    {
     "name": "stdout",
     "output_type": "stream",
     "text": [
      "[CV]  clf__n_neighbors=200, clf__p=2, clf__weights=uniform, total=   0.9s\n",
      "[CV] clf__n_neighbors=200, clf__p=2, clf__weights=distance ...........\n",
      "[CV]  clf__n_neighbors=200, clf__p=2, clf__weights=distance, total=   1.0s\n",
      "[CV] clf__n_neighbors=200, clf__p=2, clf__weights=distance ...........\n",
      "[CV]  clf__n_neighbors=200, clf__p=2, clf__weights=distance, total=   1.0s\n",
      "[CV] clf__n_neighbors=200, clf__p=2, clf__weights=distance ...........\n",
      "[CV]  clf__n_neighbors=200, clf__p=2, clf__weights=distance, total=   0.8s\n",
      "NaiveBayes - - - - - - - - - - - - - - - - - - - - - - - - - - - - - -\n",
      "Fitting 3 folds for each of 6 candidates, totalling 18 fits\n",
      "[CV] clf__alpha=0, clf__norm=True ....................................\n",
      "[CV] ..................... clf__alpha=0, clf__norm=True, total=   0.0s\n",
      "[CV] clf__alpha=0, clf__norm=True ....................................\n",
      "[CV] ..................... clf__alpha=0, clf__norm=True, total=   0.0s\n",
      "[CV] clf__alpha=0, clf__norm=True ....................................\n",
      "[CV] ..................... clf__alpha=0, clf__norm=True, total=   0.0s\n",
      "[CV] clf__alpha=0, clf__norm=False ...................................\n"
     ]
    },
    {
     "name": "stderr",
     "output_type": "stream",
     "text": [
      "[Parallel(n_jobs=1)]: Done  60 out of  60 | elapsed:  2.0min finished\n",
      "[Parallel(n_jobs=1)]: Using backend SequentialBackend with 1 concurrent workers.\n",
      "/anaconda3/lib/python3.7/site-packages/sklearn/naive_bayes.py:480: UserWarning: alpha too small will result in numeric errors, setting alpha = 1.0e-10\n",
      "  'setting alpha = %.1e' % _ALPHA_MIN)\n",
      "[Parallel(n_jobs=1)]: Done   1 out of   1 | elapsed:    0.0s remaining:    0.0s\n",
      "/anaconda3/lib/python3.7/site-packages/sklearn/naive_bayes.py:480: UserWarning: alpha too small will result in numeric errors, setting alpha = 1.0e-10\n",
      "  'setting alpha = %.1e' % _ALPHA_MIN)\n",
      "/anaconda3/lib/python3.7/site-packages/sklearn/naive_bayes.py:480: UserWarning: alpha too small will result in numeric errors, setting alpha = 1.0e-10\n",
      "  'setting alpha = %.1e' % _ALPHA_MIN)\n",
      "/anaconda3/lib/python3.7/site-packages/sklearn/naive_bayes.py:480: UserWarning: alpha too small will result in numeric errors, setting alpha = 1.0e-10\n",
      "  'setting alpha = %.1e' % _ALPHA_MIN)\n"
     ]
    },
    {
     "name": "stdout",
     "output_type": "stream",
     "text": [
      "[CV] .................... clf__alpha=0, clf__norm=False, total=   0.0s\n",
      "[CV] clf__alpha=0, clf__norm=False ...................................\n",
      "[CV] .................... clf__alpha=0, clf__norm=False, total=   0.0s\n",
      "[CV] clf__alpha=0, clf__norm=False ...................................\n",
      "[CV] .................... clf__alpha=0, clf__norm=False, total=   0.0s\n",
      "[CV] clf__alpha=0.5, clf__norm=True ..................................\n",
      "[CV] ................... clf__alpha=0.5, clf__norm=True, total=   0.0s\n",
      "[CV] clf__alpha=0.5, clf__norm=True ..................................\n",
      "[CV] ................... clf__alpha=0.5, clf__norm=True, total=   0.0s\n",
      "[CV] clf__alpha=0.5, clf__norm=True ..................................\n",
      "[CV] ................... clf__alpha=0.5, clf__norm=True, total=   0.0s\n",
      "[CV] clf__alpha=0.5, clf__norm=False .................................\n",
      "[CV] .................. clf__alpha=0.5, clf__norm=False, total=   0.0s\n",
      "[CV] clf__alpha=0.5, clf__norm=False .................................\n",
      "[CV] .................. clf__alpha=0.5, clf__norm=False, total=   0.0s\n",
      "[CV] clf__alpha=0.5, clf__norm=False .................................\n",
      "[CV] .................. clf__alpha=0.5, clf__norm=False, total=   0.0s\n",
      "[CV] clf__alpha=1, clf__norm=True ....................................\n",
      "[CV] ..................... clf__alpha=1, clf__norm=True, total=   0.0s\n",
      "[CV] clf__alpha=1, clf__norm=True ....................................\n"
     ]
    },
    {
     "name": "stderr",
     "output_type": "stream",
     "text": [
      "/anaconda3/lib/python3.7/site-packages/sklearn/naive_bayes.py:480: UserWarning: alpha too small will result in numeric errors, setting alpha = 1.0e-10\n",
      "  'setting alpha = %.1e' % _ALPHA_MIN)\n",
      "/anaconda3/lib/python3.7/site-packages/sklearn/naive_bayes.py:480: UserWarning: alpha too small will result in numeric errors, setting alpha = 1.0e-10\n",
      "  'setting alpha = %.1e' % _ALPHA_MIN)\n"
     ]
    },
    {
     "name": "stdout",
     "output_type": "stream",
     "text": [
      "[CV] ..................... clf__alpha=1, clf__norm=True, total=   0.0s\n",
      "[CV] clf__alpha=1, clf__norm=True ....................................\n",
      "[CV] ..................... clf__alpha=1, clf__norm=True, total=   0.0s\n",
      "[CV] clf__alpha=1, clf__norm=False ...................................\n",
      "[CV] .................... clf__alpha=1, clf__norm=False, total=   0.1s\n",
      "[CV] clf__alpha=1, clf__norm=False ...................................\n",
      "[CV] .................... clf__alpha=1, clf__norm=False, total=   0.0s\n",
      "[CV] clf__alpha=1, clf__norm=False ...................................\n",
      "[CV] .................... clf__alpha=1, clf__norm=False, total=   0.0s\n"
     ]
    },
    {
     "name": "stderr",
     "output_type": "stream",
     "text": [
      "[Parallel(n_jobs=1)]: Done  18 out of  18 | elapsed:    0.6s finished\n",
      "/anaconda3/lib/python3.7/site-packages/sklearn/naive_bayes.py:480: UserWarning: alpha too small will result in numeric errors, setting alpha = 1.0e-10\n",
      "  'setting alpha = %.1e' % _ALPHA_MIN)\n"
     ]
    }
   ],
   "source": [
    "# Dictionary storing the best estimators for each classifier\n",
    "best_estimators = {}\n",
    "\n",
    "# Grid Searching each classifier\n",
    "for name, vals in top.items():\n",
    "    print(name + ' -'*30)\n",
    "    \n",
    "    # Grid Searching \n",
    "    gs = GridSearchCV(vals[0], vals[1] , cv=3, return_train_score=True, verbose=2, scoring='f1_macro')\n",
    "    gs.fit(X_train, y_train)\n",
    "    \n",
    "    # Saving the best estimators/tuned models\n",
    "    best_estimators[name+'_clf'] = gs.best_estimator_"
   ]
  },
  {
   "cell_type": "markdown",
   "metadata": {},
   "source": [
    "### Classification Reports"
   ]
  },
  {
   "cell_type": "code",
   "execution_count": 127,
   "metadata": {},
   "outputs": [
    {
     "name": "stdout",
     "output_type": "stream",
     "text": [
      "\n",
      "Tuned RandomForest_clf - - - - - - - - - - - - - - - - - - - - - - - - - - - - - -\n",
      "              precision    recall  f1-score   support\n",
      "\n",
      "    No Virus       0.95      0.99      0.97      2493\n",
      "       Virus       0.33      0.08      0.13       134\n",
      "\n",
      "   micro avg       0.94      0.94      0.94      2627\n",
      "   macro avg       0.64      0.54      0.55      2627\n",
      "weighted avg       0.92      0.94      0.93      2627\n",
      "\n",
      "\n",
      "Tuned KNN_clf - - - - - - - - - - - - - - - - - - - - - - - - - - - - - -\n",
      "              precision    recall  f1-score   support\n",
      "\n",
      "    No Virus       0.95      0.98      0.97      2493\n",
      "       Virus       0.22      0.12      0.15       134\n",
      "\n",
      "   micro avg       0.93      0.93      0.93      2627\n",
      "   macro avg       0.58      0.55      0.56      2627\n",
      "weighted avg       0.92      0.93      0.92      2627\n",
      "\n",
      "\n",
      "Tuned NaiveBayes_clf - - - - - - - - - - - - - - - - - - - - - - - - - - - - - -\n",
      "              precision    recall  f1-score   support\n",
      "\n",
      "    No Virus       0.98      0.62      0.76      2493\n",
      "       Virus       0.10      0.79      0.18       134\n",
      "\n",
      "   micro avg       0.63      0.63      0.63      2627\n",
      "   macro avg       0.54      0.71      0.47      2627\n",
      "weighted avg       0.94      0.63      0.73      2627\n",
      "\n"
     ]
    }
   ],
   "source": [
    "# Looping through each tuned model's predictions and getting their classification reports\n",
    "for name, pipe in best_estimators.items():\n",
    "    print('\\nTuned '+ name + ' -'*30)\n",
    "    \n",
    "    report = classification_report(y_test, pipe.predict(X_test), target_names=['No Virus', 'Virus'], output_dict=False)\n",
    "    print(report)"
   ]
  },
  {
   "cell_type": "markdown",
   "metadata": {},
   "source": [
    "### Confusion Matrix"
   ]
  },
  {
   "cell_type": "code",
   "execution_count": 128,
   "metadata": {},
   "outputs": [],
   "source": [
    "def plot_confusion_matrix(y_true, y_pred, labels=['No Virus','Virus'],\n",
    "                          normalize=False, title=None, cmap=plt.cm.coolwarm):\n",
    "\n",
    "    cm = confusion_matrix(y_true, y_pred)\n",
    "    fig, ax = plt.subplots(figsize=(12,6))\n",
    "    im = ax.imshow(cm, interpolation='nearest', cmap=cmap)\n",
    "    ax.figure.colorbar(im, ax=ax)\n",
    "    # We want to show all ticks...\n",
    "    ax.set(xticks=np.arange(cm.shape[1]),\n",
    "           yticks=np.arange(cm.shape[0]),\n",
    "           # ... and label them with the respective list entries\n",
    "           xticklabels=labels, yticklabels=labels,\n",
    "           title=title,\n",
    "           ylabel='ACTUAL',\n",
    "           xlabel='PREDICTED')\n",
    "    # Rotate the tick labels and set their alignment.\n",
    "    plt.setp(ax.get_xticklabels(), rotation=45, ha=\"right\",\n",
    "             rotation_mode=\"anchor\")\n",
    "    # Loop over data dimensions and create text annotations.\n",
    "    fmt = '.2f' if normalize else 'd'\n",
    "    thresh = cm.max() / 1.5\n",
    "    for i in range(cm.shape[0]):\n",
    "        for j in range(cm.shape[1]):\n",
    "            ax.text(j, i, format(cm[i, j], fmt),\n",
    "                    ha=\"center\", va=\"center\",\n",
    "                    color=\"snow\" if cm[i, j] > thresh else \"orange\",\n",
    "                    size=26)\n",
    "    ax.grid(False)\n",
    "    fig.tight_layout()\n",
    "    return ax"
   ]
  },
  {
   "cell_type": "code",
   "execution_count": 129,
   "metadata": {},
   "outputs": [
    {
     "data": {
      "image/png": "[encoded data removed]",
      "text/plain": [
       "<Figure size 864x432 with 2 Axes>"
      ]
     },
     "metadata": {
      "needs_background": "light"
     },
     "output_type": "display_data"
    }
   ],
   "source": [
    "plot_confusion_matrix(y_test, best_estimators['NaiveBayes_clf'].predict(X_test), title=\"Confusion Matrix\")\n",
    "np.set_printoptions(precision=1)\n",
    "# Plot non-normalized confusion matrix\n",
    "plt.show()"
   ]
  },
  {
   "cell_type": "markdown",
   "metadata": {},
   "source": [
    "Because we are dealing with an imbalanced dataset we cannot use __Accuracy__ as an evaluation metric.  Instead, since we are more concerned with detecting the West Nile Virus.  With that in mind, we must use __Recall__ as the preferred metric.  __Recall__ is more concerned with detecting the WNV.  __Precision__ is not too much of our concern because _False Positives_ are more acceptable than _False Negatives_.  We don't want to miss any WNV detection."
   ]
  },
  {
   "cell_type": "code",
   "execution_count": null,
   "metadata": {},
   "outputs": [],
   "source": []
  },
  {
   "cell_type": "code",
   "execution_count": null,
   "metadata": {},
   "outputs": [],
   "source": []
  }
 ],
 "metadata": {
  "kernelspec": {
   "display_name": "Python 3",
   "language": "python",
   "name": "python3"
  },
  "language_info": {
   "codemirror_mode": {
    "name": "ipython",
    "version": 3
   },
   "file_extension": ".py",
   "mimetype": "text/x-python",
   "name": "python",
   "nbconvert_exporter": "python",
   "pygments_lexer": "ipython3",
   "version": "3.7.3"
  }
 },
 "nbformat": 4,
 "nbformat_minor": 2
}
